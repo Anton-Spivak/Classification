{
  "nbformat": 4,
  "nbformat_minor": 0,
  "metadata": {
    "colab": {
      "provenance": [],
      "machine_shape": "hm",
      "collapsed_sections": [
        "a3eaRfCYeGsF",
        "UdIz2eGVeO4X",
        "cMweNN1TdcRk"
      ],
      "mount_file_id": "1VJJjt0X-YpDd1aEMph-_iachQXcW9Koc",
      "authorship_tag": "ABX9TyNI2gcF53nbbQ06ioYTEDHG"
    },
    "kernelspec": {
      "name": "python3",
      "display_name": "Python 3"
    },
    "language_info": {
      "name": "python"
    },
    "gpuClass": "standard",
    "widgets": {
      "application/vnd.jupyter.widget-state+json": {
        "50147d4716744a2cb5b990bbce393dcc": {
          "model_module": "@jupyter-widgets/controls",
          "model_name": "HBoxModel",
          "model_module_version": "1.5.0",
          "state": {
            "_dom_classes": [],
            "_model_module": "@jupyter-widgets/controls",
            "_model_module_version": "1.5.0",
            "_model_name": "HBoxModel",
            "_view_count": null,
            "_view_module": "@jupyter-widgets/controls",
            "_view_module_version": "1.5.0",
            "_view_name": "HBoxView",
            "box_style": "",
            "children": [
              "IPY_MODEL_7f50016159b040dbbc74bc93384bfaad",
              "IPY_MODEL_46c9fc67ca134c48bc95569a64c55c06",
              "IPY_MODEL_a8109903df4441578a8f31ca4a68f0e6"
            ],
            "layout": "IPY_MODEL_c618bb00c9be4d33ba58ce6fcc05395f"
          }
        },
        "7f50016159b040dbbc74bc93384bfaad": {
          "model_module": "@jupyter-widgets/controls",
          "model_name": "HTMLModel",
          "model_module_version": "1.5.0",
          "state": {
            "_dom_classes": [],
            "_model_module": "@jupyter-widgets/controls",
            "_model_module_version": "1.5.0",
            "_model_name": "HTMLModel",
            "_view_count": null,
            "_view_module": "@jupyter-widgets/controls",
            "_view_module_version": "1.5.0",
            "_view_name": "HTMLView",
            "description": "",
            "description_tooltip": null,
            "layout": "IPY_MODEL_8f2c1a6fc79345bd940700ce1f354b29",
            "placeholder": "​",
            "style": "IPY_MODEL_e74ed5899dc84346a1820e1b95660c7c",
            "value": "Overall samples recorded: 100%"
          }
        },
        "46c9fc67ca134c48bc95569a64c55c06": {
          "model_module": "@jupyter-widgets/controls",
          "model_name": "FloatProgressModel",
          "model_module_version": "1.5.0",
          "state": {
            "_dom_classes": [],
            "_model_module": "@jupyter-widgets/controls",
            "_model_module_version": "1.5.0",
            "_model_name": "FloatProgressModel",
            "_view_count": null,
            "_view_module": "@jupyter-widgets/controls",
            "_view_module_version": "1.5.0",
            "_view_name": "ProgressView",
            "bar_style": "success",
            "description": "",
            "description_tooltip": null,
            "layout": "IPY_MODEL_10ff4708427a45fabc144b70905ee95c",
            "max": 8315461,
            "min": 0,
            "orientation": "horizontal",
            "style": "IPY_MODEL_732dbe617bc744dcb72370c5550dc430",
            "value": 8315461
          }
        },
        "a8109903df4441578a8f31ca4a68f0e6": {
          "model_module": "@jupyter-widgets/controls",
          "model_name": "HTMLModel",
          "model_module_version": "1.5.0",
          "state": {
            "_dom_classes": [],
            "_model_module": "@jupyter-widgets/controls",
            "_model_module_version": "1.5.0",
            "_model_name": "HTMLModel",
            "_view_count": null,
            "_view_module": "@jupyter-widgets/controls",
            "_view_module_version": "1.5.0",
            "_view_name": "HTMLView",
            "description": "",
            "description_tooltip": null,
            "layout": "IPY_MODEL_3c2c49308e744335b4793b7dd563cb54",
            "placeholder": "​",
            "style": "IPY_MODEL_9a9dce0445a7418882b294fcc282d10a",
            "value": " 8315461/8315461 [1:42:59&lt;00:00, 902.82it/s]"
          }
        },
        "c618bb00c9be4d33ba58ce6fcc05395f": {
          "model_module": "@jupyter-widgets/base",
          "model_name": "LayoutModel",
          "model_module_version": "1.2.0",
          "state": {
            "_model_module": "@jupyter-widgets/base",
            "_model_module_version": "1.2.0",
            "_model_name": "LayoutModel",
            "_view_count": null,
            "_view_module": "@jupyter-widgets/base",
            "_view_module_version": "1.2.0",
            "_view_name": "LayoutView",
            "align_content": null,
            "align_items": null,
            "align_self": null,
            "border": null,
            "bottom": null,
            "display": null,
            "flex": null,
            "flex_flow": null,
            "grid_area": null,
            "grid_auto_columns": null,
            "grid_auto_flow": null,
            "grid_auto_rows": null,
            "grid_column": null,
            "grid_gap": null,
            "grid_row": null,
            "grid_template_areas": null,
            "grid_template_columns": null,
            "grid_template_rows": null,
            "height": null,
            "justify_content": null,
            "justify_items": null,
            "left": null,
            "margin": null,
            "max_height": null,
            "max_width": null,
            "min_height": null,
            "min_width": null,
            "object_fit": null,
            "object_position": null,
            "order": null,
            "overflow": null,
            "overflow_x": null,
            "overflow_y": null,
            "padding": null,
            "right": null,
            "top": null,
            "visibility": null,
            "width": null
          }
        },
        "8f2c1a6fc79345bd940700ce1f354b29": {
          "model_module": "@jupyter-widgets/base",
          "model_name": "LayoutModel",
          "model_module_version": "1.2.0",
          "state": {
            "_model_module": "@jupyter-widgets/base",
            "_model_module_version": "1.2.0",
            "_model_name": "LayoutModel",
            "_view_count": null,
            "_view_module": "@jupyter-widgets/base",
            "_view_module_version": "1.2.0",
            "_view_name": "LayoutView",
            "align_content": null,
            "align_items": null,
            "align_self": null,
            "border": null,
            "bottom": null,
            "display": null,
            "flex": null,
            "flex_flow": null,
            "grid_area": null,
            "grid_auto_columns": null,
            "grid_auto_flow": null,
            "grid_auto_rows": null,
            "grid_column": null,
            "grid_gap": null,
            "grid_row": null,
            "grid_template_areas": null,
            "grid_template_columns": null,
            "grid_template_rows": null,
            "height": null,
            "justify_content": null,
            "justify_items": null,
            "left": null,
            "margin": null,
            "max_height": null,
            "max_width": null,
            "min_height": null,
            "min_width": null,
            "object_fit": null,
            "object_position": null,
            "order": null,
            "overflow": null,
            "overflow_x": null,
            "overflow_y": null,
            "padding": null,
            "right": null,
            "top": null,
            "visibility": null,
            "width": null
          }
        },
        "e74ed5899dc84346a1820e1b95660c7c": {
          "model_module": "@jupyter-widgets/controls",
          "model_name": "DescriptionStyleModel",
          "model_module_version": "1.5.0",
          "state": {
            "_model_module": "@jupyter-widgets/controls",
            "_model_module_version": "1.5.0",
            "_model_name": "DescriptionStyleModel",
            "_view_count": null,
            "_view_module": "@jupyter-widgets/base",
            "_view_module_version": "1.2.0",
            "_view_name": "StyleView",
            "description_width": ""
          }
        },
        "10ff4708427a45fabc144b70905ee95c": {
          "model_module": "@jupyter-widgets/base",
          "model_name": "LayoutModel",
          "model_module_version": "1.2.0",
          "state": {
            "_model_module": "@jupyter-widgets/base",
            "_model_module_version": "1.2.0",
            "_model_name": "LayoutModel",
            "_view_count": null,
            "_view_module": "@jupyter-widgets/base",
            "_view_module_version": "1.2.0",
            "_view_name": "LayoutView",
            "align_content": null,
            "align_items": null,
            "align_self": null,
            "border": null,
            "bottom": null,
            "display": null,
            "flex": null,
            "flex_flow": null,
            "grid_area": null,
            "grid_auto_columns": null,
            "grid_auto_flow": null,
            "grid_auto_rows": null,
            "grid_column": null,
            "grid_gap": null,
            "grid_row": null,
            "grid_template_areas": null,
            "grid_template_columns": null,
            "grid_template_rows": null,
            "height": null,
            "justify_content": null,
            "justify_items": null,
            "left": null,
            "margin": null,
            "max_height": null,
            "max_width": null,
            "min_height": null,
            "min_width": null,
            "object_fit": null,
            "object_position": null,
            "order": null,
            "overflow": null,
            "overflow_x": null,
            "overflow_y": null,
            "padding": null,
            "right": null,
            "top": null,
            "visibility": null,
            "width": null
          }
        },
        "732dbe617bc744dcb72370c5550dc430": {
          "model_module": "@jupyter-widgets/controls",
          "model_name": "ProgressStyleModel",
          "model_module_version": "1.5.0",
          "state": {
            "_model_module": "@jupyter-widgets/controls",
            "_model_module_version": "1.5.0",
            "_model_name": "ProgressStyleModel",
            "_view_count": null,
            "_view_module": "@jupyter-widgets/base",
            "_view_module_version": "1.2.0",
            "_view_name": "StyleView",
            "bar_color": null,
            "description_width": ""
          }
        },
        "3c2c49308e744335b4793b7dd563cb54": {
          "model_module": "@jupyter-widgets/base",
          "model_name": "LayoutModel",
          "model_module_version": "1.2.0",
          "state": {
            "_model_module": "@jupyter-widgets/base",
            "_model_module_version": "1.2.0",
            "_model_name": "LayoutModel",
            "_view_count": null,
            "_view_module": "@jupyter-widgets/base",
            "_view_module_version": "1.2.0",
            "_view_name": "LayoutView",
            "align_content": null,
            "align_items": null,
            "align_self": null,
            "border": null,
            "bottom": null,
            "display": null,
            "flex": null,
            "flex_flow": null,
            "grid_area": null,
            "grid_auto_columns": null,
            "grid_auto_flow": null,
            "grid_auto_rows": null,
            "grid_column": null,
            "grid_gap": null,
            "grid_row": null,
            "grid_template_areas": null,
            "grid_template_columns": null,
            "grid_template_rows": null,
            "height": null,
            "justify_content": null,
            "justify_items": null,
            "left": null,
            "margin": null,
            "max_height": null,
            "max_width": null,
            "min_height": null,
            "min_width": null,
            "object_fit": null,
            "object_position": null,
            "order": null,
            "overflow": null,
            "overflow_x": null,
            "overflow_y": null,
            "padding": null,
            "right": null,
            "top": null,
            "visibility": null,
            "width": null
          }
        },
        "9a9dce0445a7418882b294fcc282d10a": {
          "model_module": "@jupyter-widgets/controls",
          "model_name": "DescriptionStyleModel",
          "model_module_version": "1.5.0",
          "state": {
            "_model_module": "@jupyter-widgets/controls",
            "_model_module_version": "1.5.0",
            "_model_name": "DescriptionStyleModel",
            "_view_count": null,
            "_view_module": "@jupyter-widgets/base",
            "_view_module_version": "1.2.0",
            "_view_name": "StyleView",
            "description_width": ""
          }
        },
        "4884573302684772bb7763de6bbb1953": {
          "model_module": "@jupyter-widgets/controls",
          "model_name": "HBoxModel",
          "model_module_version": "1.5.0",
          "state": {
            "_dom_classes": [],
            "_model_module": "@jupyter-widgets/controls",
            "_model_module_version": "1.5.0",
            "_model_name": "HBoxModel",
            "_view_count": null,
            "_view_module": "@jupyter-widgets/controls",
            "_view_module_version": "1.5.0",
            "_view_name": "HBoxView",
            "box_style": "",
            "children": [
              "IPY_MODEL_601aee1367ba4de2bb3c51388031d2de",
              "IPY_MODEL_17cf7041e2504d73a229840546d50942",
              "IPY_MODEL_763f5ee5fc64468ca478d227ec8d31b2"
            ],
            "layout": "IPY_MODEL_4beb8ba3a3554f8784e90aae2fb320d7"
          }
        },
        "601aee1367ba4de2bb3c51388031d2de": {
          "model_module": "@jupyter-widgets/controls",
          "model_name": "HTMLModel",
          "model_module_version": "1.5.0",
          "state": {
            "_dom_classes": [],
            "_model_module": "@jupyter-widgets/controls",
            "_model_module_version": "1.5.0",
            "_model_name": "HTMLModel",
            "_view_count": null,
            "_view_module": "@jupyter-widgets/controls",
            "_view_module_version": "1.5.0",
            "_view_name": "HTMLView",
            "description": "",
            "description_tooltip": null,
            "layout": "IPY_MODEL_03569e72a1364976a5c41dc6effae414",
            "placeholder": "​",
            "style": "IPY_MODEL_42f628d7fbc0428d9ec7bd593f7a1c23",
            "value": "100%"
          }
        },
        "17cf7041e2504d73a229840546d50942": {
          "model_module": "@jupyter-widgets/controls",
          "model_name": "FloatProgressModel",
          "model_module_version": "1.5.0",
          "state": {
            "_dom_classes": [],
            "_model_module": "@jupyter-widgets/controls",
            "_model_module_version": "1.5.0",
            "_model_name": "FloatProgressModel",
            "_view_count": null,
            "_view_module": "@jupyter-widgets/controls",
            "_view_module_version": "1.5.0",
            "_view_name": "ProgressView",
            "bar_style": "success",
            "description": "",
            "description_tooltip": null,
            "layout": "IPY_MODEL_e8e81004d5fc41dbb8c56568b219d23d",
            "max": 20,
            "min": 0,
            "orientation": "horizontal",
            "style": "IPY_MODEL_d032480caee44a14bd9a9c48e36c3cb9",
            "value": 20
          }
        },
        "763f5ee5fc64468ca478d227ec8d31b2": {
          "model_module": "@jupyter-widgets/controls",
          "model_name": "HTMLModel",
          "model_module_version": "1.5.0",
          "state": {
            "_dom_classes": [],
            "_model_module": "@jupyter-widgets/controls",
            "_model_module_version": "1.5.0",
            "_model_name": "HTMLModel",
            "_view_count": null,
            "_view_module": "@jupyter-widgets/controls",
            "_view_module_version": "1.5.0",
            "_view_name": "HTMLView",
            "description": "",
            "description_tooltip": null,
            "layout": "IPY_MODEL_655cff47370248c1891c0639377daf3b",
            "placeholder": "​",
            "style": "IPY_MODEL_715ae32479554b56bce992f674ac7bf1",
            "value": " 20/20 [1:42:59&lt;00:00, 355.77s/it]"
          }
        },
        "4beb8ba3a3554f8784e90aae2fb320d7": {
          "model_module": "@jupyter-widgets/base",
          "model_name": "LayoutModel",
          "model_module_version": "1.2.0",
          "state": {
            "_model_module": "@jupyter-widgets/base",
            "_model_module_version": "1.2.0",
            "_model_name": "LayoutModel",
            "_view_count": null,
            "_view_module": "@jupyter-widgets/base",
            "_view_module_version": "1.2.0",
            "_view_name": "LayoutView",
            "align_content": null,
            "align_items": null,
            "align_self": null,
            "border": null,
            "bottom": null,
            "display": null,
            "flex": null,
            "flex_flow": null,
            "grid_area": null,
            "grid_auto_columns": null,
            "grid_auto_flow": null,
            "grid_auto_rows": null,
            "grid_column": null,
            "grid_gap": null,
            "grid_row": null,
            "grid_template_areas": null,
            "grid_template_columns": null,
            "grid_template_rows": null,
            "height": null,
            "justify_content": null,
            "justify_items": null,
            "left": null,
            "margin": null,
            "max_height": null,
            "max_width": null,
            "min_height": null,
            "min_width": null,
            "object_fit": null,
            "object_position": null,
            "order": null,
            "overflow": null,
            "overflow_x": null,
            "overflow_y": null,
            "padding": null,
            "right": null,
            "top": null,
            "visibility": null,
            "width": null
          }
        },
        "03569e72a1364976a5c41dc6effae414": {
          "model_module": "@jupyter-widgets/base",
          "model_name": "LayoutModel",
          "model_module_version": "1.2.0",
          "state": {
            "_model_module": "@jupyter-widgets/base",
            "_model_module_version": "1.2.0",
            "_model_name": "LayoutModel",
            "_view_count": null,
            "_view_module": "@jupyter-widgets/base",
            "_view_module_version": "1.2.0",
            "_view_name": "LayoutView",
            "align_content": null,
            "align_items": null,
            "align_self": null,
            "border": null,
            "bottom": null,
            "display": null,
            "flex": null,
            "flex_flow": null,
            "grid_area": null,
            "grid_auto_columns": null,
            "grid_auto_flow": null,
            "grid_auto_rows": null,
            "grid_column": null,
            "grid_gap": null,
            "grid_row": null,
            "grid_template_areas": null,
            "grid_template_columns": null,
            "grid_template_rows": null,
            "height": null,
            "justify_content": null,
            "justify_items": null,
            "left": null,
            "margin": null,
            "max_height": null,
            "max_width": null,
            "min_height": null,
            "min_width": null,
            "object_fit": null,
            "object_position": null,
            "order": null,
            "overflow": null,
            "overflow_x": null,
            "overflow_y": null,
            "padding": null,
            "right": null,
            "top": null,
            "visibility": null,
            "width": null
          }
        },
        "42f628d7fbc0428d9ec7bd593f7a1c23": {
          "model_module": "@jupyter-widgets/controls",
          "model_name": "DescriptionStyleModel",
          "model_module_version": "1.5.0",
          "state": {
            "_model_module": "@jupyter-widgets/controls",
            "_model_module_version": "1.5.0",
            "_model_name": "DescriptionStyleModel",
            "_view_count": null,
            "_view_module": "@jupyter-widgets/base",
            "_view_module_version": "1.2.0",
            "_view_name": "StyleView",
            "description_width": ""
          }
        },
        "e8e81004d5fc41dbb8c56568b219d23d": {
          "model_module": "@jupyter-widgets/base",
          "model_name": "LayoutModel",
          "model_module_version": "1.2.0",
          "state": {
            "_model_module": "@jupyter-widgets/base",
            "_model_module_version": "1.2.0",
            "_model_name": "LayoutModel",
            "_view_count": null,
            "_view_module": "@jupyter-widgets/base",
            "_view_module_version": "1.2.0",
            "_view_name": "LayoutView",
            "align_content": null,
            "align_items": null,
            "align_self": null,
            "border": null,
            "bottom": null,
            "display": null,
            "flex": null,
            "flex_flow": null,
            "grid_area": null,
            "grid_auto_columns": null,
            "grid_auto_flow": null,
            "grid_auto_rows": null,
            "grid_column": null,
            "grid_gap": null,
            "grid_row": null,
            "grid_template_areas": null,
            "grid_template_columns": null,
            "grid_template_rows": null,
            "height": null,
            "justify_content": null,
            "justify_items": null,
            "left": null,
            "margin": null,
            "max_height": null,
            "max_width": null,
            "min_height": null,
            "min_width": null,
            "object_fit": null,
            "object_position": null,
            "order": null,
            "overflow": null,
            "overflow_x": null,
            "overflow_y": null,
            "padding": null,
            "right": null,
            "top": null,
            "visibility": null,
            "width": null
          }
        },
        "d032480caee44a14bd9a9c48e36c3cb9": {
          "model_module": "@jupyter-widgets/controls",
          "model_name": "ProgressStyleModel",
          "model_module_version": "1.5.0",
          "state": {
            "_model_module": "@jupyter-widgets/controls",
            "_model_module_version": "1.5.0",
            "_model_name": "ProgressStyleModel",
            "_view_count": null,
            "_view_module": "@jupyter-widgets/base",
            "_view_module_version": "1.2.0",
            "_view_name": "StyleView",
            "bar_color": null,
            "description_width": ""
          }
        },
        "655cff47370248c1891c0639377daf3b": {
          "model_module": "@jupyter-widgets/base",
          "model_name": "LayoutModel",
          "model_module_version": "1.2.0",
          "state": {
            "_model_module": "@jupyter-widgets/base",
            "_model_module_version": "1.2.0",
            "_model_name": "LayoutModel",
            "_view_count": null,
            "_view_module": "@jupyter-widgets/base",
            "_view_module_version": "1.2.0",
            "_view_name": "LayoutView",
            "align_content": null,
            "align_items": null,
            "align_self": null,
            "border": null,
            "bottom": null,
            "display": null,
            "flex": null,
            "flex_flow": null,
            "grid_area": null,
            "grid_auto_columns": null,
            "grid_auto_flow": null,
            "grid_auto_rows": null,
            "grid_column": null,
            "grid_gap": null,
            "grid_row": null,
            "grid_template_areas": null,
            "grid_template_columns": null,
            "grid_template_rows": null,
            "height": null,
            "justify_content": null,
            "justify_items": null,
            "left": null,
            "margin": null,
            "max_height": null,
            "max_width": null,
            "min_height": null,
            "min_width": null,
            "object_fit": null,
            "object_position": null,
            "order": null,
            "overflow": null,
            "overflow_x": null,
            "overflow_y": null,
            "padding": null,
            "right": null,
            "top": null,
            "visibility": null,
            "width": null
          }
        },
        "715ae32479554b56bce992f674ac7bf1": {
          "model_module": "@jupyter-widgets/controls",
          "model_name": "DescriptionStyleModel",
          "model_module_version": "1.5.0",
          "state": {
            "_model_module": "@jupyter-widgets/controls",
            "_model_module_version": "1.5.0",
            "_model_name": "DescriptionStyleModel",
            "_view_count": null,
            "_view_module": "@jupyter-widgets/base",
            "_view_module_version": "1.2.0",
            "_view_name": "StyleView",
            "description_width": ""
          }
        }
      }
    }
  },
  "cells": [
    {
      "cell_type": "markdown",
      "source": [
        "## Importing necessary libraries and mounting Google Drive"
      ],
      "metadata": {
        "id": "vtNZdFYu5vjs"
      }
    },
    {
      "cell_type": "code",
      "source": [
        "# Let's import necessary libraries\n",
        "import numpy as np\n",
        "import glob\n",
        "from tqdm import tqdm_notebook as tqdm\n",
        "import tensorflow as tf\n",
        "from tensorflow.keras.utils import to_categorical\n",
        "import warnings\n",
        "warnings.filterwarnings('ignore')"
      ],
      "metadata": {
        "id": "K8zJ2iPfugJh"
      },
      "execution_count": null,
      "outputs": []
    },
    {
      "cell_type": "code",
      "source": [
        "from google.colab import drive\n",
        "drive.mount('/content/drive')"
      ],
      "metadata": {
        "id": "xL5lzfgl3x2e",
        "colab": {
          "base_uri": "https://localhost:8080/"
        },
        "outputId": "a7799164-257f-41b5-d9eb-1ba2f90863bc"
      },
      "execution_count": null,
      "outputs": [
        {
          "output_type": "stream",
          "name": "stdout",
          "text": [
            "Drive already mounted at /content/drive; to attempt to forcibly remount, call drive.mount(\"/content/drive\", force_remount=True).\n"
          ]
        }
      ]
    },
    {
      "cell_type": "markdown",
      "source": [
        "# Functions for TFR recording"
      ],
      "metadata": {
        "id": "a3eaRfCYeGsF"
      }
    },
    {
      "cell_type": "code",
      "source": [
        "# Functions for TFRecords\n",
        "def _bytes_feature(value):\n",
        "    \"\"\"Returns a bytes_list from a string / byte.\"\"\"\n",
        "    if isinstance(value, type(tf.constant(0))): # if value ist tensor\n",
        "        value = value.numpy() # get value of tensor\n",
        "    return tf.train.Feature(bytes_list=tf.train.BytesList(value=[value]))\n",
        "\n",
        "def _float_feature(value):\n",
        "  \"\"\"Returns a floast_list from a float / double.\"\"\"\n",
        "  return tf.train.Feature(float_list=tf.train.FloatList(value=[value]))\n",
        "\n",
        "def _int64_feature(value):\n",
        "  \"\"\"Returns an int64_list from a bool / enum / int / uint.\"\"\"\n",
        "  return tf.train.Feature(int64_list=tf.train.Int64List(value=[value]))\n",
        "\n",
        "def serialize_array(array):\n",
        "  array = tf.io.serialize_tensor(array)\n",
        "  return array"
      ],
      "metadata": {
        "id": "z_yqgbIF9gHb"
      },
      "execution_count": null,
      "outputs": []
    },
    {
      "cell_type": "code",
      "source": [
        "# !!! There was a mistake in y = y - 1 before y = to_categorical(y, 3), \n",
        "# So classes were mixed instead of 0 - up, 1 - down, 2 - static => the labels\n",
        "# transformed to 0 - down, 1 - static, 2 - up, so all the TFR files: \n",
        "# Prepared_Dataset_ZScore_TFR_split_by_9, Prepared_Dataset_ZScore_TFR_split_by_20, \n",
        "# Prepared_Dataset_MinMax_TFR_split_by_20 and Prepared_Dataset_MinMax_TFR_9_10_split_by_20\n",
        "# were created with these mixed classes. I won't rerecord them now to save time. \n",
        "\n",
        "# Function to prepare sample of data from raw features and labels\n",
        "def data_preparation_forex(features, labels, T, index):\n",
        "    \n",
        "  # features\n",
        "  X= features[index - T:index, :]\n",
        "  X=X.reshape(X.shape + (1,))\n",
        "\n",
        "  # labels\n",
        "  y = labels[index-1]\n",
        "  y = to_categorical(y, 3)\n",
        "  \n",
        "  return X,y"
      ],
      "metadata": {
        "id": "c-d9iY34b7YZ"
      },
      "execution_count": null,
      "outputs": []
    },
    {
      "cell_type": "code",
      "source": [
        "def parse_single_sample(sample, label):\n",
        "  \n",
        "  #define the dictionary -- the structure -- of our single example \n",
        "  data = {\n",
        "        'NTicks' : _int64_feature(sample.shape[0]),\n",
        "        'NFeatures': _int64_feature(sample.shape[1]),\n",
        "        'NChannels' : _int64_feature(sample.shape[2]),\n",
        "        'DimLabel':_int64_feature(label.shape[0]),\n",
        "        'Sample' : _bytes_feature(serialize_array(sample)),\n",
        "        'Label' : _bytes_feature(serialize_array(label))\n",
        "    }\n",
        "  #create an Example, wrapping the single features\n",
        "  out = tf.train.Example(features=tf.train.Features(feature=data))\n",
        "\n",
        "  return out"
      ],
      "metadata": {
        "id": "BHEP80fo8Wc7"
      },
      "execution_count": null,
      "outputs": []
    },
    {
      "cell_type": "code",
      "source": [
        "# # Function to record all data in one file\n",
        "\n",
        "# def write_samples_to_tfr(features, labels,T, filepath):\n",
        "   \n",
        "#   writer = tf.io.TFRecordWriter(filepath) #create a writer that'll store our data to disk\n",
        "#   count = 0\n",
        "\n",
        "#   for index in tqdm(range(T,len(features)+1)):\n",
        "\n",
        "#     #get the data we want to write\n",
        "#     current_sample,current_label = data_preparation_forex(features, labels,\n",
        "#                                                           T, index) \n",
        "\n",
        "#     out = parse_single_sample(sample=current_sample, label=current_label)\n",
        "#     writer.write(out.SerializeToString())\n",
        "#     count += 1\n",
        "\n",
        "#   writer.close()\n",
        "#   print(f\"Wrote {count} elements to TFRecord\")"
      ],
      "metadata": {
        "id": "p54q5GHu9-_g"
      },
      "execution_count": null,
      "outputs": []
    },
    {
      "cell_type": "code",
      "source": [
        "def write_dataset_to_tfr_shards(features, labels, T,max_samples_per_file,\n",
        "                              filename,out_dir):\n",
        "  total_num_samples=(len(features)-T+1)\n",
        "  #determine the number of shards (single TFRecord files) we need:\n",
        "  splits = (total_num_samples//max_samples_per_file) + 1 #determine how many tfr shards we need\n",
        "  if total_num_samples%max_samples_per_file == 0:\n",
        "    splits-=1\n",
        "  print(f\"\\nUsing {splits} shard(s) for {total_num_samples} samples, with up to {max_samples_per_file} samples per shard\")\n",
        "\n",
        "  file_count = 0\n",
        "  \n",
        "  pbar=tqdm(desc='Overall samples recorded',\n",
        "              total= total_num_samples) # To see recording progress vs total number of samples \n",
        "  \n",
        "  for i in tqdm(range(splits)):\n",
        "    current_shard_name = \"{}_{}_{}.tfrecords\".format(i+1, splits, filename)\n",
        "    writer = tf.io.TFRecordWriter(out_dir+current_shard_name)\n",
        "    \n",
        "    current_shard_count = 0\n",
        "    \n",
        "    while current_shard_count < max_samples_per_file: #as long as our shard is not full\n",
        "      #get the index of the file that we want to parse now\n",
        "      index = i*max_samples_per_file+current_shard_count+T\n",
        "      if index == (len(features)+1): #when we have consumed the whole data, stop generation\n",
        "        break\n",
        "\n",
        "      #get the data we want to write\n",
        "      current_sample,current_label = data_preparation_forex(features, labels,\n",
        "                                                          T, index) \n",
        "\n",
        "      #create the required Example representation\n",
        "      out = parse_single_sample(sample=current_sample, label=current_label)\n",
        "    \n",
        "      writer.write(out.SerializeToString())\n",
        "      current_shard_count+=1\n",
        "      file_count += 1\n",
        "      pbar.update(1)\n",
        "\n",
        "    writer.close()\n",
        "  pbar.close()\n",
        "  print(f\"\\nWrote {file_count} elements to TFRecord\")"
      ],
      "metadata": {
        "id": "XhiddB3upMv1"
      },
      "execution_count": null,
      "outputs": []
    },
    {
      "cell_type": "markdown",
      "source": [
        "# Z-scored Recording"
      ],
      "metadata": {
        "id": "UdIz2eGVeO4X"
      }
    },
    {
      "cell_type": "markdown",
      "source": [
        "## Z-scored dataset 7:00 - 10:00 & 13:00 - 15:00"
      ],
      "metadata": {
        "id": "FY_dHpGhejFz"
      }
    },
    {
      "cell_type": "code",
      "source": [
        "file_path_full_features_unprepared='/content/drive/MyDrive/Colab Notebooks/Limited order book Forecasting/Datasets/Forex/Full_Features_zscore/full_features_zscore_unprepared.npy'\n",
        "file_path_full_labels_unprepared='/content/drive/MyDrive/Colab Notebooks/Limited order book Forecasting/Datasets/Forex/Full_Features_zscore/full_labels_zscore_unprepared.npy'\n",
        "\n",
        "full_features_zscore_unprepared=np.load(file_path_full_features_unprepared)\n",
        "full_labels_zscore_unprepared=np.load(file_path_full_labels_unprepared)"
      ],
      "metadata": {
        "id": "8FwnpWisfjYd"
      },
      "execution_count": null,
      "outputs": []
    },
    {
      "cell_type": "code",
      "source": [
        "# Let's check data types of both arrays\n",
        "print(full_features_zscore_unprepared.dtype)\n",
        "print(full_labels_zscore_unprepared.dtype)"
      ],
      "metadata": {
        "colab": {
          "base_uri": "https://localhost:8080/"
        },
        "id": "ac7sa4_O-JVj",
        "outputId": "36e0fa34-4b15-4a6d-9c09-30114957784d"
      },
      "execution_count": null,
      "outputs": [
        {
          "output_type": "stream",
          "name": "stdout",
          "text": [
            "float64\n",
            "float64\n"
          ]
        }
      ]
    },
    {
      "cell_type": "markdown",
      "source": [
        "The above types are excessive for storing the data, so to optimize them we will downgrade **features** to float32 and **labels** to int8."
      ],
      "metadata": {
        "id": "n69IELKk-aj8"
      }
    },
    {
      "cell_type": "code",
      "source": [
        "features_dtype='float32'\n",
        "labels_dtype='int8'\n",
        "\n",
        "full_features_zscore_unprepared=full_features_zscore_unprepared.astype(features_dtype)\n",
        "full_labels_zscore_unprepared=full_labels__zscore_unprepared.astype(labels_dtype)"
      ],
      "metadata": {
        "id": "MbuFQKsiZ0CP"
      },
      "execution_count": null,
      "outputs": []
    },
    {
      "cell_type": "code",
      "source": [
        "# Let's check data types of both arrays again\n",
        "print(full_features_zscore_unprepared.dtype)\n",
        "print(full_labels_zscore_unprepared.dtype)"
      ],
      "metadata": {
        "colab": {
          "base_uri": "https://localhost:8080/"
        },
        "id": "Y4gYHGDA-AbV",
        "outputId": "6b0233ca-1a14-40af-8cf0-45161638892d"
      },
      "execution_count": null,
      "outputs": [
        {
          "output_type": "stream",
          "name": "stdout",
          "text": [
            "float32\n",
            "int8\n"
          ]
        }
      ]
    },
    {
      "cell_type": "code",
      "source": [
        "# Let's print the shapes of features and labels\n",
        "print(full_features_zscore_unprepared.shape)\n",
        "print(full_labels_zscore_unprepared.shape)"
      ],
      "metadata": {
        "colab": {
          "base_uri": "https://localhost:8080/"
        },
        "id": "0lZF57rZhOwv",
        "outputId": "bef859b2-2540-43a9-e9a1-7d595e673a96"
      },
      "execution_count": null,
      "outputs": [
        {
          "output_type": "stream",
          "name": "stdout",
          "text": [
            "(8315560, 20)\n",
            "(8315560,)\n"
          ]
        }
      ]
    },
    {
      "cell_type": "code",
      "source": [
        "# Number of equity ticks per sample fed to model \n",
        "T=100"
      ],
      "metadata": {
        "id": "rbNj2YmfggWd"
      },
      "execution_count": null,
      "outputs": []
    },
    {
      "cell_type": "code",
      "source": [
        "# Output Directory and filename pattern to record TFR shards to\n",
        "out_dir='/content/drive/MyDrive/Colab Notebooks/Limited order book Forecasting/datasets/forex_full/Prepared_Dataset_TFR_new/'\n",
        "filename=\"Prepared_Dataset_Forex\"\n",
        "\n",
        "# Total size of transformed dataset\n",
        "total_num_samples=(len(full_features_zscore_unprepared)-T+1)\n",
        "print(f'The total size of our data set is {total_num_samples}')\n",
        "# We want to have ~5% of data per shard to make it convinient \n",
        "# to change percentage split when reading the data into train, validation and\n",
        "# test datasets  \n",
        "max_samples_per_file=int(np.ceil(total_num_samples/20))\n",
        "max_samples_per_file\n",
        "print(f'The maximum amount of samples per shard is {max_samples_per_file}')"
      ],
      "metadata": {
        "colab": {
          "base_uri": "https://localhost:8080/"
        },
        "id": "rBi3xoey9Gwa",
        "outputId": "a3654914-fa1c-4b03-8cce-bbbc855de916"
      },
      "execution_count": null,
      "outputs": [
        {
          "output_type": "stream",
          "name": "stdout",
          "text": [
            "The total size of our data set is 8315461\n",
            "The maximum amount of samples per shard is 415774\n"
          ]
        }
      ]
    },
    {
      "cell_type": "code",
      "source": [
        "write_dataset_to_tfr_shards(full_features_zscore_unprepared, \n",
        "                            full_labels_zscore_unprepared, T,\n",
        "                            max_samples_per_file, filename,out_dir)"
      ],
      "metadata": {
        "colab": {
          "base_uri": "https://localhost:8080/",
          "height": 152,
          "referenced_widgets": [
            "50147d4716744a2cb5b990bbce393dcc",
            "7f50016159b040dbbc74bc93384bfaad",
            "46c9fc67ca134c48bc95569a64c55c06",
            "a8109903df4441578a8f31ca4a68f0e6",
            "c618bb00c9be4d33ba58ce6fcc05395f",
            "8f2c1a6fc79345bd940700ce1f354b29",
            "e74ed5899dc84346a1820e1b95660c7c",
            "10ff4708427a45fabc144b70905ee95c",
            "732dbe617bc744dcb72370c5550dc430",
            "3c2c49308e744335b4793b7dd563cb54",
            "9a9dce0445a7418882b294fcc282d10a",
            "4884573302684772bb7763de6bbb1953",
            "601aee1367ba4de2bb3c51388031d2de",
            "17cf7041e2504d73a229840546d50942",
            "763f5ee5fc64468ca478d227ec8d31b2",
            "4beb8ba3a3554f8784e90aae2fb320d7",
            "03569e72a1364976a5c41dc6effae414",
            "42f628d7fbc0428d9ec7bd593f7a1c23",
            "e8e81004d5fc41dbb8c56568b219d23d",
            "d032480caee44a14bd9a9c48e36c3cb9",
            "655cff47370248c1891c0639377daf3b",
            "715ae32479554b56bce992f674ac7bf1"
          ]
        },
        "id": "vqvz7V9qwycT",
        "outputId": "7b292897-fe98-4a41-b608-6621a3edf6d6"
      },
      "execution_count": null,
      "outputs": [
        {
          "output_type": "stream",
          "name": "stdout",
          "text": [
            "\n",
            "Using 20 shard(s) for 8315461 samples, with up to 415774 samples per shard\n"
          ]
        },
        {
          "output_type": "display_data",
          "data": {
            "text/plain": [
              "Overall samples recorded:   0%|          | 0/8315461 [00:00<?, ?it/s]"
            ],
            "application/vnd.jupyter.widget-view+json": {
              "version_major": 2,
              "version_minor": 0,
              "model_id": "50147d4716744a2cb5b990bbce393dcc"
            }
          },
          "metadata": {}
        },
        {
          "output_type": "display_data",
          "data": {
            "text/plain": [
              "  0%|          | 0/20 [00:00<?, ?it/s]"
            ],
            "application/vnd.jupyter.widget-view+json": {
              "version_major": 2,
              "version_minor": 0,
              "model_id": "4884573302684772bb7763de6bbb1953"
            }
          },
          "metadata": {}
        },
        {
          "output_type": "stream",
          "name": "stdout",
          "text": [
            "\n",
            "Wrote 8315461 elements to TFRecord\n"
          ]
        }
      ]
    },
    {
      "cell_type": "markdown",
      "source": [
        "!!! There was a mistake in function **data_preparation_forex**, so labels were changed to 0 - down, 1 - static, 2 - up. For more details read  explanation above the function. !!!"
      ],
      "metadata": {
        "id": "Unh8-4ciMLaS"
      }
    },
    {
      "cell_type": "markdown",
      "source": [
        "## Z-scored dataset 7:00 - 10:00 & 13:00 - 15:00 labeled by hours"
      ],
      "metadata": {
        "id": "4NTQ6l6659OH"
      }
    },
    {
      "cell_type": "code",
      "source": [
        "file_path_full_features_unprepared='/content/drive/MyDrive/Colab Notebooks/Limited order book Forecasting/Datasets/Forex/Raw_Features_and_Labels/zscore_7:00_10:00_and_13:00_15:00_labeled_by_hours/full_features_zscore_unprepared.npy'\n",
        "file_path_full_labels_unprepared='/content/drive/MyDrive/Colab Notebooks/Limited order book Forecasting/Datasets/Forex/Raw_Features_and_Labels/zscore_7:00_10:00_and_13:00_15:00_labeled_by_hours/full_labels_zscore_unprepared.npy'\n",
        "\n",
        "full_features_zscore_unprepared=np.load(file_path_full_features_unprepared)\n",
        "full_labels_zscore_unprepared=np.load(file_path_full_labels_unprepared)"
      ],
      "metadata": {
        "id": "vUf_yyv06Y2i"
      },
      "execution_count": null,
      "outputs": []
    },
    {
      "cell_type": "code",
      "source": [
        "# Let's check data types of both arrays\n",
        "print(full_features_zscore_unprepared.dtype)\n",
        "print(full_labels_zscore_unprepared.dtype)"
      ],
      "metadata": {
        "colab": {
          "base_uri": "https://localhost:8080/"
        },
        "outputId": "22da9a98-d399-4940-b5f4-008363d073e7",
        "id": "xsFrgANt6Y2t"
      },
      "execution_count": null,
      "outputs": [
        {
          "output_type": "stream",
          "name": "stdout",
          "text": [
            "float64\n",
            "int64\n"
          ]
        }
      ]
    },
    {
      "cell_type": "markdown",
      "source": [
        "The above types are excessive for storing the data, so to optimize them we will downgrade **features** to float32 and **labels** to int8."
      ],
      "metadata": {
        "id": "GKLzJ0P26Y2v"
      }
    },
    {
      "cell_type": "code",
      "source": [
        "features_dtype='float32'\n",
        "labels_dtype='int8'\n",
        "\n",
        "full_features_zscore_unprepared=full_features_zscore_unprepared.astype(features_dtype)\n",
        "full_labels_zscore_unprepared=full_labels_zscore_unprepared.astype(labels_dtype)"
      ],
      "metadata": {
        "id": "irvLg7r86Y2w"
      },
      "execution_count": null,
      "outputs": []
    },
    {
      "cell_type": "code",
      "source": [
        "# Let's check data types of both arrays again\n",
        "print(full_features_zscore_unprepared.dtype)\n",
        "print(full_labels_zscore_unprepared.dtype)"
      ],
      "metadata": {
        "colab": {
          "base_uri": "https://localhost:8080/"
        },
        "outputId": "2bbc31fa-7c46-41b7-c8bf-57509f286adf",
        "id": "19rGucK56Y2x"
      },
      "execution_count": null,
      "outputs": [
        {
          "output_type": "stream",
          "name": "stdout",
          "text": [
            "float32\n",
            "int8\n"
          ]
        }
      ]
    },
    {
      "cell_type": "code",
      "source": [
        "# Let's print the shapes of features and labels\n",
        "print(full_features_zscore_unprepared.shape)\n",
        "print(full_labels_zscore_unprepared.shape)"
      ],
      "metadata": {
        "colab": {
          "base_uri": "https://localhost:8080/"
        },
        "outputId": "e76dddac-fa08-482e-c07a-362cc65b51ad",
        "id": "dhllz7kP6Y2y"
      },
      "execution_count": null,
      "outputs": [
        {
          "output_type": "stream",
          "name": "stdout",
          "text": [
            "(8315479, 20)\n",
            "(8315479,)\n"
          ]
        }
      ]
    },
    {
      "cell_type": "code",
      "source": [
        "# Number of equity ticks per sample fed to model \n",
        "T=100"
      ],
      "metadata": {
        "id": "8IWvYGT46Y2z"
      },
      "execution_count": null,
      "outputs": []
    },
    {
      "cell_type": "code",
      "source": [
        "# Output Directory and filename pattern to record TFR shards to\n",
        "out_dir='/content/drive/MyDrive/Colab Notebooks/Limited order book Forecasting/Datasets/Forex/Prepared Datasets for models/Prepared_Dataset_ZScore_TFR_periods_7:00_10:00_and_13:00_15:00_labeled_by_hours_split_by_20/'\n",
        "filename=\"Prepared_Dataset_Forex\"\n",
        "\n",
        "# Total size of transformed dataset\n",
        "total_num_samples=(len(full_features_zscore_unprepared)-T+1)\n",
        "print(f'The total size of our data set is {total_num_samples}')\n",
        "# We want to have ~5% of data per shard to make it convinient \n",
        "# to change percentage split when reading the data into train, validation and\n",
        "# test datasets  \n",
        "max_samples_per_file=int(np.ceil(total_num_samples/20))\n",
        "max_samples_per_file\n",
        "print(f'The maximum amount of samples per shard is {max_samples_per_file}')"
      ],
      "metadata": {
        "colab": {
          "base_uri": "https://localhost:8080/"
        },
        "outputId": "e800b7f4-61a5-43af-9708-7489addfe498",
        "id": "20UCgxvn6Y2z"
      },
      "execution_count": null,
      "outputs": [
        {
          "output_type": "stream",
          "name": "stdout",
          "text": [
            "The total size of our data set is 8315380\n",
            "The maximum amount of samples per shard is 415769\n"
          ]
        }
      ]
    },
    {
      "cell_type": "code",
      "source": [
        "write_dataset_to_tfr_shards(full_features_zscore_unprepared, \n",
        "                            full_labels_zscore_unprepared, T,\n",
        "                            max_samples_per_file, filename,out_dir)"
      ],
      "metadata": {
        "id": "oOT5du4w6Y20"
      },
      "execution_count": null,
      "outputs": []
    },
    {
      "cell_type": "markdown",
      "source": [
        "\n",
        "```\n",
        "Using 20 shard(s) for 8315380 samples, with up to 415769 samples per shard\n",
        "Overall samples recorded: 15%\n",
        "1265378/8315380 [13:35<1:26:16, 1361.84it/s]\n",
        "15%\n",
        "3/20 [13:35<1:16:06, 268.60s/it]\n",
        "```\n",
        "\n"
      ],
      "metadata": {
        "id": "aL77joqs-lhN"
      }
    },
    {
      "cell_type": "markdown",
      "source": [
        "# Min Max Recording"
      ],
      "metadata": {
        "id": "cMweNN1TdcRk"
      }
    },
    {
      "cell_type": "markdown",
      "source": [
        "## Min Max 7:00 - 10:00 & 13:00 - 15:00"
      ],
      "metadata": {
        "id": "-0UwSf65dmSZ"
      }
    },
    {
      "cell_type": "code",
      "source": [
        "df_raw=pd.read_parquet('/content/drive/MyDrive/Colab Notebooks/Limited order book Forecasting/Datasets/Forex/df_time_th0_0000028_k_10')"
      ],
      "metadata": {
        "id": "9E0iYd7QYktE"
      },
      "execution_count": null,
      "outputs": []
    },
    {
      "cell_type": "code",
      "source": [
        "df_raw"
      ],
      "metadata": {
        "colab": {
          "base_uri": "https://localhost:8080/",
          "height": 692
        },
        "id": "WdJIlWPhYnWe",
        "outputId": "6bad68b7-12cd-4dd3-aabc-4409219d1b3c"
      },
      "execution_count": null,
      "outputs": [
        {
          "output_type": "execute_result",
          "data": {
            "text/plain": [
              "                               Date     P_a1      V_a1     P_b1       V_b1  \\\n",
              "Date_time                                                                    \n",
              "2023-01-20 07:00:00.137  2023-01-20  1.08247  600000.0  1.08245   100000.0   \n",
              "2023-01-20 07:00:00.148  2023-01-20  1.08247  600000.0  1.08244  1200000.0   \n",
              "2023-01-20 07:00:00.157  2023-01-20  1.08247  600000.0  1.08244  1200000.0   \n",
              "2023-01-20 07:00:00.172  2023-01-20  1.08247  600000.0  1.08244  1200000.0   \n",
              "2023-01-20 07:00:00.183  2023-01-20  1.08247  600000.0  1.08244  1200000.0   \n",
              "...                             ...      ...       ...      ...        ...   \n",
              "2023-02-23 14:59:59.543  2023-02-23  1.06070  100000.0  1.06069  3000000.0   \n",
              "2023-02-23 14:59:59.552  2023-02-23  1.06070  100000.0  1.06069  4100000.0   \n",
              "2023-02-23 14:59:59.556  2023-02-23  1.06070  100000.0  1.06069  4100000.0   \n",
              "2023-02-23 14:59:59.559  2023-02-23  1.06070  100000.0  1.06069  4100000.0   \n",
              "2023-02-23 14:59:59.581  2023-02-23  1.06070  100000.0  1.06069  4100000.0   \n",
              "\n",
              "                            P_a2       V_a2     P_b2       V_b2     P_a3  ...  \\\n",
              "Date_time                                                                 ...   \n",
              "2023-01-20 07:00:00.137  1.08248  2000000.0  1.08244  2200000.0  1.08249  ...   \n",
              "2023-01-20 07:00:00.148  1.08248  2000000.0  1.08243  6300000.0  1.08249  ...   \n",
              "2023-01-20 07:00:00.157  1.08248  2000000.0  1.08243  5300000.0  1.08249  ...   \n",
              "2023-01-20 07:00:00.172  1.08248  2000000.0  1.08243  5800000.0  1.08249  ...   \n",
              "2023-01-20 07:00:00.183  1.08248  2000000.0  1.08243  5800000.0  1.08249  ...   \n",
              "...                          ...        ...      ...        ...      ...  ...   \n",
              "2023-02-23 14:59:59.543  1.06071  1500000.0  1.06068  4600000.0  1.06072  ...   \n",
              "2023-02-23 14:59:59.552  1.06071  1500000.0  1.06068  5600000.0  1.06072  ...   \n",
              "2023-02-23 14:59:59.556  1.06071  1500000.0  1.06068  5600000.0  1.06072  ...   \n",
              "2023-02-23 14:59:59.559  1.06071  1500000.0  1.06068  5600000.0  1.06072  ...   \n",
              "2023-02-23 14:59:59.581  1.06071  1500000.0  1.06068  8600000.0  1.06072  ...   \n",
              "\n",
              "                            P_a4        V_a4     P_b4        V_b4     P_a5  \\\n",
              "Date_time                                                                    \n",
              "2023-01-20 07:00:00.137  1.08250  10100000.0  1.08242  11200000.0  1.08250   \n",
              "2023-01-20 07:00:00.148  1.08250  10100000.0  1.08242  15200000.0  1.08250   \n",
              "2023-01-20 07:00:00.157  1.08250  12100000.0  1.08242  13200000.0  1.08250   \n",
              "2023-01-20 07:00:00.172  1.08250  11100000.0  1.08242  13200000.0  1.08250   \n",
              "2023-01-20 07:00:00.183  1.08250  11100000.0  1.08242  13200000.0  1.08250   \n",
              "...                          ...         ...      ...         ...      ...   \n",
              "2023-02-23 14:59:59.543  1.06073  12600000.0  1.06067  12800000.0  1.06074   \n",
              "2023-02-23 14:59:59.552  1.06073  11600000.0  1.06067  12800000.0  1.06074   \n",
              "2023-02-23 14:59:59.556  1.06073  11600000.0  1.06067  12800000.0  1.06074   \n",
              "2023-02-23 14:59:59.559  1.06073  12100000.0  1.06067  16800000.0  1.06074   \n",
              "2023-02-23 14:59:59.581  1.06073  10100000.0  1.06067  18800000.0  1.06074   \n",
              "\n",
              "                               V_a5     P_b5        V_b5  label  Mid_price  \n",
              "Date_time                                                                   \n",
              "2023-01-20 07:00:00.137  15600000.0  1.08242  15200000.0    1.0   1.082460  \n",
              "2023-01-20 07:00:00.148  15600000.0  1.08241  17200000.0    1.0   1.082455  \n",
              "2023-01-20 07:00:00.157  15600000.0  1.08241  17200000.0    1.0   1.082455  \n",
              "2023-01-20 07:00:00.172  13600000.0  1.08241  17200000.0    1.0   1.082455  \n",
              "2023-01-20 07:00:00.183  12600000.0  1.08241  17200000.0    2.0   1.082455  \n",
              "...                             ...      ...         ...    ...        ...  \n",
              "2023-02-23 14:59:59.543  24600000.0  1.06066  15200000.0    2.0   1.060695  \n",
              "2023-02-23 14:59:59.552  23600000.0  1.06066  17200000.0    2.0   1.060695  \n",
              "2023-02-23 14:59:59.556  23600000.0  1.06066  17200000.0    2.0   1.060695  \n",
              "2023-02-23 14:59:59.559  22600000.0  1.06067  17200000.0    2.0   1.060695  \n",
              "2023-02-23 14:59:59.581  19600000.0  1.06067  19200000.0    2.0   1.060695  \n",
              "\n",
              "[8315720 rows x 23 columns]"
            ],
            "text/html": [
              "\n",
              "  <div id=\"df-b73f5341-6d1f-4426-a769-37916101a264\">\n",
              "    <div class=\"colab-df-container\">\n",
              "      <div>\n",
              "<style scoped>\n",
              "    .dataframe tbody tr th:only-of-type {\n",
              "        vertical-align: middle;\n",
              "    }\n",
              "\n",
              "    .dataframe tbody tr th {\n",
              "        vertical-align: top;\n",
              "    }\n",
              "\n",
              "    .dataframe thead th {\n",
              "        text-align: right;\n",
              "    }\n",
              "</style>\n",
              "<table border=\"1\" class=\"dataframe\">\n",
              "  <thead>\n",
              "    <tr style=\"text-align: right;\">\n",
              "      <th></th>\n",
              "      <th>Date</th>\n",
              "      <th>P_a1</th>\n",
              "      <th>V_a1</th>\n",
              "      <th>P_b1</th>\n",
              "      <th>V_b1</th>\n",
              "      <th>P_a2</th>\n",
              "      <th>V_a2</th>\n",
              "      <th>P_b2</th>\n",
              "      <th>V_b2</th>\n",
              "      <th>P_a3</th>\n",
              "      <th>...</th>\n",
              "      <th>P_a4</th>\n",
              "      <th>V_a4</th>\n",
              "      <th>P_b4</th>\n",
              "      <th>V_b4</th>\n",
              "      <th>P_a5</th>\n",
              "      <th>V_a5</th>\n",
              "      <th>P_b5</th>\n",
              "      <th>V_b5</th>\n",
              "      <th>label</th>\n",
              "      <th>Mid_price</th>\n",
              "    </tr>\n",
              "    <tr>\n",
              "      <th>Date_time</th>\n",
              "      <th></th>\n",
              "      <th></th>\n",
              "      <th></th>\n",
              "      <th></th>\n",
              "      <th></th>\n",
              "      <th></th>\n",
              "      <th></th>\n",
              "      <th></th>\n",
              "      <th></th>\n",
              "      <th></th>\n",
              "      <th></th>\n",
              "      <th></th>\n",
              "      <th></th>\n",
              "      <th></th>\n",
              "      <th></th>\n",
              "      <th></th>\n",
              "      <th></th>\n",
              "      <th></th>\n",
              "      <th></th>\n",
              "      <th></th>\n",
              "      <th></th>\n",
              "    </tr>\n",
              "  </thead>\n",
              "  <tbody>\n",
              "    <tr>\n",
              "      <th>2023-01-20 07:00:00.137</th>\n",
              "      <td>2023-01-20</td>\n",
              "      <td>1.08247</td>\n",
              "      <td>600000.0</td>\n",
              "      <td>1.08245</td>\n",
              "      <td>100000.0</td>\n",
              "      <td>1.08248</td>\n",
              "      <td>2000000.0</td>\n",
              "      <td>1.08244</td>\n",
              "      <td>2200000.0</td>\n",
              "      <td>1.08249</td>\n",
              "      <td>...</td>\n",
              "      <td>1.08250</td>\n",
              "      <td>10100000.0</td>\n",
              "      <td>1.08242</td>\n",
              "      <td>11200000.0</td>\n",
              "      <td>1.08250</td>\n",
              "      <td>15600000.0</td>\n",
              "      <td>1.08242</td>\n",
              "      <td>15200000.0</td>\n",
              "      <td>1.0</td>\n",
              "      <td>1.082460</td>\n",
              "    </tr>\n",
              "    <tr>\n",
              "      <th>2023-01-20 07:00:00.148</th>\n",
              "      <td>2023-01-20</td>\n",
              "      <td>1.08247</td>\n",
              "      <td>600000.0</td>\n",
              "      <td>1.08244</td>\n",
              "      <td>1200000.0</td>\n",
              "      <td>1.08248</td>\n",
              "      <td>2000000.0</td>\n",
              "      <td>1.08243</td>\n",
              "      <td>6300000.0</td>\n",
              "      <td>1.08249</td>\n",
              "      <td>...</td>\n",
              "      <td>1.08250</td>\n",
              "      <td>10100000.0</td>\n",
              "      <td>1.08242</td>\n",
              "      <td>15200000.0</td>\n",
              "      <td>1.08250</td>\n",
              "      <td>15600000.0</td>\n",
              "      <td>1.08241</td>\n",
              "      <td>17200000.0</td>\n",
              "      <td>1.0</td>\n",
              "      <td>1.082455</td>\n",
              "    </tr>\n",
              "    <tr>\n",
              "      <th>2023-01-20 07:00:00.157</th>\n",
              "      <td>2023-01-20</td>\n",
              "      <td>1.08247</td>\n",
              "      <td>600000.0</td>\n",
              "      <td>1.08244</td>\n",
              "      <td>1200000.0</td>\n",
              "      <td>1.08248</td>\n",
              "      <td>2000000.0</td>\n",
              "      <td>1.08243</td>\n",
              "      <td>5300000.0</td>\n",
              "      <td>1.08249</td>\n",
              "      <td>...</td>\n",
              "      <td>1.08250</td>\n",
              "      <td>12100000.0</td>\n",
              "      <td>1.08242</td>\n",
              "      <td>13200000.0</td>\n",
              "      <td>1.08250</td>\n",
              "      <td>15600000.0</td>\n",
              "      <td>1.08241</td>\n",
              "      <td>17200000.0</td>\n",
              "      <td>1.0</td>\n",
              "      <td>1.082455</td>\n",
              "    </tr>\n",
              "    <tr>\n",
              "      <th>2023-01-20 07:00:00.172</th>\n",
              "      <td>2023-01-20</td>\n",
              "      <td>1.08247</td>\n",
              "      <td>600000.0</td>\n",
              "      <td>1.08244</td>\n",
              "      <td>1200000.0</td>\n",
              "      <td>1.08248</td>\n",
              "      <td>2000000.0</td>\n",
              "      <td>1.08243</td>\n",
              "      <td>5800000.0</td>\n",
              "      <td>1.08249</td>\n",
              "      <td>...</td>\n",
              "      <td>1.08250</td>\n",
              "      <td>11100000.0</td>\n",
              "      <td>1.08242</td>\n",
              "      <td>13200000.0</td>\n",
              "      <td>1.08250</td>\n",
              "      <td>13600000.0</td>\n",
              "      <td>1.08241</td>\n",
              "      <td>17200000.0</td>\n",
              "      <td>1.0</td>\n",
              "      <td>1.082455</td>\n",
              "    </tr>\n",
              "    <tr>\n",
              "      <th>2023-01-20 07:00:00.183</th>\n",
              "      <td>2023-01-20</td>\n",
              "      <td>1.08247</td>\n",
              "      <td>600000.0</td>\n",
              "      <td>1.08244</td>\n",
              "      <td>1200000.0</td>\n",
              "      <td>1.08248</td>\n",
              "      <td>2000000.0</td>\n",
              "      <td>1.08243</td>\n",
              "      <td>5800000.0</td>\n",
              "      <td>1.08249</td>\n",
              "      <td>...</td>\n",
              "      <td>1.08250</td>\n",
              "      <td>11100000.0</td>\n",
              "      <td>1.08242</td>\n",
              "      <td>13200000.0</td>\n",
              "      <td>1.08250</td>\n",
              "      <td>12600000.0</td>\n",
              "      <td>1.08241</td>\n",
              "      <td>17200000.0</td>\n",
              "      <td>2.0</td>\n",
              "      <td>1.082455</td>\n",
              "    </tr>\n",
              "    <tr>\n",
              "      <th>...</th>\n",
              "      <td>...</td>\n",
              "      <td>...</td>\n",
              "      <td>...</td>\n",
              "      <td>...</td>\n",
              "      <td>...</td>\n",
              "      <td>...</td>\n",
              "      <td>...</td>\n",
              "      <td>...</td>\n",
              "      <td>...</td>\n",
              "      <td>...</td>\n",
              "      <td>...</td>\n",
              "      <td>...</td>\n",
              "      <td>...</td>\n",
              "      <td>...</td>\n",
              "      <td>...</td>\n",
              "      <td>...</td>\n",
              "      <td>...</td>\n",
              "      <td>...</td>\n",
              "      <td>...</td>\n",
              "      <td>...</td>\n",
              "      <td>...</td>\n",
              "    </tr>\n",
              "    <tr>\n",
              "      <th>2023-02-23 14:59:59.543</th>\n",
              "      <td>2023-02-23</td>\n",
              "      <td>1.06070</td>\n",
              "      <td>100000.0</td>\n",
              "      <td>1.06069</td>\n",
              "      <td>3000000.0</td>\n",
              "      <td>1.06071</td>\n",
              "      <td>1500000.0</td>\n",
              "      <td>1.06068</td>\n",
              "      <td>4600000.0</td>\n",
              "      <td>1.06072</td>\n",
              "      <td>...</td>\n",
              "      <td>1.06073</td>\n",
              "      <td>12600000.0</td>\n",
              "      <td>1.06067</td>\n",
              "      <td>12800000.0</td>\n",
              "      <td>1.06074</td>\n",
              "      <td>24600000.0</td>\n",
              "      <td>1.06066</td>\n",
              "      <td>15200000.0</td>\n",
              "      <td>2.0</td>\n",
              "      <td>1.060695</td>\n",
              "    </tr>\n",
              "    <tr>\n",
              "      <th>2023-02-23 14:59:59.552</th>\n",
              "      <td>2023-02-23</td>\n",
              "      <td>1.06070</td>\n",
              "      <td>100000.0</td>\n",
              "      <td>1.06069</td>\n",
              "      <td>4100000.0</td>\n",
              "      <td>1.06071</td>\n",
              "      <td>1500000.0</td>\n",
              "      <td>1.06068</td>\n",
              "      <td>5600000.0</td>\n",
              "      <td>1.06072</td>\n",
              "      <td>...</td>\n",
              "      <td>1.06073</td>\n",
              "      <td>11600000.0</td>\n",
              "      <td>1.06067</td>\n",
              "      <td>12800000.0</td>\n",
              "      <td>1.06074</td>\n",
              "      <td>23600000.0</td>\n",
              "      <td>1.06066</td>\n",
              "      <td>17200000.0</td>\n",
              "      <td>2.0</td>\n",
              "      <td>1.060695</td>\n",
              "    </tr>\n",
              "    <tr>\n",
              "      <th>2023-02-23 14:59:59.556</th>\n",
              "      <td>2023-02-23</td>\n",
              "      <td>1.06070</td>\n",
              "      <td>100000.0</td>\n",
              "      <td>1.06069</td>\n",
              "      <td>4100000.0</td>\n",
              "      <td>1.06071</td>\n",
              "      <td>1500000.0</td>\n",
              "      <td>1.06068</td>\n",
              "      <td>5600000.0</td>\n",
              "      <td>1.06072</td>\n",
              "      <td>...</td>\n",
              "      <td>1.06073</td>\n",
              "      <td>11600000.0</td>\n",
              "      <td>1.06067</td>\n",
              "      <td>12800000.0</td>\n",
              "      <td>1.06074</td>\n",
              "      <td>23600000.0</td>\n",
              "      <td>1.06066</td>\n",
              "      <td>17200000.0</td>\n",
              "      <td>2.0</td>\n",
              "      <td>1.060695</td>\n",
              "    </tr>\n",
              "    <tr>\n",
              "      <th>2023-02-23 14:59:59.559</th>\n",
              "      <td>2023-02-23</td>\n",
              "      <td>1.06070</td>\n",
              "      <td>100000.0</td>\n",
              "      <td>1.06069</td>\n",
              "      <td>4100000.0</td>\n",
              "      <td>1.06071</td>\n",
              "      <td>1500000.0</td>\n",
              "      <td>1.06068</td>\n",
              "      <td>5600000.0</td>\n",
              "      <td>1.06072</td>\n",
              "      <td>...</td>\n",
              "      <td>1.06073</td>\n",
              "      <td>12100000.0</td>\n",
              "      <td>1.06067</td>\n",
              "      <td>16800000.0</td>\n",
              "      <td>1.06074</td>\n",
              "      <td>22600000.0</td>\n",
              "      <td>1.06067</td>\n",
              "      <td>17200000.0</td>\n",
              "      <td>2.0</td>\n",
              "      <td>1.060695</td>\n",
              "    </tr>\n",
              "    <tr>\n",
              "      <th>2023-02-23 14:59:59.581</th>\n",
              "      <td>2023-02-23</td>\n",
              "      <td>1.06070</td>\n",
              "      <td>100000.0</td>\n",
              "      <td>1.06069</td>\n",
              "      <td>4100000.0</td>\n",
              "      <td>1.06071</td>\n",
              "      <td>1500000.0</td>\n",
              "      <td>1.06068</td>\n",
              "      <td>8600000.0</td>\n",
              "      <td>1.06072</td>\n",
              "      <td>...</td>\n",
              "      <td>1.06073</td>\n",
              "      <td>10100000.0</td>\n",
              "      <td>1.06067</td>\n",
              "      <td>18800000.0</td>\n",
              "      <td>1.06074</td>\n",
              "      <td>19600000.0</td>\n",
              "      <td>1.06067</td>\n",
              "      <td>19200000.0</td>\n",
              "      <td>2.0</td>\n",
              "      <td>1.060695</td>\n",
              "    </tr>\n",
              "  </tbody>\n",
              "</table>\n",
              "<p>8315720 rows × 23 columns</p>\n",
              "</div>\n",
              "      <button class=\"colab-df-convert\" onclick=\"convertToInteractive('df-b73f5341-6d1f-4426-a769-37916101a264')\"\n",
              "              title=\"Convert this dataframe to an interactive table.\"\n",
              "              style=\"display:none;\">\n",
              "        \n",
              "  <svg xmlns=\"http://www.w3.org/2000/svg\" height=\"24px\"viewBox=\"0 0 24 24\"\n",
              "       width=\"24px\">\n",
              "    <path d=\"M0 0h24v24H0V0z\" fill=\"none\"/>\n",
              "    <path d=\"M18.56 5.44l.94 2.06.94-2.06 2.06-.94-2.06-.94-.94-2.06-.94 2.06-2.06.94zm-11 1L8.5 8.5l.94-2.06 2.06-.94-2.06-.94L8.5 2.5l-.94 2.06-2.06.94zm10 10l.94 2.06.94-2.06 2.06-.94-2.06-.94-.94-2.06-.94 2.06-2.06.94z\"/><path d=\"M17.41 7.96l-1.37-1.37c-.4-.4-.92-.59-1.43-.59-.52 0-1.04.2-1.43.59L10.3 9.45l-7.72 7.72c-.78.78-.78 2.05 0 2.83L4 21.41c.39.39.9.59 1.41.59.51 0 1.02-.2 1.41-.59l7.78-7.78 2.81-2.81c.8-.78.8-2.07 0-2.86zM5.41 20L4 18.59l7.72-7.72 1.47 1.35L5.41 20z\"/>\n",
              "  </svg>\n",
              "      </button>\n",
              "      \n",
              "  <style>\n",
              "    .colab-df-container {\n",
              "      display:flex;\n",
              "      flex-wrap:wrap;\n",
              "      gap: 12px;\n",
              "    }\n",
              "\n",
              "    .colab-df-convert {\n",
              "      background-color: #E8F0FE;\n",
              "      border: none;\n",
              "      border-radius: 50%;\n",
              "      cursor: pointer;\n",
              "      display: none;\n",
              "      fill: #1967D2;\n",
              "      height: 32px;\n",
              "      padding: 0 0 0 0;\n",
              "      width: 32px;\n",
              "    }\n",
              "\n",
              "    .colab-df-convert:hover {\n",
              "      background-color: #E2EBFA;\n",
              "      box-shadow: 0px 1px 2px rgba(60, 64, 67, 0.3), 0px 1px 3px 1px rgba(60, 64, 67, 0.15);\n",
              "      fill: #174EA6;\n",
              "    }\n",
              "\n",
              "    [theme=dark] .colab-df-convert {\n",
              "      background-color: #3B4455;\n",
              "      fill: #D2E3FC;\n",
              "    }\n",
              "\n",
              "    [theme=dark] .colab-df-convert:hover {\n",
              "      background-color: #434B5C;\n",
              "      box-shadow: 0px 1px 3px 1px rgba(0, 0, 0, 0.15);\n",
              "      filter: drop-shadow(0px 1px 2px rgba(0, 0, 0, 0.3));\n",
              "      fill: #FFFFFF;\n",
              "    }\n",
              "  </style>\n",
              "\n",
              "      <script>\n",
              "        const buttonEl =\n",
              "          document.querySelector('#df-b73f5341-6d1f-4426-a769-37916101a264 button.colab-df-convert');\n",
              "        buttonEl.style.display =\n",
              "          google.colab.kernel.accessAllowed ? 'block' : 'none';\n",
              "\n",
              "        async function convertToInteractive(key) {\n",
              "          const element = document.querySelector('#df-b73f5341-6d1f-4426-a769-37916101a264');\n",
              "          const dataTable =\n",
              "            await google.colab.kernel.invokeFunction('convertToInteractive',\n",
              "                                                     [key], {});\n",
              "          if (!dataTable) return;\n",
              "\n",
              "          const docLinkHtml = 'Like what you see? Visit the ' +\n",
              "            '<a target=\"_blank\" href=https://colab.research.google.com/notebooks/data_table.ipynb>data table notebook</a>'\n",
              "            + ' to learn more about interactive tables.';\n",
              "          element.innerHTML = '';\n",
              "          dataTable['output_type'] = 'display_data';\n",
              "          await google.colab.output.renderOutput(dataTable, element);\n",
              "          const docLink = document.createElement('div');\n",
              "          docLink.innerHTML = docLinkHtml;\n",
              "          element.appendChild(docLink);\n",
              "        }\n",
              "      </script>\n",
              "    </div>\n",
              "  </div>\n",
              "  "
            ]
          },
          "metadata": {},
          "execution_count": 4
        }
      ]
    },
    {
      "cell_type": "code",
      "source": [
        "# Now when we prepared the data, let's do min_max scaling\n",
        "df_min_max_scaled=df_raw.copy()"
      ],
      "metadata": {
        "id": "EEXrkbiLc0pG"
      },
      "execution_count": null,
      "outputs": []
    },
    {
      "cell_type": "code",
      "source": [
        "# Apply min_max_scaling\n",
        "for column in df_min_max_scaled.columns[:-1]:\n",
        "    df_min_max_scaled[column] = (df_min_max_scaled[column] - df_min_max_scaled[column].min()) / (df_min_max_scaled[column].max() - df_min_max_scaled[column].min())"
      ],
      "metadata": {
        "id": "skRmQvZsdEHp"
      },
      "execution_count": null,
      "outputs": []
    },
    {
      "cell_type": "code",
      "source": [
        "df_min_max_scaled"
      ],
      "metadata": {
        "colab": {
          "base_uri": "https://localhost:8080/",
          "height": 692
        },
        "id": "HVYUIMn6jsP2",
        "outputId": "b49ce097-555c-447d-ab7c-8d4320e240d3"
      },
      "execution_count": null,
      "outputs": [
        {
          "output_type": "execute_result",
          "data": {
            "text/plain": [
              "                             P_a1      V_a1      P_b1      V_b1      P_a2  \\\n",
              "Date_time                                                                   \n",
              "2023-01-20 07:00:00.137  0.554828  0.017644  0.554984  0.002806  0.554828   \n",
              "2023-01-20 07:00:00.148  0.554828  0.017644  0.554750  0.033705  0.554828   \n",
              "2023-01-20 07:00:00.157  0.554828  0.017644  0.554750  0.033705  0.554828   \n",
              "2023-01-20 07:00:00.172  0.554828  0.017644  0.554750  0.033705  0.554828   \n",
              "2023-01-20 07:00:00.183  0.554828  0.017644  0.554750  0.033705  0.554828   \n",
              "...                           ...       ...       ...       ...       ...   \n",
              "2023-02-23 14:59:59.543  0.045827  0.002938  0.045859  0.084267  0.045827   \n",
              "2023-02-23 14:59:59.552  0.045827  0.002938  0.045859  0.115166  0.045827   \n",
              "2023-02-23 14:59:59.556  0.045827  0.002938  0.045859  0.115166  0.045827   \n",
              "2023-02-23 14:59:59.559  0.045827  0.002938  0.045859  0.115166  0.045827   \n",
              "2023-02-23 14:59:59.581  0.045827  0.002938  0.045859  0.115166  0.045827   \n",
              "\n",
              "                             V_a2      P_b2      V_b2      P_a3      V_a3  \\\n",
              "Date_time                                                                   \n",
              "2023-01-20 07:00:00.137  0.054593  0.554984  0.028904  0.554828  0.098456   \n",
              "2023-01-20 07:00:00.148  0.054593  0.554750  0.082781  0.554828  0.098456   \n",
              "2023-01-20 07:00:00.157  0.054593  0.554750  0.069640  0.554828  0.147321   \n",
              "2023-01-20 07:00:00.172  0.054593  0.554750  0.076210  0.554828  0.147321   \n",
              "2023-01-20 07:00:00.183  0.054593  0.554750  0.076210  0.554828  0.147321   \n",
              "...                           ...       ...       ...       ...       ...   \n",
              "2023-02-23 14:59:59.543  0.040931  0.045859  0.060442  0.045827  0.110672   \n",
              "2023-02-23 14:59:59.552  0.040931  0.045859  0.073582  0.045827  0.083797   \n",
              "2023-02-23 14:59:59.556  0.040931  0.045859  0.073582  0.045827  0.108229   \n",
              "2023-02-23 14:59:59.559  0.040931  0.045859  0.073582  0.045827  0.108229   \n",
              "2023-02-23 14:59:59.581  0.040931  0.045859  0.113004  0.045827  0.108229   \n",
              "\n",
              "                         ...      V_b3      P_a4      V_a4      P_b4  \\\n",
              "Date_time                ...                                           \n",
              "2023-01-20 07:00:00.137  ...  0.107567  0.554828  0.187197  0.554879   \n",
              "2023-01-20 07:00:00.148  ...  0.145184  0.554828  0.187197  0.554879   \n",
              "2023-01-20 07:00:00.157  ...  0.119241  0.554828  0.225994  0.554879   \n",
              "2023-01-20 07:00:00.172  ...  0.119241  0.554828  0.206596  0.554879   \n",
              "2023-01-20 07:00:00.183  ...  0.119241  0.554828  0.206596  0.554879   \n",
              "...                      ...       ...       ...       ...       ...   \n",
              "2023-02-23 14:59:59.543  ...  0.088110  0.045827  0.235694  0.045869   \n",
              "2023-02-23 14:59:59.552  ...  0.114053  0.045827  0.216295  0.045869   \n",
              "2023-02-23 14:59:59.556  ...  0.127024  0.045827  0.216295  0.045869   \n",
              "2023-02-23 14:59:59.559  ...  0.165938  0.045827  0.225994  0.045869   \n",
              "2023-02-23 14:59:59.581  ...  0.165938  0.045827  0.187197  0.045869   \n",
              "\n",
              "                             V_b4      P_a5      V_a5      P_b5      V_b5  \\\n",
              "Date_time                                                                   \n",
              "2023-01-20 07:00:00.137  0.137551  0.554828  0.241188  0.555114  0.170012   \n",
              "2023-01-20 07:00:00.148  0.189117  0.554828  0.241188  0.554879  0.193625   \n",
              "2023-01-20 07:00:00.157  0.163334  0.554828  0.241188  0.554879  0.193625   \n",
              "2023-01-20 07:00:00.172  0.163334  0.554828  0.208551  0.554879  0.193625   \n",
              "2023-01-20 07:00:00.183  0.163334  0.554828  0.192232  0.554879  0.193625   \n",
              "...                           ...       ...       ...       ...       ...   \n",
              "2023-02-23 14:59:59.543  0.158178  0.046060  0.388055  0.045869  0.170012   \n",
              "2023-02-23 14:59:59.552  0.158178  0.046060  0.371736  0.045869  0.193625   \n",
              "2023-02-23 14:59:59.556  0.158178  0.046060  0.371736  0.045869  0.193625   \n",
              "2023-02-23 14:59:59.559  0.209744  0.046060  0.355418  0.046103  0.193625   \n",
              "2023-02-23 14:59:59.581  0.235527  0.046060  0.306462  0.046103  0.217237   \n",
              "\n",
              "                         label  \n",
              "Date_time                       \n",
              "2023-01-20 07:00:00.137    1.0  \n",
              "2023-01-20 07:00:00.148    1.0  \n",
              "2023-01-20 07:00:00.157    1.0  \n",
              "2023-01-20 07:00:00.172    1.0  \n",
              "2023-01-20 07:00:00.183    2.0  \n",
              "...                        ...  \n",
              "2023-02-23 14:59:59.543    2.0  \n",
              "2023-02-23 14:59:59.552    2.0  \n",
              "2023-02-23 14:59:59.556    2.0  \n",
              "2023-02-23 14:59:59.559    2.0  \n",
              "2023-02-23 14:59:59.581    2.0  \n",
              "\n",
              "[8315560 rows x 21 columns]"
            ],
            "text/html": [
              "\n",
              "  <div id=\"df-7dee8503-458d-436d-91d3-fd2c9e7e4b11\">\n",
              "    <div class=\"colab-df-container\">\n",
              "      <div>\n",
              "<style scoped>\n",
              "    .dataframe tbody tr th:only-of-type {\n",
              "        vertical-align: middle;\n",
              "    }\n",
              "\n",
              "    .dataframe tbody tr th {\n",
              "        vertical-align: top;\n",
              "    }\n",
              "\n",
              "    .dataframe thead th {\n",
              "        text-align: right;\n",
              "    }\n",
              "</style>\n",
              "<table border=\"1\" class=\"dataframe\">\n",
              "  <thead>\n",
              "    <tr style=\"text-align: right;\">\n",
              "      <th></th>\n",
              "      <th>P_a1</th>\n",
              "      <th>V_a1</th>\n",
              "      <th>P_b1</th>\n",
              "      <th>V_b1</th>\n",
              "      <th>P_a2</th>\n",
              "      <th>V_a2</th>\n",
              "      <th>P_b2</th>\n",
              "      <th>V_b2</th>\n",
              "      <th>P_a3</th>\n",
              "      <th>V_a3</th>\n",
              "      <th>...</th>\n",
              "      <th>V_b3</th>\n",
              "      <th>P_a4</th>\n",
              "      <th>V_a4</th>\n",
              "      <th>P_b4</th>\n",
              "      <th>V_b4</th>\n",
              "      <th>P_a5</th>\n",
              "      <th>V_a5</th>\n",
              "      <th>P_b5</th>\n",
              "      <th>V_b5</th>\n",
              "      <th>label</th>\n",
              "    </tr>\n",
              "    <tr>\n",
              "      <th>Date_time</th>\n",
              "      <th></th>\n",
              "      <th></th>\n",
              "      <th></th>\n",
              "      <th></th>\n",
              "      <th></th>\n",
              "      <th></th>\n",
              "      <th></th>\n",
              "      <th></th>\n",
              "      <th></th>\n",
              "      <th></th>\n",
              "      <th></th>\n",
              "      <th></th>\n",
              "      <th></th>\n",
              "      <th></th>\n",
              "      <th></th>\n",
              "      <th></th>\n",
              "      <th></th>\n",
              "      <th></th>\n",
              "      <th></th>\n",
              "      <th></th>\n",
              "      <th></th>\n",
              "    </tr>\n",
              "  </thead>\n",
              "  <tbody>\n",
              "    <tr>\n",
              "      <th>2023-01-20 07:00:00.137</th>\n",
              "      <td>0.554828</td>\n",
              "      <td>0.017644</td>\n",
              "      <td>0.554984</td>\n",
              "      <td>0.002806</td>\n",
              "      <td>0.554828</td>\n",
              "      <td>0.054593</td>\n",
              "      <td>0.554984</td>\n",
              "      <td>0.028904</td>\n",
              "      <td>0.554828</td>\n",
              "      <td>0.098456</td>\n",
              "      <td>...</td>\n",
              "      <td>0.107567</td>\n",
              "      <td>0.554828</td>\n",
              "      <td>0.187197</td>\n",
              "      <td>0.554879</td>\n",
              "      <td>0.137551</td>\n",
              "      <td>0.554828</td>\n",
              "      <td>0.241188</td>\n",
              "      <td>0.555114</td>\n",
              "      <td>0.170012</td>\n",
              "      <td>1.0</td>\n",
              "    </tr>\n",
              "    <tr>\n",
              "      <th>2023-01-20 07:00:00.148</th>\n",
              "      <td>0.554828</td>\n",
              "      <td>0.017644</td>\n",
              "      <td>0.554750</td>\n",
              "      <td>0.033705</td>\n",
              "      <td>0.554828</td>\n",
              "      <td>0.054593</td>\n",
              "      <td>0.554750</td>\n",
              "      <td>0.082781</td>\n",
              "      <td>0.554828</td>\n",
              "      <td>0.098456</td>\n",
              "      <td>...</td>\n",
              "      <td>0.145184</td>\n",
              "      <td>0.554828</td>\n",
              "      <td>0.187197</td>\n",
              "      <td>0.554879</td>\n",
              "      <td>0.189117</td>\n",
              "      <td>0.554828</td>\n",
              "      <td>0.241188</td>\n",
              "      <td>0.554879</td>\n",
              "      <td>0.193625</td>\n",
              "      <td>1.0</td>\n",
              "    </tr>\n",
              "    <tr>\n",
              "      <th>2023-01-20 07:00:00.157</th>\n",
              "      <td>0.554828</td>\n",
              "      <td>0.017644</td>\n",
              "      <td>0.554750</td>\n",
              "      <td>0.033705</td>\n",
              "      <td>0.554828</td>\n",
              "      <td>0.054593</td>\n",
              "      <td>0.554750</td>\n",
              "      <td>0.069640</td>\n",
              "      <td>0.554828</td>\n",
              "      <td>0.147321</td>\n",
              "      <td>...</td>\n",
              "      <td>0.119241</td>\n",
              "      <td>0.554828</td>\n",
              "      <td>0.225994</td>\n",
              "      <td>0.554879</td>\n",
              "      <td>0.163334</td>\n",
              "      <td>0.554828</td>\n",
              "      <td>0.241188</td>\n",
              "      <td>0.554879</td>\n",
              "      <td>0.193625</td>\n",
              "      <td>1.0</td>\n",
              "    </tr>\n",
              "    <tr>\n",
              "      <th>2023-01-20 07:00:00.172</th>\n",
              "      <td>0.554828</td>\n",
              "      <td>0.017644</td>\n",
              "      <td>0.554750</td>\n",
              "      <td>0.033705</td>\n",
              "      <td>0.554828</td>\n",
              "      <td>0.054593</td>\n",
              "      <td>0.554750</td>\n",
              "      <td>0.076210</td>\n",
              "      <td>0.554828</td>\n",
              "      <td>0.147321</td>\n",
              "      <td>...</td>\n",
              "      <td>0.119241</td>\n",
              "      <td>0.554828</td>\n",
              "      <td>0.206596</td>\n",
              "      <td>0.554879</td>\n",
              "      <td>0.163334</td>\n",
              "      <td>0.554828</td>\n",
              "      <td>0.208551</td>\n",
              "      <td>0.554879</td>\n",
              "      <td>0.193625</td>\n",
              "      <td>1.0</td>\n",
              "    </tr>\n",
              "    <tr>\n",
              "      <th>2023-01-20 07:00:00.183</th>\n",
              "      <td>0.554828</td>\n",
              "      <td>0.017644</td>\n",
              "      <td>0.554750</td>\n",
              "      <td>0.033705</td>\n",
              "      <td>0.554828</td>\n",
              "      <td>0.054593</td>\n",
              "      <td>0.554750</td>\n",
              "      <td>0.076210</td>\n",
              "      <td>0.554828</td>\n",
              "      <td>0.147321</td>\n",
              "      <td>...</td>\n",
              "      <td>0.119241</td>\n",
              "      <td>0.554828</td>\n",
              "      <td>0.206596</td>\n",
              "      <td>0.554879</td>\n",
              "      <td>0.163334</td>\n",
              "      <td>0.554828</td>\n",
              "      <td>0.192232</td>\n",
              "      <td>0.554879</td>\n",
              "      <td>0.193625</td>\n",
              "      <td>2.0</td>\n",
              "    </tr>\n",
              "    <tr>\n",
              "      <th>...</th>\n",
              "      <td>...</td>\n",
              "      <td>...</td>\n",
              "      <td>...</td>\n",
              "      <td>...</td>\n",
              "      <td>...</td>\n",
              "      <td>...</td>\n",
              "      <td>...</td>\n",
              "      <td>...</td>\n",
              "      <td>...</td>\n",
              "      <td>...</td>\n",
              "      <td>...</td>\n",
              "      <td>...</td>\n",
              "      <td>...</td>\n",
              "      <td>...</td>\n",
              "      <td>...</td>\n",
              "      <td>...</td>\n",
              "      <td>...</td>\n",
              "      <td>...</td>\n",
              "      <td>...</td>\n",
              "      <td>...</td>\n",
              "      <td>...</td>\n",
              "    </tr>\n",
              "    <tr>\n",
              "      <th>2023-02-23 14:59:59.543</th>\n",
              "      <td>0.045827</td>\n",
              "      <td>0.002938</td>\n",
              "      <td>0.045859</td>\n",
              "      <td>0.084267</td>\n",
              "      <td>0.045827</td>\n",
              "      <td>0.040931</td>\n",
              "      <td>0.045859</td>\n",
              "      <td>0.060442</td>\n",
              "      <td>0.045827</td>\n",
              "      <td>0.110672</td>\n",
              "      <td>...</td>\n",
              "      <td>0.088110</td>\n",
              "      <td>0.045827</td>\n",
              "      <td>0.235694</td>\n",
              "      <td>0.045869</td>\n",
              "      <td>0.158178</td>\n",
              "      <td>0.046060</td>\n",
              "      <td>0.388055</td>\n",
              "      <td>0.045869</td>\n",
              "      <td>0.170012</td>\n",
              "      <td>2.0</td>\n",
              "    </tr>\n",
              "    <tr>\n",
              "      <th>2023-02-23 14:59:59.552</th>\n",
              "      <td>0.045827</td>\n",
              "      <td>0.002938</td>\n",
              "      <td>0.045859</td>\n",
              "      <td>0.115166</td>\n",
              "      <td>0.045827</td>\n",
              "      <td>0.040931</td>\n",
              "      <td>0.045859</td>\n",
              "      <td>0.073582</td>\n",
              "      <td>0.045827</td>\n",
              "      <td>0.083797</td>\n",
              "      <td>...</td>\n",
              "      <td>0.114053</td>\n",
              "      <td>0.045827</td>\n",
              "      <td>0.216295</td>\n",
              "      <td>0.045869</td>\n",
              "      <td>0.158178</td>\n",
              "      <td>0.046060</td>\n",
              "      <td>0.371736</td>\n",
              "      <td>0.045869</td>\n",
              "      <td>0.193625</td>\n",
              "      <td>2.0</td>\n",
              "    </tr>\n",
              "    <tr>\n",
              "      <th>2023-02-23 14:59:59.556</th>\n",
              "      <td>0.045827</td>\n",
              "      <td>0.002938</td>\n",
              "      <td>0.045859</td>\n",
              "      <td>0.115166</td>\n",
              "      <td>0.045827</td>\n",
              "      <td>0.040931</td>\n",
              "      <td>0.045859</td>\n",
              "      <td>0.073582</td>\n",
              "      <td>0.045827</td>\n",
              "      <td>0.108229</td>\n",
              "      <td>...</td>\n",
              "      <td>0.127024</td>\n",
              "      <td>0.045827</td>\n",
              "      <td>0.216295</td>\n",
              "      <td>0.045869</td>\n",
              "      <td>0.158178</td>\n",
              "      <td>0.046060</td>\n",
              "      <td>0.371736</td>\n",
              "      <td>0.045869</td>\n",
              "      <td>0.193625</td>\n",
              "      <td>2.0</td>\n",
              "    </tr>\n",
              "    <tr>\n",
              "      <th>2023-02-23 14:59:59.559</th>\n",
              "      <td>0.045827</td>\n",
              "      <td>0.002938</td>\n",
              "      <td>0.045859</td>\n",
              "      <td>0.115166</td>\n",
              "      <td>0.045827</td>\n",
              "      <td>0.040931</td>\n",
              "      <td>0.045859</td>\n",
              "      <td>0.073582</td>\n",
              "      <td>0.045827</td>\n",
              "      <td>0.108229</td>\n",
              "      <td>...</td>\n",
              "      <td>0.165938</td>\n",
              "      <td>0.045827</td>\n",
              "      <td>0.225994</td>\n",
              "      <td>0.045869</td>\n",
              "      <td>0.209744</td>\n",
              "      <td>0.046060</td>\n",
              "      <td>0.355418</td>\n",
              "      <td>0.046103</td>\n",
              "      <td>0.193625</td>\n",
              "      <td>2.0</td>\n",
              "    </tr>\n",
              "    <tr>\n",
              "      <th>2023-02-23 14:59:59.581</th>\n",
              "      <td>0.045827</td>\n",
              "      <td>0.002938</td>\n",
              "      <td>0.045859</td>\n",
              "      <td>0.115166</td>\n",
              "      <td>0.045827</td>\n",
              "      <td>0.040931</td>\n",
              "      <td>0.045859</td>\n",
              "      <td>0.113004</td>\n",
              "      <td>0.045827</td>\n",
              "      <td>0.108229</td>\n",
              "      <td>...</td>\n",
              "      <td>0.165938</td>\n",
              "      <td>0.045827</td>\n",
              "      <td>0.187197</td>\n",
              "      <td>0.045869</td>\n",
              "      <td>0.235527</td>\n",
              "      <td>0.046060</td>\n",
              "      <td>0.306462</td>\n",
              "      <td>0.046103</td>\n",
              "      <td>0.217237</td>\n",
              "      <td>2.0</td>\n",
              "    </tr>\n",
              "  </tbody>\n",
              "</table>\n",
              "<p>8315560 rows × 21 columns</p>\n",
              "</div>\n",
              "      <button class=\"colab-df-convert\" onclick=\"convertToInteractive('df-7dee8503-458d-436d-91d3-fd2c9e7e4b11')\"\n",
              "              title=\"Convert this dataframe to an interactive table.\"\n",
              "              style=\"display:none;\">\n",
              "        \n",
              "  <svg xmlns=\"http://www.w3.org/2000/svg\" height=\"24px\"viewBox=\"0 0 24 24\"\n",
              "       width=\"24px\">\n",
              "    <path d=\"M0 0h24v24H0V0z\" fill=\"none\"/>\n",
              "    <path d=\"M18.56 5.44l.94 2.06.94-2.06 2.06-.94-2.06-.94-.94-2.06-.94 2.06-2.06.94zm-11 1L8.5 8.5l.94-2.06 2.06-.94-2.06-.94L8.5 2.5l-.94 2.06-2.06.94zm10 10l.94 2.06.94-2.06 2.06-.94-2.06-.94-.94-2.06-.94 2.06-2.06.94z\"/><path d=\"M17.41 7.96l-1.37-1.37c-.4-.4-.92-.59-1.43-.59-.52 0-1.04.2-1.43.59L10.3 9.45l-7.72 7.72c-.78.78-.78 2.05 0 2.83L4 21.41c.39.39.9.59 1.41.59.51 0 1.02-.2 1.41-.59l7.78-7.78 2.81-2.81c.8-.78.8-2.07 0-2.86zM5.41 20L4 18.59l7.72-7.72 1.47 1.35L5.41 20z\"/>\n",
              "  </svg>\n",
              "      </button>\n",
              "      \n",
              "  <style>\n",
              "    .colab-df-container {\n",
              "      display:flex;\n",
              "      flex-wrap:wrap;\n",
              "      gap: 12px;\n",
              "    }\n",
              "\n",
              "    .colab-df-convert {\n",
              "      background-color: #E8F0FE;\n",
              "      border: none;\n",
              "      border-radius: 50%;\n",
              "      cursor: pointer;\n",
              "      display: none;\n",
              "      fill: #1967D2;\n",
              "      height: 32px;\n",
              "      padding: 0 0 0 0;\n",
              "      width: 32px;\n",
              "    }\n",
              "\n",
              "    .colab-df-convert:hover {\n",
              "      background-color: #E2EBFA;\n",
              "      box-shadow: 0px 1px 2px rgba(60, 64, 67, 0.3), 0px 1px 3px 1px rgba(60, 64, 67, 0.15);\n",
              "      fill: #174EA6;\n",
              "    }\n",
              "\n",
              "    [theme=dark] .colab-df-convert {\n",
              "      background-color: #3B4455;\n",
              "      fill: #D2E3FC;\n",
              "    }\n",
              "\n",
              "    [theme=dark] .colab-df-convert:hover {\n",
              "      background-color: #434B5C;\n",
              "      box-shadow: 0px 1px 3px 1px rgba(0, 0, 0, 0.15);\n",
              "      filter: drop-shadow(0px 1px 2px rgba(0, 0, 0, 0.3));\n",
              "      fill: #FFFFFF;\n",
              "    }\n",
              "  </style>\n",
              "\n",
              "      <script>\n",
              "        const buttonEl =\n",
              "          document.querySelector('#df-7dee8503-458d-436d-91d3-fd2c9e7e4b11 button.colab-df-convert');\n",
              "        buttonEl.style.display =\n",
              "          google.colab.kernel.accessAllowed ? 'block' : 'none';\n",
              "\n",
              "        async function convertToInteractive(key) {\n",
              "          const element = document.querySelector('#df-7dee8503-458d-436d-91d3-fd2c9e7e4b11');\n",
              "          const dataTable =\n",
              "            await google.colab.kernel.invokeFunction('convertToInteractive',\n",
              "                                                     [key], {});\n",
              "          if (!dataTable) return;\n",
              "\n",
              "          const docLinkHtml = 'Like what you see? Visit the ' +\n",
              "            '<a target=\"_blank\" href=https://colab.research.google.com/notebooks/data_table.ipynb>data table notebook</a>'\n",
              "            + ' to learn more about interactive tables.';\n",
              "          element.innerHTML = '';\n",
              "          dataTable['output_type'] = 'display_data';\n",
              "          await google.colab.output.renderOutput(dataTable, element);\n",
              "          const docLink = document.createElement('div');\n",
              "          docLink.innerHTML = docLinkHtml;\n",
              "          element.appendChild(docLink);\n",
              "        }\n",
              "      </script>\n",
              "    </div>\n",
              "  </div>\n",
              "  "
            ]
          },
          "metadata": {},
          "execution_count": 11
        }
      ]
    },
    {
      "cell_type": "code",
      "source": [
        "# Let's check how balanced our dataset is\n",
        "up=sum([df_min_max_scaled['label']==0.0][0])\n",
        "down=sum([df_min_max_scaled['label']==1.0][0])\n",
        "static=sum([df_min_max_scaled['label']==2.0][0])\n",
        "all=up+down+static\n",
        "\n",
        "print(f'upward movement is {round(up/all*100,2)}% of all labels')\n",
        "print(f'downward movement is {round(down/all*100,2)}% of all labels')\n",
        "print(f'static movement is {round(static/all*100,2)}% of all labels')"
      ],
      "metadata": {
        "colab": {
          "base_uri": "https://localhost:8080/"
        },
        "id": "o__VbDZbiv_5",
        "outputId": "07491153-a294-48bf-960f-a5107cdcd2d7"
      },
      "execution_count": null,
      "outputs": [
        {
          "output_type": "stream",
          "name": "stdout",
          "text": [
            "upward movement is 32.55% of all labels\n",
            "downward movement is 32.73% of all labels\n",
            "static movement is 34.72% of all labels\n"
          ]
        }
      ]
    },
    {
      "cell_type": "code",
      "source": [
        "# Let's get the features and the labels from the data.   \n",
        "full_features_min_max_unprep=df_min_max_scaled.iloc[:,:20].to_numpy()\n",
        "full_labels_min_max_unprep=df_min_max_scaled.iloc[:,20].to_numpy()"
      ],
      "metadata": {
        "id": "-vbUrgPQf7Na"
      },
      "execution_count": null,
      "outputs": []
    },
    {
      "cell_type": "code",
      "source": [
        "# Let's record the features for future reference\n",
        "file_path_full_features_min_max_unprep='/content/drive/MyDrive/Colab Notebooks/Limited order book Forecasting/Datasets/Forex/Full_Features_min_max/full_features_min_max_unprep.npy'\n",
        "file_path_full_labels_min_max_unprep='/content/drive/MyDrive/Colab Notebooks/Limited order book Forecasting/Datasets/Forex/Full_Features_min_max/full_labels_min_max_unprep.npy'\n",
        "\n",
        "np.save(file_path_full_features_min_max_unprep, full_features_min_max_unprep)\n",
        "np.save(file_path_full_labels_min_max_unprep, full_labels_min_max_unprep)"
      ],
      "metadata": {
        "id": "yZbqkEKXeaHh"
      },
      "execution_count": null,
      "outputs": []
    },
    {
      "cell_type": "code",
      "source": [
        "# Let's check data types of both arrays\n",
        "print(full_features_min_max_unprep.dtype)\n",
        "print(full_labels_min_max_unprep.dtype)"
      ],
      "metadata": {
        "colab": {
          "base_uri": "https://localhost:8080/"
        },
        "outputId": "3995de8d-2698-4c61-ebd3-5df802f0ec73",
        "id": "sWbi0TzydNML"
      },
      "execution_count": null,
      "outputs": [
        {
          "output_type": "stream",
          "name": "stdout",
          "text": [
            "float64\n",
            "float64\n"
          ]
        }
      ]
    },
    {
      "cell_type": "markdown",
      "source": [
        "The above types are excessive for storing the data, so to optimize them we will downgrade **features** to float32 and **labels** to int8."
      ],
      "metadata": {
        "id": "lvsvFtFHdNMM"
      }
    },
    {
      "cell_type": "code",
      "source": [
        "features_dtype='float32'\n",
        "labels_dtype='int8'\n",
        "\n",
        "full_features_min_max_unprep=full_features_min_max_unprep.astype(features_dtype)\n",
        "full_labels_min_max_unprep=full_labels_min_max_unprep.astype(labels_dtype)"
      ],
      "metadata": {
        "id": "hXTQUjIpdNMM"
      },
      "execution_count": null,
      "outputs": []
    },
    {
      "cell_type": "code",
      "source": [
        "# Let's check data types of both arrays again\n",
        "print(full_features_min_max_unprep.dtype)\n",
        "print(full_labels_min_max_unprep.dtype)"
      ],
      "metadata": {
        "colab": {
          "base_uri": "https://localhost:8080/"
        },
        "outputId": "4abb12a1-00c6-40b9-dc2d-8d6cd75cc075",
        "id": "PE96oSxndNMN"
      },
      "execution_count": null,
      "outputs": [
        {
          "output_type": "stream",
          "name": "stdout",
          "text": [
            "float32\n",
            "int8\n"
          ]
        }
      ]
    },
    {
      "cell_type": "code",
      "source": [
        "# Let's print the shapes of features and labels\n",
        "print(full_features_min_max_unprep.shape)\n",
        "print(full_labels_min_max_unprep.shape)"
      ],
      "metadata": {
        "colab": {
          "base_uri": "https://localhost:8080/"
        },
        "outputId": "dad44b74-0db4-46ca-9bc3-67dfaf815991",
        "id": "c2D6q8tKdNMO"
      },
      "execution_count": null,
      "outputs": [
        {
          "output_type": "stream",
          "name": "stdout",
          "text": [
            "(8315560, 20)\n",
            "(8315560,)\n"
          ]
        }
      ]
    },
    {
      "cell_type": "code",
      "source": [
        "# Number of equity ticks per sample fed to model \n",
        "T=100"
      ],
      "metadata": {
        "id": "cTB7JDOhdNMO"
      },
      "execution_count": null,
      "outputs": []
    },
    {
      "cell_type": "code",
      "source": [
        "# Output Directory and filename pattern to record TFR shards to\n",
        "out_dir='/content/drive/MyDrive/Colab Notebooks/Limited order book Forecasting/Datasets/Forex/Prepared_Dataset_MinMax_TFR_split_by_20/'\n",
        "filename=\"Prepared_Dataset_Forex\"\n",
        "\n",
        "# Total size of transformed dataset\n",
        "total_num_samples=(len(full_features_min_max_unprep)-T+1)\n",
        "print(f'The total size of our data set is {total_num_samples}')\n",
        "# We want to have ~5% of data per shard to make it convinient \n",
        "# to change percentage split when reading the data into train, validation and\n",
        "# test datasets  \n",
        "max_samples_per_file=int(np.ceil(total_num_samples/20))\n",
        "max_samples_per_file\n",
        "print(f'The maximum amount of samples per shard is {max_samples_per_file}')"
      ],
      "metadata": {
        "id": "VRclAAr_dNMR"
      },
      "execution_count": null,
      "outputs": []
    },
    {
      "cell_type": "code",
      "source": [
        "write_dataset_to_tfr_shards(full_features_min_max_unprep, \n",
        "                            full_labels_min_max_unprep, T,\n",
        "                            max_samples_per_file, filename,out_dir)"
      ],
      "metadata": {
        "id": "9GQqMna7dNMR"
      },
      "execution_count": null,
      "outputs": []
    },
    {
      "cell_type": "markdown",
      "source": [
        "!!! There was a mistake in function **data_preparation_forex**, so labels were changed to 0 - down, 1 - static, 2 - up. For more details read  explanation above the function. !!!"
      ],
      "metadata": {
        "id": "UDOIDpdtMhzh"
      }
    },
    {
      "cell_type": "markdown",
      "source": [
        "## Min Max 9:00 - 10:00"
      ],
      "metadata": {
        "id": "j3QckNfLgDmM"
      }
    },
    {
      "cell_type": "markdown",
      "source": [
        "**Let's record to TFR shards the dataset from 9:00 to 10:00 with labeling approach by Vincent (threshold=0.00001, k=10). The dataset is highly unbalanced with ~ 75% of no-movement class and ~12.5% of upward-movement and down-movement classes respectively.**"
      ],
      "metadata": {
        "id": "u0Umc-S66l7r"
      }
    },
    {
      "cell_type": "code",
      "source": [
        "df_raw=pd.read_parquet('/content/drive/MyDrive/Colab Notebooks/Limited order book Forecasting/Datasets/Forex/df_time_th0_00001_k_10')"
      ],
      "metadata": {
        "id": "0H6agrjpt-vp"
      },
      "execution_count": null,
      "outputs": []
    },
    {
      "cell_type": "code",
      "source": [
        "df_raw"
      ],
      "metadata": {
        "id": "udr3W07Xt-vp"
      },
      "execution_count": null,
      "outputs": []
    },
    {
      "cell_type": "code",
      "source": [
        "# Now when we prepared the data, let's do min_max scaling\n",
        "df_min_max_scaled=df_raw.copy()"
      ],
      "metadata": {
        "id": "Yh7fqHzqt-vq"
      },
      "execution_count": null,
      "outputs": []
    },
    {
      "cell_type": "code",
      "source": [
        "# Apply min_max_scaling\n",
        "for column in df_min_max_scaled.columns[:-1]:\n",
        "    df_min_max_scaled[column] = (df_min_max_scaled[column] - df_min_max_scaled[column].min()) / (df_min_max_scaled[column].max() - df_min_max_scaled[column].min())"
      ],
      "metadata": {
        "id": "oLFbO0_at-vq"
      },
      "execution_count": null,
      "outputs": []
    },
    {
      "cell_type": "code",
      "source": [
        "df_min_max_scaled"
      ],
      "metadata": {
        "id": "NhQTLoF2t-vq"
      },
      "execution_count": null,
      "outputs": []
    },
    {
      "cell_type": "code",
      "source": [
        "# Let's check how balanced our dataset is\n",
        "up=sum([df_min_max_scaled['label']==0.0][0])\n",
        "down=sum([df_min_max_scaled['label']==1.0][0])\n",
        "static=sum([df_min_max_scaled['label']==2.0][0])\n",
        "all=up+down+static\n",
        "\n",
        "print(f'upward movement is {round(up/all*100,2)}% of all labels')\n",
        "print(f'downward movement is {round(down/all*100,2)}% of all labels')\n",
        "print(f'static movement is {round(static/all*100,2)}% of all labels')"
      ],
      "metadata": {
        "id": "RyWB2fBut-vq"
      },
      "execution_count": null,
      "outputs": []
    },
    {
      "cell_type": "code",
      "source": [
        "# Let's get the features and the labels from the data.   \n",
        "full_features_min_max_unprep=df_min_max_scaled.iloc[:,:20].to_numpy()\n",
        "full_labels_min_max_unprep=df_min_max_scaled.iloc[:,20].to_numpy()"
      ],
      "metadata": {
        "id": "kqKkX0Irt-vq"
      },
      "execution_count": null,
      "outputs": []
    },
    {
      "cell_type": "code",
      "source": [
        "file_path_full_features_min_max_unprep='/content/drive/MyDrive/Colab Notebooks/Limited order book Forecasting/Datasets/Forex/Full_Features_min_max/full_features_min_max_unprep_9_10.npy'\n",
        "file_path_full_labels_min_max_unprep='/content/drive/MyDrive/Colab Notebooks/Limited order book Forecasting/Datasets/Forex/Full_Features_min_max/full_labels_min_max_unprep_9_10.npy'\n",
        "\n",
        "np.save(file_path_full_features_min_max_unprep, full_features_min_max_unprep)\n",
        "np.save(file_path_full_labels_min_max_unprep, full_labels_min_max_unprep)"
      ],
      "metadata": {
        "id": "_Sr6zb21t-vq"
      },
      "execution_count": null,
      "outputs": []
    },
    {
      "cell_type": "code",
      "source": [
        "# Let's check data types of both arrays\n",
        "print(full_features_min_max_unprep.dtype)\n",
        "print(full_labels_min_max_unprep.dtype)"
      ],
      "metadata": {
        "id": "nyvDIN4Pt-vq"
      },
      "execution_count": null,
      "outputs": []
    },
    {
      "cell_type": "code",
      "source": [
        "# Let's print the shapes of features and labels\n",
        "print(full_features_min_max_unprep.shape)\n",
        "print(full_labels_min_max_unprep.shape)"
      ],
      "metadata": {
        "id": "L5d73oMUt-vr"
      },
      "execution_count": null,
      "outputs": []
    },
    {
      "cell_type": "code",
      "source": [
        "# Number of equity ticks per sample fed to model \n",
        "T=100"
      ],
      "metadata": {
        "id": "i31PtHXmt-vr"
      },
      "execution_count": null,
      "outputs": []
    },
    {
      "cell_type": "code",
      "source": [
        "# Output Directory and filename pattern to record TFR shards to\n",
        "out_dir='/content/drive/MyDrive/Colab Notebooks/Limited order book Forecasting/Datasets/Forex/Prepared_Dataset_MinMax_TFR_9_10_split_by_20/'\n",
        "filename=\"Prepared_Dataset_Forex\"\n",
        "\n",
        "# Total size of transformed dataset\n",
        "total_num_samples=(len(full_features_min_max_unprep)-T+1)\n",
        "print(f'The total size of our data set is {total_num_samples}')\n",
        "# We want to have ~5% of data per shard to make it convinient \n",
        "# to change percentage split when reading the data into train, validation and\n",
        "# test datasets  \n",
        "max_samples_per_file=int(np.ceil(total_num_samples/20))\n",
        "max_samples_per_file\n",
        "print(f'The maximum amount of samples per shard is {max_samples_per_file}')"
      ],
      "metadata": {
        "id": "YMrvMfGRvl2U"
      },
      "execution_count": null,
      "outputs": []
    },
    {
      "cell_type": "code",
      "source": [
        "write_dataset_to_tfr_shards(full_features_min_max_unprep, \n",
        "                            full_labels_min_max_unprep, T,\n",
        "                            max_samples_per_file, filename,out_dir)"
      ],
      "metadata": {
        "id": "nEzgElG7vl2h"
      },
      "execution_count": null,
      "outputs": []
    },
    {
      "cell_type": "markdown",
      "source": [
        "!!! There was a mistake in function **data_preparation_forex**, so labels were changed to 0 - down, 1 - static, 2 - up. For more details read  explanation above the function. !!!"
      ],
      "metadata": {
        "id": "z8Zjbx3JM3V6"
      }
    }
  ]
}