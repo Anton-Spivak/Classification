{
  "cells": [
    {
      "cell_type": "markdown",
      "metadata": {
        "id": "Q91KqmCRu64D"
      },
      "source": [
        "# **Street View Housing Number Digit Recognition**\n",
        "\n",
        "--------------\n",
        "## **Context** \n",
        "--------------\n",
        "\n",
        "One of the most interesting tasks in deep learning is to recognize objects in natural scenes. The ability to process visual information using machine learning algorithms can be very useful as demonstrated in various applications.\n",
        "\n",
        "The SVHN dataset contains over 600,000 labeled digits cropped from street-level photos. It is one of the most popular image recognition datasets. It has been used in neural networks created by Google to improve the map quality by automatically transcribing the address numbers from a patch of pixels. The transcribed number with a known street address helps pinpoint the location of the building it represents. \n",
        "\n",
        "----------------\n",
        "## **Objective**\n",
        "----------------\n",
        "\n",
        "To build a neural network model that can recognize the digits in the images. \n",
        "\n",
        "-------------\n",
        "## **Dataset**\n",
        "-------------\n",
        "It's a subset of the original data to save some computation time. The dataset is in .h5 file."
      ]
    },
    {
      "cell_type": "markdown",
      "metadata": {
        "id": "8z2Z7-OAs8QG"
      },
      "source": [
        "## **Mount the drive**"
      ]
    },
    {
      "cell_type": "code",
      "execution_count": null,
      "metadata": {
        "colab": {
          "base_uri": "https://localhost:8080/"
        },
        "id": "03lDyQUuef7z",
        "outputId": "794c0c09-f25c-4234-d467-dab0d9fe333a"
      },
      "outputs": [
        {
          "output_type": "stream",
          "name": "stdout",
          "text": [
            "Mounted at /content/drive\n"
          ]
        }
      ],
      "source": [
        "from google.colab import drive\n",
        "\n",
        "drive.mount('/content/drive')"
      ]
    },
    {
      "cell_type": "markdown",
      "metadata": {
        "id": "C8U3DUa3eNsT"
      },
      "source": [
        "## **Importing the necessary libraries**"
      ]
    },
    {
      "cell_type": "code",
      "execution_count": null,
      "metadata": {
        "id": "-dVzeuF3eQx1"
      },
      "outputs": [],
      "source": [
        "import numpy as np\n",
        "\n",
        "import pandas as pd\n",
        "\n",
        "import matplotlib.pyplot as plt\n",
        "from IPython.display import set_matplotlib_formats\n",
        "set_matplotlib_formats('svg')\n",
        "\n",
        "import seaborn as sns\n",
        "\n",
        "from sklearn.model_selection import train_test_split\n",
        "\n",
        "from sklearn.preprocessing import MinMaxScaler\n",
        "\n",
        "import tensorflow as tf\n",
        "\n",
        "from tensorflow.keras.models import Sequential\n",
        "\n",
        "from tensorflow.keras.layers import Dense, Dropout, Activation, BatchNormalization\n",
        "\n",
        "from tensorflow.keras.losses import categorical_crossentropy\n",
        "\n",
        "from tensorflow.keras.optimizers import Adam\n",
        "\n",
        "from tensorflow.keras.utils import to_categorical"
      ]
    },
    {
      "cell_type": "markdown",
      "metadata": {
        "id": "8lsux2ZwyTTR"
      },
      "source": [
        "## **Loading the dataset**"
      ]
    },
    {
      "cell_type": "code",
      "execution_count": null,
      "metadata": {
        "id": "BApX9qgNsqV0",
        "scrolled": true
      },
      "outputs": [],
      "source": [
        "import h5py\n",
        "\n",
        "# Opening the file\n",
        "\n",
        "h5f = h5py.File('/content/drive/MyDrive/Colab Notebooks/SVHN Digit Recognition/SVHN_single_grey1.h5', 'r')\n",
        "\n",
        "# Loading the training and the test datasets\n",
        "\n",
        "X_train = h5f['X_train'][:]\n",
        "\n",
        "y_train = h5f['y_train'][:]\n",
        "\n",
        "X_test = h5f['X_test'][:]\n",
        "\n",
        "y_test = h5f['y_test'][:]\n",
        "\n",
        "\n",
        "# Closing the file\n",
        "\n",
        "h5f.close()"
      ]
    },
    {
      "cell_type": "markdown",
      "metadata": {
        "id": "hVe0CYpUgj7w"
      },
      "source": [
        "Let's check the number of images in the training and the testing dataset."
      ]
    },
    {
      "cell_type": "code",
      "execution_count": null,
      "metadata": {
        "colab": {
          "base_uri": "https://localhost:8080/"
        },
        "id": "y3lwKpOefkpA",
        "outputId": "6c751a55-ff20-4c9a-f4fd-76f1cafce7b1"
      },
      "outputs": [
        {
          "output_type": "execute_result",
          "data": {
            "text/plain": [
              "(42000, 18000)"
            ]
          },
          "metadata": {},
          "execution_count": 5
        }
      ],
      "source": [
        "len(X_train), len(X_test)"
      ]
    },
    {
      "cell_type": "markdown",
      "metadata": {
        "id": "akTUOfLlgwoM"
      },
      "source": [
        "**Observation:**\n",
        "- There are 42,000 images in the training data and 18,000 images in the testing data. "
      ]
    },
    {
      "cell_type": "markdown",
      "metadata": {
        "id": "kxODV6HKykuc"
      },
      "source": [
        "## **Visualizing images**\n",
        "\n",
        "- Let's use X_train to visualize the first 10 images.\n",
        "- Let's use Y_train to print the first 10 labels."
      ]
    },
    {
      "cell_type": "code",
      "execution_count": null,
      "metadata": {
        "colab": {
          "base_uri": "https://localhost:8080/",
          "height": 141
        },
        "id": "Bvsc8ytHsqWD",
        "outputId": "4b3338ca-c594-4eb7-e59c-52f7f509e416"
      },
      "outputs": [
        {
          "output_type": "display_data",
          "data": {
            "text/plain": [
              "<Figure size 720x72 with 10 Axes>"
            ],
            "image/svg+xml": "<?xml version=\"1.0\" encoding=\"utf-8\" standalone=\"no\"?>\n<!DOCTYPE svg PUBLIC \"-//W3C//DTD SVG 1.1//EN\"\n  \"http://www.w3.org/Graphics/SVG/1.1/DTD/svg11.dtd\">\n<!-- Created with matplotlib (https://matplotlib.org/) -->\n<svg height=\"61.688136pt\" version=\"1.1\" viewBox=\"0 0 572.4 61.688136\" width=\"572.4pt\" xmlns=\"http://www.w3.org/2000/svg\" xmlns:xlink=\"http://www.w3.org/1999/xlink\">\n <defs>\n  <style type=\"text/css\">\n*{stroke-linecap:butt;stroke-linejoin:round;}\n  </style>\n </defs>\n <g id=\"figure_1\">\n  <g id=\"patch_1\">\n   <path d=\"M 0 61.688136 \nL 572.4 61.688136 \nL 572.4 0 \nL 0 0 \nz\n\" style=\"fill:none;\"/>\n  </g>\n  <g id=\"axes_1\">\n   <g clip-path=\"url(#pc4e3a8956b)\">\n    <image height=\"48\" id=\"image7c263ad433\" transform=\"scale(1 -1)translate(0 -48)\" width=\"48\" x=\"7.2\" xlink:href=\"data:image/png;base64,\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\" y=\"-6.488136\"/>\n   </g>\n  </g>\n  <g id=\"axes_2\">\n   <g clip-path=\"url(#p882ac3ffac)\">\n    <image height=\"48\" id=\"imagefc9c774860\" transform=\"scale(1 -1)translate(0 -48)\" width=\"48\" x=\"63.945763\" xlink:href=\"data:image/png;base64,\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\" y=\"-6.488136\"/>\n   </g>\n  </g>\n  <g id=\"axes_3\">\n   <g clip-path=\"url(#pf336553b01)\">\n    <image height=\"48\" id=\"imagedac26eec46\" transform=\"scale(1 -1)translate(0 -48)\" width=\"48\" x=\"120.691525\" xlink:href=\"data:image/png;base64,\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\" y=\"-6.488136\"/>\n   </g>\n  </g>\n  <g id=\"axes_4\">\n   <g clip-path=\"url(#pe67ba414cc)\">\n    <image height=\"48\" id=\"image7c69e7b6c0\" transform=\"scale(1 -1)translate(0 -48)\" width=\"48\" x=\"177.437288\" xlink:href=\"data:image/png;base64,\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\" y=\"-6.488136\"/>\n   </g>\n  </g>\n  <g id=\"axes_5\">\n   <g clip-path=\"url(#p9e2e97ac44)\">\n    <image height=\"48\" id=\"image1042a37dc5\" transform=\"scale(1 -1)translate(0 -48)\" width=\"48\" x=\"234.183051\" xlink:href=\"data:image/png;base64,\niVBORw0KGgoAAAANSUhEUgAAADAAAAAwCAYAAABXAvmHAAAABHNCSVQICAgIfAhkiAAAB15JREFUaIGFWduO2zoMHFsX2ykK9P+/pp9T9KXpAnF8lc9DOtwxV84RIGQ3tiRehkNSaX7+/Hns+45t2/Dx8YFpmrCuK2KMGIYB3759w48fP9D3PbquQ9M0GMcR4zjifr9j33eUUhBCQAgBOWfcbjfknBFCAACs64p5nvH792/8/fsXHx8feDwe2LYN67riz58/uN/vuN/v+PXrF8ZxxOPxwP1+xzzP2LYNbdsixmiz6zrknBH3fQdnKQXHcaCUYpPKbduGEAKapjm9z9k0Ddq2te/3fUfbtmiaBgDQtq0pyX34nQoWY7Tv+VlKsb24jvOLArVJS3HRtm3QdcdxQIdaDIAdrArw2XEcJyVyzvY331UD6QwhvBSgQPykQMdx2PcxRpRSAODkKT7nhsdx2P8AEEI4GYgjpWSCpJSQc0bf9xiGAfu+AwDmeUaMEeu62l4hBHs/xohYg81xHKdJC9KaCg2uAYAY4+ldGoH782+Fg0KJwnVdh23b0HWdnUkFPNyih4tXRoceRgtTSD7nM32uivih0KACVCLnbDIoBNu2/fTAuq4GBcKBLosxmju99dVqpRR0XYdhGDAMA2632xf8UhCFnicAWjilZB5Qpb31c86INdYhg6hX9HAqE2O0ICR+h2FA3/dmKRrAs5Lu58/QyaFeJUGklF4KqFW8ArqJbkoFKNDtdjMFuq4zqty2DQAsV7yDl06vmCrCs1NKiBRUYeIpyz/jzDmb679//27JjkmsaRqs64rn8wkAn8nnH0XWYEUIM/coVVMuABYv0bvVW8azTM7ZqJIWSSmdPMBkRAUIoZSS4ZdnUjAayHtaEywDWfNKVNrzuFP6o6W7rkMpBcuy2KEhBCs7brfbyYMkiWVZjGFqClBhnqfkQQMSLdy7aZoXjSr2/VRq1cM0oXCqcDzkOA7Dq8ZAjNES3rIsBhtmfoWQZytVqPVWV8vopz7Tv32S89/pUMXeDcX6u5gspbwUqG1wteE7xTwVXg2l4ndKXhVwqkRU/LHe8TjjoZ5utQZa19UKvpwzmqYxLGsZoe5n/OScbX3O2aBDmLEs91VAKQWRmtS05d+0piY7YpZCMEh5KBPcO+F9ZakxonR95fnjOF6JTN1XmwoLDW6lUlVAYfKurqrBwxtQYadG4J5RN/cLa4r4hMO1z+fTYENGIqsoy2hZfVXj+9jwRlAkRKUp3VTd6a2jG7NDY9uo2E8p4TgOw7fSoyrzjtFqQ70ZmSnfubWmCN2pCnjleNCyLCcvaIngGalWruvQeATw8gCFZsbVppnZk1MV0QS3LMupxKCLAWCaJszzjHmeTZFlWQyKOtQLWjaoZzTgvwSxUqr2pTqvqkmt8/d9txZT39Ecodb07PJuzanM9outSPqnAJlFbxNqwr9LXP5wX//7OFRj1Ept9VR8PB4nAU8d/z8l+r63ElkP0+zMOimldCqrp2kyiI3jiGmaDD7MFSklKw4Jq3meT++qITRvnGLA1x982WNQY4YQUO/Vgt6XI7pWKVqf165sfO9yaur9LcSV8BrEvp73gecVuRLEZ2y1up6ha5qm+SwlPFb9y5pkVDEKQmupN9QjVxUqlaHFlWq1iWHjpN0eALS+/tBN1TNq5VpZ62/rfP/g6xuFk79UYAZXr365D+I1pA/e2qYctTJD3ewzLGGgXqt5Q4lB91ADqNDaHMW+77+UCTVMqjvJWpqReaOtEEgpVStchZcWhl75mgIU3hTgIbVR4219t5a8PGf792uJzK9R43FcydhqeVA7rHY/o9BR3DMe3iW3/xPUw0qJQdFhFfT/WbR2le6V88GrgXj1vt6IX1lalVQDAZ/JLCr9+QV8psKxvfMJzTMJP1mtXt12qHK1YXz/767Jz6hW9YGrwvhg9kGp3lOvqcs9NV990sK1ZKhFZtu2iPM8VyHEw/XeRhsQ/aWF363rinEcT7UVk1PNC8pg/F/7AT2DP4Do7LrudbXIobWI52NSHRt4vTnzwa6eU69qoaj9hNY82r155tEi0zzAJpyRrwenlL4EKn811E6Ogmh9RIMonfq+grfg3INV67Isp0bnCkIhBET9FaRtW2MFCslel79XAbBSd5omPJ9P64WBVxelMaBXK2rFtm1PMeENxHeZvPTq8gQvX1nW6IzwodVpId+IKN6XZTn9TswbjFqG94WcJwstJjULN03zGQOaaWt10bZtWJbFglWDmgoQtxSeCvjLWw9VMhcNw++53sul9dgXBfiSXlJxcy7mIeRnQq6UYp0XFWd9NM+zwU2benpGFSCMr6oApe6oAcQXGGBa8/MwKuCLLW5IONBbhJ6HnRqNMPXCelpXGasNja8U1Tt6BaJWUq8pHLiWxKAKeCFVWBXSe8GfF0J4tZTcgBxLgYljhUit7vebkw552eUvsXRf0q8qrF6hN4kIJjX7vc1fLCn+Nep9I1+DjreWlhGa2elhrtHeggmPRvT41xhNKX0q4G8U9GXtQRm8am0PBU1kvqPjfhTcsw0V992erqdxU0r4DwL2jmKcImmBAAAAAElFTkSuQmCC\" y=\"-6.488136\"/>\n   </g>\n  </g>\n  <g id=\"axes_6\">\n   <g clip-path=\"url(#pd38554a896)\">\n    <image height=\"48\" id=\"image5eb80cda4a\" transform=\"scale(1 -1)translate(0 -48)\" width=\"48\" x=\"290.928814\" xlink:href=\"data:image/png;base64,\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\" y=\"-6.488136\"/>\n   </g>\n  </g>\n  <g id=\"axes_7\">\n   <g clip-path=\"url(#pf934e44043)\">\n    <image height=\"48\" id=\"image9b8a2213e1\" transform=\"scale(1 -1)translate(0 -48)\" width=\"48\" x=\"347.674576\" xlink:href=\"data:image/png;base64,\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\" y=\"-6.488136\"/>\n   </g>\n  </g>\n  <g id=\"axes_8\">\n   <g clip-path=\"url(#pb9072795a2)\">\n    <image height=\"48\" id=\"imagef0094f114f\" transform=\"scale(1 -1)translate(0 -48)\" width=\"48\" x=\"404.420339\" xlink:href=\"data:image/png;base64,\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\" y=\"-6.488136\"/>\n   </g>\n  </g>\n  <g id=\"axes_9\">\n   <g clip-path=\"url(#p0f1bd320d3)\">\n    <image height=\"48\" id=\"image96b303d86e\" transform=\"scale(1 -1)translate(0 -48)\" width=\"48\" x=\"461.166102\" xlink:href=\"data:image/png;base64,\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\" y=\"-6.488136\"/>\n   </g>\n  </g>\n  <g id=\"axes_10\">\n   <g clip-path=\"url(#p6a02be4d98)\">\n    <image height=\"48\" id=\"image690d01249b\" transform=\"scale(1 -1)translate(0 -48)\" width=\"48\" x=\"517.911864\" xlink:href=\"data:image/png;base64,\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\" y=\"-6.488136\"/>\n   </g>\n  </g>\n </g>\n <defs>\n  <clipPath id=\"pc4e3a8956b\">\n   <rect height=\"47.288136\" width=\"47.288136\" x=\"7.2\" y=\"7.2\"/>\n  </clipPath>\n  <clipPath id=\"p882ac3ffac\">\n   <rect height=\"47.288136\" width=\"47.288136\" x=\"63.945763\" y=\"7.2\"/>\n  </clipPath>\n  <clipPath id=\"pf336553b01\">\n   <rect height=\"47.288136\" width=\"47.288136\" x=\"120.691525\" y=\"7.2\"/>\n  </clipPath>\n  <clipPath id=\"pe67ba414cc\">\n   <rect height=\"47.288136\" width=\"47.288136\" x=\"177.437288\" y=\"7.2\"/>\n  </clipPath>\n  <clipPath id=\"p9e2e97ac44\">\n   <rect height=\"47.288136\" width=\"47.288136\" x=\"234.183051\" y=\"7.2\"/>\n  </clipPath>\n  <clipPath id=\"pd38554a896\">\n   <rect height=\"47.288136\" width=\"47.288136\" x=\"290.928814\" y=\"7.2\"/>\n  </clipPath>\n  <clipPath id=\"pf934e44043\">\n   <rect height=\"47.288136\" width=\"47.288136\" x=\"347.674576\" y=\"7.2\"/>\n  </clipPath>\n  <clipPath id=\"pb9072795a2\">\n   <rect height=\"47.288136\" width=\"47.288136\" x=\"404.420339\" y=\"7.2\"/>\n  </clipPath>\n  <clipPath id=\"p0f1bd320d3\">\n   <rect height=\"47.288136\" width=\"47.288136\" x=\"461.166102\" y=\"7.2\"/>\n  </clipPath>\n  <clipPath id=\"p6a02be4d98\">\n   <rect height=\"47.288136\" width=\"47.288136\" x=\"517.911864\" y=\"7.2\"/>\n  </clipPath>\n </defs>\n</svg>\n"
          },
          "metadata": {
            "needs_background": "light"
          }
        },
        {
          "output_type": "stream",
          "name": "stdout",
          "text": [
            "label for each of the above image: [2 6 7 4 4 0 3 0 7 3]\n"
          ]
        }
      ],
      "source": [
        "# Visualizing the first 10 images in the dataset and printing their labels\n",
        "\n",
        "plt.figure(figsize = (10, 1))\n",
        "\n",
        "for i in range(10):\n",
        "\n",
        "    plt.subplot(1, 10, i+1)\n",
        "\n",
        "    plt.imshow(X_train[i], cmap = \"gray\")\n",
        "\n",
        "    plt.axis('off')\n",
        "\n",
        "plt.show()\n",
        "\n",
        "print('label for each of the above image: %s' % (y_train[0:10]))"
      ]
    },
    {
      "cell_type": "markdown",
      "metadata": {
        "id": "kzoyeXHOy80N"
      },
      "source": [
        "## **Data preparation**"
      ]
    },
    {
      "cell_type": "code",
      "execution_count": null,
      "metadata": {
        "colab": {
          "base_uri": "https://localhost:8080/"
        },
        "id": "NqndzQXng9rL",
        "outputId": "17c91218-f864-4538-d296-fa1e076e0bb9"
      },
      "outputs": [
        {
          "output_type": "stream",
          "name": "stdout",
          "text": [
            "Shape: (32, 32)\n",
            "\n",
            "First image:\n",
            " [[ 33.0704  30.2601  26.852  ...  71.4471  58.2204  42.9939]\n",
            " [ 25.2283  25.5533  29.9765 ... 113.0209 103.3639  84.2949]\n",
            " [ 26.2775  22.6137  40.4763 ... 113.3028 121.775  115.4228]\n",
            " ...\n",
            " [ 28.5502  36.212   45.0801 ...  24.1359  25.0927  26.0603]\n",
            " [ 38.4352  26.4733  23.2717 ...  28.1094  29.4683  30.0661]\n",
            " [ 50.2984  26.0773  24.0389 ...  49.6682  50.853   53.0377]]\n"
          ]
        }
      ],
      "source": [
        "# Shape and the array of pixels for the first image\n",
        "\n",
        "print(\"Shape:\", X_train[0].shape)\n",
        "\n",
        "print()\n",
        "\n",
        "print(\"First image:\\n\", X_train[0])"
      ]
    },
    {
      "cell_type": "code",
      "execution_count": null,
      "metadata": {
        "id": "D9YPwf9ysqWU"
      },
      "outputs": [],
      "source": [
        "# Reshaping the dataset to flatten images\n",
        "X_train = X_train.reshape(X_train.shape[0], 1024)\n",
        "\n",
        "X_test = X_test.reshape(X_test.shape[0], 1024)"
      ]
    },
    {
      "cell_type": "code",
      "execution_count": null,
      "metadata": {
        "id": "q_yUUTp_mUzB"
      },
      "outputs": [],
      "source": [
        "# Normalizing inputs from 0-255 to 0-1\n",
        "\n",
        "X_train = X_train/255\n",
        "\n",
        "X_test = X_test/255"
      ]
    },
    {
      "cell_type": "code",
      "execution_count": null,
      "metadata": {
        "colab": {
          "base_uri": "https://localhost:8080/"
        },
        "id": "t7FSqOpamWkH",
        "outputId": "9fe7c0cd-ef27-402f-c59f-ad11959625f5"
      },
      "outputs": [
        {
          "output_type": "stream",
          "name": "stdout",
          "text": [
            "Training set: (42000, 1024) (42000,)\n",
            "Test set: (18000, 1024) (18000,)\n"
          ]
        }
      ],
      "source": [
        "# Let's check the new shape \n",
        "\n",
        "print('Training set:', X_train.shape, y_train.shape)\n",
        "\n",
        "print('Test set:', X_test.shape, y_test.shape)"
      ]
    },
    {
      "cell_type": "code",
      "execution_count": null,
      "metadata": {
        "colab": {
          "base_uri": "https://localhost:8080/"
        },
        "id": "zL0lYER4sqWw",
        "outputId": "e397ba49-cd00-460c-b885-058a07676dca"
      },
      "outputs": [
        {
          "output_type": "execute_result",
          "data": {
            "text/plain": [
              "array([[0., 1., 0., ..., 0., 0., 0.],\n",
              "       [0., 0., 0., ..., 1., 0., 0.],\n",
              "       [0., 0., 1., ..., 0., 0., 0.],\n",
              "       ...,\n",
              "       [0., 0., 0., ..., 1., 0., 0.],\n",
              "       [0., 0., 0., ..., 0., 0., 1.],\n",
              "       [0., 0., 1., ..., 0., 0., 0.]], dtype=float32)"
            ]
          },
          "metadata": {},
          "execution_count": 11
        }
      ],
      "source": [
        "# Let's one-hot encode the output\n",
        "\n",
        "y_train = to_categorical(y_train)\n",
        "\n",
        "y_test = to_categorical(y_test)\n",
        "\n",
        "# Test labels\n",
        "\n",
        "y_test"
      ]
    },
    {
      "cell_type": "markdown",
      "metadata": {
        "id": "yH-gVrzuByNA"
      },
      "source": [
        "## **Model Building**\n",
        "\n",
        "Now that we have done the data preprocessing, let's build an ANN model."
      ]
    },
    {
      "cell_type": "code",
      "execution_count": null,
      "metadata": {
        "id": "BcKRwrGn0XIL"
      },
      "outputs": [],
      "source": [
        "# Fixing the seed for random number generators\n",
        "\n",
        "np.random.seed(42)\n",
        "\n",
        "import random\n",
        "\n",
        "random.seed(42)\n",
        "\n",
        "tf.random.set_seed(42)"
      ]
    },
    {
      "cell_type": "code",
      "execution_count": null,
      "metadata": {
        "id": "Cmi81Gr5sqW-"
      },
      "outputs": [],
      "source": [
        "# Let's build the first model\n",
        "\n",
        "def nn_model_1():\n",
        "\n",
        "    model = Sequential() \n",
        "    \n",
        "    model.add(Dense(64, input_shape=(1024,),activation='relu'))\n",
        "\n",
        "    model.add(Dense(32,activation='relu'))\n",
        "\n",
        "    model.add(Dense(10,activation='softmax'))\n",
        "      \n",
        "    # Compilation of the model\n",
        "\n",
        "    model.compile(optimizer='adam',loss='categorical_crossentropy',metrics=['accuracy'])\n",
        "    \n",
        "    return model"
      ]
    },
    {
      "cell_type": "code",
      "execution_count": null,
      "metadata": {
        "id": "bGCUI_xsImnH"
      },
      "outputs": [],
      "source": [
        "model_1 = nn_model_1()"
      ]
    },
    {
      "cell_type": "code",
      "execution_count": null,
      "metadata": {
        "colab": {
          "base_uri": "https://localhost:8080/"
        },
        "id": "ckJsLdmdQadZ",
        "outputId": "0afacc99-7c5e-4691-be82-7433ae78fd26"
      },
      "outputs": [
        {
          "output_type": "stream",
          "name": "stdout",
          "text": [
            "Model: \"sequential\"\n",
            "_________________________________________________________________\n",
            " Layer (type)                Output Shape              Param #   \n",
            "=================================================================\n",
            " dense (Dense)               (None, 64)                65600     \n",
            "                                                                 \n",
            " dense_1 (Dense)             (None, 32)                2080      \n",
            "                                                                 \n",
            " dense_2 (Dense)             (None, 10)                330       \n",
            "                                                                 \n",
            "=================================================================\n",
            "Total params: 68,010\n",
            "Trainable params: 68,010\n",
            "Non-trainable params: 0\n",
            "_________________________________________________________________\n"
          ]
        }
      ],
      "source": [
        "# Let's see the model summary\n",
        "\n",
        "model_1.summary()"
      ]
    },
    {
      "cell_type": "code",
      "execution_count": null,
      "metadata": {
        "colab": {
          "base_uri": "https://localhost:8080/"
        },
        "id": "3Fy3Dif_zcCk",
        "outputId": "ddccfdf8-d871-477e-92e6-088498606189"
      },
      "outputs": [
        {
          "output_type": "stream",
          "name": "stdout",
          "text": [
            "Epoch 1/20\n",
            "263/263 [==============================] - 4s 11ms/step - loss: 2.2993 - accuracy: 0.1179 - val_loss: 2.2594 - val_accuracy: 0.1463\n",
            "Epoch 2/20\n",
            "263/263 [==============================] - 2s 8ms/step - loss: 2.1130 - accuracy: 0.2276 - val_loss: 1.9376 - val_accuracy: 0.3279\n",
            "Epoch 3/20\n",
            "263/263 [==============================] - 1s 5ms/step - loss: 1.7953 - accuracy: 0.3824 - val_loss: 1.6499 - val_accuracy: 0.4551\n",
            "Epoch 4/20\n",
            "263/263 [==============================] - 1s 6ms/step - loss: 1.5726 - accuracy: 0.4828 - val_loss: 1.4957 - val_accuracy: 0.5094\n",
            "Epoch 5/20\n",
            "263/263 [==============================] - 1s 4ms/step - loss: 1.4604 - accuracy: 0.5268 - val_loss: 1.4267 - val_accuracy: 0.5357\n",
            "Epoch 6/20\n",
            "263/263 [==============================] - 1s 4ms/step - loss: 1.4008 - accuracy: 0.5503 - val_loss: 1.3652 - val_accuracy: 0.5613\n",
            "Epoch 7/20\n",
            "263/263 [==============================] - 1s 4ms/step - loss: 1.3588 - accuracy: 0.5682 - val_loss: 1.3282 - val_accuracy: 0.5799\n",
            "Epoch 8/20\n",
            "263/263 [==============================] - 1s 4ms/step - loss: 1.3239 - accuracy: 0.5810 - val_loss: 1.2951 - val_accuracy: 0.5931\n",
            "Epoch 9/20\n",
            "263/263 [==============================] - 1s 4ms/step - loss: 1.2967 - accuracy: 0.5946 - val_loss: 1.2838 - val_accuracy: 0.5963\n",
            "Epoch 10/20\n",
            "263/263 [==============================] - 1s 4ms/step - loss: 1.2779 - accuracy: 0.5994 - val_loss: 1.2624 - val_accuracy: 0.6029\n",
            "Epoch 11/20\n",
            "263/263 [==============================] - 1s 5ms/step - loss: 1.2604 - accuracy: 0.6049 - val_loss: 1.2670 - val_accuracy: 0.5923\n",
            "Epoch 12/20\n",
            "263/263 [==============================] - 1s 4ms/step - loss: 1.2382 - accuracy: 0.6123 - val_loss: 1.2291 - val_accuracy: 0.6170\n",
            "Epoch 13/20\n",
            "263/263 [==============================] - 1s 4ms/step - loss: 1.2287 - accuracy: 0.6166 - val_loss: 1.2327 - val_accuracy: 0.6144\n",
            "Epoch 14/20\n",
            "263/263 [==============================] - 1s 4ms/step - loss: 1.2176 - accuracy: 0.6197 - val_loss: 1.1992 - val_accuracy: 0.6255\n",
            "Epoch 15/20\n",
            "263/263 [==============================] - 1s 4ms/step - loss: 1.2087 - accuracy: 0.6244 - val_loss: 1.2110 - val_accuracy: 0.6237\n",
            "Epoch 16/20\n",
            "263/263 [==============================] - 1s 4ms/step - loss: 1.2027 - accuracy: 0.6259 - val_loss: 1.2247 - val_accuracy: 0.6152\n",
            "Epoch 17/20\n",
            "263/263 [==============================] - 1s 4ms/step - loss: 1.1894 - accuracy: 0.6296 - val_loss: 1.1941 - val_accuracy: 0.6274\n",
            "Epoch 18/20\n",
            "263/263 [==============================] - 1s 4ms/step - loss: 1.1865 - accuracy: 0.6305 - val_loss: 1.1803 - val_accuracy: 0.6310\n",
            "Epoch 19/20\n",
            "263/263 [==============================] - 1s 5ms/step - loss: 1.1783 - accuracy: 0.6338 - val_loss: 1.1853 - val_accuracy: 0.6289\n",
            "Epoch 20/20\n",
            "263/263 [==============================] - 1s 4ms/step - loss: 1.1752 - accuracy: 0.6346 - val_loss: 1.1880 - val_accuracy: 0.6277\n"
          ]
        }
      ],
      "source": [
        "# Let's train the model\n",
        "\n",
        "history_model_1 = model_1.fit(X_train,y_train,validation_split=0.2,verbose=1,epochs=20,batch_size=128)"
      ]
    },
    {
      "cell_type": "markdown",
      "metadata": {
        "id": "tKOckG-KPyLg"
      },
      "source": [
        "### **Model evaluation**"
      ]
    },
    {
      "cell_type": "code",
      "execution_count": null,
      "metadata": {
        "colab": {
          "base_uri": "https://localhost:8080/",
          "height": 680
        },
        "id": "lt77zgGMP4yw",
        "outputId": "c9c873d5-1559-485c-a3d9-3b41f42304f0"
      },
      "outputs": [
        {
          "output_type": "display_data",
          "data": {
            "text/plain": [
              "<Figure size 576x576 with 1 Axes>"
            ],
            "image/svg+xml": "<?xml version=\"1.0\" encoding=\"utf-8\" standalone=\"no\"?>\n<!DOCTYPE svg PUBLIC \"-//W3C//DTD SVG 1.1//EN\"\n  \"http://www.w3.org/Graphics/SVG/1.1/DTD/svg11.dtd\">\n<!-- Created with matplotlib (https://matplotlib.org/) -->\n<svg height=\"479.63625pt\" version=\"1.1\" viewBox=\"0 0 497.38125 479.63625\" width=\"497.38125pt\" xmlns=\"http://www.w3.org/2000/svg\" xmlns:xlink=\"http://www.w3.org/1999/xlink\">\n <defs>\n  <style type=\"text/css\">\n*{stroke-linecap:butt;stroke-linejoin:round;}\n  </style>\n </defs>\n <g id=\"figure_1\">\n  <g id=\"patch_1\">\n   <path d=\"M 0 479.63625 \nL 497.38125 479.63625 \nL 497.38125 0 \nL 0 0 \nz\n\" style=\"fill:none;\"/>\n  </g>\n  <g id=\"axes_1\">\n   <g id=\"patch_2\">\n    <path d=\"M 43.78125 442.08 \nL 490.18125 442.08 \nL 490.18125 7.2 \nL 43.78125 7.2 \nz\n\" style=\"fill:#ffffff;\"/>\n   </g>\n   <g id=\"matplotlib.axis_1\">\n    <g id=\"xtick_1\">\n     <g id=\"line2d_1\">\n      <defs>\n       <path d=\"M 0 0 \nL 0 3.5 \n\" id=\"mbbf90a51e6\" style=\"stroke:#000000;stroke-width:0.8;\"/>\n      </defs>\n      <g>\n       <use style=\"stroke:#000000;stroke-width:0.8;\" x=\"96.110437\" xlink:href=\"#mbbf90a51e6\" y=\"442.08\"/>\n      </g>\n     </g>\n     <g id=\"text_1\">\n      <!-- 2.5 -->\n      <defs>\n       <path d=\"M 19.1875 8.296875 \nL 53.609375 8.296875 \nL 53.609375 0 \nL 7.328125 0 \nL 7.328125 8.296875 \nQ 12.9375 14.109375 22.625 23.890625 \nQ 32.328125 33.6875 34.8125 36.53125 \nQ 39.546875 41.84375 41.421875 45.53125 \nQ 43.3125 49.21875 43.3125 52.78125 \nQ 43.3125 58.59375 39.234375 62.25 \nQ 35.15625 65.921875 28.609375 65.921875 \nQ 23.96875 65.921875 18.8125 64.3125 \nQ 13.671875 62.703125 7.8125 59.421875 \nL 7.8125 69.390625 \nQ 13.765625 71.78125 18.9375 73 \nQ 24.125 74.21875 28.421875 74.21875 \nQ 39.75 74.21875 46.484375 68.546875 \nQ 53.21875 62.890625 53.21875 53.421875 \nQ 53.21875 48.921875 51.53125 44.890625 \nQ 49.859375 40.875 45.40625 35.40625 \nQ 44.1875 33.984375 37.640625 27.21875 \nQ 31.109375 20.453125 19.1875 8.296875 \nz\n\" id=\"DejaVuSans-50\"/>\n       <path d=\"M 10.6875 12.40625 \nL 21 12.40625 \nL 21 0 \nL 10.6875 0 \nz\n\" id=\"DejaVuSans-46\"/>\n       <path d=\"M 10.796875 72.90625 \nL 49.515625 72.90625 \nL 49.515625 64.59375 \nL 19.828125 64.59375 \nL 19.828125 46.734375 \nQ 21.96875 47.46875 24.109375 47.828125 \nQ 26.265625 48.1875 28.421875 48.1875 \nQ 40.625 48.1875 47.75 41.5 \nQ 54.890625 34.8125 54.890625 23.390625 \nQ 54.890625 11.625 47.5625 5.09375 \nQ 40.234375 -1.421875 26.90625 -1.421875 \nQ 22.3125 -1.421875 17.546875 -0.640625 \nQ 12.796875 0.140625 7.71875 1.703125 \nL 7.71875 11.625 \nQ 12.109375 9.234375 16.796875 8.0625 \nQ 21.484375 6.890625 26.703125 6.890625 \nQ 35.15625 6.890625 40.078125 11.328125 \nQ 45.015625 15.765625 45.015625 23.390625 \nQ 45.015625 31 40.078125 35.4375 \nQ 35.15625 39.890625 26.703125 39.890625 \nQ 22.75 39.890625 18.8125 39.015625 \nQ 14.890625 38.140625 10.796875 36.28125 \nz\n\" id=\"DejaVuSans-53\"/>\n      </defs>\n      <g transform=\"translate(88.158874 456.678437)scale(0.1 -0.1)\">\n       <use xlink:href=\"#DejaVuSans-50\"/>\n       <use x=\"63.623047\" xlink:href=\"#DejaVuSans-46\"/>\n       <use x=\"95.410156\" xlink:href=\"#DejaVuSans-53\"/>\n      </g>\n     </g>\n    </g>\n    <g id=\"xtick_2\">\n     <g id=\"line2d_2\">\n      <g>\n       <use style=\"stroke:#000000;stroke-width:0.8;\" x=\"149.507566\" xlink:href=\"#mbbf90a51e6\" y=\"442.08\"/>\n      </g>\n     </g>\n     <g id=\"text_2\">\n      <!-- 5.0 -->\n      <defs>\n       <path d=\"M 31.78125 66.40625 \nQ 24.171875 66.40625 20.328125 58.90625 \nQ 16.5 51.421875 16.5 36.375 \nQ 16.5 21.390625 20.328125 13.890625 \nQ 24.171875 6.390625 31.78125 6.390625 \nQ 39.453125 6.390625 43.28125 13.890625 \nQ 47.125 21.390625 47.125 36.375 \nQ 47.125 51.421875 43.28125 58.90625 \nQ 39.453125 66.40625 31.78125 66.40625 \nz\nM 31.78125 74.21875 \nQ 44.046875 74.21875 50.515625 64.515625 \nQ 56.984375 54.828125 56.984375 36.375 \nQ 56.984375 17.96875 50.515625 8.265625 \nQ 44.046875 -1.421875 31.78125 -1.421875 \nQ 19.53125 -1.421875 13.0625 8.265625 \nQ 6.59375 17.96875 6.59375 36.375 \nQ 6.59375 54.828125 13.0625 64.515625 \nQ 19.53125 74.21875 31.78125 74.21875 \nz\n\" id=\"DejaVuSans-48\"/>\n      </defs>\n      <g transform=\"translate(141.556003 456.678437)scale(0.1 -0.1)\">\n       <use xlink:href=\"#DejaVuSans-53\"/>\n       <use x=\"63.623047\" xlink:href=\"#DejaVuSans-46\"/>\n       <use x=\"95.410156\" xlink:href=\"#DejaVuSans-48\"/>\n      </g>\n     </g>\n    </g>\n    <g id=\"xtick_3\">\n     <g id=\"line2d_3\">\n      <g>\n       <use style=\"stroke:#000000;stroke-width:0.8;\" x=\"202.904695\" xlink:href=\"#mbbf90a51e6\" y=\"442.08\"/>\n      </g>\n     </g>\n     <g id=\"text_3\">\n      <!-- 7.5 -->\n      <defs>\n       <path d=\"M 8.203125 72.90625 \nL 55.078125 72.90625 \nL 55.078125 68.703125 \nL 28.609375 0 \nL 18.3125 0 \nL 43.21875 64.59375 \nL 8.203125 64.59375 \nz\n\" id=\"DejaVuSans-55\"/>\n      </defs>\n      <g transform=\"translate(194.953132 456.678437)scale(0.1 -0.1)\">\n       <use xlink:href=\"#DejaVuSans-55\"/>\n       <use x=\"63.623047\" xlink:href=\"#DejaVuSans-46\"/>\n       <use x=\"95.410156\" xlink:href=\"#DejaVuSans-53\"/>\n      </g>\n     </g>\n    </g>\n    <g id=\"xtick_4\">\n     <g id=\"line2d_4\">\n      <g>\n       <use style=\"stroke:#000000;stroke-width:0.8;\" x=\"256.301824\" xlink:href=\"#mbbf90a51e6\" y=\"442.08\"/>\n      </g>\n     </g>\n     <g id=\"text_4\">\n      <!-- 10.0 -->\n      <defs>\n       <path d=\"M 12.40625 8.296875 \nL 28.515625 8.296875 \nL 28.515625 63.921875 \nL 10.984375 60.40625 \nL 10.984375 69.390625 \nL 28.421875 72.90625 \nL 38.28125 72.90625 \nL 38.28125 8.296875 \nL 54.390625 8.296875 \nL 54.390625 0 \nL 12.40625 0 \nz\n\" id=\"DejaVuSans-49\"/>\n      </defs>\n      <g transform=\"translate(245.169012 456.678437)scale(0.1 -0.1)\">\n       <use xlink:href=\"#DejaVuSans-49\"/>\n       <use x=\"63.623047\" xlink:href=\"#DejaVuSans-48\"/>\n       <use x=\"127.246094\" xlink:href=\"#DejaVuSans-46\"/>\n       <use x=\"159.033203\" xlink:href=\"#DejaVuSans-48\"/>\n      </g>\n     </g>\n    </g>\n    <g id=\"xtick_5\">\n     <g id=\"line2d_5\">\n      <g>\n       <use style=\"stroke:#000000;stroke-width:0.8;\" x=\"309.698953\" xlink:href=\"#mbbf90a51e6\" y=\"442.08\"/>\n      </g>\n     </g>\n     <g id=\"text_5\">\n      <!-- 12.5 -->\n      <g transform=\"translate(298.566141 456.678437)scale(0.1 -0.1)\">\n       <use xlink:href=\"#DejaVuSans-49\"/>\n       <use x=\"63.623047\" xlink:href=\"#DejaVuSans-50\"/>\n       <use x=\"127.246094\" xlink:href=\"#DejaVuSans-46\"/>\n       <use x=\"159.033203\" xlink:href=\"#DejaVuSans-53\"/>\n      </g>\n     </g>\n    </g>\n    <g id=\"xtick_6\">\n     <g id=\"line2d_6\">\n      <g>\n       <use style=\"stroke:#000000;stroke-width:0.8;\" x=\"363.096083\" xlink:href=\"#mbbf90a51e6\" y=\"442.08\"/>\n      </g>\n     </g>\n     <g id=\"text_6\">\n      <!-- 15.0 -->\n      <g transform=\"translate(351.96327 456.678437)scale(0.1 -0.1)\">\n       <use xlink:href=\"#DejaVuSans-49\"/>\n       <use x=\"63.623047\" xlink:href=\"#DejaVuSans-53\"/>\n       <use x=\"127.246094\" xlink:href=\"#DejaVuSans-46\"/>\n       <use x=\"159.033203\" xlink:href=\"#DejaVuSans-48\"/>\n      </g>\n     </g>\n    </g>\n    <g id=\"xtick_7\">\n     <g id=\"line2d_7\">\n      <g>\n       <use style=\"stroke:#000000;stroke-width:0.8;\" x=\"416.493212\" xlink:href=\"#mbbf90a51e6\" y=\"442.08\"/>\n      </g>\n     </g>\n     <g id=\"text_7\">\n      <!-- 17.5 -->\n      <g transform=\"translate(405.360399 456.678437)scale(0.1 -0.1)\">\n       <use xlink:href=\"#DejaVuSans-49\"/>\n       <use x=\"63.623047\" xlink:href=\"#DejaVuSans-55\"/>\n       <use x=\"127.246094\" xlink:href=\"#DejaVuSans-46\"/>\n       <use x=\"159.033203\" xlink:href=\"#DejaVuSans-53\"/>\n      </g>\n     </g>\n    </g>\n    <g id=\"xtick_8\">\n     <g id=\"line2d_8\">\n      <g>\n       <use style=\"stroke:#000000;stroke-width:0.8;\" x=\"469.890341\" xlink:href=\"#mbbf90a51e6\" y=\"442.08\"/>\n      </g>\n     </g>\n     <g id=\"text_8\">\n      <!-- 20.0 -->\n      <g transform=\"translate(458.757528 456.678437)scale(0.1 -0.1)\">\n       <use xlink:href=\"#DejaVuSans-50\"/>\n       <use x=\"63.623047\" xlink:href=\"#DejaVuSans-48\"/>\n       <use x=\"127.246094\" xlink:href=\"#DejaVuSans-46\"/>\n       <use x=\"159.033203\" xlink:href=\"#DejaVuSans-48\"/>\n      </g>\n     </g>\n    </g>\n    <g id=\"text_9\">\n     <!-- Epochs -->\n     <defs>\n      <path d=\"M 9.8125 72.90625 \nL 55.90625 72.90625 \nL 55.90625 64.59375 \nL 19.671875 64.59375 \nL 19.671875 43.015625 \nL 54.390625 43.015625 \nL 54.390625 34.71875 \nL 19.671875 34.71875 \nL 19.671875 8.296875 \nL 56.78125 8.296875 \nL 56.78125 0 \nL 9.8125 0 \nz\n\" id=\"DejaVuSans-69\"/>\n      <path d=\"M 18.109375 8.203125 \nL 18.109375 -20.796875 \nL 9.078125 -20.796875 \nL 9.078125 54.6875 \nL 18.109375 54.6875 \nL 18.109375 46.390625 \nQ 20.953125 51.265625 25.265625 53.625 \nQ 29.59375 56 35.59375 56 \nQ 45.5625 56 51.78125 48.09375 \nQ 58.015625 40.1875 58.015625 27.296875 \nQ 58.015625 14.40625 51.78125 6.484375 \nQ 45.5625 -1.421875 35.59375 -1.421875 \nQ 29.59375 -1.421875 25.265625 0.953125 \nQ 20.953125 3.328125 18.109375 8.203125 \nz\nM 48.6875 27.296875 \nQ 48.6875 37.203125 44.609375 42.84375 \nQ 40.53125 48.484375 33.40625 48.484375 \nQ 26.265625 48.484375 22.1875 42.84375 \nQ 18.109375 37.203125 18.109375 27.296875 \nQ 18.109375 17.390625 22.1875 11.75 \nQ 26.265625 6.109375 33.40625 6.109375 \nQ 40.53125 6.109375 44.609375 11.75 \nQ 48.6875 17.390625 48.6875 27.296875 \nz\n\" id=\"DejaVuSans-112\"/>\n      <path d=\"M 30.609375 48.390625 \nQ 23.390625 48.390625 19.1875 42.75 \nQ 14.984375 37.109375 14.984375 27.296875 \nQ 14.984375 17.484375 19.15625 11.84375 \nQ 23.34375 6.203125 30.609375 6.203125 \nQ 37.796875 6.203125 41.984375 11.859375 \nQ 46.1875 17.53125 46.1875 27.296875 \nQ 46.1875 37.015625 41.984375 42.703125 \nQ 37.796875 48.390625 30.609375 48.390625 \nz\nM 30.609375 56 \nQ 42.328125 56 49.015625 48.375 \nQ 55.71875 40.765625 55.71875 27.296875 \nQ 55.71875 13.875 49.015625 6.21875 \nQ 42.328125 -1.421875 30.609375 -1.421875 \nQ 18.84375 -1.421875 12.171875 6.21875 \nQ 5.515625 13.875 5.515625 27.296875 \nQ 5.515625 40.765625 12.171875 48.375 \nQ 18.84375 56 30.609375 56 \nz\n\" id=\"DejaVuSans-111\"/>\n      <path d=\"M 48.78125 52.59375 \nL 48.78125 44.1875 \nQ 44.96875 46.296875 41.140625 47.34375 \nQ 37.3125 48.390625 33.40625 48.390625 \nQ 24.65625 48.390625 19.8125 42.84375 \nQ 14.984375 37.3125 14.984375 27.296875 \nQ 14.984375 17.28125 19.8125 11.734375 \nQ 24.65625 6.203125 33.40625 6.203125 \nQ 37.3125 6.203125 41.140625 7.25 \nQ 44.96875 8.296875 48.78125 10.40625 \nL 48.78125 2.09375 \nQ 45.015625 0.34375 40.984375 -0.53125 \nQ 36.96875 -1.421875 32.421875 -1.421875 \nQ 20.0625 -1.421875 12.78125 6.34375 \nQ 5.515625 14.109375 5.515625 27.296875 \nQ 5.515625 40.671875 12.859375 48.328125 \nQ 20.21875 56 33.015625 56 \nQ 37.15625 56 41.109375 55.140625 \nQ 45.0625 54.296875 48.78125 52.59375 \nz\n\" id=\"DejaVuSans-99\"/>\n      <path d=\"M 54.890625 33.015625 \nL 54.890625 0 \nL 45.90625 0 \nL 45.90625 32.71875 \nQ 45.90625 40.484375 42.875 44.328125 \nQ 39.84375 48.1875 33.796875 48.1875 \nQ 26.515625 48.1875 22.3125 43.546875 \nQ 18.109375 38.921875 18.109375 30.90625 \nL 18.109375 0 \nL 9.078125 0 \nL 9.078125 75.984375 \nL 18.109375 75.984375 \nL 18.109375 46.1875 \nQ 21.34375 51.125 25.703125 53.5625 \nQ 30.078125 56 35.796875 56 \nQ 45.21875 56 50.046875 50.171875 \nQ 54.890625 44.34375 54.890625 33.015625 \nz\n\" id=\"DejaVuSans-104\"/>\n      <path d=\"M 44.28125 53.078125 \nL 44.28125 44.578125 \nQ 40.484375 46.53125 36.375 47.5 \nQ 32.28125 48.484375 27.875 48.484375 \nQ 21.1875 48.484375 17.84375 46.4375 \nQ 14.5 44.390625 14.5 40.28125 \nQ 14.5 37.15625 16.890625 35.375 \nQ 19.28125 33.59375 26.515625 31.984375 \nL 29.59375 31.296875 \nQ 39.15625 29.25 43.1875 25.515625 \nQ 47.21875 21.78125 47.21875 15.09375 \nQ 47.21875 7.46875 41.1875 3.015625 \nQ 35.15625 -1.421875 24.609375 -1.421875 \nQ 20.21875 -1.421875 15.453125 -0.5625 \nQ 10.6875 0.296875 5.421875 2 \nL 5.421875 11.28125 \nQ 10.40625 8.6875 15.234375 7.390625 \nQ 20.0625 6.109375 24.8125 6.109375 \nQ 31.15625 6.109375 34.5625 8.28125 \nQ 37.984375 10.453125 37.984375 14.40625 \nQ 37.984375 18.0625 35.515625 20.015625 \nQ 33.0625 21.96875 24.703125 23.78125 \nL 21.578125 24.515625 \nQ 13.234375 26.265625 9.515625 29.90625 \nQ 5.8125 33.546875 5.8125 39.890625 \nQ 5.8125 47.609375 11.28125 51.796875 \nQ 16.75 56 26.8125 56 \nQ 31.78125 56 36.171875 55.265625 \nQ 40.578125 54.546875 44.28125 53.078125 \nz\n\" id=\"DejaVuSans-115\"/>\n     </defs>\n     <g transform=\"translate(249.065625 470.356562)scale(0.1 -0.1)\">\n      <use xlink:href=\"#DejaVuSans-69\"/>\n      <use x=\"63.183594\" xlink:href=\"#DejaVuSans-112\"/>\n      <use x=\"126.660156\" xlink:href=\"#DejaVuSans-111\"/>\n      <use x=\"187.841797\" xlink:href=\"#DejaVuSans-99\"/>\n      <use x=\"242.822266\" xlink:href=\"#DejaVuSans-104\"/>\n      <use x=\"306.201172\" xlink:href=\"#DejaVuSans-115\"/>\n     </g>\n    </g>\n   </g>\n   <g id=\"matplotlib.axis_2\">\n    <g id=\"ytick_1\">\n     <g id=\"line2d_9\">\n      <defs>\n       <path d=\"M 0 0 \nL -3.5 0 \n\" id=\"mfe93fdc451\" style=\"stroke:#000000;stroke-width:0.8;\"/>\n      </defs>\n      <g>\n       <use style=\"stroke:#000000;stroke-width:0.8;\" x=\"43.78125\" xlink:href=\"#mfe93fdc451\" y=\"435.97438\"/>\n      </g>\n     </g>\n     <g id=\"text_10\">\n      <!-- 0.1 -->\n      <g transform=\"translate(20.878125 439.773599)scale(0.1 -0.1)\">\n       <use xlink:href=\"#DejaVuSans-48\"/>\n       <use x=\"63.623047\" xlink:href=\"#DejaVuSans-46\"/>\n       <use x=\"95.410156\" xlink:href=\"#DejaVuSans-49\"/>\n      </g>\n     </g>\n    </g>\n    <g id=\"ytick_2\">\n     <g id=\"line2d_10\">\n      <g>\n       <use style=\"stroke:#000000;stroke-width:0.8;\" x=\"43.78125\" xlink:href=\"#mfe93fdc451\" y=\"359.469126\"/>\n      </g>\n     </g>\n     <g id=\"text_11\">\n      <!-- 0.2 -->\n      <g transform=\"translate(20.878125 363.268345)scale(0.1 -0.1)\">\n       <use xlink:href=\"#DejaVuSans-48\"/>\n       <use x=\"63.623047\" xlink:href=\"#DejaVuSans-46\"/>\n       <use x=\"95.410156\" xlink:href=\"#DejaVuSans-50\"/>\n      </g>\n     </g>\n    </g>\n    <g id=\"ytick_3\">\n     <g id=\"line2d_11\">\n      <g>\n       <use style=\"stroke:#000000;stroke-width:0.8;\" x=\"43.78125\" xlink:href=\"#mfe93fdc451\" y=\"282.963872\"/>\n      </g>\n     </g>\n     <g id=\"text_12\">\n      <!-- 0.3 -->\n      <defs>\n       <path d=\"M 40.578125 39.3125 \nQ 47.65625 37.796875 51.625 33 \nQ 55.609375 28.21875 55.609375 21.1875 \nQ 55.609375 10.40625 48.1875 4.484375 \nQ 40.765625 -1.421875 27.09375 -1.421875 \nQ 22.515625 -1.421875 17.65625 -0.515625 \nQ 12.796875 0.390625 7.625 2.203125 \nL 7.625 11.71875 \nQ 11.71875 9.328125 16.59375 8.109375 \nQ 21.484375 6.890625 26.8125 6.890625 \nQ 36.078125 6.890625 40.9375 10.546875 \nQ 45.796875 14.203125 45.796875 21.1875 \nQ 45.796875 27.640625 41.28125 31.265625 \nQ 36.765625 34.90625 28.71875 34.90625 \nL 20.21875 34.90625 \nL 20.21875 43.015625 \nL 29.109375 43.015625 \nQ 36.375 43.015625 40.234375 45.921875 \nQ 44.09375 48.828125 44.09375 54.296875 \nQ 44.09375 59.90625 40.109375 62.90625 \nQ 36.140625 65.921875 28.71875 65.921875 \nQ 24.65625 65.921875 20.015625 65.03125 \nQ 15.375 64.15625 9.8125 62.3125 \nL 9.8125 71.09375 \nQ 15.4375 72.65625 20.34375 73.4375 \nQ 25.25 74.21875 29.59375 74.21875 \nQ 40.828125 74.21875 47.359375 69.109375 \nQ 53.90625 64.015625 53.90625 55.328125 \nQ 53.90625 49.265625 50.4375 45.09375 \nQ 46.96875 40.921875 40.578125 39.3125 \nz\n\" id=\"DejaVuSans-51\"/>\n      </defs>\n      <g transform=\"translate(20.878125 286.763091)scale(0.1 -0.1)\">\n       <use xlink:href=\"#DejaVuSans-48\"/>\n       <use x=\"63.623047\" xlink:href=\"#DejaVuSans-46\"/>\n       <use x=\"95.410156\" xlink:href=\"#DejaVuSans-51\"/>\n      </g>\n     </g>\n    </g>\n    <g id=\"ytick_4\">\n     <g id=\"line2d_12\">\n      <g>\n       <use style=\"stroke:#000000;stroke-width:0.8;\" x=\"43.78125\" xlink:href=\"#mfe93fdc451\" y=\"206.458618\"/>\n      </g>\n     </g>\n     <g id=\"text_13\">\n      <!-- 0.4 -->\n      <defs>\n       <path d=\"M 37.796875 64.3125 \nL 12.890625 25.390625 \nL 37.796875 25.390625 \nz\nM 35.203125 72.90625 \nL 47.609375 72.90625 \nL 47.609375 25.390625 \nL 58.015625 25.390625 \nL 58.015625 17.1875 \nL 47.609375 17.1875 \nL 47.609375 0 \nL 37.796875 0 \nL 37.796875 17.1875 \nL 4.890625 17.1875 \nL 4.890625 26.703125 \nz\n\" id=\"DejaVuSans-52\"/>\n      </defs>\n      <g transform=\"translate(20.878125 210.257837)scale(0.1 -0.1)\">\n       <use xlink:href=\"#DejaVuSans-48\"/>\n       <use x=\"63.623047\" xlink:href=\"#DejaVuSans-46\"/>\n       <use x=\"95.410156\" xlink:href=\"#DejaVuSans-52\"/>\n      </g>\n     </g>\n    </g>\n    <g id=\"ytick_5\">\n     <g id=\"line2d_13\">\n      <g>\n       <use style=\"stroke:#000000;stroke-width:0.8;\" x=\"43.78125\" xlink:href=\"#mfe93fdc451\" y=\"129.953364\"/>\n      </g>\n     </g>\n     <g id=\"text_14\">\n      <!-- 0.5 -->\n      <g transform=\"translate(20.878125 133.752583)scale(0.1 -0.1)\">\n       <use xlink:href=\"#DejaVuSans-48\"/>\n       <use x=\"63.623047\" xlink:href=\"#DejaVuSans-46\"/>\n       <use x=\"95.410156\" xlink:href=\"#DejaVuSans-53\"/>\n      </g>\n     </g>\n    </g>\n    <g id=\"ytick_6\">\n     <g id=\"line2d_14\">\n      <g>\n       <use style=\"stroke:#000000;stroke-width:0.8;\" x=\"43.78125\" xlink:href=\"#mfe93fdc451\" y=\"53.44811\"/>\n      </g>\n     </g>\n     <g id=\"text_15\">\n      <!-- 0.6 -->\n      <defs>\n       <path d=\"M 33.015625 40.375 \nQ 26.375 40.375 22.484375 35.828125 \nQ 18.609375 31.296875 18.609375 23.390625 \nQ 18.609375 15.53125 22.484375 10.953125 \nQ 26.375 6.390625 33.015625 6.390625 \nQ 39.65625 6.390625 43.53125 10.953125 \nQ 47.40625 15.53125 47.40625 23.390625 \nQ 47.40625 31.296875 43.53125 35.828125 \nQ 39.65625 40.375 33.015625 40.375 \nz\nM 52.59375 71.296875 \nL 52.59375 62.3125 \nQ 48.875 64.0625 45.09375 64.984375 \nQ 41.3125 65.921875 37.59375 65.921875 \nQ 27.828125 65.921875 22.671875 59.328125 \nQ 17.53125 52.734375 16.796875 39.40625 \nQ 19.671875 43.65625 24.015625 45.921875 \nQ 28.375 48.1875 33.59375 48.1875 \nQ 44.578125 48.1875 50.953125 41.515625 \nQ 57.328125 34.859375 57.328125 23.390625 \nQ 57.328125 12.15625 50.6875 5.359375 \nQ 44.046875 -1.421875 33.015625 -1.421875 \nQ 20.359375 -1.421875 13.671875 8.265625 \nQ 6.984375 17.96875 6.984375 36.375 \nQ 6.984375 53.65625 15.1875 63.9375 \nQ 23.390625 74.21875 37.203125 74.21875 \nQ 40.921875 74.21875 44.703125 73.484375 \nQ 48.484375 72.75 52.59375 71.296875 \nz\n\" id=\"DejaVuSans-54\"/>\n      </defs>\n      <g transform=\"translate(20.878125 57.247329)scale(0.1 -0.1)\">\n       <use xlink:href=\"#DejaVuSans-48\"/>\n       <use x=\"63.623047\" xlink:href=\"#DejaVuSans-46\"/>\n       <use x=\"95.410156\" xlink:href=\"#DejaVuSans-54\"/>\n      </g>\n     </g>\n    </g>\n    <g id=\"text_16\">\n     <!-- Accuracy -->\n     <defs>\n      <path d=\"M 34.1875 63.1875 \nL 20.796875 26.90625 \nL 47.609375 26.90625 \nz\nM 28.609375 72.90625 \nL 39.796875 72.90625 \nL 67.578125 0 \nL 57.328125 0 \nL 50.6875 18.703125 \nL 17.828125 18.703125 \nL 11.1875 0 \nL 0.78125 0 \nz\n\" id=\"DejaVuSans-65\"/>\n      <path d=\"M 8.5 21.578125 \nL 8.5 54.6875 \nL 17.484375 54.6875 \nL 17.484375 21.921875 \nQ 17.484375 14.15625 20.5 10.265625 \nQ 23.53125 6.390625 29.59375 6.390625 \nQ 36.859375 6.390625 41.078125 11.03125 \nQ 45.3125 15.671875 45.3125 23.6875 \nL 45.3125 54.6875 \nL 54.296875 54.6875 \nL 54.296875 0 \nL 45.3125 0 \nL 45.3125 8.40625 \nQ 42.046875 3.421875 37.71875 1 \nQ 33.40625 -1.421875 27.6875 -1.421875 \nQ 18.265625 -1.421875 13.375 4.4375 \nQ 8.5 10.296875 8.5 21.578125 \nz\nM 31.109375 56 \nz\n\" id=\"DejaVuSans-117\"/>\n      <path d=\"M 41.109375 46.296875 \nQ 39.59375 47.171875 37.8125 47.578125 \nQ 36.03125 48 33.890625 48 \nQ 26.265625 48 22.1875 43.046875 \nQ 18.109375 38.09375 18.109375 28.8125 \nL 18.109375 0 \nL 9.078125 0 \nL 9.078125 54.6875 \nL 18.109375 54.6875 \nL 18.109375 46.1875 \nQ 20.953125 51.171875 25.484375 53.578125 \nQ 30.03125 56 36.53125 56 \nQ 37.453125 56 38.578125 55.875 \nQ 39.703125 55.765625 41.0625 55.515625 \nz\n\" id=\"DejaVuSans-114\"/>\n      <path d=\"M 34.28125 27.484375 \nQ 23.390625 27.484375 19.1875 25 \nQ 14.984375 22.515625 14.984375 16.5 \nQ 14.984375 11.71875 18.140625 8.90625 \nQ 21.296875 6.109375 26.703125 6.109375 \nQ 34.1875 6.109375 38.703125 11.40625 \nQ 43.21875 16.703125 43.21875 25.484375 \nL 43.21875 27.484375 \nz\nM 52.203125 31.203125 \nL 52.203125 0 \nL 43.21875 0 \nL 43.21875 8.296875 \nQ 40.140625 3.328125 35.546875 0.953125 \nQ 30.953125 -1.421875 24.3125 -1.421875 \nQ 15.921875 -1.421875 10.953125 3.296875 \nQ 6 8.015625 6 15.921875 \nQ 6 25.140625 12.171875 29.828125 \nQ 18.359375 34.515625 30.609375 34.515625 \nL 43.21875 34.515625 \nL 43.21875 35.40625 \nQ 43.21875 41.609375 39.140625 45 \nQ 35.0625 48.390625 27.6875 48.390625 \nQ 23 48.390625 18.546875 47.265625 \nQ 14.109375 46.140625 10.015625 43.890625 \nL 10.015625 52.203125 \nQ 14.9375 54.109375 19.578125 55.046875 \nQ 24.21875 56 28.609375 56 \nQ 40.484375 56 46.34375 49.84375 \nQ 52.203125 43.703125 52.203125 31.203125 \nz\n\" id=\"DejaVuSans-97\"/>\n      <path d=\"M 32.171875 -5.078125 \nQ 28.375 -14.84375 24.75 -17.8125 \nQ 21.140625 -20.796875 15.09375 -20.796875 \nL 7.90625 -20.796875 \nL 7.90625 -13.28125 \nL 13.1875 -13.28125 \nQ 16.890625 -13.28125 18.9375 -11.515625 \nQ 21 -9.765625 23.484375 -3.21875 \nL 25.09375 0.875 \nL 2.984375 54.6875 \nL 12.5 54.6875 \nL 29.59375 11.921875 \nL 46.6875 54.6875 \nL 56.203125 54.6875 \nz\n\" id=\"DejaVuSans-121\"/>\n     </defs>\n     <g transform=\"translate(14.798438 247.468125)rotate(-90)scale(0.1 -0.1)\">\n      <use xlink:href=\"#DejaVuSans-65\"/>\n      <use x=\"66.658203\" xlink:href=\"#DejaVuSans-99\"/>\n      <use x=\"121.638672\" xlink:href=\"#DejaVuSans-99\"/>\n      <use x=\"176.619141\" xlink:href=\"#DejaVuSans-117\"/>\n      <use x=\"239.998047\" xlink:href=\"#DejaVuSans-114\"/>\n      <use x=\"281.111328\" xlink:href=\"#DejaVuSans-97\"/>\n      <use x=\"342.390625\" xlink:href=\"#DejaVuSans-99\"/>\n      <use x=\"397.371094\" xlink:href=\"#DejaVuSans-121\"/>\n     </g>\n    </g>\n   </g>\n   <g id=\"line2d_15\">\n    <path clip-path=\"url(#p0a71f098b1)\" d=\"M 64.072159 422.312727 \nL 85.431011 338.361878 \nL 106.789862 219.938108 \nL 128.148714 143.136864 \nL 149.507566 109.438118 \nL 170.866417 91.473044 \nL 192.225269 77.811398 \nL 213.584121 67.975011 \nL 234.942972 57.54659 \nL 256.301824 53.926261 \nL 277.660676 49.713943 \nL 299.019528 44.067119 \nL 320.378379 40.765538 \nL 341.737231 38.37474 \nL 363.096083 34.799966 \nL 384.454934 33.661499 \nL 405.813786 30.815287 \nL 427.172638 30.086679 \nL 448.531489 27.559261 \nL 469.890341 26.967273 \n\" style=\"fill:none;stroke:#1f77b4;stroke-dasharray:5.55,2.4;stroke-dashoffset:0;stroke-width:1.5;\"/>\n   </g>\n   <g id=\"line2d_16\">\n    <path clip-path=\"url(#p0a71f098b1)\" d=\"M 64.072159 400.545161 \nL 85.431011 261.651699 \nL 106.789862 164.289654 \nL 128.148714 122.758215 \nL 149.507566 102.630072 \nL 170.866417 83.048363 \nL 192.225269 68.840238 \nL 213.584121 58.730612 \nL 234.942972 56.271504 \nL 256.301824 51.262223 \nL 277.660676 59.368155 \nL 299.019528 40.423989 \nL 320.378379 42.427729 \nL 341.737231 33.957493 \nL 363.096083 35.323644 \nL 384.454934 41.790186 \nL 405.813786 32.500232 \nL 427.172638 29.76793 \nL 448.531489 31.316256 \nL 469.890341 32.226993 \n\" style=\"fill:none;stroke:#ff7f0e;stroke-dasharray:5.55,2.4;stroke-dashoffset:0;stroke-width:1.5;\"/>\n   </g>\n   <g id=\"patch_3\">\n    <path d=\"M 43.78125 442.08 \nL 43.78125 7.2 \n\" style=\"fill:none;stroke:#000000;stroke-linecap:square;stroke-linejoin:miter;stroke-width:0.8;\"/>\n   </g>\n   <g id=\"patch_4\">\n    <path d=\"M 490.18125 442.08 \nL 490.18125 7.2 \n\" style=\"fill:none;stroke:#000000;stroke-linecap:square;stroke-linejoin:miter;stroke-width:0.8;\"/>\n   </g>\n   <g id=\"patch_5\">\n    <path d=\"M 43.78125 442.08 \nL 490.18125 442.08 \n\" style=\"fill:none;stroke:#000000;stroke-linecap:square;stroke-linejoin:miter;stroke-width:0.8;\"/>\n   </g>\n   <g id=\"patch_6\">\n    <path d=\"M 43.78125 7.2 \nL 490.18125 7.2 \n\" style=\"fill:none;stroke:#000000;stroke-linecap:square;stroke-linejoin:miter;stroke-width:0.8;\"/>\n   </g>\n   <g id=\"legend_1\">\n    <g id=\"patch_7\">\n     <path d=\"M 50.78125 44.834375 \nL 147.725 44.834375 \nQ 149.725 44.834375 149.725 42.834375 \nL 149.725 14.2 \nQ 149.725 12.2 147.725 12.2 \nL 50.78125 12.2 \nQ 48.78125 12.2 48.78125 14.2 \nL 48.78125 42.834375 \nQ 48.78125 44.834375 50.78125 44.834375 \nz\n\" style=\"fill:#ffffff;opacity:0.8;stroke:#cccccc;stroke-linejoin:miter;\"/>\n    </g>\n    <g id=\"line2d_17\">\n     <path d=\"M 52.78125 20.298437 \nL 72.78125 20.298437 \n\" style=\"fill:none;stroke:#1f77b4;stroke-dasharray:5.55,2.4;stroke-dashoffset:0;stroke-width:1.5;\"/>\n    </g>\n    <g id=\"line2d_18\"/>\n    <g id=\"text_17\">\n     <!-- accuracy -->\n     <g transform=\"translate(80.78125 23.798437)scale(0.1 -0.1)\">\n      <use xlink:href=\"#DejaVuSans-97\"/>\n      <use x=\"61.279297\" xlink:href=\"#DejaVuSans-99\"/>\n      <use x=\"116.259766\" xlink:href=\"#DejaVuSans-99\"/>\n      <use x=\"171.240234\" xlink:href=\"#DejaVuSans-117\"/>\n      <use x=\"234.619141\" xlink:href=\"#DejaVuSans-114\"/>\n      <use x=\"275.732422\" xlink:href=\"#DejaVuSans-97\"/>\n      <use x=\"337.011719\" xlink:href=\"#DejaVuSans-99\"/>\n      <use x=\"391.992188\" xlink:href=\"#DejaVuSans-121\"/>\n     </g>\n    </g>\n    <g id=\"line2d_19\">\n     <path d=\"M 52.78125 34.976562 \nL 72.78125 34.976562 \n\" style=\"fill:none;stroke:#ff7f0e;stroke-dasharray:5.55,2.4;stroke-dashoffset:0;stroke-width:1.5;\"/>\n    </g>\n    <g id=\"line2d_20\"/>\n    <g id=\"text_18\">\n     <!-- val_accuracy -->\n     <defs>\n      <path d=\"M 2.984375 54.6875 \nL 12.5 54.6875 \nL 29.59375 8.796875 \nL 46.6875 54.6875 \nL 56.203125 54.6875 \nL 35.6875 0 \nL 23.484375 0 \nz\n\" id=\"DejaVuSans-118\"/>\n      <path d=\"M 9.421875 75.984375 \nL 18.40625 75.984375 \nL 18.40625 0 \nL 9.421875 0 \nz\n\" id=\"DejaVuSans-108\"/>\n      <path d=\"M 50.984375 -16.609375 \nL 50.984375 -23.578125 \nL -0.984375 -23.578125 \nL -0.984375 -16.609375 \nz\n\" id=\"DejaVuSans-95\"/>\n     </defs>\n     <g transform=\"translate(80.78125 38.476562)scale(0.1 -0.1)\">\n      <use xlink:href=\"#DejaVuSans-118\"/>\n      <use x=\"59.179688\" xlink:href=\"#DejaVuSans-97\"/>\n      <use x=\"120.458984\" xlink:href=\"#DejaVuSans-108\"/>\n      <use x=\"148.242188\" xlink:href=\"#DejaVuSans-95\"/>\n      <use x=\"198.242188\" xlink:href=\"#DejaVuSans-97\"/>\n      <use x=\"259.521484\" xlink:href=\"#DejaVuSans-99\"/>\n      <use x=\"314.501953\" xlink:href=\"#DejaVuSans-99\"/>\n      <use x=\"369.482422\" xlink:href=\"#DejaVuSans-117\"/>\n      <use x=\"432.861328\" xlink:href=\"#DejaVuSans-114\"/>\n      <use x=\"473.974609\" xlink:href=\"#DejaVuSans-97\"/>\n      <use x=\"535.253906\" xlink:href=\"#DejaVuSans-99\"/>\n      <use x=\"590.234375\" xlink:href=\"#DejaVuSans-121\"/>\n     </g>\n    </g>\n   </g>\n  </g>\n </g>\n <defs>\n  <clipPath id=\"p0a71f098b1\">\n   <rect height=\"434.88\" width=\"446.4\" x=\"43.78125\" y=\"7.2\"/>\n  </clipPath>\n </defs>\n</svg>\n"
          },
          "metadata": {
            "needs_background": "light"
          }
        }
      ],
      "source": [
        "# Plotting the accuracies\n",
        "\n",
        "dict_hist = history_model_1.history\n",
        "\n",
        "list_ep = [i for i in range(1, 21)]\n",
        "\n",
        "plt.figure(figsize = (8, 8))\n",
        "\n",
        "plt.plot(list_ep, dict_hist['accuracy'], ls = '--', label = 'accuracy')\n",
        "\n",
        "plt.plot(list_ep, dict_hist['val_accuracy'], ls = '--', label = 'val_accuracy')\n",
        "\n",
        "plt.ylabel('Accuracy')\n",
        "\n",
        "plt.xlabel('Epochs')\n",
        "\n",
        "plt.legend()\n",
        "\n",
        "plt.show()"
      ]
    },
    {
      "cell_type": "markdown",
      "metadata": {
        "id": "pGBbQpLONX7k"
      },
      "source": [
        "**Observations:**\n",
        "\n",
        "- Accuracy is quite low, the model identifies numbers correctly only in ~63% of the cases. \n",
        "- At the same time we can see that model is not overfitting, and the accuracy seems to continue to grow. Probably if we run the model for more epochs or increase it's complexity we can improve the accuracy. "
      ]
    },
    {
      "cell_type": "markdown",
      "metadata": {
        "id": "z0qgLMBZm5-K"
      },
      "source": [
        "### **Let's build one more model with higher complexity and see if we can improve the performance of the model.** \n",
        "\n",
        "First, we need to clear the previous model's history from the Keras backend. Also, let's fix the seed again after clearing the backend."
      ]
    },
    {
      "cell_type": "code",
      "execution_count": null,
      "metadata": {
        "id": "y98BpLxsok_H"
      },
      "outputs": [],
      "source": [
        "# Clearing backend\n",
        "\n",
        "from tensorflow.keras import backend\n",
        "\n",
        "backend.clear_session()"
      ]
    },
    {
      "cell_type": "code",
      "execution_count": null,
      "metadata": {
        "id": "HbKi93HTolGW"
      },
      "outputs": [],
      "source": [
        "# Fixing the seed for random number generators\n",
        "\n",
        "np.random.seed(42)\n",
        "\n",
        "import random\n",
        "\n",
        "random.seed(42)\n",
        "\n",
        "tf.random.set_seed(42)"
      ]
    },
    {
      "cell_type": "code",
      "execution_count": null,
      "metadata": {
        "id": "EEPYLFIPnSDP"
      },
      "outputs": [],
      "source": [
        "# Defining the model\n",
        "\n",
        "def nn_model_2():\n",
        "\n",
        "    model = Sequential()  \n",
        "    \n",
        "    \n",
        "    model.add(Dense(256,input_shape=(1024,),activation='relu'))\n",
        "\n",
        "    model.add(Dense(128,activation='relu'))\n",
        "\n",
        "    model.add(Dropout(0.2))\n",
        "\n",
        "    model.add(Dense(64,activation='relu'))\n",
        "\n",
        "    model.add(Dense(64,activation='relu'))\n",
        "\n",
        "    model.add(Dense(32,activation='relu'))\n",
        "\n",
        "    model.add(BatchNormalization())\n",
        "\n",
        "    model.add(Dense(10,activation='softmax'))\n",
        "    \n",
        "    # Compiling the model\n",
        "\n",
        "    model.compile(optimizer='adam',loss='categorical_crossentropy',metrics=['accuracy'])\n",
        "    \n",
        "    return model"
      ]
    },
    {
      "cell_type": "code",
      "execution_count": null,
      "metadata": {
        "id": "AKjDY4plnSFl"
      },
      "outputs": [],
      "source": [
        "model_2 = nn_model_2()"
      ]
    },
    {
      "cell_type": "code",
      "execution_count": null,
      "metadata": {
        "id": "gz_6SVrU2swZ",
        "colab": {
          "base_uri": "https://localhost:8080/"
        },
        "outputId": "9de08208-3a47-4bb2-efb8-7aa86b55e9bc"
      },
      "outputs": [
        {
          "output_type": "stream",
          "name": "stdout",
          "text": [
            "Model: \"sequential\"\n",
            "_________________________________________________________________\n",
            " Layer (type)                Output Shape              Param #   \n",
            "=================================================================\n",
            " dense (Dense)               (None, 256)               262400    \n",
            "                                                                 \n",
            " dense_1 (Dense)             (None, 128)               32896     \n",
            "                                                                 \n",
            " dropout (Dropout)           (None, 128)               0         \n",
            "                                                                 \n",
            " dense_2 (Dense)             (None, 64)                8256      \n",
            "                                                                 \n",
            " dense_3 (Dense)             (None, 64)                4160      \n",
            "                                                                 \n",
            " dense_4 (Dense)             (None, 32)                2080      \n",
            "                                                                 \n",
            " batch_normalization (BatchN  (None, 32)               128       \n",
            " ormalization)                                                   \n",
            "                                                                 \n",
            " dense_5 (Dense)             (None, 10)                330       \n",
            "                                                                 \n",
            "=================================================================\n",
            "Total params: 310,250\n",
            "Trainable params: 310,186\n",
            "Non-trainable params: 64\n",
            "_________________________________________________________________\n"
          ]
        }
      ],
      "source": [
        "model_2.summary()"
      ]
    },
    {
      "cell_type": "code",
      "execution_count": null,
      "metadata": {
        "id": "IQ0Sc4R-y-uu",
        "colab": {
          "base_uri": "https://localhost:8080/"
        },
        "outputId": "9ca2873d-bf31-4e11-bcbf-15bc08f19e99"
      },
      "outputs": [
        {
          "output_type": "stream",
          "name": "stdout",
          "text": [
            "Epoch 1/30\n",
            "263/263 [==============================] - 4s 11ms/step - loss: 2.3346 - accuracy: 0.1002 - val_loss: 2.3139 - val_accuracy: 0.0985\n",
            "Epoch 2/30\n",
            "263/263 [==============================] - 3s 10ms/step - loss: 2.3023 - accuracy: 0.1072 - val_loss: 2.2944 - val_accuracy: 0.1225\n",
            "Epoch 3/30\n",
            "263/263 [==============================] - 3s 10ms/step - loss: 2.0815 - accuracy: 0.1963 - val_loss: 2.0802 - val_accuracy: 0.2286\n",
            "Epoch 4/30\n",
            "263/263 [==============================] - 3s 10ms/step - loss: 1.6827 - accuracy: 0.4115 - val_loss: 1.5690 - val_accuracy: 0.4737\n",
            "Epoch 5/30\n",
            "263/263 [==============================] - 3s 10ms/step - loss: 1.4126 - accuracy: 0.5264 - val_loss: 1.3555 - val_accuracy: 0.5450\n",
            "Epoch 6/30\n",
            "263/263 [==============================] - 3s 10ms/step - loss: 1.2738 - accuracy: 0.5780 - val_loss: 1.1789 - val_accuracy: 0.6145\n",
            "Epoch 7/30\n",
            "263/263 [==============================] - 3s 10ms/step - loss: 1.1798 - accuracy: 0.6143 - val_loss: 1.1785 - val_accuracy: 0.6108\n",
            "Epoch 8/30\n",
            "263/263 [==============================] - 3s 10ms/step - loss: 1.1282 - accuracy: 0.6328 - val_loss: 1.0536 - val_accuracy: 0.6627\n",
            "Epoch 9/30\n",
            "263/263 [==============================] - 3s 10ms/step - loss: 1.0854 - accuracy: 0.6468 - val_loss: 1.0265 - val_accuracy: 0.6710\n",
            "Epoch 10/30\n",
            "263/263 [==============================] - 3s 10ms/step - loss: 1.0415 - accuracy: 0.6653 - val_loss: 1.0290 - val_accuracy: 0.6813\n",
            "Epoch 11/30\n",
            "263/263 [==============================] - 3s 10ms/step - loss: 1.0100 - accuracy: 0.6779 - val_loss: 1.0311 - val_accuracy: 0.6749\n",
            "Epoch 12/30\n",
            "263/263 [==============================] - 3s 10ms/step - loss: 0.9775 - accuracy: 0.6882 - val_loss: 1.0012 - val_accuracy: 0.6876\n",
            "Epoch 13/30\n",
            "263/263 [==============================] - 3s 10ms/step - loss: 0.9528 - accuracy: 0.6965 - val_loss: 0.9642 - val_accuracy: 0.6998\n",
            "Epoch 14/30\n",
            "263/263 [==============================] - 3s 10ms/step - loss: 0.9484 - accuracy: 0.6982 - val_loss: 0.9904 - val_accuracy: 0.6882\n",
            "Epoch 15/30\n",
            "263/263 [==============================] - 3s 10ms/step - loss: 0.9240 - accuracy: 0.7059 - val_loss: 0.8876 - val_accuracy: 0.7199\n",
            "Epoch 16/30\n",
            "263/263 [==============================] - 3s 10ms/step - loss: 0.9125 - accuracy: 0.7115 - val_loss: 0.9549 - val_accuracy: 0.6901\n",
            "Epoch 17/30\n",
            "263/263 [==============================] - 3s 10ms/step - loss: 0.9031 - accuracy: 0.7130 - val_loss: 0.9053 - val_accuracy: 0.7118\n",
            "Epoch 18/30\n",
            "263/263 [==============================] - 3s 10ms/step - loss: 0.8977 - accuracy: 0.7145 - val_loss: 0.8914 - val_accuracy: 0.7235\n",
            "Epoch 19/30\n",
            "263/263 [==============================] - 3s 10ms/step - loss: 0.8879 - accuracy: 0.7179 - val_loss: 0.8910 - val_accuracy: 0.7192\n",
            "Epoch 20/30\n",
            "263/263 [==============================] - 3s 10ms/step - loss: 0.8739 - accuracy: 0.7241 - val_loss: 0.8750 - val_accuracy: 0.7273\n",
            "Epoch 21/30\n",
            "263/263 [==============================] - 3s 10ms/step - loss: 0.8691 - accuracy: 0.7240 - val_loss: 0.9023 - val_accuracy: 0.7173\n",
            "Epoch 22/30\n",
            "263/263 [==============================] - 3s 10ms/step - loss: 0.8545 - accuracy: 0.7296 - val_loss: 0.8594 - val_accuracy: 0.7298\n",
            "Epoch 23/30\n",
            "263/263 [==============================] - 3s 10ms/step - loss: 0.8547 - accuracy: 0.7295 - val_loss: 0.8239 - val_accuracy: 0.7452\n",
            "Epoch 24/30\n",
            "263/263 [==============================] - 3s 10ms/step - loss: 0.8340 - accuracy: 0.7362 - val_loss: 0.8596 - val_accuracy: 0.7321\n",
            "Epoch 25/30\n",
            "263/263 [==============================] - 3s 10ms/step - loss: 0.8452 - accuracy: 0.7326 - val_loss: 0.8203 - val_accuracy: 0.7439\n",
            "Epoch 26/30\n",
            "263/263 [==============================] - 3s 10ms/step - loss: 0.8376 - accuracy: 0.7337 - val_loss: 0.8732 - val_accuracy: 0.7257\n",
            "Epoch 27/30\n",
            "263/263 [==============================] - 3s 10ms/step - loss: 0.8236 - accuracy: 0.7376 - val_loss: 0.9045 - val_accuracy: 0.7140\n",
            "Epoch 28/30\n",
            "263/263 [==============================] - 3s 10ms/step - loss: 0.8209 - accuracy: 0.7391 - val_loss: 0.8412 - val_accuracy: 0.7350\n",
            "Epoch 29/30\n",
            "263/263 [==============================] - 3s 10ms/step - loss: 0.8258 - accuracy: 0.7373 - val_loss: 0.8351 - val_accuracy: 0.7355\n",
            "Epoch 30/30\n",
            "263/263 [==============================] - 3s 10ms/step - loss: 0.8147 - accuracy: 0.7412 - val_loss: 0.8152 - val_accuracy: 0.7407\n"
          ]
        }
      ],
      "source": [
        "# Let's train the model\n",
        "\n",
        "history_model_2 = model_2.fit(X_train,y_train,validation_split=0.2,verbose=1, epochs=30, batch_size=128)"
      ]
    },
    {
      "cell_type": "markdown",
      "metadata": {
        "id": "6UjEIbPM0XIX"
      },
      "source": [
        "### **Model Evaluation**"
      ]
    },
    {
      "cell_type": "code",
      "execution_count": null,
      "metadata": {
        "colab": {
          "base_uri": "https://localhost:8080/",
          "height": 680
        },
        "id": "01ig6BrF1KVy",
        "outputId": "cf739d1c-bac2-47e9-8c02-1a4588caf79c"
      },
      "outputs": [
        {
          "output_type": "display_data",
          "data": {
            "text/plain": [
              "<Figure size 576x576 with 1 Axes>"
            ],
            "image/svg+xml": "<?xml version=\"1.0\" encoding=\"utf-8\" standalone=\"no\"?>\n<!DOCTYPE svg PUBLIC \"-//W3C//DTD SVG 1.1//EN\"\n  \"http://www.w3.org/Graphics/SVG/1.1/DTD/svg11.dtd\">\n<!-- Created with matplotlib (https://matplotlib.org/) -->\n<svg height=\"479.63625pt\" version=\"1.1\" viewBox=\"0 0 497.38125 479.63625\" width=\"497.38125pt\" xmlns=\"http://www.w3.org/2000/svg\" xmlns:xlink=\"http://www.w3.org/1999/xlink\">\n <defs>\n  <style type=\"text/css\">\n*{stroke-linecap:butt;stroke-linejoin:round;}\n  </style>\n </defs>\n <g id=\"figure_1\">\n  <g id=\"patch_1\">\n   <path d=\"M 0 479.63625 \nL 497.38125 479.63625 \nL 497.38125 0 \nL 0 0 \nz\n\" style=\"fill:none;\"/>\n  </g>\n  <g id=\"axes_1\">\n   <g id=\"patch_2\">\n    <path d=\"M 43.78125 442.08 \nL 490.18125 442.08 \nL 490.18125 7.2 \nL 43.78125 7.2 \nz\n\" style=\"fill:#ffffff;\"/>\n   </g>\n   <g id=\"matplotlib.axis_1\">\n    <g id=\"xtick_1\">\n     <g id=\"line2d_1\">\n      <defs>\n       <path d=\"M 0 0 \nL 0 3.5 \n\" id=\"mfd5ff46f70\" style=\"stroke:#000000;stroke-width:0.8;\"/>\n      </defs>\n      <g>\n       <use style=\"stroke:#000000;stroke-width:0.8;\" x=\"50.078429\" xlink:href=\"#mfd5ff46f70\" y=\"442.08\"/>\n      </g>\n     </g>\n     <g id=\"text_1\">\n      <!-- 0 -->\n      <defs>\n       <path d=\"M 31.78125 66.40625 \nQ 24.171875 66.40625 20.328125 58.90625 \nQ 16.5 51.421875 16.5 36.375 \nQ 16.5 21.390625 20.328125 13.890625 \nQ 24.171875 6.390625 31.78125 6.390625 \nQ 39.453125 6.390625 43.28125 13.890625 \nQ 47.125 21.390625 47.125 36.375 \nQ 47.125 51.421875 43.28125 58.90625 \nQ 39.453125 66.40625 31.78125 66.40625 \nz\nM 31.78125 74.21875 \nQ 44.046875 74.21875 50.515625 64.515625 \nQ 56.984375 54.828125 56.984375 36.375 \nQ 56.984375 17.96875 50.515625 8.265625 \nQ 44.046875 -1.421875 31.78125 -1.421875 \nQ 19.53125 -1.421875 13.0625 8.265625 \nQ 6.59375 17.96875 6.59375 36.375 \nQ 6.59375 54.828125 13.0625 64.515625 \nQ 19.53125 74.21875 31.78125 74.21875 \nz\n\" id=\"DejaVuSans-48\"/>\n      </defs>\n      <g transform=\"translate(46.897179 456.678437)scale(0.1 -0.1)\">\n       <use xlink:href=\"#DejaVuSans-48\"/>\n      </g>\n     </g>\n    </g>\n    <g id=\"xtick_2\">\n     <g id=\"line2d_2\">\n      <g>\n       <use style=\"stroke:#000000;stroke-width:0.8;\" x=\"120.047081\" xlink:href=\"#mfd5ff46f70\" y=\"442.08\"/>\n      </g>\n     </g>\n     <g id=\"text_2\">\n      <!-- 5 -->\n      <defs>\n       <path d=\"M 10.796875 72.90625 \nL 49.515625 72.90625 \nL 49.515625 64.59375 \nL 19.828125 64.59375 \nL 19.828125 46.734375 \nQ 21.96875 47.46875 24.109375 47.828125 \nQ 26.265625 48.1875 28.421875 48.1875 \nQ 40.625 48.1875 47.75 41.5 \nQ 54.890625 34.8125 54.890625 23.390625 \nQ 54.890625 11.625 47.5625 5.09375 \nQ 40.234375 -1.421875 26.90625 -1.421875 \nQ 22.3125 -1.421875 17.546875 -0.640625 \nQ 12.796875 0.140625 7.71875 1.703125 \nL 7.71875 11.625 \nQ 12.109375 9.234375 16.796875 8.0625 \nQ 21.484375 6.890625 26.703125 6.890625 \nQ 35.15625 6.890625 40.078125 11.328125 \nQ 45.015625 15.765625 45.015625 23.390625 \nQ 45.015625 31 40.078125 35.4375 \nQ 35.15625 39.890625 26.703125 39.890625 \nQ 22.75 39.890625 18.8125 39.015625 \nQ 14.890625 38.140625 10.796875 36.28125 \nz\n\" id=\"DejaVuSans-53\"/>\n      </defs>\n      <g transform=\"translate(116.865831 456.678437)scale(0.1 -0.1)\">\n       <use xlink:href=\"#DejaVuSans-53\"/>\n      </g>\n     </g>\n    </g>\n    <g id=\"xtick_3\">\n     <g id=\"line2d_3\">\n      <g>\n       <use style=\"stroke:#000000;stroke-width:0.8;\" x=\"190.015733\" xlink:href=\"#mfd5ff46f70\" y=\"442.08\"/>\n      </g>\n     </g>\n     <g id=\"text_3\">\n      <!-- 10 -->\n      <defs>\n       <path d=\"M 12.40625 8.296875 \nL 28.515625 8.296875 \nL 28.515625 63.921875 \nL 10.984375 60.40625 \nL 10.984375 69.390625 \nL 28.421875 72.90625 \nL 38.28125 72.90625 \nL 38.28125 8.296875 \nL 54.390625 8.296875 \nL 54.390625 0 \nL 12.40625 0 \nz\n\" id=\"DejaVuSans-49\"/>\n      </defs>\n      <g transform=\"translate(183.653233 456.678437)scale(0.1 -0.1)\">\n       <use xlink:href=\"#DejaVuSans-49\"/>\n       <use x=\"63.623047\" xlink:href=\"#DejaVuSans-48\"/>\n      </g>\n     </g>\n    </g>\n    <g id=\"xtick_4\">\n     <g id=\"line2d_4\">\n      <g>\n       <use style=\"stroke:#000000;stroke-width:0.8;\" x=\"259.984385\" xlink:href=\"#mfd5ff46f70\" y=\"442.08\"/>\n      </g>\n     </g>\n     <g id=\"text_4\">\n      <!-- 15 -->\n      <g transform=\"translate(253.621885 456.678437)scale(0.1 -0.1)\">\n       <use xlink:href=\"#DejaVuSans-49\"/>\n       <use x=\"63.623047\" xlink:href=\"#DejaVuSans-53\"/>\n      </g>\n     </g>\n    </g>\n    <g id=\"xtick_5\">\n     <g id=\"line2d_5\">\n      <g>\n       <use style=\"stroke:#000000;stroke-width:0.8;\" x=\"329.953037\" xlink:href=\"#mfd5ff46f70\" y=\"442.08\"/>\n      </g>\n     </g>\n     <g id=\"text_5\">\n      <!-- 20 -->\n      <defs>\n       <path d=\"M 19.1875 8.296875 \nL 53.609375 8.296875 \nL 53.609375 0 \nL 7.328125 0 \nL 7.328125 8.296875 \nQ 12.9375 14.109375 22.625 23.890625 \nQ 32.328125 33.6875 34.8125 36.53125 \nQ 39.546875 41.84375 41.421875 45.53125 \nQ 43.3125 49.21875 43.3125 52.78125 \nQ 43.3125 58.59375 39.234375 62.25 \nQ 35.15625 65.921875 28.609375 65.921875 \nQ 23.96875 65.921875 18.8125 64.3125 \nQ 13.671875 62.703125 7.8125 59.421875 \nL 7.8125 69.390625 \nQ 13.765625 71.78125 18.9375 73 \nQ 24.125 74.21875 28.421875 74.21875 \nQ 39.75 74.21875 46.484375 68.546875 \nQ 53.21875 62.890625 53.21875 53.421875 \nQ 53.21875 48.921875 51.53125 44.890625 \nQ 49.859375 40.875 45.40625 35.40625 \nQ 44.1875 33.984375 37.640625 27.21875 \nQ 31.109375 20.453125 19.1875 8.296875 \nz\n\" id=\"DejaVuSans-50\"/>\n      </defs>\n      <g transform=\"translate(323.590537 456.678437)scale(0.1 -0.1)\">\n       <use xlink:href=\"#DejaVuSans-50\"/>\n       <use x=\"63.623047\" xlink:href=\"#DejaVuSans-48\"/>\n      </g>\n     </g>\n    </g>\n    <g id=\"xtick_6\">\n     <g id=\"line2d_6\">\n      <g>\n       <use style=\"stroke:#000000;stroke-width:0.8;\" x=\"399.921689\" xlink:href=\"#mfd5ff46f70\" y=\"442.08\"/>\n      </g>\n     </g>\n     <g id=\"text_6\">\n      <!-- 25 -->\n      <g transform=\"translate(393.559189 456.678437)scale(0.1 -0.1)\">\n       <use xlink:href=\"#DejaVuSans-50\"/>\n       <use x=\"63.623047\" xlink:href=\"#DejaVuSans-53\"/>\n      </g>\n     </g>\n    </g>\n    <g id=\"xtick_7\">\n     <g id=\"line2d_7\">\n      <g>\n       <use style=\"stroke:#000000;stroke-width:0.8;\" x=\"469.890341\" xlink:href=\"#mfd5ff46f70\" y=\"442.08\"/>\n      </g>\n     </g>\n     <g id=\"text_7\">\n      <!-- 30 -->\n      <defs>\n       <path d=\"M 40.578125 39.3125 \nQ 47.65625 37.796875 51.625 33 \nQ 55.609375 28.21875 55.609375 21.1875 \nQ 55.609375 10.40625 48.1875 4.484375 \nQ 40.765625 -1.421875 27.09375 -1.421875 \nQ 22.515625 -1.421875 17.65625 -0.515625 \nQ 12.796875 0.390625 7.625 2.203125 \nL 7.625 11.71875 \nQ 11.71875 9.328125 16.59375 8.109375 \nQ 21.484375 6.890625 26.8125 6.890625 \nQ 36.078125 6.890625 40.9375 10.546875 \nQ 45.796875 14.203125 45.796875 21.1875 \nQ 45.796875 27.640625 41.28125 31.265625 \nQ 36.765625 34.90625 28.71875 34.90625 \nL 20.21875 34.90625 \nL 20.21875 43.015625 \nL 29.109375 43.015625 \nQ 36.375 43.015625 40.234375 45.921875 \nQ 44.09375 48.828125 44.09375 54.296875 \nQ 44.09375 59.90625 40.109375 62.90625 \nQ 36.140625 65.921875 28.71875 65.921875 \nQ 24.65625 65.921875 20.015625 65.03125 \nQ 15.375 64.15625 9.8125 62.3125 \nL 9.8125 71.09375 \nQ 15.4375 72.65625 20.34375 73.4375 \nQ 25.25 74.21875 29.59375 74.21875 \nQ 40.828125 74.21875 47.359375 69.109375 \nQ 53.90625 64.015625 53.90625 55.328125 \nQ 53.90625 49.265625 50.4375 45.09375 \nQ 46.96875 40.921875 40.578125 39.3125 \nz\n\" id=\"DejaVuSans-51\"/>\n      </defs>\n      <g transform=\"translate(463.527841 456.678437)scale(0.1 -0.1)\">\n       <use xlink:href=\"#DejaVuSans-51\"/>\n       <use x=\"63.623047\" xlink:href=\"#DejaVuSans-48\"/>\n      </g>\n     </g>\n    </g>\n    <g id=\"text_8\">\n     <!-- Epochs -->\n     <defs>\n      <path d=\"M 9.8125 72.90625 \nL 55.90625 72.90625 \nL 55.90625 64.59375 \nL 19.671875 64.59375 \nL 19.671875 43.015625 \nL 54.390625 43.015625 \nL 54.390625 34.71875 \nL 19.671875 34.71875 \nL 19.671875 8.296875 \nL 56.78125 8.296875 \nL 56.78125 0 \nL 9.8125 0 \nz\n\" id=\"DejaVuSans-69\"/>\n      <path d=\"M 18.109375 8.203125 \nL 18.109375 -20.796875 \nL 9.078125 -20.796875 \nL 9.078125 54.6875 \nL 18.109375 54.6875 \nL 18.109375 46.390625 \nQ 20.953125 51.265625 25.265625 53.625 \nQ 29.59375 56 35.59375 56 \nQ 45.5625 56 51.78125 48.09375 \nQ 58.015625 40.1875 58.015625 27.296875 \nQ 58.015625 14.40625 51.78125 6.484375 \nQ 45.5625 -1.421875 35.59375 -1.421875 \nQ 29.59375 -1.421875 25.265625 0.953125 \nQ 20.953125 3.328125 18.109375 8.203125 \nz\nM 48.6875 27.296875 \nQ 48.6875 37.203125 44.609375 42.84375 \nQ 40.53125 48.484375 33.40625 48.484375 \nQ 26.265625 48.484375 22.1875 42.84375 \nQ 18.109375 37.203125 18.109375 27.296875 \nQ 18.109375 17.390625 22.1875 11.75 \nQ 26.265625 6.109375 33.40625 6.109375 \nQ 40.53125 6.109375 44.609375 11.75 \nQ 48.6875 17.390625 48.6875 27.296875 \nz\n\" id=\"DejaVuSans-112\"/>\n      <path d=\"M 30.609375 48.390625 \nQ 23.390625 48.390625 19.1875 42.75 \nQ 14.984375 37.109375 14.984375 27.296875 \nQ 14.984375 17.484375 19.15625 11.84375 \nQ 23.34375 6.203125 30.609375 6.203125 \nQ 37.796875 6.203125 41.984375 11.859375 \nQ 46.1875 17.53125 46.1875 27.296875 \nQ 46.1875 37.015625 41.984375 42.703125 \nQ 37.796875 48.390625 30.609375 48.390625 \nz\nM 30.609375 56 \nQ 42.328125 56 49.015625 48.375 \nQ 55.71875 40.765625 55.71875 27.296875 \nQ 55.71875 13.875 49.015625 6.21875 \nQ 42.328125 -1.421875 30.609375 -1.421875 \nQ 18.84375 -1.421875 12.171875 6.21875 \nQ 5.515625 13.875 5.515625 27.296875 \nQ 5.515625 40.765625 12.171875 48.375 \nQ 18.84375 56 30.609375 56 \nz\n\" id=\"DejaVuSans-111\"/>\n      <path d=\"M 48.78125 52.59375 \nL 48.78125 44.1875 \nQ 44.96875 46.296875 41.140625 47.34375 \nQ 37.3125 48.390625 33.40625 48.390625 \nQ 24.65625 48.390625 19.8125 42.84375 \nQ 14.984375 37.3125 14.984375 27.296875 \nQ 14.984375 17.28125 19.8125 11.734375 \nQ 24.65625 6.203125 33.40625 6.203125 \nQ 37.3125 6.203125 41.140625 7.25 \nQ 44.96875 8.296875 48.78125 10.40625 \nL 48.78125 2.09375 \nQ 45.015625 0.34375 40.984375 -0.53125 \nQ 36.96875 -1.421875 32.421875 -1.421875 \nQ 20.0625 -1.421875 12.78125 6.34375 \nQ 5.515625 14.109375 5.515625 27.296875 \nQ 5.515625 40.671875 12.859375 48.328125 \nQ 20.21875 56 33.015625 56 \nQ 37.15625 56 41.109375 55.140625 \nQ 45.0625 54.296875 48.78125 52.59375 \nz\n\" id=\"DejaVuSans-99\"/>\n      <path d=\"M 54.890625 33.015625 \nL 54.890625 0 \nL 45.90625 0 \nL 45.90625 32.71875 \nQ 45.90625 40.484375 42.875 44.328125 \nQ 39.84375 48.1875 33.796875 48.1875 \nQ 26.515625 48.1875 22.3125 43.546875 \nQ 18.109375 38.921875 18.109375 30.90625 \nL 18.109375 0 \nL 9.078125 0 \nL 9.078125 75.984375 \nL 18.109375 75.984375 \nL 18.109375 46.1875 \nQ 21.34375 51.125 25.703125 53.5625 \nQ 30.078125 56 35.796875 56 \nQ 45.21875 56 50.046875 50.171875 \nQ 54.890625 44.34375 54.890625 33.015625 \nz\n\" id=\"DejaVuSans-104\"/>\n      <path d=\"M 44.28125 53.078125 \nL 44.28125 44.578125 \nQ 40.484375 46.53125 36.375 47.5 \nQ 32.28125 48.484375 27.875 48.484375 \nQ 21.1875 48.484375 17.84375 46.4375 \nQ 14.5 44.390625 14.5 40.28125 \nQ 14.5 37.15625 16.890625 35.375 \nQ 19.28125 33.59375 26.515625 31.984375 \nL 29.59375 31.296875 \nQ 39.15625 29.25 43.1875 25.515625 \nQ 47.21875 21.78125 47.21875 15.09375 \nQ 47.21875 7.46875 41.1875 3.015625 \nQ 35.15625 -1.421875 24.609375 -1.421875 \nQ 20.21875 -1.421875 15.453125 -0.5625 \nQ 10.6875 0.296875 5.421875 2 \nL 5.421875 11.28125 \nQ 10.40625 8.6875 15.234375 7.390625 \nQ 20.0625 6.109375 24.8125 6.109375 \nQ 31.15625 6.109375 34.5625 8.28125 \nQ 37.984375 10.453125 37.984375 14.40625 \nQ 37.984375 18.0625 35.515625 20.015625 \nQ 33.0625 21.96875 24.703125 23.78125 \nL 21.578125 24.515625 \nQ 13.234375 26.265625 9.515625 29.90625 \nQ 5.8125 33.546875 5.8125 39.890625 \nQ 5.8125 47.609375 11.28125 51.796875 \nQ 16.75 56 26.8125 56 \nQ 31.78125 56 36.171875 55.265625 \nQ 40.578125 54.546875 44.28125 53.078125 \nz\n\" id=\"DejaVuSans-115\"/>\n     </defs>\n     <g transform=\"translate(249.065625 470.356562)scale(0.1 -0.1)\">\n      <use xlink:href=\"#DejaVuSans-69\"/>\n      <use x=\"63.183594\" xlink:href=\"#DejaVuSans-112\"/>\n      <use x=\"126.660156\" xlink:href=\"#DejaVuSans-111\"/>\n      <use x=\"187.841797\" xlink:href=\"#DejaVuSans-99\"/>\n      <use x=\"242.822266\" xlink:href=\"#DejaVuSans-104\"/>\n      <use x=\"306.201172\" xlink:href=\"#DejaVuSans-115\"/>\n     </g>\n    </g>\n   </g>\n   <g id=\"matplotlib.axis_2\">\n    <g id=\"ytick_1\">\n     <g id=\"line2d_8\">\n      <defs>\n       <path d=\"M 0 0 \nL -3.5 0 \n\" id=\"m254ddc8100\" style=\"stroke:#000000;stroke-width:0.8;\"/>\n      </defs>\n      <g>\n       <use style=\"stroke:#000000;stroke-width:0.8;\" x=\"43.78125\" xlink:href=\"#m254ddc8100\" y=\"421.366751\"/>\n      </g>\n     </g>\n     <g id=\"text_9\">\n      <!-- 0.1 -->\n      <defs>\n       <path d=\"M 10.6875 12.40625 \nL 21 12.40625 \nL 21 0 \nL 10.6875 0 \nz\n\" id=\"DejaVuSans-46\"/>\n      </defs>\n      <g transform=\"translate(20.878125 425.16597)scale(0.1 -0.1)\">\n       <use xlink:href=\"#DejaVuSans-48\"/>\n       <use x=\"63.623047\" xlink:href=\"#DejaVuSans-46\"/>\n       <use x=\"95.410156\" xlink:href=\"#DejaVuSans-49\"/>\n      </g>\n     </g>\n    </g>\n    <g id=\"ytick_2\">\n     <g id=\"line2d_9\">\n      <g>\n       <use style=\"stroke:#000000;stroke-width:0.8;\" x=\"43.78125\" xlink:href=\"#m254ddc8100\" y=\"360.242106\"/>\n      </g>\n     </g>\n     <g id=\"text_10\">\n      <!-- 0.2 -->\n      <g transform=\"translate(20.878125 364.041325)scale(0.1 -0.1)\">\n       <use xlink:href=\"#DejaVuSans-48\"/>\n       <use x=\"63.623047\" xlink:href=\"#DejaVuSans-46\"/>\n       <use x=\"95.410156\" xlink:href=\"#DejaVuSans-50\"/>\n      </g>\n     </g>\n    </g>\n    <g id=\"ytick_3\">\n     <g id=\"line2d_10\">\n      <g>\n       <use style=\"stroke:#000000;stroke-width:0.8;\" x=\"43.78125\" xlink:href=\"#m254ddc8100\" y=\"299.117461\"/>\n      </g>\n     </g>\n     <g id=\"text_11\">\n      <!-- 0.3 -->\n      <g transform=\"translate(20.878125 302.916679)scale(0.1 -0.1)\">\n       <use xlink:href=\"#DejaVuSans-48\"/>\n       <use x=\"63.623047\" xlink:href=\"#DejaVuSans-46\"/>\n       <use x=\"95.410156\" xlink:href=\"#DejaVuSans-51\"/>\n      </g>\n     </g>\n    </g>\n    <g id=\"ytick_4\">\n     <g id=\"line2d_11\">\n      <g>\n       <use style=\"stroke:#000000;stroke-width:0.8;\" x=\"43.78125\" xlink:href=\"#m254ddc8100\" y=\"237.992816\"/>\n      </g>\n     </g>\n     <g id=\"text_12\">\n      <!-- 0.4 -->\n      <defs>\n       <path d=\"M 37.796875 64.3125 \nL 12.890625 25.390625 \nL 37.796875 25.390625 \nz\nM 35.203125 72.90625 \nL 47.609375 72.90625 \nL 47.609375 25.390625 \nL 58.015625 25.390625 \nL 58.015625 17.1875 \nL 47.609375 17.1875 \nL 47.609375 0 \nL 37.796875 0 \nL 37.796875 17.1875 \nL 4.890625 17.1875 \nL 4.890625 26.703125 \nz\n\" id=\"DejaVuSans-52\"/>\n      </defs>\n      <g transform=\"translate(20.878125 241.792034)scale(0.1 -0.1)\">\n       <use xlink:href=\"#DejaVuSans-48\"/>\n       <use x=\"63.623047\" xlink:href=\"#DejaVuSans-46\"/>\n       <use x=\"95.410156\" xlink:href=\"#DejaVuSans-52\"/>\n      </g>\n     </g>\n    </g>\n    <g id=\"ytick_5\">\n     <g id=\"line2d_12\">\n      <g>\n       <use style=\"stroke:#000000;stroke-width:0.8;\" x=\"43.78125\" xlink:href=\"#m254ddc8100\" y=\"176.86817\"/>\n      </g>\n     </g>\n     <g id=\"text_13\">\n      <!-- 0.5 -->\n      <g transform=\"translate(20.878125 180.667389)scale(0.1 -0.1)\">\n       <use xlink:href=\"#DejaVuSans-48\"/>\n       <use x=\"63.623047\" xlink:href=\"#DejaVuSans-46\"/>\n       <use x=\"95.410156\" xlink:href=\"#DejaVuSans-53\"/>\n      </g>\n     </g>\n    </g>\n    <g id=\"ytick_6\">\n     <g id=\"line2d_13\">\n      <g>\n       <use style=\"stroke:#000000;stroke-width:0.8;\" x=\"43.78125\" xlink:href=\"#m254ddc8100\" y=\"115.743525\"/>\n      </g>\n     </g>\n     <g id=\"text_14\">\n      <!-- 0.6 -->\n      <defs>\n       <path d=\"M 33.015625 40.375 \nQ 26.375 40.375 22.484375 35.828125 \nQ 18.609375 31.296875 18.609375 23.390625 \nQ 18.609375 15.53125 22.484375 10.953125 \nQ 26.375 6.390625 33.015625 6.390625 \nQ 39.65625 6.390625 43.53125 10.953125 \nQ 47.40625 15.53125 47.40625 23.390625 \nQ 47.40625 31.296875 43.53125 35.828125 \nQ 39.65625 40.375 33.015625 40.375 \nz\nM 52.59375 71.296875 \nL 52.59375 62.3125 \nQ 48.875 64.0625 45.09375 64.984375 \nQ 41.3125 65.921875 37.59375 65.921875 \nQ 27.828125 65.921875 22.671875 59.328125 \nQ 17.53125 52.734375 16.796875 39.40625 \nQ 19.671875 43.65625 24.015625 45.921875 \nQ 28.375 48.1875 33.59375 48.1875 \nQ 44.578125 48.1875 50.953125 41.515625 \nQ 57.328125 34.859375 57.328125 23.390625 \nQ 57.328125 12.15625 50.6875 5.359375 \nQ 44.046875 -1.421875 33.015625 -1.421875 \nQ 20.359375 -1.421875 13.671875 8.265625 \nQ 6.984375 17.96875 6.984375 36.375 \nQ 6.984375 53.65625 15.1875 63.9375 \nQ 23.390625 74.21875 37.203125 74.21875 \nQ 40.921875 74.21875 44.703125 73.484375 \nQ 48.484375 72.75 52.59375 71.296875 \nz\n\" id=\"DejaVuSans-54\"/>\n      </defs>\n      <g transform=\"translate(20.878125 119.542744)scale(0.1 -0.1)\">\n       <use xlink:href=\"#DejaVuSans-48\"/>\n       <use x=\"63.623047\" xlink:href=\"#DejaVuSans-46\"/>\n       <use x=\"95.410156\" xlink:href=\"#DejaVuSans-54\"/>\n      </g>\n     </g>\n    </g>\n    <g id=\"ytick_7\">\n     <g id=\"line2d_14\">\n      <g>\n       <use style=\"stroke:#000000;stroke-width:0.8;\" x=\"43.78125\" xlink:href=\"#m254ddc8100\" y=\"54.61888\"/>\n      </g>\n     </g>\n     <g id=\"text_15\">\n      <!-- 0.7 -->\n      <defs>\n       <path d=\"M 8.203125 72.90625 \nL 55.078125 72.90625 \nL 55.078125 68.703125 \nL 28.609375 0 \nL 18.3125 0 \nL 43.21875 64.59375 \nL 8.203125 64.59375 \nz\n\" id=\"DejaVuSans-55\"/>\n      </defs>\n      <g transform=\"translate(20.878125 58.418099)scale(0.1 -0.1)\">\n       <use xlink:href=\"#DejaVuSans-48\"/>\n       <use x=\"63.623047\" xlink:href=\"#DejaVuSans-46\"/>\n       <use x=\"95.410156\" xlink:href=\"#DejaVuSans-55\"/>\n      </g>\n     </g>\n    </g>\n    <g id=\"text_16\">\n     <!-- Accuracy -->\n     <defs>\n      <path d=\"M 34.1875 63.1875 \nL 20.796875 26.90625 \nL 47.609375 26.90625 \nz\nM 28.609375 72.90625 \nL 39.796875 72.90625 \nL 67.578125 0 \nL 57.328125 0 \nL 50.6875 18.703125 \nL 17.828125 18.703125 \nL 11.1875 0 \nL 0.78125 0 \nz\n\" id=\"DejaVuSans-65\"/>\n      <path d=\"M 8.5 21.578125 \nL 8.5 54.6875 \nL 17.484375 54.6875 \nL 17.484375 21.921875 \nQ 17.484375 14.15625 20.5 10.265625 \nQ 23.53125 6.390625 29.59375 6.390625 \nQ 36.859375 6.390625 41.078125 11.03125 \nQ 45.3125 15.671875 45.3125 23.6875 \nL 45.3125 54.6875 \nL 54.296875 54.6875 \nL 54.296875 0 \nL 45.3125 0 \nL 45.3125 8.40625 \nQ 42.046875 3.421875 37.71875 1 \nQ 33.40625 -1.421875 27.6875 -1.421875 \nQ 18.265625 -1.421875 13.375 4.4375 \nQ 8.5 10.296875 8.5 21.578125 \nz\nM 31.109375 56 \nz\n\" id=\"DejaVuSans-117\"/>\n      <path d=\"M 41.109375 46.296875 \nQ 39.59375 47.171875 37.8125 47.578125 \nQ 36.03125 48 33.890625 48 \nQ 26.265625 48 22.1875 43.046875 \nQ 18.109375 38.09375 18.109375 28.8125 \nL 18.109375 0 \nL 9.078125 0 \nL 9.078125 54.6875 \nL 18.109375 54.6875 \nL 18.109375 46.1875 \nQ 20.953125 51.171875 25.484375 53.578125 \nQ 30.03125 56 36.53125 56 \nQ 37.453125 56 38.578125 55.875 \nQ 39.703125 55.765625 41.0625 55.515625 \nz\n\" id=\"DejaVuSans-114\"/>\n      <path d=\"M 34.28125 27.484375 \nQ 23.390625 27.484375 19.1875 25 \nQ 14.984375 22.515625 14.984375 16.5 \nQ 14.984375 11.71875 18.140625 8.90625 \nQ 21.296875 6.109375 26.703125 6.109375 \nQ 34.1875 6.109375 38.703125 11.40625 \nQ 43.21875 16.703125 43.21875 25.484375 \nL 43.21875 27.484375 \nz\nM 52.203125 31.203125 \nL 52.203125 0 \nL 43.21875 0 \nL 43.21875 8.296875 \nQ 40.140625 3.328125 35.546875 0.953125 \nQ 30.953125 -1.421875 24.3125 -1.421875 \nQ 15.921875 -1.421875 10.953125 3.296875 \nQ 6 8.015625 6 15.921875 \nQ 6 25.140625 12.171875 29.828125 \nQ 18.359375 34.515625 30.609375 34.515625 \nL 43.21875 34.515625 \nL 43.21875 35.40625 \nQ 43.21875 41.609375 39.140625 45 \nQ 35.0625 48.390625 27.6875 48.390625 \nQ 23 48.390625 18.546875 47.265625 \nQ 14.109375 46.140625 10.015625 43.890625 \nL 10.015625 52.203125 \nQ 14.9375 54.109375 19.578125 55.046875 \nQ 24.21875 56 28.609375 56 \nQ 40.484375 56 46.34375 49.84375 \nQ 52.203125 43.703125 52.203125 31.203125 \nz\n\" id=\"DejaVuSans-97\"/>\n      <path d=\"M 32.171875 -5.078125 \nQ 28.375 -14.84375 24.75 -17.8125 \nQ 21.140625 -20.796875 15.09375 -20.796875 \nL 7.90625 -20.796875 \nL 7.90625 -13.28125 \nL 13.1875 -13.28125 \nQ 16.890625 -13.28125 18.9375 -11.515625 \nQ 21 -9.765625 23.484375 -3.21875 \nL 25.09375 0.875 \nL 2.984375 54.6875 \nL 12.5 54.6875 \nL 29.59375 11.921875 \nL 46.6875 54.6875 \nL 56.203125 54.6875 \nz\n\" id=\"DejaVuSans-121\"/>\n     </defs>\n     <g transform=\"translate(14.798438 247.468125)rotate(-90)scale(0.1 -0.1)\">\n      <use xlink:href=\"#DejaVuSans-65\"/>\n      <use x=\"66.658203\" xlink:href=\"#DejaVuSans-99\"/>\n      <use x=\"121.638672\" xlink:href=\"#DejaVuSans-99\"/>\n      <use x=\"176.619141\" xlink:href=\"#DejaVuSans-117\"/>\n      <use x=\"239.998047\" xlink:href=\"#DejaVuSans-114\"/>\n      <use x=\"281.111328\" xlink:href=\"#DejaVuSans-97\"/>\n      <use x=\"342.390625\" xlink:href=\"#DejaVuSans-99\"/>\n      <use x=\"397.371094\" xlink:href=\"#DejaVuSans-121\"/>\n     </g>\n    </g>\n   </g>\n   <g id=\"line2d_15\">\n    <path clip-path=\"url(#p3ce8f68e31)\" d=\"M 64.072159 421.257601 \nL 78.065889 416.946128 \nL 92.05962 362.534276 \nL 106.05335 230.970764 \nL 120.047081 160.713794 \nL 134.040811 129.187298 \nL 148.034542 106.97504 \nL 162.028272 95.714289 \nL 176.022002 87.164126 \nL 190.015733 75.830582 \nL 204.009463 68.153612 \nL 218.003194 61.859243 \nL 231.996924 56.747311 \nL 245.990654 55.746784 \nL 259.984385 51.03507 \nL 273.978115 47.615019 \nL 287.971846 46.650853 \nL 301.965576 45.759444 \nL 315.959306 43.6492 \nL 329.953037 39.901652 \nL 343.946767 39.974446 \nL 357.940498 36.517999 \nL 371.934228 36.608936 \nL 385.927958 32.479386 \nL 399.921689 34.680603 \nL 413.915419 33.989321 \nL 427.90915 31.66077 \nL 441.90288 30.714784 \nL 455.896611 31.806284 \nL 469.890341 29.404977 \n\" style=\"fill:none;stroke:#1f77b4;stroke-dasharray:5.55,2.4;stroke-dashoffset:0;stroke-width:1.5;\"/>\n   </g>\n   <g id=\"line2d_16\">\n    <path clip-path=\"url(#p3ce8f68e31)\" d=\"M 64.072159 422.312727 \nL 78.065889 407.613705 \nL 92.05962 342.777921 \nL 106.05335 192.949771 \nL 120.047081 149.36207 \nL 134.040811 106.865887 \nL 148.034542 109.12168 \nL 162.028272 77.395093 \nL 176.022002 72.374135 \nL 190.015733 66.043369 \nL 204.009463 69.972791 \nL 218.003194 62.186704 \nL 231.996924 54.764401 \nL 245.990654 61.822846 \nL 259.984385 42.466727 \nL 273.978115 60.658589 \nL 287.971846 47.414892 \nL 301.965576 40.28369 \nL 315.959306 42.903305 \nL 329.953037 37.95514 \nL 343.946767 44.067598 \nL 357.940498 36.427025 \nL 371.934228 26.967273 \nL 385.927958 34.971667 \nL 399.921689 27.767709 \nL 413.915419 38.901126 \nL 427.90915 46.032328 \nL 441.90288 33.225245 \nL 455.896611 32.934181 \nL 469.890341 29.732401 \n\" style=\"fill:none;stroke:#ff7f0e;stroke-dasharray:5.55,2.4;stroke-dashoffset:0;stroke-width:1.5;\"/>\n   </g>\n   <g id=\"patch_3\">\n    <path d=\"M 43.78125 442.08 \nL 43.78125 7.2 \n\" style=\"fill:none;stroke:#000000;stroke-linecap:square;stroke-linejoin:miter;stroke-width:0.8;\"/>\n   </g>\n   <g id=\"patch_4\">\n    <path d=\"M 490.18125 442.08 \nL 490.18125 7.2 \n\" style=\"fill:none;stroke:#000000;stroke-linecap:square;stroke-linejoin:miter;stroke-width:0.8;\"/>\n   </g>\n   <g id=\"patch_5\">\n    <path d=\"M 43.78125 442.08 \nL 490.18125 442.08 \n\" style=\"fill:none;stroke:#000000;stroke-linecap:square;stroke-linejoin:miter;stroke-width:0.8;\"/>\n   </g>\n   <g id=\"patch_6\">\n    <path d=\"M 43.78125 7.2 \nL 490.18125 7.2 \n\" style=\"fill:none;stroke:#000000;stroke-linecap:square;stroke-linejoin:miter;stroke-width:0.8;\"/>\n   </g>\n   <g id=\"legend_1\">\n    <g id=\"patch_7\">\n     <path d=\"M 50.78125 44.834375 \nL 147.725 44.834375 \nQ 149.725 44.834375 149.725 42.834375 \nL 149.725 14.2 \nQ 149.725 12.2 147.725 12.2 \nL 50.78125 12.2 \nQ 48.78125 12.2 48.78125 14.2 \nL 48.78125 42.834375 \nQ 48.78125 44.834375 50.78125 44.834375 \nz\n\" style=\"fill:#ffffff;opacity:0.8;stroke:#cccccc;stroke-linejoin:miter;\"/>\n    </g>\n    <g id=\"line2d_17\">\n     <path d=\"M 52.78125 20.298437 \nL 72.78125 20.298437 \n\" style=\"fill:none;stroke:#1f77b4;stroke-dasharray:5.55,2.4;stroke-dashoffset:0;stroke-width:1.5;\"/>\n    </g>\n    <g id=\"line2d_18\"/>\n    <g id=\"text_17\">\n     <!-- accuracy -->\n     <g transform=\"translate(80.78125 23.798437)scale(0.1 -0.1)\">\n      <use xlink:href=\"#DejaVuSans-97\"/>\n      <use x=\"61.279297\" xlink:href=\"#DejaVuSans-99\"/>\n      <use x=\"116.259766\" xlink:href=\"#DejaVuSans-99\"/>\n      <use x=\"171.240234\" xlink:href=\"#DejaVuSans-117\"/>\n      <use x=\"234.619141\" xlink:href=\"#DejaVuSans-114\"/>\n      <use x=\"275.732422\" xlink:href=\"#DejaVuSans-97\"/>\n      <use x=\"337.011719\" xlink:href=\"#DejaVuSans-99\"/>\n      <use x=\"391.992188\" xlink:href=\"#DejaVuSans-121\"/>\n     </g>\n    </g>\n    <g id=\"line2d_19\">\n     <path d=\"M 52.78125 34.976562 \nL 72.78125 34.976562 \n\" style=\"fill:none;stroke:#ff7f0e;stroke-dasharray:5.55,2.4;stroke-dashoffset:0;stroke-width:1.5;\"/>\n    </g>\n    <g id=\"line2d_20\"/>\n    <g id=\"text_18\">\n     <!-- val_accuracy -->\n     <defs>\n      <path d=\"M 2.984375 54.6875 \nL 12.5 54.6875 \nL 29.59375 8.796875 \nL 46.6875 54.6875 \nL 56.203125 54.6875 \nL 35.6875 0 \nL 23.484375 0 \nz\n\" id=\"DejaVuSans-118\"/>\n      <path d=\"M 9.421875 75.984375 \nL 18.40625 75.984375 \nL 18.40625 0 \nL 9.421875 0 \nz\n\" id=\"DejaVuSans-108\"/>\n      <path d=\"M 50.984375 -16.609375 \nL 50.984375 -23.578125 \nL -0.984375 -23.578125 \nL -0.984375 -16.609375 \nz\n\" id=\"DejaVuSans-95\"/>\n     </defs>\n     <g transform=\"translate(80.78125 38.476562)scale(0.1 -0.1)\">\n      <use xlink:href=\"#DejaVuSans-118\"/>\n      <use x=\"59.179688\" xlink:href=\"#DejaVuSans-97\"/>\n      <use x=\"120.458984\" xlink:href=\"#DejaVuSans-108\"/>\n      <use x=\"148.242188\" xlink:href=\"#DejaVuSans-95\"/>\n      <use x=\"198.242188\" xlink:href=\"#DejaVuSans-97\"/>\n      <use x=\"259.521484\" xlink:href=\"#DejaVuSans-99\"/>\n      <use x=\"314.501953\" xlink:href=\"#DejaVuSans-99\"/>\n      <use x=\"369.482422\" xlink:href=\"#DejaVuSans-117\"/>\n      <use x=\"432.861328\" xlink:href=\"#DejaVuSans-114\"/>\n      <use x=\"473.974609\" xlink:href=\"#DejaVuSans-97\"/>\n      <use x=\"535.253906\" xlink:href=\"#DejaVuSans-99\"/>\n      <use x=\"590.234375\" xlink:href=\"#DejaVuSans-121\"/>\n     </g>\n    </g>\n   </g>\n  </g>\n </g>\n <defs>\n  <clipPath id=\"p3ce8f68e31\">\n   <rect height=\"434.88\" width=\"446.4\" x=\"43.78125\" y=\"7.2\"/>\n  </clipPath>\n </defs>\n</svg>\n"
          },
          "metadata": {
            "needs_background": "light"
          }
        }
      ],
      "source": [
        "# Plotting the accuracies\n",
        "\n",
        "dict_hist = history_model_2.history\n",
        "\n",
        "list_ep = [i for i in range(1, 31)]\n",
        "\n",
        "plt.figure(figsize = (8, 8))\n",
        "\n",
        "plt.plot(list_ep, dict_hist['accuracy'], ls = '--', label = 'accuracy')\n",
        "\n",
        "plt.plot(list_ep, dict_hist['val_accuracy'], ls = '--', label = 'val_accuracy')\n",
        "\n",
        "plt.ylabel('Accuracy')\n",
        "\n",
        "plt.xlabel('Epochs')\n",
        "\n",
        "plt.legend()\n",
        "\n",
        "plt.show()"
      ]
    },
    {
      "cell_type": "markdown",
      "metadata": {
        "id": "VPW1LlD61RDn"
      },
      "source": [
        "**Observations:**\n",
        "\n",
        "- The accuracy improved quite a bit (from ~ 63% to ~ 74%) and the model is still not overfitting. Which means that the more complex model works better.   \n",
        "- Probably if we increase complexity of the model further or train it for more epochs we could achieve even better results."
      ]
    },
    {
      "cell_type": "markdown",
      "metadata": {
        "id": "8kuXx9Bvu00f"
      },
      "source": [
        "## **Predictions on the test data**\n"
      ]
    },
    {
      "cell_type": "code",
      "execution_count": null,
      "metadata": {
        "id": "xbWMEtTj5Ad0"
      },
      "outputs": [],
      "source": [
        "test_pred = model_2.predict(X_test)\n",
        "\n",
        "test_pred = np.argmax(test_pred, axis = -1)"
      ]
    },
    {
      "cell_type": "code",
      "execution_count": null,
      "metadata": {
        "id": "NByu7uAQ8x9P"
      },
      "outputs": [],
      "source": [
        "# Converting each entry to single label from one-hot encoded vector\n",
        "\n",
        "y_test = np.argmax(y_test, axis = -1)"
      ]
    },
    {
      "cell_type": "markdown",
      "source": [
        "## **Let's build classsification report and confusion matrix for the model 2**"
      ],
      "metadata": {
        "id": "WIAYV6YKNrd1"
      }
    },
    {
      "cell_type": "code",
      "execution_count": null,
      "metadata": {
        "id": "xRddeJ-3EHT1",
        "colab": {
          "base_uri": "https://localhost:8080/",
          "height": 763
        },
        "outputId": "4ace03f8-bf9f-4ffa-e0be-82a751a6dd25"
      },
      "outputs": [
        {
          "output_type": "stream",
          "name": "stdout",
          "text": [
            "              precision    recall  f1-score   support\n",
            "\n",
            "           0       0.79      0.75      0.77      1814\n",
            "           1       0.71      0.81      0.76      1828\n",
            "           2       0.76      0.77      0.76      1803\n",
            "           3       0.73      0.69      0.71      1719\n",
            "           4       0.74      0.83      0.78      1812\n",
            "           5       0.73      0.67      0.70      1768\n",
            "           6       0.79      0.68      0.73      1832\n",
            "           7       0.77      0.80      0.78      1808\n",
            "           8       0.66      0.72      0.69      1812\n",
            "           9       0.75      0.70      0.73      1804\n",
            "\n",
            "    accuracy                           0.74     18000\n",
            "   macro avg       0.74      0.74      0.74     18000\n",
            "weighted avg       0.74      0.74      0.74     18000\n",
            "\n"
          ]
        },
        {
          "output_type": "display_data",
          "data": {
            "text/plain": [
              "<Figure size 576x360 with 2 Axes>"
            ],
            "image/svg+xml": "<?xml version=\"1.0\" encoding=\"utf-8\" standalone=\"no\"?>\n<!DOCTYPE svg PUBLIC \"-//W3C//DTD SVG 1.1//EN\"\n  \"http://www.w3.org/Graphics/SVG/1.1/DTD/svg11.dtd\">\n<!-- Created with matplotlib (https://matplotlib.org/) -->\n<svg height=\"316.55625pt\" version=\"1.1\" viewBox=\"0 0 470.23625 316.55625\" width=\"470.23625pt\" xmlns=\"http://www.w3.org/2000/svg\" xmlns:xlink=\"http://www.w3.org/1999/xlink\">\n <defs>\n  <style type=\"text/css\">\n*{stroke-linecap:butt;stroke-linejoin:round;}\n  </style>\n </defs>\n <g id=\"figure_1\">\n  <g id=\"patch_1\">\n   <path d=\"M 0 316.55625 \nL 470.23625 316.55625 \nL 470.23625 0 \nL 0 0 \nz\n\" style=\"fill:none;\"/>\n  </g>\n  <g id=\"axes_1\">\n   <g id=\"patch_2\">\n    <path d=\"M 37.55625 279 \nL 394.67625 279 \nL 394.67625 7.2 \nL 37.55625 7.2 \nz\n\" style=\"fill:#ffffff;\"/>\n   </g>\n   <g id=\"QuadMesh_1\">\n    <path clip-path=\"url(#p507ac806a0)\" d=\"M 37.55625 7.2 \nL 73.26825 7.2 \nL 73.26825 34.38 \nL 37.55625 34.38 \nL 37.55625 7.2 \n\" style=\"fill:#f7c7a8;\"/>\n    <path clip-path=\"url(#p507ac806a0)\" d=\"M 73.26825 7.2 \nL 108.98025 7.2 \nL 108.98025 34.38 \nL 73.26825 34.38 \nL 73.26825 7.2 \n\" style=\"fill:#0e0b22;\"/>\n    <path clip-path=\"url(#p507ac806a0)\" d=\"M 108.98025 7.2 \nL 144.69225 7.2 \nL 144.69225 34.38 \nL 108.98025 34.38 \nL 108.98025 7.2 \n\" style=\"fill:#07071d;\"/>\n    <path clip-path=\"url(#p507ac806a0)\" d=\"M 144.69225 7.2 \nL 180.40425 7.2 \nL 180.40425 34.38 \nL 144.69225 34.38 \nL 144.69225 7.2 \n\" style=\"fill:#07071d;\"/>\n    <path clip-path=\"url(#p507ac806a0)\" d=\"M 180.40425 7.2 \nL 216.11625 7.2 \nL 216.11625 34.38 \nL 180.40425 34.38 \nL 180.40425 7.2 \n\" style=\"fill:#100b23;\"/>\n    <path clip-path=\"url(#p507ac806a0)\" d=\"M 216.11625 7.2 \nL 251.82825 7.2 \nL 251.82825 34.38 \nL 216.11625 34.38 \nL 216.11625 7.2 \n\" style=\"fill:#06071c;\"/>\n    <path clip-path=\"url(#p507ac806a0)\" d=\"M 251.82825 7.2 \nL 287.54025 7.2 \nL 287.54025 34.38 \nL 251.82825 34.38 \nL 251.82825 7.2 \n\" style=\"fill:#100b23;\"/>\n    <path clip-path=\"url(#p507ac806a0)\" d=\"M 287.54025 7.2 \nL 323.25225 7.2 \nL 323.25225 34.38 \nL 287.54025 34.38 \nL 287.54025 7.2 \n\" style=\"fill:#07071d;\"/>\n    <path clip-path=\"url(#p507ac806a0)\" d=\"M 323.25225 7.2 \nL 358.96425 7.2 \nL 358.96425 34.38 \nL 323.25225 34.38 \nL 323.25225 7.2 \n\" style=\"fill:#0d0a21;\"/>\n    <path clip-path=\"url(#p507ac806a0)\" d=\"M 358.96425 7.2 \nL 394.67625 7.2 \nL 394.67625 34.38 \nL 358.96425 34.38 \nL 358.96425 7.2 \n\" style=\"fill:#110c24;\"/>\n    <path clip-path=\"url(#p507ac806a0)\" d=\"M 37.55625 34.38 \nL 73.26825 34.38 \nL 73.26825 61.56 \nL 37.55625 61.56 \nL 37.55625 34.38 \n\" style=\"fill:#07071d;\"/>\n    <path clip-path=\"url(#p507ac806a0)\" d=\"M 73.26825 34.38 \nL 108.98025 34.38 \nL 108.98025 61.56 \nL 73.26825 61.56 \nL 73.26825 34.38 \n\" style=\"fill:#fae6d6;\"/>\n    <path clip-path=\"url(#p507ac806a0)\" d=\"M 108.98025 34.38 \nL 144.69225 34.38 \nL 144.69225 61.56 \nL 108.98025 61.56 \nL 108.98025 34.38 \n\" style=\"fill:#05061b;\"/>\n    <path clip-path=\"url(#p507ac806a0)\" d=\"M 144.69225 34.38 \nL 180.40425 34.38 \nL 180.40425 61.56 \nL 144.69225 61.56 \nL 144.69225 34.38 \n\" style=\"fill:#0b0920;\"/>\n    <path clip-path=\"url(#p507ac806a0)\" d=\"M 180.40425 34.38 \nL 216.11625 34.38 \nL 216.11625 61.56 \nL 180.40425 61.56 \nL 180.40425 34.38 \n\" style=\"fill:#140e26;\"/>\n    <path clip-path=\"url(#p507ac806a0)\" d=\"M 216.11625 34.38 \nL 251.82825 34.38 \nL 251.82825 61.56 \nL 216.11625 61.56 \nL 216.11625 34.38 \n\" style=\"fill:#04051a;\"/>\n    <path clip-path=\"url(#p507ac806a0)\" d=\"M 251.82825 34.38 \nL 287.54025 34.38 \nL 287.54025 61.56 \nL 251.82825 61.56 \nL 251.82825 34.38 \n\" style=\"fill:#03051a;\"/>\n    <path clip-path=\"url(#p507ac806a0)\" d=\"M 287.54025 34.38 \nL 323.25225 34.38 \nL 323.25225 61.56 \nL 287.54025 61.56 \nL 287.54025 34.38 \n\" style=\"fill:#110c24;\"/>\n    <path clip-path=\"url(#p507ac806a0)\" d=\"M 323.25225 34.38 \nL 358.96425 34.38 \nL 358.96425 61.56 \nL 323.25225 61.56 \nL 323.25225 34.38 \n\" style=\"fill:#07071d;\"/>\n    <path clip-path=\"url(#p507ac806a0)\" d=\"M 358.96425 34.38 \nL 394.67625 34.38 \nL 394.67625 61.56 \nL 358.96425 61.56 \nL 358.96425 34.38 \n\" style=\"fill:#05061b;\"/>\n    <path clip-path=\"url(#p507ac806a0)\" d=\"M 37.55625 61.56 \nL 73.26825 61.56 \nL 73.26825 88.74 \nL 37.55625 88.74 \nL 37.55625 61.56 \n\" style=\"fill:#04051a;\"/>\n    <path clip-path=\"url(#p507ac806a0)\" d=\"M 73.26825 61.56 \nL 108.98025 61.56 \nL 108.98025 88.74 \nL 73.26825 88.74 \nL 73.26825 61.56 \n\" style=\"fill:#0b0920;\"/>\n    <path clip-path=\"url(#p507ac806a0)\" d=\"M 108.98025 61.56 \nL 144.69225 61.56 \nL 144.69225 88.74 \nL 108.98025 88.74 \nL 108.98025 61.56 \n\" style=\"fill:#f7cdb1;\"/>\n    <path clip-path=\"url(#p507ac806a0)\" d=\"M 144.69225 61.56 \nL 180.40425 61.56 \nL 180.40425 88.74 \nL 144.69225 88.74 \nL 144.69225 61.56 \n\" style=\"fill:#0d0a21;\"/>\n    <path clip-path=\"url(#p507ac806a0)\" d=\"M 180.40425 61.56 \nL 216.11625 61.56 \nL 216.11625 88.74 \nL 180.40425 88.74 \nL 180.40425 61.56 \n\" style=\"fill:#08081e;\"/>\n    <path clip-path=\"url(#p507ac806a0)\" d=\"M 216.11625 61.56 \nL 251.82825 61.56 \nL 251.82825 88.74 \nL 216.11625 88.74 \nL 216.11625 61.56 \n\" style=\"fill:#05061b;\"/>\n    <path clip-path=\"url(#p507ac806a0)\" d=\"M 251.82825 61.56 \nL 287.54025 61.56 \nL 287.54025 88.74 \nL 251.82825 88.74 \nL 251.82825 61.56 \n\" style=\"fill:#04051a;\"/>\n    <path clip-path=\"url(#p507ac806a0)\" d=\"M 287.54025 61.56 \nL 323.25225 61.56 \nL 323.25225 88.74 \nL 287.54025 88.74 \nL 287.54025 61.56 \n\" style=\"fill:#211330;\"/>\n    <path clip-path=\"url(#p507ac806a0)\" d=\"M 323.25225 61.56 \nL 358.96425 61.56 \nL 358.96425 88.74 \nL 323.25225 88.74 \nL 323.25225 61.56 \n\" style=\"fill:#07071d;\"/>\n    <path clip-path=\"url(#p507ac806a0)\" d=\"M 358.96425 61.56 \nL 394.67625 61.56 \nL 394.67625 88.74 \nL 358.96425 88.74 \nL 358.96425 61.56 \n\" style=\"fill:#0a091f;\"/>\n    <path clip-path=\"url(#p507ac806a0)\" d=\"M 37.55625 88.74 \nL 73.26825 88.74 \nL 73.26825 115.92 \nL 37.55625 115.92 \nL 37.55625 88.74 \n\" style=\"fill:#06071c;\"/>\n    <path clip-path=\"url(#p507ac806a0)\" d=\"M 73.26825 88.74 \nL 108.98025 88.74 \nL 108.98025 115.92 \nL 73.26825 115.92 \nL 73.26825 88.74 \n\" style=\"fill:#110c24;\"/>\n    <path clip-path=\"url(#p507ac806a0)\" d=\"M 108.98025 88.74 \nL 144.69225 88.74 \nL 144.69225 115.92 \nL 108.98025 115.92 \nL 108.98025 88.74 \n\" style=\"fill:#140e26;\"/>\n    <path clip-path=\"url(#p507ac806a0)\" d=\"M 144.69225 88.74 \nL 180.40425 88.74 \nL 180.40425 115.92 \nL 144.69225 115.92 \nL 144.69225 88.74 \n\" style=\"fill:#f5966c;\"/>\n    <path clip-path=\"url(#p507ac806a0)\" d=\"M 180.40425 88.74 \nL 216.11625 88.74 \nL 216.11625 115.92 \nL 180.40425 115.92 \nL 180.40425 88.74 \n\" style=\"fill:#0a091f;\"/>\n    <path clip-path=\"url(#p507ac806a0)\" d=\"M 216.11625 88.74 \nL 251.82825 88.74 \nL 251.82825 115.92 \nL 216.11625 115.92 \nL 216.11625 88.74 \n\" style=\"fill:#211330;\"/>\n    <path clip-path=\"url(#p507ac806a0)\" d=\"M 251.82825 88.74 \nL 287.54025 88.74 \nL 287.54025 115.92 \nL 251.82825 115.92 \nL 251.82825 88.74 \n\" style=\"fill:#04051a;\"/>\n    <path clip-path=\"url(#p507ac806a0)\" d=\"M 287.54025 88.74 \nL 323.25225 88.74 \nL 323.25225 115.92 \nL 287.54025 115.92 \nL 287.54025 88.74 \n\" style=\"fill:#0a091f;\"/>\n    <path clip-path=\"url(#p507ac806a0)\" d=\"M 323.25225 88.74 \nL 358.96425 88.74 \nL 358.96425 115.92 \nL 323.25225 115.92 \nL 323.25225 88.74 \n\" style=\"fill:#110c24;\"/>\n    <path clip-path=\"url(#p507ac806a0)\" d=\"M 358.96425 88.74 \nL 394.67625 88.74 \nL 394.67625 115.92 \nL 358.96425 115.92 \nL 358.96425 88.74 \n\" style=\"fill:#07071d;\"/>\n    <path clip-path=\"url(#p507ac806a0)\" d=\"M 37.55625 115.92 \nL 73.26825 115.92 \nL 73.26825 143.1 \nL 37.55625 143.1 \nL 37.55625 115.92 \n\" style=\"fill:#06071c;\"/>\n    <path clip-path=\"url(#p507ac806a0)\" d=\"M 73.26825 115.92 \nL 108.98025 115.92 \nL 108.98025 143.1 \nL 73.26825 143.1 \nL 73.26825 115.92 \n\" style=\"fill:#100b23;\"/>\n    <path clip-path=\"url(#p507ac806a0)\" d=\"M 108.98025 115.92 \nL 144.69225 115.92 \nL 144.69225 143.1 \nL 108.98025 143.1 \nL 108.98025 115.92 \n\" style=\"fill:#07071d;\"/>\n    <path clip-path=\"url(#p507ac806a0)\" d=\"M 144.69225 115.92 \nL 180.40425 115.92 \nL 180.40425 143.1 \nL 144.69225 143.1 \nL 144.69225 115.92 \n\" style=\"fill:#05061b;\"/>\n    <path clip-path=\"url(#p507ac806a0)\" d=\"M 180.40425 115.92 \nL 216.11625 115.92 \nL 216.11625 143.1 \nL 180.40425 143.1 \nL 180.40425 115.92 \n\" style=\"fill:#faebdd;\"/>\n    <path clip-path=\"url(#p507ac806a0)\" d=\"M 216.11625 115.92 \nL 251.82825 115.92 \nL 251.82825 143.1 \nL 216.11625 143.1 \nL 216.11625 115.92 \n\" style=\"fill:#07071d;\"/>\n    <path clip-path=\"url(#p507ac806a0)\" d=\"M 251.82825 115.92 \nL 287.54025 115.92 \nL 287.54025 143.1 \nL 251.82825 143.1 \nL 251.82825 115.92 \n\" style=\"fill:#06071c;\"/>\n    <path clip-path=\"url(#p507ac806a0)\" d=\"M 287.54025 115.92 \nL 323.25225 115.92 \nL 323.25225 143.1 \nL 287.54025 143.1 \nL 287.54025 115.92 \n\" style=\"fill:#04051a;\"/>\n    <path clip-path=\"url(#p507ac806a0)\" d=\"M 323.25225 115.92 \nL 358.96425 115.92 \nL 358.96425 143.1 \nL 323.25225 143.1 \nL 323.25225 115.92 \n\" style=\"fill:#06071c;\"/>\n    <path clip-path=\"url(#p507ac806a0)\" d=\"M 358.96425 115.92 \nL 394.67625 115.92 \nL 394.67625 143.1 \nL 358.96425 143.1 \nL 358.96425 115.92 \n\" style=\"fill:#0a091f;\"/>\n    <path clip-path=\"url(#p507ac806a0)\" d=\"M 37.55625 143.1 \nL 73.26825 143.1 \nL 73.26825 170.28 \nL 37.55625 170.28 \nL 37.55625 143.1 \n\" style=\"fill:#07071d;\"/>\n    <path clip-path=\"url(#p507ac806a0)\" d=\"M 73.26825 143.1 \nL 108.98025 143.1 \nL 108.98025 170.28 \nL 73.26825 170.28 \nL 73.26825 143.1 \n\" style=\"fill:#0d0a21;\"/>\n    <path clip-path=\"url(#p507ac806a0)\" d=\"M 108.98025 143.1 \nL 144.69225 143.1 \nL 144.69225 170.28 \nL 108.98025 170.28 \nL 108.98025 143.1 \n\" style=\"fill:#06071c;\"/>\n    <path clip-path=\"url(#p507ac806a0)\" d=\"M 144.69225 143.1 \nL 180.40425 143.1 \nL 180.40425 170.28 \nL 144.69225 170.28 \nL 144.69225 143.1 \n\" style=\"fill:#1b112b;\"/>\n    <path clip-path=\"url(#p507ac806a0)\" d=\"M 180.40425 143.1 \nL 216.11625 143.1 \nL 216.11625 170.28 \nL 180.40425 170.28 \nL 180.40425 143.1 \n\" style=\"fill:#0b0920;\"/>\n    <path clip-path=\"url(#p507ac806a0)\" d=\"M 216.11625 143.1 \nL 251.82825 143.1 \nL 251.82825 170.28 \nL 216.11625 170.28 \nL 216.11625 143.1 \n\" style=\"fill:#f5976e;\"/>\n    <path clip-path=\"url(#p507ac806a0)\" d=\"M 251.82825 143.1 \nL 287.54025 143.1 \nL 287.54025 170.28 \nL 251.82825 170.28 \nL 251.82825 143.1 \n\" style=\"fill:#100b23;\"/>\n    <path clip-path=\"url(#p507ac806a0)\" d=\"M 287.54025 143.1 \nL 323.25225 143.1 \nL 323.25225 170.28 \nL 287.54025 170.28 \nL 287.54025 143.1 \n\" style=\"fill:#07071d;\"/>\n    <path clip-path=\"url(#p507ac806a0)\" d=\"M 323.25225 143.1 \nL 358.96425 143.1 \nL 358.96425 170.28 \nL 323.25225 170.28 \nL 323.25225 143.1 \n\" style=\"fill:#241432;\"/>\n    <path clip-path=\"url(#p507ac806a0)\" d=\"M 358.96425 143.1 \nL 394.67625 143.1 \nL 394.67625 170.28 \nL 358.96425 170.28 \nL 358.96425 143.1 \n\" style=\"fill:#0d0a21;\"/>\n    <path clip-path=\"url(#p507ac806a0)\" d=\"M 37.55625 170.28 \nL 73.26825 170.28 \nL 73.26825 197.46 \nL 37.55625 197.46 \nL 37.55625 170.28 \n\" style=\"fill:#110c24;\"/>\n    <path clip-path=\"url(#p507ac806a0)\" d=\"M 73.26825 170.28 \nL 108.98025 170.28 \nL 108.98025 197.46 \nL 73.26825 197.46 \nL 73.26825 170.28 \n\" style=\"fill:#0d0a21;\"/>\n    <path clip-path=\"url(#p507ac806a0)\" d=\"M 108.98025 170.28 \nL 144.69225 170.28 \nL 144.69225 197.46 \nL 108.98025 197.46 \nL 108.98025 170.28 \n\" style=\"fill:#05061b;\"/>\n    <path clip-path=\"url(#p507ac806a0)\" d=\"M 144.69225 170.28 \nL 180.40425 170.28 \nL 180.40425 197.46 \nL 144.69225 197.46 \nL 144.69225 170.28 \n\" style=\"fill:#06071c;\"/>\n    <path clip-path=\"url(#p507ac806a0)\" d=\"M 180.40425 170.28 \nL 216.11625 170.28 \nL 216.11625 197.46 \nL 180.40425 197.46 \nL 180.40425 170.28 \n\" style=\"fill:#1b112b;\"/>\n    <path clip-path=\"url(#p507ac806a0)\" d=\"M 216.11625 170.28 \nL 251.82825 170.28 \nL 251.82825 197.46 \nL 216.11625 197.46 \nL 216.11625 170.28 \n\" style=\"fill:#110c24;\"/>\n    <path clip-path=\"url(#p507ac806a0)\" d=\"M 251.82825 170.28 \nL 287.54025 170.28 \nL 287.54025 197.46 \nL 251.82825 197.46 \nL 251.82825 170.28 \n\" style=\"fill:#f6a880;\"/>\n    <path clip-path=\"url(#p507ac806a0)\" d=\"M 287.54025 170.28 \nL 323.25225 170.28 \nL 323.25225 197.46 \nL 287.54025 197.46 \nL 287.54025 170.28 \n\" style=\"fill:#04051a;\"/>\n    <path clip-path=\"url(#p507ac806a0)\" d=\"M 323.25225 170.28 \nL 358.96425 170.28 \nL 358.96425 197.46 \nL 323.25225 197.46 \nL 323.25225 170.28 \n\" style=\"fill:#2d1738;\"/>\n    <path clip-path=\"url(#p507ac806a0)\" d=\"M 358.96425 170.28 \nL 394.67625 170.28 \nL 394.67625 197.46 \nL 358.96425 197.46 \nL 358.96425 170.28 \n\" style=\"fill:#05061b;\"/>\n    <path clip-path=\"url(#p507ac806a0)\" d=\"M 37.55625 197.46 \nL 73.26825 197.46 \nL 73.26825 224.64 \nL 37.55625 224.64 \nL 37.55625 197.46 \n\" style=\"fill:#05061b;\"/>\n    <path clip-path=\"url(#p507ac806a0)\" d=\"M 73.26825 197.46 \nL 108.98025 197.46 \nL 108.98025 224.64 \nL 73.26825 224.64 \nL 73.26825 197.46 \n\" style=\"fill:#180f29;\"/>\n    <path clip-path=\"url(#p507ac806a0)\" d=\"M 108.98025 197.46 \nL 144.69225 197.46 \nL 144.69225 224.64 \nL 108.98025 224.64 \nL 108.98025 197.46 \n\" style=\"fill:#180f29;\"/>\n    <path clip-path=\"url(#p507ac806a0)\" d=\"M 144.69225 197.46 \nL 180.40425 197.46 \nL 180.40425 224.64 \nL 144.69225 224.64 \nL 144.69225 197.46 \n\" style=\"fill:#08081e;\"/>\n    <path clip-path=\"url(#p507ac806a0)\" d=\"M 180.40425 197.46 \nL 216.11625 197.46 \nL 216.11625 224.64 \nL 180.40425 224.64 \nL 180.40425 197.46 \n\" style=\"fill:#04051a;\"/>\n    <path clip-path=\"url(#p507ac806a0)\" d=\"M 216.11625 197.46 \nL 251.82825 197.46 \nL 251.82825 224.64 \nL 216.11625 224.64 \nL 216.11625 197.46 \n\" style=\"fill:#03051a;\"/>\n    <path clip-path=\"url(#p507ac806a0)\" d=\"M 251.82825 197.46 \nL 287.54025 197.46 \nL 287.54025 224.64 \nL 251.82825 224.64 \nL 251.82825 197.46 \n\" style=\"fill:#03051a;\"/>\n    <path clip-path=\"url(#p507ac806a0)\" d=\"M 287.54025 197.46 \nL 323.25225 197.46 \nL 323.25225 224.64 \nL 287.54025 224.64 \nL 287.54025 197.46 \n\" style=\"fill:#f9ddc9;\"/>\n    <path clip-path=\"url(#p507ac806a0)\" d=\"M 323.25225 197.46 \nL 358.96425 197.46 \nL 358.96425 224.64 \nL 323.25225 224.64 \nL 323.25225 197.46 \n\" style=\"fill:#06071c;\"/>\n    <path clip-path=\"url(#p507ac806a0)\" d=\"M 358.96425 197.46 \nL 394.67625 197.46 \nL 394.67625 224.64 \nL 358.96425 224.64 \nL 358.96425 197.46 \n\" style=\"fill:#07071d;\"/>\n    <path clip-path=\"url(#p507ac806a0)\" d=\"M 37.55625 224.64 \nL 73.26825 224.64 \nL 73.26825 251.82 \nL 37.55625 251.82 \nL 37.55625 224.64 \n\" style=\"fill:#08081e;\"/>\n    <path clip-path=\"url(#p507ac806a0)\" d=\"M 73.26825 224.64 \nL 108.98025 224.64 \nL 108.98025 251.82 \nL 73.26825 251.82 \nL 73.26825 224.64 \n\" style=\"fill:#110c24;\"/>\n    <path clip-path=\"url(#p507ac806a0)\" d=\"M 108.98025 224.64 \nL 144.69225 224.64 \nL 144.69225 251.82 \nL 108.98025 251.82 \nL 108.98025 224.64 \n\" style=\"fill:#0d0a21;\"/>\n    <path clip-path=\"url(#p507ac806a0)\" d=\"M 144.69225 224.64 \nL 180.40425 224.64 \nL 180.40425 251.82 \nL 144.69225 251.82 \nL 144.69225 224.64 \n\" style=\"fill:#08081e;\"/>\n    <path clip-path=\"url(#p507ac806a0)\" d=\"M 180.40425 224.64 \nL 216.11625 224.64 \nL 216.11625 251.82 \nL 180.40425 251.82 \nL 180.40425 224.64 \n\" style=\"fill:#0d0a21;\"/>\n    <path clip-path=\"url(#p507ac806a0)\" d=\"M 216.11625 224.64 \nL 251.82825 224.64 \nL 251.82825 251.82 \nL 216.11625 251.82 \nL 216.11625 224.64 \n\" style=\"fill:#0b0920;\"/>\n    <path clip-path=\"url(#p507ac806a0)\" d=\"M 251.82825 224.64 \nL 287.54025 224.64 \nL 287.54025 251.82 \nL 251.82825 251.82 \nL 251.82825 224.64 \n\" style=\"fill:#160e27;\"/>\n    <path clip-path=\"url(#p507ac806a0)\" d=\"M 287.54025 224.64 \nL 323.25225 224.64 \nL 323.25225 251.82 \nL 287.54025 251.82 \nL 287.54025 224.64 \n\" style=\"fill:#05061b;\"/>\n    <path clip-path=\"url(#p507ac806a0)\" d=\"M 323.25225 224.64 \nL 358.96425 224.64 \nL 358.96425 251.82 \nL 323.25225 251.82 \nL 323.25225 224.64 \n\" style=\"fill:#f6b893;\"/>\n    <path clip-path=\"url(#p507ac806a0)\" d=\"M 358.96425 224.64 \nL 394.67625 224.64 \nL 394.67625 251.82 \nL 358.96425 251.82 \nL 358.96425 224.64 \n\" style=\"fill:#140e26;\"/>\n    <path clip-path=\"url(#p507ac806a0)\" d=\"M 37.55625 251.82 \nL 73.26825 251.82 \nL 73.26825 279 \nL 37.55625 279 \nL 37.55625 251.82 \n\" style=\"fill:#140e26;\"/>\n    <path clip-path=\"url(#p507ac806a0)\" d=\"M 73.26825 251.82 \nL 108.98025 251.82 \nL 108.98025 279 \nL 73.26825 279 \nL 73.26825 251.82 \n\" style=\"fill:#0e0b22;\"/>\n    <path clip-path=\"url(#p507ac806a0)\" d=\"M 108.98025 251.82 \nL 144.69225 251.82 \nL 144.69225 279 \nL 108.98025 279 \nL 108.98025 251.82 \n\" style=\"fill:#0b0920;\"/>\n    <path clip-path=\"url(#p507ac806a0)\" d=\"M 144.69225 251.82 \nL 180.40425 251.82 \nL 180.40425 279 \nL 144.69225 279 \nL 144.69225 251.82 \n\" style=\"fill:#100b23;\"/>\n    <path clip-path=\"url(#p507ac806a0)\" d=\"M 180.40425 251.82 \nL 216.11625 251.82 \nL 216.11625 279 \nL 180.40425 279 \nL 180.40425 251.82 \n\" style=\"fill:#0d0a21;\"/>\n    <path clip-path=\"url(#p507ac806a0)\" d=\"M 216.11625 251.82 \nL 251.82825 251.82 \nL 251.82825 279 \nL 216.11625 279 \nL 216.11625 251.82 \n\" style=\"fill:#0e0b22;\"/>\n    <path clip-path=\"url(#p507ac806a0)\" d=\"M 251.82825 251.82 \nL 287.54025 251.82 \nL 287.54025 279 \nL 251.82825 279 \nL 251.82825 251.82 \n\" style=\"fill:#04051a;\"/>\n    <path clip-path=\"url(#p507ac806a0)\" d=\"M 287.54025 251.82 \nL 323.25225 251.82 \nL 323.25225 279 \nL 287.54025 279 \nL 287.54025 251.82 \n\" style=\"fill:#0e0b22;\"/>\n    <path clip-path=\"url(#p507ac806a0)\" d=\"M 323.25225 251.82 \nL 358.96425 251.82 \nL 358.96425 279 \nL 323.25225 279 \nL 323.25225 251.82 \n\" style=\"fill:#110c24;\"/>\n    <path clip-path=\"url(#p507ac806a0)\" d=\"M 358.96425 251.82 \nL 394.67625 251.82 \nL 394.67625 279 \nL 358.96425 279 \nL 358.96425 251.82 \n\" style=\"fill:#f6ad85;\"/>\n   </g>\n   <g id=\"matplotlib.axis_1\">\n    <g id=\"xtick_1\">\n     <g id=\"line2d_1\">\n      <defs>\n       <path d=\"M 0 0 \nL 0 3.5 \n\" id=\"maa351e6819\" style=\"stroke:#000000;stroke-width:0.8;\"/>\n      </defs>\n      <g>\n       <use style=\"stroke:#000000;stroke-width:0.8;\" x=\"55.41225\" xlink:href=\"#maa351e6819\" y=\"279\"/>\n      </g>\n     </g>\n     <g id=\"text_1\">\n      <!-- 0 -->\n      <defs>\n       <path d=\"M 31.78125 66.40625 \nQ 24.171875 66.40625 20.328125 58.90625 \nQ 16.5 51.421875 16.5 36.375 \nQ 16.5 21.390625 20.328125 13.890625 \nQ 24.171875 6.390625 31.78125 6.390625 \nQ 39.453125 6.390625 43.28125 13.890625 \nQ 47.125 21.390625 47.125 36.375 \nQ 47.125 51.421875 43.28125 58.90625 \nQ 39.453125 66.40625 31.78125 66.40625 \nz\nM 31.78125 74.21875 \nQ 44.046875 74.21875 50.515625 64.515625 \nQ 56.984375 54.828125 56.984375 36.375 \nQ 56.984375 17.96875 50.515625 8.265625 \nQ 44.046875 -1.421875 31.78125 -1.421875 \nQ 19.53125 -1.421875 13.0625 8.265625 \nQ 6.59375 17.96875 6.59375 36.375 \nQ 6.59375 54.828125 13.0625 64.515625 \nQ 19.53125 74.21875 31.78125 74.21875 \nz\n\" id=\"DejaVuSans-48\"/>\n      </defs>\n      <g transform=\"translate(52.231 293.598437)scale(0.1 -0.1)\">\n       <use xlink:href=\"#DejaVuSans-48\"/>\n      </g>\n     </g>\n    </g>\n    <g id=\"xtick_2\">\n     <g id=\"line2d_2\">\n      <g>\n       <use style=\"stroke:#000000;stroke-width:0.8;\" x=\"91.12425\" xlink:href=\"#maa351e6819\" y=\"279\"/>\n      </g>\n     </g>\n     <g id=\"text_2\">\n      <!-- 1 -->\n      <defs>\n       <path d=\"M 12.40625 8.296875 \nL 28.515625 8.296875 \nL 28.515625 63.921875 \nL 10.984375 60.40625 \nL 10.984375 69.390625 \nL 28.421875 72.90625 \nL 38.28125 72.90625 \nL 38.28125 8.296875 \nL 54.390625 8.296875 \nL 54.390625 0 \nL 12.40625 0 \nz\n\" id=\"DejaVuSans-49\"/>\n      </defs>\n      <g transform=\"translate(87.943 293.598437)scale(0.1 -0.1)\">\n       <use xlink:href=\"#DejaVuSans-49\"/>\n      </g>\n     </g>\n    </g>\n    <g id=\"xtick_3\">\n     <g id=\"line2d_3\">\n      <g>\n       <use style=\"stroke:#000000;stroke-width:0.8;\" x=\"126.83625\" xlink:href=\"#maa351e6819\" y=\"279\"/>\n      </g>\n     </g>\n     <g id=\"text_3\">\n      <!-- 2 -->\n      <defs>\n       <path d=\"M 19.1875 8.296875 \nL 53.609375 8.296875 \nL 53.609375 0 \nL 7.328125 0 \nL 7.328125 8.296875 \nQ 12.9375 14.109375 22.625 23.890625 \nQ 32.328125 33.6875 34.8125 36.53125 \nQ 39.546875 41.84375 41.421875 45.53125 \nQ 43.3125 49.21875 43.3125 52.78125 \nQ 43.3125 58.59375 39.234375 62.25 \nQ 35.15625 65.921875 28.609375 65.921875 \nQ 23.96875 65.921875 18.8125 64.3125 \nQ 13.671875 62.703125 7.8125 59.421875 \nL 7.8125 69.390625 \nQ 13.765625 71.78125 18.9375 73 \nQ 24.125 74.21875 28.421875 74.21875 \nQ 39.75 74.21875 46.484375 68.546875 \nQ 53.21875 62.890625 53.21875 53.421875 \nQ 53.21875 48.921875 51.53125 44.890625 \nQ 49.859375 40.875 45.40625 35.40625 \nQ 44.1875 33.984375 37.640625 27.21875 \nQ 31.109375 20.453125 19.1875 8.296875 \nz\n\" id=\"DejaVuSans-50\"/>\n      </defs>\n      <g transform=\"translate(123.655 293.598437)scale(0.1 -0.1)\">\n       <use xlink:href=\"#DejaVuSans-50\"/>\n      </g>\n     </g>\n    </g>\n    <g id=\"xtick_4\">\n     <g id=\"line2d_4\">\n      <g>\n       <use style=\"stroke:#000000;stroke-width:0.8;\" x=\"162.54825\" xlink:href=\"#maa351e6819\" y=\"279\"/>\n      </g>\n     </g>\n     <g id=\"text_4\">\n      <!-- 3 -->\n      <defs>\n       <path d=\"M 40.578125 39.3125 \nQ 47.65625 37.796875 51.625 33 \nQ 55.609375 28.21875 55.609375 21.1875 \nQ 55.609375 10.40625 48.1875 4.484375 \nQ 40.765625 -1.421875 27.09375 -1.421875 \nQ 22.515625 -1.421875 17.65625 -0.515625 \nQ 12.796875 0.390625 7.625 2.203125 \nL 7.625 11.71875 \nQ 11.71875 9.328125 16.59375 8.109375 \nQ 21.484375 6.890625 26.8125 6.890625 \nQ 36.078125 6.890625 40.9375 10.546875 \nQ 45.796875 14.203125 45.796875 21.1875 \nQ 45.796875 27.640625 41.28125 31.265625 \nQ 36.765625 34.90625 28.71875 34.90625 \nL 20.21875 34.90625 \nL 20.21875 43.015625 \nL 29.109375 43.015625 \nQ 36.375 43.015625 40.234375 45.921875 \nQ 44.09375 48.828125 44.09375 54.296875 \nQ 44.09375 59.90625 40.109375 62.90625 \nQ 36.140625 65.921875 28.71875 65.921875 \nQ 24.65625 65.921875 20.015625 65.03125 \nQ 15.375 64.15625 9.8125 62.3125 \nL 9.8125 71.09375 \nQ 15.4375 72.65625 20.34375 73.4375 \nQ 25.25 74.21875 29.59375 74.21875 \nQ 40.828125 74.21875 47.359375 69.109375 \nQ 53.90625 64.015625 53.90625 55.328125 \nQ 53.90625 49.265625 50.4375 45.09375 \nQ 46.96875 40.921875 40.578125 39.3125 \nz\n\" id=\"DejaVuSans-51\"/>\n      </defs>\n      <g transform=\"translate(159.367 293.598437)scale(0.1 -0.1)\">\n       <use xlink:href=\"#DejaVuSans-51\"/>\n      </g>\n     </g>\n    </g>\n    <g id=\"xtick_5\">\n     <g id=\"line2d_5\">\n      <g>\n       <use style=\"stroke:#000000;stroke-width:0.8;\" x=\"198.26025\" xlink:href=\"#maa351e6819\" y=\"279\"/>\n      </g>\n     </g>\n     <g id=\"text_5\">\n      <!-- 4 -->\n      <defs>\n       <path d=\"M 37.796875 64.3125 \nL 12.890625 25.390625 \nL 37.796875 25.390625 \nz\nM 35.203125 72.90625 \nL 47.609375 72.90625 \nL 47.609375 25.390625 \nL 58.015625 25.390625 \nL 58.015625 17.1875 \nL 47.609375 17.1875 \nL 47.609375 0 \nL 37.796875 0 \nL 37.796875 17.1875 \nL 4.890625 17.1875 \nL 4.890625 26.703125 \nz\n\" id=\"DejaVuSans-52\"/>\n      </defs>\n      <g transform=\"translate(195.079 293.598437)scale(0.1 -0.1)\">\n       <use xlink:href=\"#DejaVuSans-52\"/>\n      </g>\n     </g>\n    </g>\n    <g id=\"xtick_6\">\n     <g id=\"line2d_6\">\n      <g>\n       <use style=\"stroke:#000000;stroke-width:0.8;\" x=\"233.97225\" xlink:href=\"#maa351e6819\" y=\"279\"/>\n      </g>\n     </g>\n     <g id=\"text_6\">\n      <!-- 5 -->\n      <defs>\n       <path d=\"M 10.796875 72.90625 \nL 49.515625 72.90625 \nL 49.515625 64.59375 \nL 19.828125 64.59375 \nL 19.828125 46.734375 \nQ 21.96875 47.46875 24.109375 47.828125 \nQ 26.265625 48.1875 28.421875 48.1875 \nQ 40.625 48.1875 47.75 41.5 \nQ 54.890625 34.8125 54.890625 23.390625 \nQ 54.890625 11.625 47.5625 5.09375 \nQ 40.234375 -1.421875 26.90625 -1.421875 \nQ 22.3125 -1.421875 17.546875 -0.640625 \nQ 12.796875 0.140625 7.71875 1.703125 \nL 7.71875 11.625 \nQ 12.109375 9.234375 16.796875 8.0625 \nQ 21.484375 6.890625 26.703125 6.890625 \nQ 35.15625 6.890625 40.078125 11.328125 \nQ 45.015625 15.765625 45.015625 23.390625 \nQ 45.015625 31 40.078125 35.4375 \nQ 35.15625 39.890625 26.703125 39.890625 \nQ 22.75 39.890625 18.8125 39.015625 \nQ 14.890625 38.140625 10.796875 36.28125 \nz\n\" id=\"DejaVuSans-53\"/>\n      </defs>\n      <g transform=\"translate(230.791 293.598437)scale(0.1 -0.1)\">\n       <use xlink:href=\"#DejaVuSans-53\"/>\n      </g>\n     </g>\n    </g>\n    <g id=\"xtick_7\">\n     <g id=\"line2d_7\">\n      <g>\n       <use style=\"stroke:#000000;stroke-width:0.8;\" x=\"269.68425\" xlink:href=\"#maa351e6819\" y=\"279\"/>\n      </g>\n     </g>\n     <g id=\"text_7\">\n      <!-- 6 -->\n      <defs>\n       <path d=\"M 33.015625 40.375 \nQ 26.375 40.375 22.484375 35.828125 \nQ 18.609375 31.296875 18.609375 23.390625 \nQ 18.609375 15.53125 22.484375 10.953125 \nQ 26.375 6.390625 33.015625 6.390625 \nQ 39.65625 6.390625 43.53125 10.953125 \nQ 47.40625 15.53125 47.40625 23.390625 \nQ 47.40625 31.296875 43.53125 35.828125 \nQ 39.65625 40.375 33.015625 40.375 \nz\nM 52.59375 71.296875 \nL 52.59375 62.3125 \nQ 48.875 64.0625 45.09375 64.984375 \nQ 41.3125 65.921875 37.59375 65.921875 \nQ 27.828125 65.921875 22.671875 59.328125 \nQ 17.53125 52.734375 16.796875 39.40625 \nQ 19.671875 43.65625 24.015625 45.921875 \nQ 28.375 48.1875 33.59375 48.1875 \nQ 44.578125 48.1875 50.953125 41.515625 \nQ 57.328125 34.859375 57.328125 23.390625 \nQ 57.328125 12.15625 50.6875 5.359375 \nQ 44.046875 -1.421875 33.015625 -1.421875 \nQ 20.359375 -1.421875 13.671875 8.265625 \nQ 6.984375 17.96875 6.984375 36.375 \nQ 6.984375 53.65625 15.1875 63.9375 \nQ 23.390625 74.21875 37.203125 74.21875 \nQ 40.921875 74.21875 44.703125 73.484375 \nQ 48.484375 72.75 52.59375 71.296875 \nz\n\" id=\"DejaVuSans-54\"/>\n      </defs>\n      <g transform=\"translate(266.503 293.598437)scale(0.1 -0.1)\">\n       <use xlink:href=\"#DejaVuSans-54\"/>\n      </g>\n     </g>\n    </g>\n    <g id=\"xtick_8\">\n     <g id=\"line2d_8\">\n      <g>\n       <use style=\"stroke:#000000;stroke-width:0.8;\" x=\"305.39625\" xlink:href=\"#maa351e6819\" y=\"279\"/>\n      </g>\n     </g>\n     <g id=\"text_8\">\n      <!-- 7 -->\n      <defs>\n       <path d=\"M 8.203125 72.90625 \nL 55.078125 72.90625 \nL 55.078125 68.703125 \nL 28.609375 0 \nL 18.3125 0 \nL 43.21875 64.59375 \nL 8.203125 64.59375 \nz\n\" id=\"DejaVuSans-55\"/>\n      </defs>\n      <g transform=\"translate(302.215 293.598437)scale(0.1 -0.1)\">\n       <use xlink:href=\"#DejaVuSans-55\"/>\n      </g>\n     </g>\n    </g>\n    <g id=\"xtick_9\">\n     <g id=\"line2d_9\">\n      <g>\n       <use style=\"stroke:#000000;stroke-width:0.8;\" x=\"341.10825\" xlink:href=\"#maa351e6819\" y=\"279\"/>\n      </g>\n     </g>\n     <g id=\"text_9\">\n      <!-- 8 -->\n      <defs>\n       <path d=\"M 31.78125 34.625 \nQ 24.75 34.625 20.71875 30.859375 \nQ 16.703125 27.09375 16.703125 20.515625 \nQ 16.703125 13.921875 20.71875 10.15625 \nQ 24.75 6.390625 31.78125 6.390625 \nQ 38.8125 6.390625 42.859375 10.171875 \nQ 46.921875 13.96875 46.921875 20.515625 \nQ 46.921875 27.09375 42.890625 30.859375 \nQ 38.875 34.625 31.78125 34.625 \nz\nM 21.921875 38.8125 \nQ 15.578125 40.375 12.03125 44.71875 \nQ 8.5 49.078125 8.5 55.328125 \nQ 8.5 64.0625 14.71875 69.140625 \nQ 20.953125 74.21875 31.78125 74.21875 \nQ 42.671875 74.21875 48.875 69.140625 \nQ 55.078125 64.0625 55.078125 55.328125 \nQ 55.078125 49.078125 51.53125 44.71875 \nQ 48 40.375 41.703125 38.8125 \nQ 48.828125 37.15625 52.796875 32.3125 \nQ 56.78125 27.484375 56.78125 20.515625 \nQ 56.78125 9.90625 50.3125 4.234375 \nQ 43.84375 -1.421875 31.78125 -1.421875 \nQ 19.734375 -1.421875 13.25 4.234375 \nQ 6.78125 9.90625 6.78125 20.515625 \nQ 6.78125 27.484375 10.78125 32.3125 \nQ 14.796875 37.15625 21.921875 38.8125 \nz\nM 18.3125 54.390625 \nQ 18.3125 48.734375 21.84375 45.5625 \nQ 25.390625 42.390625 31.78125 42.390625 \nQ 38.140625 42.390625 41.71875 45.5625 \nQ 45.3125 48.734375 45.3125 54.390625 \nQ 45.3125 60.0625 41.71875 63.234375 \nQ 38.140625 66.40625 31.78125 66.40625 \nQ 25.390625 66.40625 21.84375 63.234375 \nQ 18.3125 60.0625 18.3125 54.390625 \nz\n\" id=\"DejaVuSans-56\"/>\n      </defs>\n      <g transform=\"translate(337.927 293.598437)scale(0.1 -0.1)\">\n       <use xlink:href=\"#DejaVuSans-56\"/>\n      </g>\n     </g>\n    </g>\n    <g id=\"xtick_10\">\n     <g id=\"line2d_10\">\n      <g>\n       <use style=\"stroke:#000000;stroke-width:0.8;\" x=\"376.82025\" xlink:href=\"#maa351e6819\" y=\"279\"/>\n      </g>\n     </g>\n     <g id=\"text_10\">\n      <!-- 9 -->\n      <defs>\n       <path d=\"M 10.984375 1.515625 \nL 10.984375 10.5 \nQ 14.703125 8.734375 18.5 7.8125 \nQ 22.3125 6.890625 25.984375 6.890625 \nQ 35.75 6.890625 40.890625 13.453125 \nQ 46.046875 20.015625 46.78125 33.40625 \nQ 43.953125 29.203125 39.59375 26.953125 \nQ 35.25 24.703125 29.984375 24.703125 \nQ 19.046875 24.703125 12.671875 31.3125 \nQ 6.296875 37.9375 6.296875 49.421875 \nQ 6.296875 60.640625 12.9375 67.421875 \nQ 19.578125 74.21875 30.609375 74.21875 \nQ 43.265625 74.21875 49.921875 64.515625 \nQ 56.59375 54.828125 56.59375 36.375 \nQ 56.59375 19.140625 48.40625 8.859375 \nQ 40.234375 -1.421875 26.421875 -1.421875 \nQ 22.703125 -1.421875 18.890625 -0.6875 \nQ 15.09375 0.046875 10.984375 1.515625 \nz\nM 30.609375 32.421875 \nQ 37.25 32.421875 41.125 36.953125 \nQ 45.015625 41.5 45.015625 49.421875 \nQ 45.015625 57.28125 41.125 61.84375 \nQ 37.25 66.40625 30.609375 66.40625 \nQ 23.96875 66.40625 20.09375 61.84375 \nQ 16.21875 57.28125 16.21875 49.421875 \nQ 16.21875 41.5 20.09375 36.953125 \nQ 23.96875 32.421875 30.609375 32.421875 \nz\n\" id=\"DejaVuSans-57\"/>\n      </defs>\n      <g transform=\"translate(373.639 293.598437)scale(0.1 -0.1)\">\n       <use xlink:href=\"#DejaVuSans-57\"/>\n      </g>\n     </g>\n    </g>\n    <g id=\"text_11\">\n     <!-- Predicted -->\n     <defs>\n      <path d=\"M 19.671875 64.796875 \nL 19.671875 37.40625 \nL 32.078125 37.40625 \nQ 38.96875 37.40625 42.71875 40.96875 \nQ 46.484375 44.53125 46.484375 51.125 \nQ 46.484375 57.671875 42.71875 61.234375 \nQ 38.96875 64.796875 32.078125 64.796875 \nz\nM 9.8125 72.90625 \nL 32.078125 72.90625 \nQ 44.34375 72.90625 50.609375 67.359375 \nQ 56.890625 61.8125 56.890625 51.125 \nQ 56.890625 40.328125 50.609375 34.8125 \nQ 44.34375 29.296875 32.078125 29.296875 \nL 19.671875 29.296875 \nL 19.671875 0 \nL 9.8125 0 \nz\n\" id=\"DejaVuSans-80\"/>\n      <path d=\"M 41.109375 46.296875 \nQ 39.59375 47.171875 37.8125 47.578125 \nQ 36.03125 48 33.890625 48 \nQ 26.265625 48 22.1875 43.046875 \nQ 18.109375 38.09375 18.109375 28.8125 \nL 18.109375 0 \nL 9.078125 0 \nL 9.078125 54.6875 \nL 18.109375 54.6875 \nL 18.109375 46.1875 \nQ 20.953125 51.171875 25.484375 53.578125 \nQ 30.03125 56 36.53125 56 \nQ 37.453125 56 38.578125 55.875 \nQ 39.703125 55.765625 41.0625 55.515625 \nz\n\" id=\"DejaVuSans-114\"/>\n      <path d=\"M 56.203125 29.59375 \nL 56.203125 25.203125 \nL 14.890625 25.203125 \nQ 15.484375 15.921875 20.484375 11.0625 \nQ 25.484375 6.203125 34.421875 6.203125 \nQ 39.59375 6.203125 44.453125 7.46875 \nQ 49.3125 8.734375 54.109375 11.28125 \nL 54.109375 2.78125 \nQ 49.265625 0.734375 44.1875 -0.34375 \nQ 39.109375 -1.421875 33.890625 -1.421875 \nQ 20.796875 -1.421875 13.15625 6.1875 \nQ 5.515625 13.8125 5.515625 26.8125 \nQ 5.515625 40.234375 12.765625 48.109375 \nQ 20.015625 56 32.328125 56 \nQ 43.359375 56 49.78125 48.890625 \nQ 56.203125 41.796875 56.203125 29.59375 \nz\nM 47.21875 32.234375 \nQ 47.125 39.59375 43.09375 43.984375 \nQ 39.0625 48.390625 32.421875 48.390625 \nQ 24.90625 48.390625 20.390625 44.140625 \nQ 15.875 39.890625 15.1875 32.171875 \nz\n\" id=\"DejaVuSans-101\"/>\n      <path d=\"M 45.40625 46.390625 \nL 45.40625 75.984375 \nL 54.390625 75.984375 \nL 54.390625 0 \nL 45.40625 0 \nL 45.40625 8.203125 \nQ 42.578125 3.328125 38.25 0.953125 \nQ 33.9375 -1.421875 27.875 -1.421875 \nQ 17.96875 -1.421875 11.734375 6.484375 \nQ 5.515625 14.40625 5.515625 27.296875 \nQ 5.515625 40.1875 11.734375 48.09375 \nQ 17.96875 56 27.875 56 \nQ 33.9375 56 38.25 53.625 \nQ 42.578125 51.265625 45.40625 46.390625 \nz\nM 14.796875 27.296875 \nQ 14.796875 17.390625 18.875 11.75 \nQ 22.953125 6.109375 30.078125 6.109375 \nQ 37.203125 6.109375 41.296875 11.75 \nQ 45.40625 17.390625 45.40625 27.296875 \nQ 45.40625 37.203125 41.296875 42.84375 \nQ 37.203125 48.484375 30.078125 48.484375 \nQ 22.953125 48.484375 18.875 42.84375 \nQ 14.796875 37.203125 14.796875 27.296875 \nz\n\" id=\"DejaVuSans-100\"/>\n      <path d=\"M 9.421875 54.6875 \nL 18.40625 54.6875 \nL 18.40625 0 \nL 9.421875 0 \nz\nM 9.421875 75.984375 \nL 18.40625 75.984375 \nL 18.40625 64.59375 \nL 9.421875 64.59375 \nz\n\" id=\"DejaVuSans-105\"/>\n      <path d=\"M 48.78125 52.59375 \nL 48.78125 44.1875 \nQ 44.96875 46.296875 41.140625 47.34375 \nQ 37.3125 48.390625 33.40625 48.390625 \nQ 24.65625 48.390625 19.8125 42.84375 \nQ 14.984375 37.3125 14.984375 27.296875 \nQ 14.984375 17.28125 19.8125 11.734375 \nQ 24.65625 6.203125 33.40625 6.203125 \nQ 37.3125 6.203125 41.140625 7.25 \nQ 44.96875 8.296875 48.78125 10.40625 \nL 48.78125 2.09375 \nQ 45.015625 0.34375 40.984375 -0.53125 \nQ 36.96875 -1.421875 32.421875 -1.421875 \nQ 20.0625 -1.421875 12.78125 6.34375 \nQ 5.515625 14.109375 5.515625 27.296875 \nQ 5.515625 40.671875 12.859375 48.328125 \nQ 20.21875 56 33.015625 56 \nQ 37.15625 56 41.109375 55.140625 \nQ 45.0625 54.296875 48.78125 52.59375 \nz\n\" id=\"DejaVuSans-99\"/>\n      <path d=\"M 18.3125 70.21875 \nL 18.3125 54.6875 \nL 36.8125 54.6875 \nL 36.8125 47.703125 \nL 18.3125 47.703125 \nL 18.3125 18.015625 \nQ 18.3125 11.328125 20.140625 9.421875 \nQ 21.96875 7.515625 27.59375 7.515625 \nL 36.8125 7.515625 \nL 36.8125 0 \nL 27.59375 0 \nQ 17.1875 0 13.234375 3.875 \nQ 9.28125 7.765625 9.28125 18.015625 \nL 9.28125 47.703125 \nL 2.6875 47.703125 \nL 2.6875 54.6875 \nL 9.28125 54.6875 \nL 9.28125 70.21875 \nz\n\" id=\"DejaVuSans-116\"/>\n     </defs>\n     <g transform=\"translate(192.645938 307.276562)scale(0.1 -0.1)\">\n      <use xlink:href=\"#DejaVuSans-80\"/>\n      <use x=\"58.552734\" xlink:href=\"#DejaVuSans-114\"/>\n      <use x=\"97.416016\" xlink:href=\"#DejaVuSans-101\"/>\n      <use x=\"158.939453\" xlink:href=\"#DejaVuSans-100\"/>\n      <use x=\"222.416016\" xlink:href=\"#DejaVuSans-105\"/>\n      <use x=\"250.199219\" xlink:href=\"#DejaVuSans-99\"/>\n      <use x=\"305.179688\" xlink:href=\"#DejaVuSans-116\"/>\n      <use x=\"344.388672\" xlink:href=\"#DejaVuSans-101\"/>\n      <use x=\"405.912109\" xlink:href=\"#DejaVuSans-100\"/>\n     </g>\n    </g>\n   </g>\n   <g id=\"matplotlib.axis_2\">\n    <g id=\"ytick_1\">\n     <g id=\"line2d_11\">\n      <defs>\n       <path d=\"M 0 0 \nL -3.5 0 \n\" id=\"m7471e96a8e\" style=\"stroke:#000000;stroke-width:0.8;\"/>\n      </defs>\n      <g>\n       <use style=\"stroke:#000000;stroke-width:0.8;\" x=\"37.55625\" xlink:href=\"#m7471e96a8e\" y=\"20.79\"/>\n      </g>\n     </g>\n     <g id=\"text_12\">\n      <!-- 0 -->\n      <g transform=\"translate(28.476563 23.97125)rotate(-90)scale(0.1 -0.1)\">\n       <use xlink:href=\"#DejaVuSans-48\"/>\n      </g>\n     </g>\n    </g>\n    <g id=\"ytick_2\">\n     <g id=\"line2d_12\">\n      <g>\n       <use style=\"stroke:#000000;stroke-width:0.8;\" x=\"37.55625\" xlink:href=\"#m7471e96a8e\" y=\"47.97\"/>\n      </g>\n     </g>\n     <g id=\"text_13\">\n      <!-- 1 -->\n      <g transform=\"translate(28.476563 51.15125)rotate(-90)scale(0.1 -0.1)\">\n       <use xlink:href=\"#DejaVuSans-49\"/>\n      </g>\n     </g>\n    </g>\n    <g id=\"ytick_3\">\n     <g id=\"line2d_13\">\n      <g>\n       <use style=\"stroke:#000000;stroke-width:0.8;\" x=\"37.55625\" xlink:href=\"#m7471e96a8e\" y=\"75.15\"/>\n      </g>\n     </g>\n     <g id=\"text_14\">\n      <!-- 2 -->\n      <g transform=\"translate(28.476563 78.33125)rotate(-90)scale(0.1 -0.1)\">\n       <use xlink:href=\"#DejaVuSans-50\"/>\n      </g>\n     </g>\n    </g>\n    <g id=\"ytick_4\">\n     <g id=\"line2d_14\">\n      <g>\n       <use style=\"stroke:#000000;stroke-width:0.8;\" x=\"37.55625\" xlink:href=\"#m7471e96a8e\" y=\"102.33\"/>\n      </g>\n     </g>\n     <g id=\"text_15\">\n      <!-- 3 -->\n      <g transform=\"translate(28.476563 105.51125)rotate(-90)scale(0.1 -0.1)\">\n       <use xlink:href=\"#DejaVuSans-51\"/>\n      </g>\n     </g>\n    </g>\n    <g id=\"ytick_5\">\n     <g id=\"line2d_15\">\n      <g>\n       <use style=\"stroke:#000000;stroke-width:0.8;\" x=\"37.55625\" xlink:href=\"#m7471e96a8e\" y=\"129.51\"/>\n      </g>\n     </g>\n     <g id=\"text_16\">\n      <!-- 4 -->\n      <g transform=\"translate(28.476563 132.69125)rotate(-90)scale(0.1 -0.1)\">\n       <use xlink:href=\"#DejaVuSans-52\"/>\n      </g>\n     </g>\n    </g>\n    <g id=\"ytick_6\">\n     <g id=\"line2d_16\">\n      <g>\n       <use style=\"stroke:#000000;stroke-width:0.8;\" x=\"37.55625\" xlink:href=\"#m7471e96a8e\" y=\"156.69\"/>\n      </g>\n     </g>\n     <g id=\"text_17\">\n      <!-- 5 -->\n      <g transform=\"translate(28.476563 159.87125)rotate(-90)scale(0.1 -0.1)\">\n       <use xlink:href=\"#DejaVuSans-53\"/>\n      </g>\n     </g>\n    </g>\n    <g id=\"ytick_7\">\n     <g id=\"line2d_17\">\n      <g>\n       <use style=\"stroke:#000000;stroke-width:0.8;\" x=\"37.55625\" xlink:href=\"#m7471e96a8e\" y=\"183.87\"/>\n      </g>\n     </g>\n     <g id=\"text_18\">\n      <!-- 6 -->\n      <g transform=\"translate(28.476563 187.05125)rotate(-90)scale(0.1 -0.1)\">\n       <use xlink:href=\"#DejaVuSans-54\"/>\n      </g>\n     </g>\n    </g>\n    <g id=\"ytick_8\">\n     <g id=\"line2d_18\">\n      <g>\n       <use style=\"stroke:#000000;stroke-width:0.8;\" x=\"37.55625\" xlink:href=\"#m7471e96a8e\" y=\"211.05\"/>\n      </g>\n     </g>\n     <g id=\"text_19\">\n      <!-- 7 -->\n      <g transform=\"translate(28.476563 214.23125)rotate(-90)scale(0.1 -0.1)\">\n       <use xlink:href=\"#DejaVuSans-55\"/>\n      </g>\n     </g>\n    </g>\n    <g id=\"ytick_9\">\n     <g id=\"line2d_19\">\n      <g>\n       <use style=\"stroke:#000000;stroke-width:0.8;\" x=\"37.55625\" xlink:href=\"#m7471e96a8e\" y=\"238.23\"/>\n      </g>\n     </g>\n     <g id=\"text_20\">\n      <!-- 8 -->\n      <g transform=\"translate(28.476563 241.41125)rotate(-90)scale(0.1 -0.1)\">\n       <use xlink:href=\"#DejaVuSans-56\"/>\n      </g>\n     </g>\n    </g>\n    <g id=\"ytick_10\">\n     <g id=\"line2d_20\">\n      <g>\n       <use style=\"stroke:#000000;stroke-width:0.8;\" x=\"37.55625\" xlink:href=\"#m7471e96a8e\" y=\"265.41\"/>\n      </g>\n     </g>\n     <g id=\"text_21\">\n      <!-- 9 -->\n      <g transform=\"translate(28.476563 268.59125)rotate(-90)scale(0.1 -0.1)\">\n       <use xlink:href=\"#DejaVuSans-57\"/>\n      </g>\n     </g>\n    </g>\n    <g id=\"text_22\">\n     <!-- Actual -->\n     <defs>\n      <path d=\"M 34.1875 63.1875 \nL 20.796875 26.90625 \nL 47.609375 26.90625 \nz\nM 28.609375 72.90625 \nL 39.796875 72.90625 \nL 67.578125 0 \nL 57.328125 0 \nL 50.6875 18.703125 \nL 17.828125 18.703125 \nL 11.1875 0 \nL 0.78125 0 \nz\n\" id=\"DejaVuSans-65\"/>\n      <path d=\"M 8.5 21.578125 \nL 8.5 54.6875 \nL 17.484375 54.6875 \nL 17.484375 21.921875 \nQ 17.484375 14.15625 20.5 10.265625 \nQ 23.53125 6.390625 29.59375 6.390625 \nQ 36.859375 6.390625 41.078125 11.03125 \nQ 45.3125 15.671875 45.3125 23.6875 \nL 45.3125 54.6875 \nL 54.296875 54.6875 \nL 54.296875 0 \nL 45.3125 0 \nL 45.3125 8.40625 \nQ 42.046875 3.421875 37.71875 1 \nQ 33.40625 -1.421875 27.6875 -1.421875 \nQ 18.265625 -1.421875 13.375 4.4375 \nQ 8.5 10.296875 8.5 21.578125 \nz\nM 31.109375 56 \nz\n\" id=\"DejaVuSans-117\"/>\n      <path d=\"M 34.28125 27.484375 \nQ 23.390625 27.484375 19.1875 25 \nQ 14.984375 22.515625 14.984375 16.5 \nQ 14.984375 11.71875 18.140625 8.90625 \nQ 21.296875 6.109375 26.703125 6.109375 \nQ 34.1875 6.109375 38.703125 11.40625 \nQ 43.21875 16.703125 43.21875 25.484375 \nL 43.21875 27.484375 \nz\nM 52.203125 31.203125 \nL 52.203125 0 \nL 43.21875 0 \nL 43.21875 8.296875 \nQ 40.140625 3.328125 35.546875 0.953125 \nQ 30.953125 -1.421875 24.3125 -1.421875 \nQ 15.921875 -1.421875 10.953125 3.296875 \nQ 6 8.015625 6 15.921875 \nQ 6 25.140625 12.171875 29.828125 \nQ 18.359375 34.515625 30.609375 34.515625 \nL 43.21875 34.515625 \nL 43.21875 35.40625 \nQ 43.21875 41.609375 39.140625 45 \nQ 35.0625 48.390625 27.6875 48.390625 \nQ 23 48.390625 18.546875 47.265625 \nQ 14.109375 46.140625 10.015625 43.890625 \nL 10.015625 52.203125 \nQ 14.9375 54.109375 19.578125 55.046875 \nQ 24.21875 56 28.609375 56 \nQ 40.484375 56 46.34375 49.84375 \nQ 52.203125 43.703125 52.203125 31.203125 \nz\n\" id=\"DejaVuSans-97\"/>\n      <path d=\"M 9.421875 75.984375 \nL 18.40625 75.984375 \nL 18.40625 0 \nL 9.421875 0 \nz\n\" id=\"DejaVuSans-108\"/>\n     </defs>\n     <g transform=\"translate(14.798438 158.764062)rotate(-90)scale(0.1 -0.1)\">\n      <use xlink:href=\"#DejaVuSans-65\"/>\n      <use x=\"66.658203\" xlink:href=\"#DejaVuSans-99\"/>\n      <use x=\"121.638672\" xlink:href=\"#DejaVuSans-116\"/>\n      <use x=\"160.847656\" xlink:href=\"#DejaVuSans-117\"/>\n      <use x=\"224.226562\" xlink:href=\"#DejaVuSans-97\"/>\n      <use x=\"285.505859\" xlink:href=\"#DejaVuSans-108\"/>\n     </g>\n    </g>\n   </g>\n   <g id=\"text_23\">\n    <!-- 1356 -->\n    <g style=\"fill:#262626;\" transform=\"translate(42.68725 23.549375)scale(0.1 -0.1)\">\n     <use xlink:href=\"#DejaVuSans-49\"/>\n     <use x=\"63.623047\" xlink:href=\"#DejaVuSans-51\"/>\n     <use x=\"127.246094\" xlink:href=\"#DejaVuSans-53\"/>\n     <use x=\"190.869141\" xlink:href=\"#DejaVuSans-54\"/>\n    </g>\n   </g>\n   <g id=\"text_24\">\n    <!-- 64 -->\n    <g style=\"fill:#ffffff;\" transform=\"translate(84.76175 23.549375)scale(0.1 -0.1)\">\n     <use xlink:href=\"#DejaVuSans-54\"/>\n     <use x=\"63.623047\" xlink:href=\"#DejaVuSans-52\"/>\n    </g>\n   </g>\n   <g id=\"text_25\">\n    <!-- 35 -->\n    <g style=\"fill:#ffffff;\" transform=\"translate(120.47375 23.549375)scale(0.1 -0.1)\">\n     <use xlink:href=\"#DejaVuSans-51\"/>\n     <use x=\"63.623047\" xlink:href=\"#DejaVuSans-53\"/>\n    </g>\n   </g>\n   <g id=\"text_26\">\n    <!-- 32 -->\n    <g style=\"fill:#ffffff;\" transform=\"translate(156.18575 23.549375)scale(0.1 -0.1)\">\n     <use xlink:href=\"#DejaVuSans-51\"/>\n     <use x=\"63.623047\" xlink:href=\"#DejaVuSans-50\"/>\n    </g>\n   </g>\n   <g id=\"text_27\">\n    <!-- 71 -->\n    <g style=\"fill:#ffffff;\" transform=\"translate(191.89775 23.549375)scale(0.1 -0.1)\">\n     <use xlink:href=\"#DejaVuSans-55\"/>\n     <use x=\"63.623047\" xlink:href=\"#DejaVuSans-49\"/>\n    </g>\n   </g>\n   <g id=\"text_28\">\n    <!-- 28 -->\n    <g style=\"fill:#ffffff;\" transform=\"translate(227.60975 23.549375)scale(0.1 -0.1)\">\n     <use xlink:href=\"#DejaVuSans-50\"/>\n     <use x=\"63.623047\" xlink:href=\"#DejaVuSans-56\"/>\n    </g>\n   </g>\n   <g id=\"text_29\">\n    <!-- 67 -->\n    <g style=\"fill:#ffffff;\" transform=\"translate(263.32175 23.549375)scale(0.1 -0.1)\">\n     <use xlink:href=\"#DejaVuSans-54\"/>\n     <use x=\"63.623047\" xlink:href=\"#DejaVuSans-55\"/>\n    </g>\n   </g>\n   <g id=\"text_30\">\n    <!-- 35 -->\n    <g style=\"fill:#ffffff;\" transform=\"translate(299.03375 23.549375)scale(0.1 -0.1)\">\n     <use xlink:href=\"#DejaVuSans-51\"/>\n     <use x=\"63.623047\" xlink:href=\"#DejaVuSans-53\"/>\n    </g>\n   </g>\n   <g id=\"text_31\">\n    <!-- 54 -->\n    <g style=\"fill:#ffffff;\" transform=\"translate(334.74575 23.549375)scale(0.1 -0.1)\">\n     <use xlink:href=\"#DejaVuSans-53\"/>\n     <use x=\"63.623047\" xlink:href=\"#DejaVuSans-52\"/>\n    </g>\n   </g>\n   <g id=\"text_32\">\n    <!-- 72 -->\n    <g style=\"fill:#ffffff;\" transform=\"translate(370.45775 23.549375)scale(0.1 -0.1)\">\n     <use xlink:href=\"#DejaVuSans-55\"/>\n     <use x=\"63.623047\" xlink:href=\"#DejaVuSans-50\"/>\n    </g>\n   </g>\n   <g id=\"text_33\">\n    <!-- 32 -->\n    <g style=\"fill:#ffffff;\" transform=\"translate(49.04975 50.729375)scale(0.1 -0.1)\">\n     <use xlink:href=\"#DejaVuSans-51\"/>\n     <use x=\"63.623047\" xlink:href=\"#DejaVuSans-50\"/>\n    </g>\n   </g>\n   <g id=\"text_34\">\n    <!-- 1481 -->\n    <g style=\"fill:#262626;\" transform=\"translate(78.39925 50.729375)scale(0.1 -0.1)\">\n     <use xlink:href=\"#DejaVuSans-49\"/>\n     <use x=\"63.623047\" xlink:href=\"#DejaVuSans-52\"/>\n     <use x=\"127.246094\" xlink:href=\"#DejaVuSans-56\"/>\n     <use x=\"190.869141\" xlink:href=\"#DejaVuSans-49\"/>\n    </g>\n   </g>\n   <g id=\"text_35\">\n    <!-- 21 -->\n    <g style=\"fill:#ffffff;\" transform=\"translate(120.47375 50.729375)scale(0.1 -0.1)\">\n     <use xlink:href=\"#DejaVuSans-50\"/>\n     <use x=\"63.623047\" xlink:href=\"#DejaVuSans-49\"/>\n    </g>\n   </g>\n   <g id=\"text_36\">\n    <!-- 50 -->\n    <g style=\"fill:#ffffff;\" transform=\"translate(156.18575 50.729375)scale(0.1 -0.1)\">\n     <use xlink:href=\"#DejaVuSans-53\"/>\n     <use x=\"63.623047\" xlink:href=\"#DejaVuSans-48\"/>\n    </g>\n   </g>\n   <g id=\"text_37\">\n    <!-- 84 -->\n    <g style=\"fill:#ffffff;\" transform=\"translate(191.89775 50.729375)scale(0.1 -0.1)\">\n     <use xlink:href=\"#DejaVuSans-56\"/>\n     <use x=\"63.623047\" xlink:href=\"#DejaVuSans-52\"/>\n    </g>\n   </g>\n   <g id=\"text_38\">\n    <!-- 18 -->\n    <g style=\"fill:#ffffff;\" transform=\"translate(227.60975 50.729375)scale(0.1 -0.1)\">\n     <use xlink:href=\"#DejaVuSans-49\"/>\n     <use x=\"63.623047\" xlink:href=\"#DejaVuSans-56\"/>\n    </g>\n   </g>\n   <g id=\"text_39\">\n    <!-- 11 -->\n    <g style=\"fill:#ffffff;\" transform=\"translate(263.32175 50.729375)scale(0.1 -0.1)\">\n     <use xlink:href=\"#DejaVuSans-49\"/>\n     <use x=\"63.623047\" xlink:href=\"#DejaVuSans-49\"/>\n    </g>\n   </g>\n   <g id=\"text_40\">\n    <!-- 77 -->\n    <g style=\"fill:#ffffff;\" transform=\"translate(299.03375 50.729375)scale(0.1 -0.1)\">\n     <use xlink:href=\"#DejaVuSans-55\"/>\n     <use x=\"63.623047\" xlink:href=\"#DejaVuSans-55\"/>\n    </g>\n   </g>\n   <g id=\"text_41\">\n    <!-- 34 -->\n    <g style=\"fill:#ffffff;\" transform=\"translate(334.74575 50.729375)scale(0.1 -0.1)\">\n     <use xlink:href=\"#DejaVuSans-51\"/>\n     <use x=\"63.623047\" xlink:href=\"#DejaVuSans-52\"/>\n    </g>\n   </g>\n   <g id=\"text_42\">\n    <!-- 20 -->\n    <g style=\"fill:#ffffff;\" transform=\"translate(370.45775 50.729375)scale(0.1 -0.1)\">\n     <use xlink:href=\"#DejaVuSans-50\"/>\n     <use x=\"63.623047\" xlink:href=\"#DejaVuSans-48\"/>\n    </g>\n   </g>\n   <g id=\"text_43\">\n    <!-- 17 -->\n    <g style=\"fill:#ffffff;\" transform=\"translate(49.04975 77.909375)scale(0.1 -0.1)\">\n     <use xlink:href=\"#DejaVuSans-49\"/>\n     <use x=\"63.623047\" xlink:href=\"#DejaVuSans-55\"/>\n    </g>\n   </g>\n   <g id=\"text_44\">\n    <!-- 50 -->\n    <g style=\"fill:#ffffff;\" transform=\"translate(84.76175 77.909375)scale(0.1 -0.1)\">\n     <use xlink:href=\"#DejaVuSans-53\"/>\n     <use x=\"63.623047\" xlink:href=\"#DejaVuSans-48\"/>\n    </g>\n   </g>\n   <g id=\"text_45\">\n    <!-- 1384 -->\n    <g style=\"fill:#262626;\" transform=\"translate(114.11125 77.909375)scale(0.1 -0.1)\">\n     <use xlink:href=\"#DejaVuSans-49\"/>\n     <use x=\"63.623047\" xlink:href=\"#DejaVuSans-51\"/>\n     <use x=\"127.246094\" xlink:href=\"#DejaVuSans-56\"/>\n     <use x=\"190.869141\" xlink:href=\"#DejaVuSans-52\"/>\n    </g>\n   </g>\n   <g id=\"text_46\">\n    <!-- 54 -->\n    <g style=\"fill:#ffffff;\" transform=\"translate(156.18575 77.909375)scale(0.1 -0.1)\">\n     <use xlink:href=\"#DejaVuSans-53\"/>\n     <use x=\"63.623047\" xlink:href=\"#DejaVuSans-52\"/>\n    </g>\n   </g>\n   <g id=\"text_47\">\n    <!-- 38 -->\n    <g style=\"fill:#ffffff;\" transform=\"translate(191.89775 77.909375)scale(0.1 -0.1)\">\n     <use xlink:href=\"#DejaVuSans-51\"/>\n     <use x=\"63.623047\" xlink:href=\"#DejaVuSans-56\"/>\n    </g>\n   </g>\n   <g id=\"text_48\">\n    <!-- 23 -->\n    <g style=\"fill:#ffffff;\" transform=\"translate(227.60975 77.909375)scale(0.1 -0.1)\">\n     <use xlink:href=\"#DejaVuSans-50\"/>\n     <use x=\"63.623047\" xlink:href=\"#DejaVuSans-51\"/>\n    </g>\n   </g>\n   <g id=\"text_49\">\n    <!-- 17 -->\n    <g style=\"fill:#ffffff;\" transform=\"translate(263.32175 77.909375)scale(0.1 -0.1)\">\n     <use xlink:href=\"#DejaVuSans-49\"/>\n     <use x=\"63.623047\" xlink:href=\"#DejaVuSans-55\"/>\n    </g>\n   </g>\n   <g id=\"text_50\">\n    <!-- 139 -->\n    <g style=\"fill:#ffffff;\" transform=\"translate(295.8525 77.909375)scale(0.1 -0.1)\">\n     <use xlink:href=\"#DejaVuSans-49\"/>\n     <use x=\"63.623047\" xlink:href=\"#DejaVuSans-51\"/>\n     <use x=\"127.246094\" xlink:href=\"#DejaVuSans-57\"/>\n    </g>\n   </g>\n   <g id=\"text_51\">\n    <!-- 35 -->\n    <g style=\"fill:#ffffff;\" transform=\"translate(334.74575 77.909375)scale(0.1 -0.1)\">\n     <use xlink:href=\"#DejaVuSans-51\"/>\n     <use x=\"63.623047\" xlink:href=\"#DejaVuSans-53\"/>\n    </g>\n   </g>\n   <g id=\"text_52\">\n    <!-- 46 -->\n    <g style=\"fill:#ffffff;\" transform=\"translate(370.45775 77.909375)scale(0.1 -0.1)\">\n     <use xlink:href=\"#DejaVuSans-52\"/>\n     <use x=\"63.623047\" xlink:href=\"#DejaVuSans-54\"/>\n    </g>\n   </g>\n   <g id=\"text_53\">\n    <!-- 25 -->\n    <g style=\"fill:#ffffff;\" transform=\"translate(49.04975 105.089375)scale(0.1 -0.1)\">\n     <use xlink:href=\"#DejaVuSans-50\"/>\n     <use x=\"63.623047\" xlink:href=\"#DejaVuSans-53\"/>\n    </g>\n   </g>\n   <g id=\"text_54\">\n    <!-- 72 -->\n    <g style=\"fill:#ffffff;\" transform=\"translate(84.76175 105.089375)scale(0.1 -0.1)\">\n     <use xlink:href=\"#DejaVuSans-55\"/>\n     <use x=\"63.623047\" xlink:href=\"#DejaVuSans-50\"/>\n    </g>\n   </g>\n   <g id=\"text_55\">\n    <!-- 88 -->\n    <g style=\"fill:#ffffff;\" transform=\"translate(120.47375 105.089375)scale(0.1 -0.1)\">\n     <use xlink:href=\"#DejaVuSans-56\"/>\n     <use x=\"63.623047\" xlink:href=\"#DejaVuSans-56\"/>\n    </g>\n   </g>\n   <g id=\"text_56\">\n    <!-- 1180 -->\n    <g style=\"fill:#262626;\" transform=\"translate(149.82325 105.089375)scale(0.1 -0.1)\">\n     <use xlink:href=\"#DejaVuSans-49\"/>\n     <use x=\"63.623047\" xlink:href=\"#DejaVuSans-49\"/>\n     <use x=\"127.246094\" xlink:href=\"#DejaVuSans-56\"/>\n     <use x=\"190.869141\" xlink:href=\"#DejaVuSans-48\"/>\n    </g>\n   </g>\n   <g id=\"text_57\">\n    <!-- 44 -->\n    <g style=\"fill:#ffffff;\" transform=\"translate(191.89775 105.089375)scale(0.1 -0.1)\">\n     <use xlink:href=\"#DejaVuSans-52\"/>\n     <use x=\"63.623047\" xlink:href=\"#DejaVuSans-52\"/>\n    </g>\n   </g>\n   <g id=\"text_58\">\n    <!-- 141 -->\n    <g style=\"fill:#ffffff;\" transform=\"translate(224.4285 105.089375)scale(0.1 -0.1)\">\n     <use xlink:href=\"#DejaVuSans-49\"/>\n     <use x=\"63.623047\" xlink:href=\"#DejaVuSans-52\"/>\n     <use x=\"127.246094\" xlink:href=\"#DejaVuSans-49\"/>\n    </g>\n   </g>\n   <g id=\"text_59\">\n    <!-- 16 -->\n    <g style=\"fill:#ffffff;\" transform=\"translate(263.32175 105.089375)scale(0.1 -0.1)\">\n     <use xlink:href=\"#DejaVuSans-49\"/>\n     <use x=\"63.623047\" xlink:href=\"#DejaVuSans-54\"/>\n    </g>\n   </g>\n   <g id=\"text_60\">\n    <!-- 47 -->\n    <g style=\"fill:#ffffff;\" transform=\"translate(299.03375 105.089375)scale(0.1 -0.1)\">\n     <use xlink:href=\"#DejaVuSans-52\"/>\n     <use x=\"63.623047\" xlink:href=\"#DejaVuSans-55\"/>\n    </g>\n   </g>\n   <g id=\"text_61\">\n    <!-- 73 -->\n    <g style=\"fill:#ffffff;\" transform=\"translate(334.74575 105.089375)scale(0.1 -0.1)\">\n     <use xlink:href=\"#DejaVuSans-55\"/>\n     <use x=\"63.623047\" xlink:href=\"#DejaVuSans-51\"/>\n    </g>\n   </g>\n   <g id=\"text_62\">\n    <!-- 33 -->\n    <g style=\"fill:#ffffff;\" transform=\"translate(370.45775 105.089375)scale(0.1 -0.1)\">\n     <use xlink:href=\"#DejaVuSans-51\"/>\n     <use x=\"63.623047\" xlink:href=\"#DejaVuSans-51\"/>\n    </g>\n   </g>\n   <g id=\"text_63\">\n    <!-- 30 -->\n    <g style=\"fill:#ffffff;\" transform=\"translate(49.04975 132.269375)scale(0.1 -0.1)\">\n     <use xlink:href=\"#DejaVuSans-51\"/>\n     <use x=\"63.623047\" xlink:href=\"#DejaVuSans-48\"/>\n    </g>\n   </g>\n   <g id=\"text_64\">\n    <!-- 69 -->\n    <g style=\"fill:#ffffff;\" transform=\"translate(84.76175 132.269375)scale(0.1 -0.1)\">\n     <use xlink:href=\"#DejaVuSans-54\"/>\n     <use x=\"63.623047\" xlink:href=\"#DejaVuSans-57\"/>\n    </g>\n   </g>\n   <g id=\"text_65\">\n    <!-- 36 -->\n    <g style=\"fill:#ffffff;\" transform=\"translate(120.47375 132.269375)scale(0.1 -0.1)\">\n     <use xlink:href=\"#DejaVuSans-51\"/>\n     <use x=\"63.623047\" xlink:href=\"#DejaVuSans-54\"/>\n    </g>\n   </g>\n   <g id=\"text_66\">\n    <!-- 23 -->\n    <g style=\"fill:#ffffff;\" transform=\"translate(156.18575 132.269375)scale(0.1 -0.1)\">\n     <use xlink:href=\"#DejaVuSans-50\"/>\n     <use x=\"63.623047\" xlink:href=\"#DejaVuSans-51\"/>\n    </g>\n   </g>\n   <g id=\"text_67\">\n    <!-- 1501 -->\n    <g style=\"fill:#262626;\" transform=\"translate(185.53525 132.269375)scale(0.1 -0.1)\">\n     <use xlink:href=\"#DejaVuSans-49\"/>\n     <use x=\"63.623047\" xlink:href=\"#DejaVuSans-53\"/>\n     <use x=\"127.246094\" xlink:href=\"#DejaVuSans-48\"/>\n     <use x=\"190.869141\" xlink:href=\"#DejaVuSans-49\"/>\n    </g>\n   </g>\n   <g id=\"text_68\">\n    <!-- 36 -->\n    <g style=\"fill:#ffffff;\" transform=\"translate(227.60975 132.269375)scale(0.1 -0.1)\">\n     <use xlink:href=\"#DejaVuSans-51\"/>\n     <use x=\"63.623047\" xlink:href=\"#DejaVuSans-54\"/>\n    </g>\n   </g>\n   <g id=\"text_69\">\n    <!-- 29 -->\n    <g style=\"fill:#ffffff;\" transform=\"translate(263.32175 132.269375)scale(0.1 -0.1)\">\n     <use xlink:href=\"#DejaVuSans-50\"/>\n     <use x=\"63.623047\" xlink:href=\"#DejaVuSans-57\"/>\n    </g>\n   </g>\n   <g id=\"text_70\">\n    <!-- 13 -->\n    <g style=\"fill:#ffffff;\" transform=\"translate(299.03375 132.269375)scale(0.1 -0.1)\">\n     <use xlink:href=\"#DejaVuSans-49\"/>\n     <use x=\"63.623047\" xlink:href=\"#DejaVuSans-51\"/>\n    </g>\n   </g>\n   <g id=\"text_71\">\n    <!-- 30 -->\n    <g style=\"fill:#ffffff;\" transform=\"translate(334.74575 132.269375)scale(0.1 -0.1)\">\n     <use xlink:href=\"#DejaVuSans-51\"/>\n     <use x=\"63.623047\" xlink:href=\"#DejaVuSans-48\"/>\n    </g>\n   </g>\n   <g id=\"text_72\">\n    <!-- 45 -->\n    <g style=\"fill:#ffffff;\" transform=\"translate(370.45775 132.269375)scale(0.1 -0.1)\">\n     <use xlink:href=\"#DejaVuSans-52\"/>\n     <use x=\"63.623047\" xlink:href=\"#DejaVuSans-53\"/>\n    </g>\n   </g>\n   <g id=\"text_73\">\n    <!-- 33 -->\n    <g style=\"fill:#ffffff;\" transform=\"translate(49.04975 159.449375)scale(0.1 -0.1)\">\n     <use xlink:href=\"#DejaVuSans-51\"/>\n     <use x=\"63.623047\" xlink:href=\"#DejaVuSans-51\"/>\n    </g>\n   </g>\n   <g id=\"text_74\">\n    <!-- 56 -->\n    <g style=\"fill:#ffffff;\" transform=\"translate(84.76175 159.449375)scale(0.1 -0.1)\">\n     <use xlink:href=\"#DejaVuSans-53\"/>\n     <use x=\"63.623047\" xlink:href=\"#DejaVuSans-54\"/>\n    </g>\n   </g>\n   <g id=\"text_75\">\n    <!-- 28 -->\n    <g style=\"fill:#ffffff;\" transform=\"translate(120.47375 159.449375)scale(0.1 -0.1)\">\n     <use xlink:href=\"#DejaVuSans-50\"/>\n     <use x=\"63.623047\" xlink:href=\"#DejaVuSans-56\"/>\n    </g>\n   </g>\n   <g id=\"text_76\">\n    <!-- 113 -->\n    <g style=\"fill:#ffffff;\" transform=\"translate(153.0045 159.449375)scale(0.1 -0.1)\">\n     <use xlink:href=\"#DejaVuSans-49\"/>\n     <use x=\"63.623047\" xlink:href=\"#DejaVuSans-49\"/>\n     <use x=\"127.246094\" xlink:href=\"#DejaVuSans-51\"/>\n    </g>\n   </g>\n   <g id=\"text_77\">\n    <!-- 48 -->\n    <g style=\"fill:#ffffff;\" transform=\"translate(191.89775 159.449375)scale(0.1 -0.1)\">\n     <use xlink:href=\"#DejaVuSans-52\"/>\n     <use x=\"63.623047\" xlink:href=\"#DejaVuSans-56\"/>\n    </g>\n   </g>\n   <g id=\"text_78\">\n    <!-- 1183 -->\n    <g style=\"fill:#262626;\" transform=\"translate(221.24725 159.449375)scale(0.1 -0.1)\">\n     <use xlink:href=\"#DejaVuSans-49\"/>\n     <use x=\"63.623047\" xlink:href=\"#DejaVuSans-49\"/>\n     <use x=\"127.246094\" xlink:href=\"#DejaVuSans-56\"/>\n     <use x=\"190.869141\" xlink:href=\"#DejaVuSans-51\"/>\n    </g>\n   </g>\n   <g id=\"text_79\">\n    <!-- 67 -->\n    <g style=\"fill:#ffffff;\" transform=\"translate(263.32175 159.449375)scale(0.1 -0.1)\">\n     <use xlink:href=\"#DejaVuSans-54\"/>\n     <use x=\"63.623047\" xlink:href=\"#DejaVuSans-55\"/>\n    </g>\n   </g>\n   <g id=\"text_80\">\n    <!-- 33 -->\n    <g style=\"fill:#ffffff;\" transform=\"translate(299.03375 159.449375)scale(0.1 -0.1)\">\n     <use xlink:href=\"#DejaVuSans-51\"/>\n     <use x=\"63.623047\" xlink:href=\"#DejaVuSans-51\"/>\n    </g>\n   </g>\n   <g id=\"text_81\">\n    <!-- 148 -->\n    <g style=\"fill:#ffffff;\" transform=\"translate(331.5645 159.449375)scale(0.1 -0.1)\">\n     <use xlink:href=\"#DejaVuSans-49\"/>\n     <use x=\"63.623047\" xlink:href=\"#DejaVuSans-52\"/>\n     <use x=\"127.246094\" xlink:href=\"#DejaVuSans-56\"/>\n    </g>\n   </g>\n   <g id=\"text_82\">\n    <!-- 59 -->\n    <g style=\"fill:#ffffff;\" transform=\"translate(370.45775 159.449375)scale(0.1 -0.1)\">\n     <use xlink:href=\"#DejaVuSans-53\"/>\n     <use x=\"63.623047\" xlink:href=\"#DejaVuSans-57\"/>\n    </g>\n   </g>\n   <g id=\"text_83\">\n    <!-- 77 -->\n    <g style=\"fill:#ffffff;\" transform=\"translate(49.04975 186.629375)scale(0.1 -0.1)\">\n     <use xlink:href=\"#DejaVuSans-55\"/>\n     <use x=\"63.623047\" xlink:href=\"#DejaVuSans-55\"/>\n    </g>\n   </g>\n   <g id=\"text_84\">\n    <!-- 56 -->\n    <g style=\"fill:#ffffff;\" transform=\"translate(84.76175 186.629375)scale(0.1 -0.1)\">\n     <use xlink:href=\"#DejaVuSans-53\"/>\n     <use x=\"63.623047\" xlink:href=\"#DejaVuSans-54\"/>\n    </g>\n   </g>\n   <g id=\"text_85\">\n    <!-- 22 -->\n    <g style=\"fill:#ffffff;\" transform=\"translate(120.47375 186.629375)scale(0.1 -0.1)\">\n     <use xlink:href=\"#DejaVuSans-50\"/>\n     <use x=\"63.623047\" xlink:href=\"#DejaVuSans-50\"/>\n    </g>\n   </g>\n   <g id=\"text_86\">\n    <!-- 25 -->\n    <g style=\"fill:#ffffff;\" transform=\"translate(156.18575 186.629375)scale(0.1 -0.1)\">\n     <use xlink:href=\"#DejaVuSans-50\"/>\n     <use x=\"63.623047\" xlink:href=\"#DejaVuSans-53\"/>\n    </g>\n   </g>\n   <g id=\"text_87\">\n    <!-- 116 -->\n    <g style=\"fill:#ffffff;\" transform=\"translate(188.7165 186.629375)scale(0.1 -0.1)\">\n     <use xlink:href=\"#DejaVuSans-49\"/>\n     <use x=\"63.623047\" xlink:href=\"#DejaVuSans-49\"/>\n     <use x=\"127.246094\" xlink:href=\"#DejaVuSans-54\"/>\n    </g>\n   </g>\n   <g id=\"text_88\">\n    <!-- 77 -->\n    <g style=\"fill:#ffffff;\" transform=\"translate(227.60975 186.629375)scale(0.1 -0.1)\">\n     <use xlink:href=\"#DejaVuSans-55\"/>\n     <use x=\"63.623047\" xlink:href=\"#DejaVuSans-55\"/>\n    </g>\n   </g>\n   <g id=\"text_89\">\n    <!-- 1241 -->\n    <g style=\"fill:#262626;\" transform=\"translate(256.95925 186.629375)scale(0.1 -0.1)\">\n     <use xlink:href=\"#DejaVuSans-49\"/>\n     <use x=\"63.623047\" xlink:href=\"#DejaVuSans-50\"/>\n     <use x=\"127.246094\" xlink:href=\"#DejaVuSans-52\"/>\n     <use x=\"190.869141\" xlink:href=\"#DejaVuSans-49\"/>\n    </g>\n   </g>\n   <g id=\"text_90\">\n    <!-- 13 -->\n    <g style=\"fill:#ffffff;\" transform=\"translate(299.03375 186.629375)scale(0.1 -0.1)\">\n     <use xlink:href=\"#DejaVuSans-49\"/>\n     <use x=\"63.623047\" xlink:href=\"#DejaVuSans-51\"/>\n    </g>\n   </g>\n   <g id=\"text_91\">\n    <!-- 185 -->\n    <g style=\"fill:#ffffff;\" transform=\"translate(331.5645 186.629375)scale(0.1 -0.1)\">\n     <use xlink:href=\"#DejaVuSans-49\"/>\n     <use x=\"63.623047\" xlink:href=\"#DejaVuSans-56\"/>\n     <use x=\"127.246094\" xlink:href=\"#DejaVuSans-53\"/>\n    </g>\n   </g>\n   <g id=\"text_92\">\n    <!-- 20 -->\n    <g style=\"fill:#ffffff;\" transform=\"translate(370.45775 186.629375)scale(0.1 -0.1)\">\n     <use xlink:href=\"#DejaVuSans-50\"/>\n     <use x=\"63.623047\" xlink:href=\"#DejaVuSans-48\"/>\n    </g>\n   </g>\n   <g id=\"text_93\">\n    <!-- 20 -->\n    <g style=\"fill:#ffffff;\" transform=\"translate(49.04975 213.809375)scale(0.1 -0.1)\">\n     <use xlink:href=\"#DejaVuSans-50\"/>\n     <use x=\"63.623047\" xlink:href=\"#DejaVuSans-48\"/>\n    </g>\n   </g>\n   <g id=\"text_94\">\n    <!-- 106 -->\n    <g style=\"fill:#ffffff;\" transform=\"translate(81.5805 213.809375)scale(0.1 -0.1)\">\n     <use xlink:href=\"#DejaVuSans-49\"/>\n     <use x=\"63.623047\" xlink:href=\"#DejaVuSans-48\"/>\n     <use x=\"127.246094\" xlink:href=\"#DejaVuSans-54\"/>\n    </g>\n   </g>\n   <g id=\"text_95\">\n    <!-- 101 -->\n    <g style=\"fill:#ffffff;\" transform=\"translate(117.2925 213.809375)scale(0.1 -0.1)\">\n     <use xlink:href=\"#DejaVuSans-49\"/>\n     <use x=\"63.623047\" xlink:href=\"#DejaVuSans-48\"/>\n     <use x=\"127.246094\" xlink:href=\"#DejaVuSans-49\"/>\n    </g>\n   </g>\n   <g id=\"text_96\">\n    <!-- 41 -->\n    <g style=\"fill:#ffffff;\" transform=\"translate(156.18575 213.809375)scale(0.1 -0.1)\">\n     <use xlink:href=\"#DejaVuSans-52\"/>\n     <use x=\"63.623047\" xlink:href=\"#DejaVuSans-49\"/>\n    </g>\n   </g>\n   <g id=\"text_97\">\n    <!-- 18 -->\n    <g style=\"fill:#ffffff;\" transform=\"translate(191.89775 213.809375)scale(0.1 -0.1)\">\n     <use xlink:href=\"#DejaVuSans-49\"/>\n     <use x=\"63.623047\" xlink:href=\"#DejaVuSans-56\"/>\n    </g>\n   </g>\n   <g id=\"text_98\">\n    <!-- 11 -->\n    <g style=\"fill:#ffffff;\" transform=\"translate(227.60975 213.809375)scale(0.1 -0.1)\">\n     <use xlink:href=\"#DejaVuSans-49\"/>\n     <use x=\"63.623047\" xlink:href=\"#DejaVuSans-49\"/>\n    </g>\n   </g>\n   <g id=\"text_99\">\n    <!-- 7 -->\n    <g style=\"fill:#ffffff;\" transform=\"translate(266.503 213.809375)scale(0.1 -0.1)\">\n     <use xlink:href=\"#DejaVuSans-55\"/>\n    </g>\n   </g>\n   <g id=\"text_100\">\n    <!-- 1447 -->\n    <g style=\"fill:#262626;\" transform=\"translate(292.67125 213.809375)scale(0.1 -0.1)\">\n     <use xlink:href=\"#DejaVuSans-49\"/>\n     <use x=\"63.623047\" xlink:href=\"#DejaVuSans-52\"/>\n     <use x=\"127.246094\" xlink:href=\"#DejaVuSans-52\"/>\n     <use x=\"190.869141\" xlink:href=\"#DejaVuSans-55\"/>\n    </g>\n   </g>\n   <g id=\"text_101\">\n    <!-- 26 -->\n    <g style=\"fill:#ffffff;\" transform=\"translate(334.74575 213.809375)scale(0.1 -0.1)\">\n     <use xlink:href=\"#DejaVuSans-50\"/>\n     <use x=\"63.623047\" xlink:href=\"#DejaVuSans-54\"/>\n    </g>\n   </g>\n   <g id=\"text_102\">\n    <!-- 31 -->\n    <g style=\"fill:#ffffff;\" transform=\"translate(370.45775 213.809375)scale(0.1 -0.1)\">\n     <use xlink:href=\"#DejaVuSans-51\"/>\n     <use x=\"63.623047\" xlink:href=\"#DejaVuSans-49\"/>\n    </g>\n   </g>\n   <g id=\"text_103\">\n    <!-- 38 -->\n    <g style=\"fill:#ffffff;\" transform=\"translate(49.04975 240.989375)scale(0.1 -0.1)\">\n     <use xlink:href=\"#DejaVuSans-51\"/>\n     <use x=\"63.623047\" xlink:href=\"#DejaVuSans-56\"/>\n    </g>\n   </g>\n   <g id=\"text_104\">\n    <!-- 76 -->\n    <g style=\"fill:#ffffff;\" transform=\"translate(84.76175 240.989375)scale(0.1 -0.1)\">\n     <use xlink:href=\"#DejaVuSans-55\"/>\n     <use x=\"63.623047\" xlink:href=\"#DejaVuSans-54\"/>\n    </g>\n   </g>\n   <g id=\"text_105\">\n    <!-- 54 -->\n    <g style=\"fill:#ffffff;\" transform=\"translate(120.47375 240.989375)scale(0.1 -0.1)\">\n     <use xlink:href=\"#DejaVuSans-53\"/>\n     <use x=\"63.623047\" xlink:href=\"#DejaVuSans-52\"/>\n    </g>\n   </g>\n   <g id=\"text_106\">\n    <!-- 38 -->\n    <g style=\"fill:#ffffff;\" transform=\"translate(156.18575 240.989375)scale(0.1 -0.1)\">\n     <use xlink:href=\"#DejaVuSans-51\"/>\n     <use x=\"63.623047\" xlink:href=\"#DejaVuSans-56\"/>\n    </g>\n   </g>\n   <g id=\"text_107\">\n    <!-- 57 -->\n    <g style=\"fill:#ffffff;\" transform=\"translate(191.89775 240.989375)scale(0.1 -0.1)\">\n     <use xlink:href=\"#DejaVuSans-53\"/>\n     <use x=\"63.623047\" xlink:href=\"#DejaVuSans-55\"/>\n    </g>\n   </g>\n   <g id=\"text_108\">\n    <!-- 48 -->\n    <g style=\"fill:#ffffff;\" transform=\"translate(227.60975 240.989375)scale(0.1 -0.1)\">\n     <use xlink:href=\"#DejaVuSans-52\"/>\n     <use x=\"63.623047\" xlink:href=\"#DejaVuSans-56\"/>\n    </g>\n   </g>\n   <g id=\"text_109\">\n    <!-- 93 -->\n    <g style=\"fill:#ffffff;\" transform=\"translate(263.32175 240.989375)scale(0.1 -0.1)\">\n     <use xlink:href=\"#DejaVuSans-57\"/>\n     <use x=\"63.623047\" xlink:href=\"#DejaVuSans-51\"/>\n    </g>\n   </g>\n   <g id=\"text_110\">\n    <!-- 23 -->\n    <g style=\"fill:#ffffff;\" transform=\"translate(299.03375 240.989375)scale(0.1 -0.1)\">\n     <use xlink:href=\"#DejaVuSans-50\"/>\n     <use x=\"63.623047\" xlink:href=\"#DejaVuSans-51\"/>\n    </g>\n   </g>\n   <g id=\"text_111\">\n    <!-- 1300 -->\n    <g style=\"fill:#262626;\" transform=\"translate(328.38325 240.989375)scale(0.1 -0.1)\">\n     <use xlink:href=\"#DejaVuSans-49\"/>\n     <use x=\"63.623047\" xlink:href=\"#DejaVuSans-51\"/>\n     <use x=\"127.246094\" xlink:href=\"#DejaVuSans-48\"/>\n     <use x=\"190.869141\" xlink:href=\"#DejaVuSans-48\"/>\n    </g>\n   </g>\n   <g id=\"text_112\">\n    <!-- 85 -->\n    <g style=\"fill:#ffffff;\" transform=\"translate(370.45775 240.989375)scale(0.1 -0.1)\">\n     <use xlink:href=\"#DejaVuSans-56\"/>\n     <use x=\"63.623047\" xlink:href=\"#DejaVuSans-53\"/>\n    </g>\n   </g>\n   <g id=\"text_113\">\n    <!-- 88 -->\n    <g style=\"fill:#ffffff;\" transform=\"translate(49.04975 268.169375)scale(0.1 -0.1)\">\n     <use xlink:href=\"#DejaVuSans-56\"/>\n     <use x=\"63.623047\" xlink:href=\"#DejaVuSans-56\"/>\n    </g>\n   </g>\n   <g id=\"text_114\">\n    <!-- 62 -->\n    <g style=\"fill:#ffffff;\" transform=\"translate(84.76175 268.169375)scale(0.1 -0.1)\">\n     <use xlink:href=\"#DejaVuSans-54\"/>\n     <use x=\"63.623047\" xlink:href=\"#DejaVuSans-50\"/>\n    </g>\n   </g>\n   <g id=\"text_115\">\n    <!-- 52 -->\n    <g style=\"fill:#ffffff;\" transform=\"translate(120.47375 268.169375)scale(0.1 -0.1)\">\n     <use xlink:href=\"#DejaVuSans-53\"/>\n     <use x=\"63.623047\" xlink:href=\"#DejaVuSans-50\"/>\n    </g>\n   </g>\n   <g id=\"text_116\">\n    <!-- 66 -->\n    <g style=\"fill:#ffffff;\" transform=\"translate(156.18575 268.169375)scale(0.1 -0.1)\">\n     <use xlink:href=\"#DejaVuSans-54\"/>\n     <use x=\"63.623047\" xlink:href=\"#DejaVuSans-54\"/>\n    </g>\n   </g>\n   <g id=\"text_117\">\n    <!-- 59 -->\n    <g style=\"fill:#ffffff;\" transform=\"translate(191.89775 268.169375)scale(0.1 -0.1)\">\n     <use xlink:href=\"#DejaVuSans-53\"/>\n     <use x=\"63.623047\" xlink:href=\"#DejaVuSans-57\"/>\n    </g>\n   </g>\n   <g id=\"text_118\">\n    <!-- 61 -->\n    <g style=\"fill:#ffffff;\" transform=\"translate(227.60975 268.169375)scale(0.1 -0.1)\">\n     <use xlink:href=\"#DejaVuSans-54\"/>\n     <use x=\"63.623047\" xlink:href=\"#DejaVuSans-49\"/>\n    </g>\n   </g>\n   <g id=\"text_119\">\n    <!-- 15 -->\n    <g style=\"fill:#ffffff;\" transform=\"translate(263.32175 268.169375)scale(0.1 -0.1)\">\n     <use xlink:href=\"#DejaVuSans-49\"/>\n     <use x=\"63.623047\" xlink:href=\"#DejaVuSans-53\"/>\n    </g>\n   </g>\n   <g id=\"text_120\">\n    <!-- 63 -->\n    <g style=\"fill:#ffffff;\" transform=\"translate(299.03375 268.169375)scale(0.1 -0.1)\">\n     <use xlink:href=\"#DejaVuSans-54\"/>\n     <use x=\"63.623047\" xlink:href=\"#DejaVuSans-51\"/>\n    </g>\n   </g>\n   <g id=\"text_121\">\n    <!-- 77 -->\n    <g style=\"fill:#ffffff;\" transform=\"translate(334.74575 268.169375)scale(0.1 -0.1)\">\n     <use xlink:href=\"#DejaVuSans-55\"/>\n     <use x=\"63.623047\" xlink:href=\"#DejaVuSans-55\"/>\n    </g>\n   </g>\n   <g id=\"text_122\">\n    <!-- 1261 -->\n    <g style=\"fill:#262626;\" transform=\"translate(364.09525 268.169375)scale(0.1 -0.1)\">\n     <use xlink:href=\"#DejaVuSans-49\"/>\n     <use x=\"63.623047\" xlink:href=\"#DejaVuSans-50\"/>\n     <use x=\"127.246094\" xlink:href=\"#DejaVuSans-54\"/>\n     <use x=\"190.869141\" xlink:href=\"#DejaVuSans-49\"/>\n    </g>\n   </g>\n  </g>\n  <g id=\"axes_2\">\n   <g id=\"patch_3\">\n    <path clip-path=\"url(#p8d06b1418f)\" d=\"M 416.99625 279 \nL 416.99625 277.938281 \nL 416.99625 8.261719 \nL 416.99625 7.2 \nL 430.58625 7.2 \nL 430.58625 8.261719 \nL 430.58625 277.938281 \nL 430.58625 279 \nz\n\" style=\"fill:#ffffff;stroke:#ffffff;stroke-linejoin:miter;stroke-width:0.01;\"/>\n   </g>\n   <image height=\"271\" id=\"image5ab7014b30\" transform=\"scale(1 -1)translate(0 -271)\" width=\"14\" x=\"417\" xlink:href=\"data:image/png;base64,\niVBORw0KGgoAAAANSUhEUgAAAA4AAAEPCAYAAAByY/XAAAAABHNCSVQICAgIfAhkiAAAAXFJREFUaIHtm1sWwjAQQpNaN+H+91lXYD8uCgeT/HOYAWb6sM7z+boGOOeck+AU4HAzHu5SD4QaUqlYnCI7enrEIV9BHIGRTVbVIPuTsxlvGJumY4vz6QiDjHvEjNvHG0beIztL9JgIADt8kP3TwSPnH2QEU5ZVQpwaxoCP7h4jg4wZITCxOiBwiVLRO7JQjxjoXx3sCPfk1MeEHRS4QI/TPo9L2OEuVXm4ZrVWbfKL9kgZhci57ZiYkRFKqvp9xIwMqLzuhsCAqvCqcx4UKDxcU0Z/jzgAu9QbRrhYhYdrLA4sNaIqwgmlCuIgnMLYVCpl9CfHP8i01BEQxw2kui7CCN8gFTEOymgvlW+ARI9uIP790V/qOODHS00+0g+0Aslx2yEMckBVO6O9R3sAqnzkexX32GKHckWm368GImcH+iO3xfkF0K9qzyBXRW4zfp9xzoeZsUicxCBTO2rESUSuR5yiAOB/Py2gauKe/P/teAMhLS3bEAwh+gAAAABJRU5ErkJggg==\" y=\"-7\"/>\n   <g id=\"matplotlib.axis_3\"/>\n   <g id=\"matplotlib.axis_4\">\n    <g id=\"ytick_11\">\n     <g id=\"line2d_21\">\n      <defs>\n       <path d=\"M 0 0 \nL 3.5 0 \n\" id=\"m449758f6aa\" style=\"stroke:#000000;stroke-width:0.8;\"/>\n      </defs>\n      <g>\n       <use style=\"stroke:#000000;stroke-width:0.8;\" x=\"430.58625\" xlink:href=\"#m449758f6aa\" y=\"243.887952\"/>\n      </g>\n     </g>\n     <g id=\"text_123\">\n      <!-- 200 -->\n      <g transform=\"translate(437.58625 247.687171)scale(0.1 -0.1)\">\n       <use xlink:href=\"#DejaVuSans-50\"/>\n       <use x=\"63.623047\" xlink:href=\"#DejaVuSans-48\"/>\n       <use x=\"127.246094\" xlink:href=\"#DejaVuSans-48\"/>\n      </g>\n     </g>\n    </g>\n    <g id=\"ytick_12\">\n     <g id=\"line2d_22\">\n      <g>\n       <use style=\"stroke:#000000;stroke-width:0.8;\" x=\"430.58625\" xlink:href=\"#m449758f6aa\" y=\"207.50241\"/>\n      </g>\n     </g>\n     <g id=\"text_124\">\n      <!-- 400 -->\n      <g transform=\"translate(437.58625 211.301628)scale(0.1 -0.1)\">\n       <use xlink:href=\"#DejaVuSans-52\"/>\n       <use x=\"63.623047\" xlink:href=\"#DejaVuSans-48\"/>\n       <use x=\"127.246094\" xlink:href=\"#DejaVuSans-48\"/>\n      </g>\n     </g>\n    </g>\n    <g id=\"ytick_13\">\n     <g id=\"line2d_23\">\n      <g>\n       <use style=\"stroke:#000000;stroke-width:0.8;\" x=\"430.58625\" xlink:href=\"#m449758f6aa\" y=\"171.116867\"/>\n      </g>\n     </g>\n     <g id=\"text_125\">\n      <!-- 600 -->\n      <g transform=\"translate(437.58625 174.916086)scale(0.1 -0.1)\">\n       <use xlink:href=\"#DejaVuSans-54\"/>\n       <use x=\"63.623047\" xlink:href=\"#DejaVuSans-48\"/>\n       <use x=\"127.246094\" xlink:href=\"#DejaVuSans-48\"/>\n      </g>\n     </g>\n    </g>\n    <g id=\"ytick_14\">\n     <g id=\"line2d_24\">\n      <g>\n       <use style=\"stroke:#000000;stroke-width:0.8;\" x=\"430.58625\" xlink:href=\"#m449758f6aa\" y=\"134.731325\"/>\n      </g>\n     </g>\n     <g id=\"text_126\">\n      <!-- 800 -->\n      <g transform=\"translate(437.58625 138.530544)scale(0.1 -0.1)\">\n       <use xlink:href=\"#DejaVuSans-56\"/>\n       <use x=\"63.623047\" xlink:href=\"#DejaVuSans-48\"/>\n       <use x=\"127.246094\" xlink:href=\"#DejaVuSans-48\"/>\n      </g>\n     </g>\n    </g>\n    <g id=\"ytick_15\">\n     <g id=\"line2d_25\">\n      <g>\n       <use style=\"stroke:#000000;stroke-width:0.8;\" x=\"430.58625\" xlink:href=\"#m449758f6aa\" y=\"98.345783\"/>\n      </g>\n     </g>\n     <g id=\"text_127\">\n      <!-- 1000 -->\n      <g transform=\"translate(437.58625 102.145002)scale(0.1 -0.1)\">\n       <use xlink:href=\"#DejaVuSans-49\"/>\n       <use x=\"63.623047\" xlink:href=\"#DejaVuSans-48\"/>\n       <use x=\"127.246094\" xlink:href=\"#DejaVuSans-48\"/>\n       <use x=\"190.869141\" xlink:href=\"#DejaVuSans-48\"/>\n      </g>\n     </g>\n    </g>\n    <g id=\"ytick_16\">\n     <g id=\"line2d_26\">\n      <g>\n       <use style=\"stroke:#000000;stroke-width:0.8;\" x=\"430.58625\" xlink:href=\"#m449758f6aa\" y=\"61.960241\"/>\n      </g>\n     </g>\n     <g id=\"text_128\">\n      <!-- 1200 -->\n      <g transform=\"translate(437.58625 65.75946)scale(0.1 -0.1)\">\n       <use xlink:href=\"#DejaVuSans-49\"/>\n       <use x=\"63.623047\" xlink:href=\"#DejaVuSans-50\"/>\n       <use x=\"127.246094\" xlink:href=\"#DejaVuSans-48\"/>\n       <use x=\"190.869141\" xlink:href=\"#DejaVuSans-48\"/>\n      </g>\n     </g>\n    </g>\n    <g id=\"ytick_17\">\n     <g id=\"line2d_27\">\n      <g>\n       <use style=\"stroke:#000000;stroke-width:0.8;\" x=\"430.58625\" xlink:href=\"#m449758f6aa\" y=\"25.574699\"/>\n      </g>\n     </g>\n     <g id=\"text_129\">\n      <!-- 1400 -->\n      <g transform=\"translate(437.58625 29.373918)scale(0.1 -0.1)\">\n       <use xlink:href=\"#DejaVuSans-49\"/>\n       <use x=\"63.623047\" xlink:href=\"#DejaVuSans-52\"/>\n       <use x=\"127.246094\" xlink:href=\"#DejaVuSans-48\"/>\n       <use x=\"190.869141\" xlink:href=\"#DejaVuSans-48\"/>\n      </g>\n     </g>\n    </g>\n   </g>\n   <g id=\"patch_4\">\n    <path d=\"M 416.99625 279 \nL 416.99625 277.938281 \nL 416.99625 8.261719 \nL 416.99625 7.2 \nL 430.58625 7.2 \nL 430.58625 8.261719 \nL 430.58625 277.938281 \nL 430.58625 279 \nz\n\" style=\"fill:none;\"/>\n   </g>\n  </g>\n </g>\n <defs>\n  <clipPath id=\"p507ac806a0\">\n   <rect height=\"271.8\" width=\"357.12\" x=\"37.55625\" y=\"7.2\"/>\n  </clipPath>\n  <clipPath id=\"p8d06b1418f\">\n   <rect height=\"271.8\" width=\"13.59\" x=\"416.99625\" y=\"7.2\"/>\n  </clipPath>\n </defs>\n</svg>\n"
          },
          "metadata": {
            "needs_background": "light"
          }
        }
      ],
      "source": [
        "# Importing required functions\n",
        "\n",
        "from sklearn.metrics import classification_report\n",
        "\n",
        "from sklearn.metrics import confusion_matrix\n",
        "\n",
        "# Printing the classification report\n",
        "\n",
        "print(classification_report(y_test,test_pred))\n",
        "\n",
        "# Plotting the heatmap using confusion matrix\n",
        "\n",
        "cm = confusion_matrix(y_test,test_pred)\n",
        "\n",
        "plt.figure(figsize = (8, 5))\n",
        "\n",
        "sns.heatmap(cm, annot = True,  fmt = '.0f')\n",
        "\n",
        "plt.ylabel('Actual')\n",
        "\n",
        "plt.xlabel('Predicted')\n",
        "\n",
        "plt.show()"
      ]
    },
    {
      "cell_type": "markdown",
      "metadata": {
        "id": "DjErl4GA2u9s"
      },
      "source": [
        "## **Observations:**\n",
        "\n",
        "- The weighted accuracy, precision and recall are around 74% for the model. Which is moderate perfomance. Probably we should choose more complex architecture or try different type of NN. We will see if CNN can achieve better perfomance. \n",
        "- There are some digits which are harder to identify for the model. For example 3 and 5. The easiest digits to recognize for the model are 1,4 and 7. "
      ]
    },
    {
      "cell_type": "markdown",
      "metadata": {
        "id": "oMsQ2clQKdgp"
      },
      "source": [
        "# **Convolutional Neural Networks**"
      ]
    },
    {
      "cell_type": "markdown",
      "metadata": {
        "id": "i6bWqX8QKdgt"
      },
      "source": [
        "## **Importing the necessary libraries**"
      ]
    },
    {
      "cell_type": "code",
      "execution_count": null,
      "metadata": {
        "id": "q1WgCAQRKdgt"
      },
      "outputs": [],
      "source": [
        "import numpy as np\n",
        "\n",
        "import pandas as pd\n",
        "\n",
        "import matplotlib.pyplot as plt\n",
        "from IPython.display import set_matplotlib_formats\n",
        "set_matplotlib_formats('svg')\n",
        "\n",
        "import seaborn as sns\n",
        "\n",
        "from sklearn.model_selection import train_test_split\n",
        "\n",
        "from sklearn.preprocessing import MinMaxScaler\n",
        "\n",
        "import tensorflow as tf\n",
        "\n",
        "from tensorflow.keras.models import Sequential\n",
        "\n",
        "from tensorflow.keras.layers import Dense, Conv2D, MaxPool2D, BatchNormalization, Dropout, Flatten, LeakyReLU\n",
        "\n",
        "from tensorflow.keras.losses import categorical_crossentropy\n",
        "\n",
        "from tensorflow.keras.optimizers import Adam\n",
        "\n",
        "from tensorflow.keras.utils import to_categorical"
      ]
    },
    {
      "cell_type": "markdown",
      "metadata": {
        "id": "oZHunzahKdgu"
      },
      "source": [
        "## **Load the dataset**\n",
        "\n"
      ]
    },
    {
      "cell_type": "code",
      "execution_count": null,
      "metadata": {
        "scrolled": true,
        "id": "S-exQIsQKdgv"
      },
      "outputs": [],
      "source": [
        "import h5py\n",
        "\n",
        "\n",
        "h5f = h5py.File('/content/drive/MyDrive/Colab Notebooks/SVHN Digit Recognition/SVHN_single_grey1.h5', 'r')\n",
        "\n",
        "# Loading the the train and the test dataset\n",
        "\n",
        "X_train = h5f['X_train'][:]\n",
        "\n",
        "y_train = h5f['y_train'][:]\n",
        "\n",
        "X_test = h5f['X_test'][:]\n",
        "\n",
        "y_test = h5f['y_test'][:]\n",
        "\n",
        "\n",
        "# Closing the file\n",
        "\n",
        "h5f.close()"
      ]
    },
    {
      "cell_type": "markdown",
      "metadata": {
        "id": "j-Gym3aOKdgv"
      },
      "source": [
        "Let's check the number of images in the training and the testing dataset."
      ]
    },
    {
      "cell_type": "code",
      "execution_count": null,
      "metadata": {
        "colab": {
          "base_uri": "https://localhost:8080/"
        },
        "outputId": "d7264da0-e5d1-47d7-efb4-99b168554a7d",
        "id": "6-KMK0h1Kdgx"
      },
      "outputs": [
        {
          "output_type": "execute_result",
          "data": {
            "text/plain": [
              "(42000, 18000)"
            ]
          },
          "metadata": {},
          "execution_count": 5
        }
      ],
      "source": [
        "len(X_train), len(X_test)"
      ]
    },
    {
      "cell_type": "markdown",
      "metadata": {
        "id": "a0Wt7g2TKdgx"
      },
      "source": [
        "**Observation:**\n",
        "- There are 42,000 images in the training data and 18,000 images in the testing data. "
      ]
    },
    {
      "cell_type": "markdown",
      "metadata": {
        "id": "WPZsO9ESKdgy"
      },
      "source": [
        "## **Data preparation**"
      ]
    },
    {
      "cell_type": "code",
      "execution_count": null,
      "metadata": {
        "colab": {
          "base_uri": "https://localhost:8080/"
        },
        "outputId": "9bdc6ba8-03e6-4221-f9ed-b56b77e9bf72",
        "id": "j06lKPmkKdgy"
      },
      "outputs": [
        {
          "output_type": "stream",
          "name": "stdout",
          "text": [
            "Shape: (32, 32)\n",
            "\n",
            "First image:\n",
            " [[ 33.0704  30.2601  26.852  ...  71.4471  58.2204  42.9939]\n",
            " [ 25.2283  25.5533  29.9765 ... 113.0209 103.3639  84.2949]\n",
            " [ 26.2775  22.6137  40.4763 ... 113.3028 121.775  115.4228]\n",
            " ...\n",
            " [ 28.5502  36.212   45.0801 ...  24.1359  25.0927  26.0603]\n",
            " [ 38.4352  26.4733  23.2717 ...  28.1094  29.4683  30.0661]\n",
            " [ 50.2984  26.0773  24.0389 ...  49.6682  50.853   53.0377]]\n"
          ]
        }
      ],
      "source": [
        "# Shape and the array of pixels for the first image\n",
        "\n",
        "print(\"Shape:\", X_train[0].shape)\n",
        "\n",
        "print()\n",
        "\n",
        "print(\"First image:\\n\", X_train[0])"
      ]
    },
    {
      "cell_type": "code",
      "execution_count": null,
      "metadata": {
        "id": "EPRl7W5TKdgz"
      },
      "outputs": [],
      "source": [
        "# Reshaping the dataset to be able to pass them to CNNs.\n",
        "\n",
        "X_train = X_train.reshape(X_train.shape[0], 32, 32, 1)\n",
        "\n",
        "X_test = X_test.reshape(X_test.shape[0], 32, 32, 1)"
      ]
    },
    {
      "cell_type": "code",
      "execution_count": null,
      "metadata": {
        "id": "Pyx6aDF8Kdgz"
      },
      "outputs": [],
      "source": [
        "# Normalizing inputs from 0-255 to 0-1\n",
        "\n",
        "X_train = X_train / 255.0\n",
        "\n",
        "X_test = X_test / 255.0"
      ]
    },
    {
      "cell_type": "code",
      "execution_count": null,
      "metadata": {
        "colab": {
          "base_uri": "https://localhost:8080/"
        },
        "outputId": "137b55fa-8d38-4ccc-9a2d-8ad7d26e2b4f",
        "id": "ucaHISlcKdgz"
      },
      "outputs": [
        {
          "output_type": "stream",
          "name": "stdout",
          "text": [
            "Training set: (42000, 32, 32, 1) (42000,)\n",
            "Test set: (18000, 32, 32, 1) (18000,)\n"
          ]
        }
      ],
      "source": [
        "# New shape \n",
        "\n",
        "print('Training set:', X_train.shape, y_train.shape)\n",
        "\n",
        "print('Test set:', X_test.shape, y_test.shape)"
      ]
    },
    {
      "cell_type": "code",
      "execution_count": null,
      "metadata": {
        "colab": {
          "base_uri": "https://localhost:8080/"
        },
        "outputId": "6aa5e7fe-118c-47d8-d058-ea03da7ca94f",
        "id": "_s84POY5Kdg0"
      },
      "outputs": [
        {
          "output_type": "execute_result",
          "data": {
            "text/plain": [
              "array([[0., 1., 0., ..., 0., 0., 0.],\n",
              "       [0., 0., 0., ..., 1., 0., 0.],\n",
              "       [0., 0., 1., ..., 0., 0., 0.],\n",
              "       ...,\n",
              "       [0., 0., 0., ..., 1., 0., 0.],\n",
              "       [0., 0., 0., ..., 0., 0., 1.],\n",
              "       [0., 0., 1., ..., 0., 0., 0.]], dtype=float32)"
            ]
          },
          "metadata": {},
          "execution_count": 11
        }
      ],
      "source": [
        "# Let's one-hot encode the output\n",
        "\n",
        "y_train = to_categorical(y_train)\n",
        "\n",
        "y_test = to_categorical(y_test)\n",
        "\n",
        "# test labels\n",
        "\n",
        "y_test"
      ]
    },
    {
      "cell_type": "markdown",
      "metadata": {
        "id": "HToUyYb8Kdg0"
      },
      "source": [
        "## **Model Building**\n",
        "\n",
        "Now that we have done data preprocessing, let's build a CNN model."
      ]
    },
    {
      "cell_type": "code",
      "execution_count": null,
      "metadata": {
        "id": "ZY5pyF4-KDNt"
      },
      "outputs": [],
      "source": [
        "# Fixing the seed for random number generators\n",
        "\n",
        "np.random.seed(42)\n",
        "\n",
        "import random\n",
        "\n",
        "random.seed(42)\n",
        "\n",
        "tf.random.set_seed(42)"
      ]
    },
    {
      "cell_type": "code",
      "execution_count": null,
      "metadata": {
        "id": "ASzN1LmmKdg1"
      },
      "outputs": [],
      "source": [
        "# Defining the model\n",
        "\n",
        "def cnn_model_1():\n",
        "\n",
        "    model = Sequential() \n",
        "\n",
        "    model.add(Conv2D(filters=16, kernel_size=(3,3),padding='same',input_shape=(32,32,1)))\n",
        "\n",
        "    model.add(LeakyReLU(0.1))\n",
        "\n",
        "    model.add(Conv2D(filters=32,kernel_size=(3,3),padding='same'))\n",
        "\n",
        "    model.add(LeakyReLU(0.1))\n",
        "\n",
        "    model.add(MaxPool2D(pool_size=(2,2)))\n",
        "\n",
        "    model.add(Flatten())\n",
        "\n",
        "    model.add(Dense(32))\n",
        "\n",
        "    model.add(LeakyReLU(0.1))\n",
        "\n",
        "    model.add(Dense(10,activation='softmax'))\n",
        "    \n",
        "    # Compiling the model\n",
        "\n",
        "    model.compile(loss='categorical_crossentropy',optimizer='adam',metrics=['accuracy'])\n",
        "    \n",
        "    return model"
      ]
    },
    {
      "cell_type": "code",
      "execution_count": null,
      "metadata": {
        "id": "WYqMsTHAKdg1"
      },
      "outputs": [],
      "source": [
        "model_1 = cnn_model_1()"
      ]
    },
    {
      "cell_type": "code",
      "execution_count": null,
      "metadata": {
        "colab": {
          "base_uri": "https://localhost:8080/"
        },
        "outputId": "6e8d04fb-18f1-429c-bdd3-a5e8b6c68b47",
        "id": "buqzkdUkKdg1"
      },
      "outputs": [
        {
          "output_type": "stream",
          "name": "stdout",
          "text": [
            "Model: \"sequential\"\n",
            "_________________________________________________________________\n",
            " Layer (type)                Output Shape              Param #   \n",
            "=================================================================\n",
            " conv2d (Conv2D)             (None, 32, 32, 16)        160       \n",
            "                                                                 \n",
            " leaky_re_lu (LeakyReLU)     (None, 32, 32, 16)        0         \n",
            "                                                                 \n",
            " conv2d_1 (Conv2D)           (None, 32, 32, 32)        4640      \n",
            "                                                                 \n",
            " leaky_re_lu_1 (LeakyReLU)   (None, 32, 32, 32)        0         \n",
            "                                                                 \n",
            " max_pooling2d (MaxPooling2D  (None, 16, 16, 32)       0         \n",
            " )                                                               \n",
            "                                                                 \n",
            " flatten (Flatten)           (None, 8192)              0         \n",
            "                                                                 \n",
            " dense (Dense)               (None, 32)                262176    \n",
            "                                                                 \n",
            " leaky_re_lu_2 (LeakyReLU)   (None, 32)                0         \n",
            "                                                                 \n",
            " dense_1 (Dense)             (None, 10)                330       \n",
            "                                                                 \n",
            "=================================================================\n",
            "Total params: 267,306\n",
            "Trainable params: 267,306\n",
            "Non-trainable params: 0\n",
            "_________________________________________________________________\n"
          ]
        }
      ],
      "source": [
        "# Let's see the model summary\n",
        "\n",
        "model_1.summary()"
      ]
    },
    {
      "cell_type": "code",
      "execution_count": null,
      "metadata": {
        "colab": {
          "base_uri": "https://localhost:8080/"
        },
        "outputId": "ca93689d-c7ae-4560-c18b-abfa772cb99a",
        "id": "8q-OFK80Kdg1"
      },
      "outputs": [
        {
          "output_type": "stream",
          "name": "stdout",
          "text": [
            "Epoch 1/20\n",
            "1050/1050 [==============================] - 16s 4ms/step - loss: 1.1864 - accuracy: 0.6054 - val_loss: 0.6454 - val_accuracy: 0.8119\n",
            "Epoch 2/20\n",
            "1050/1050 [==============================] - 4s 4ms/step - loss: 0.5306 - accuracy: 0.8479 - val_loss: 0.5059 - val_accuracy: 0.8589\n",
            "Epoch 3/20\n",
            "1050/1050 [==============================] - 4s 4ms/step - loss: 0.4332 - accuracy: 0.8730 - val_loss: 0.5023 - val_accuracy: 0.8579\n",
            "Epoch 4/20\n",
            "1050/1050 [==============================] - 4s 4ms/step - loss: 0.3745 - accuracy: 0.8905 - val_loss: 0.4496 - val_accuracy: 0.8754\n",
            "Epoch 5/20\n",
            "1050/1050 [==============================] - 4s 4ms/step - loss: 0.3348 - accuracy: 0.8996 - val_loss: 0.4730 - val_accuracy: 0.8725\n",
            "Epoch 6/20\n",
            "1050/1050 [==============================] - 4s 4ms/step - loss: 0.2930 - accuracy: 0.9136 - val_loss: 0.4640 - val_accuracy: 0.8745\n",
            "Epoch 7/20\n",
            "1050/1050 [==============================] - 4s 4ms/step - loss: 0.2657 - accuracy: 0.9205 - val_loss: 0.4552 - val_accuracy: 0.8812\n",
            "Epoch 8/20\n",
            "1050/1050 [==============================] - 4s 4ms/step - loss: 0.2371 - accuracy: 0.9272 - val_loss: 0.4956 - val_accuracy: 0.8673\n",
            "Epoch 9/20\n",
            "1050/1050 [==============================] - 4s 4ms/step - loss: 0.2176 - accuracy: 0.9337 - val_loss: 0.5023 - val_accuracy: 0.8717\n",
            "Epoch 10/20\n",
            "1050/1050 [==============================] - 4s 4ms/step - loss: 0.1929 - accuracy: 0.9412 - val_loss: 0.5028 - val_accuracy: 0.8768\n",
            "Epoch 11/20\n",
            "1050/1050 [==============================] - 4s 4ms/step - loss: 0.1764 - accuracy: 0.9460 - val_loss: 0.5738 - val_accuracy: 0.8683\n",
            "Epoch 12/20\n",
            "1050/1050 [==============================] - 4s 4ms/step - loss: 0.1566 - accuracy: 0.9511 - val_loss: 0.5920 - val_accuracy: 0.8689\n",
            "Epoch 13/20\n",
            "1050/1050 [==============================] - 4s 4ms/step - loss: 0.1415 - accuracy: 0.9564 - val_loss: 0.6265 - val_accuracy: 0.8661\n",
            "Epoch 14/20\n",
            "1050/1050 [==============================] - 4s 4ms/step - loss: 0.1280 - accuracy: 0.9603 - val_loss: 0.6165 - val_accuracy: 0.8711\n",
            "Epoch 15/20\n",
            "1050/1050 [==============================] - 4s 4ms/step - loss: 0.1168 - accuracy: 0.9627 - val_loss: 0.6804 - val_accuracy: 0.8660\n",
            "Epoch 16/20\n",
            "1050/1050 [==============================] - 4s 4ms/step - loss: 0.1052 - accuracy: 0.9664 - val_loss: 0.7181 - val_accuracy: 0.8648\n",
            "Epoch 17/20\n",
            "1050/1050 [==============================] - 4s 4ms/step - loss: 0.0973 - accuracy: 0.9696 - val_loss: 0.7419 - val_accuracy: 0.8670\n",
            "Epoch 18/20\n",
            "1050/1050 [==============================] - 4s 4ms/step - loss: 0.0918 - accuracy: 0.9705 - val_loss: 0.7959 - val_accuracy: 0.8706\n",
            "Epoch 19/20\n",
            "1050/1050 [==============================] - 4s 4ms/step - loss: 0.0758 - accuracy: 0.9762 - val_loss: 0.7911 - val_accuracy: 0.8627\n",
            "Epoch 20/20\n",
            "1050/1050 [==============================] - 4s 4ms/step - loss: 0.0745 - accuracy: 0.9757 - val_loss: 0.8258 - val_accuracy: 0.8704\n"
          ]
        }
      ],
      "source": [
        "# Training the model\n",
        "\n",
        "history_model_1 = model_1.fit(X_train,y_train,validation_split=0.2, batch_size=32,verbose=1,epochs=20)"
      ]
    },
    {
      "cell_type": "markdown",
      "metadata": {
        "id": "hSCyCxaXKdg2"
      },
      "source": [
        "### **Model Evaluation**"
      ]
    },
    {
      "cell_type": "code",
      "execution_count": null,
      "metadata": {
        "colab": {
          "base_uri": "https://localhost:8080/",
          "height": 680
        },
        "outputId": "70f54880-7f88-4a40-f8aa-8f2f5e1d3e00",
        "id": "00OEK4ObKdg2"
      },
      "outputs": [
        {
          "output_type": "display_data",
          "data": {
            "text/plain": [
              "<Figure size 576x576 with 1 Axes>"
            ],
            "image/svg+xml": "<?xml version=\"1.0\" encoding=\"utf-8\" standalone=\"no\"?>\n<!DOCTYPE svg PUBLIC \"-//W3C//DTD SVG 1.1//EN\"\n  \"http://www.w3.org/Graphics/SVG/1.1/DTD/svg11.dtd\">\n<!-- Created with matplotlib (https://matplotlib.org/) -->\n<svg height=\"479.63625pt\" version=\"1.1\" viewBox=\"0 0 503.74375 479.63625\" width=\"503.74375pt\" xmlns=\"http://www.w3.org/2000/svg\" xmlns:xlink=\"http://www.w3.org/1999/xlink\">\n <defs>\n  <style type=\"text/css\">\n*{stroke-linecap:butt;stroke-linejoin:round;}\n  </style>\n </defs>\n <g id=\"figure_1\">\n  <g id=\"patch_1\">\n   <path d=\"M 0 479.63625 \nL 503.74375 479.63625 \nL 503.74375 0 \nL 0 0 \nz\n\" style=\"fill:none;\"/>\n  </g>\n  <g id=\"axes_1\">\n   <g id=\"patch_2\">\n    <path d=\"M 50.14375 442.08 \nL 496.54375 442.08 \nL 496.54375 7.2 \nL 50.14375 7.2 \nz\n\" style=\"fill:#ffffff;\"/>\n   </g>\n   <g id=\"matplotlib.axis_1\">\n    <g id=\"xtick_1\">\n     <g id=\"line2d_1\">\n      <defs>\n       <path d=\"M 0 0 \nL 0 3.5 \n\" id=\"m9086ab7f4e\" style=\"stroke:#000000;stroke-width:0.8;\"/>\n      </defs>\n      <g>\n       <use style=\"stroke:#000000;stroke-width:0.8;\" x=\"102.472937\" xlink:href=\"#m9086ab7f4e\" y=\"442.08\"/>\n      </g>\n     </g>\n     <g id=\"text_1\">\n      <!-- 2.5 -->\n      <defs>\n       <path d=\"M 19.1875 8.296875 \nL 53.609375 8.296875 \nL 53.609375 0 \nL 7.328125 0 \nL 7.328125 8.296875 \nQ 12.9375 14.109375 22.625 23.890625 \nQ 32.328125 33.6875 34.8125 36.53125 \nQ 39.546875 41.84375 41.421875 45.53125 \nQ 43.3125 49.21875 43.3125 52.78125 \nQ 43.3125 58.59375 39.234375 62.25 \nQ 35.15625 65.921875 28.609375 65.921875 \nQ 23.96875 65.921875 18.8125 64.3125 \nQ 13.671875 62.703125 7.8125 59.421875 \nL 7.8125 69.390625 \nQ 13.765625 71.78125 18.9375 73 \nQ 24.125 74.21875 28.421875 74.21875 \nQ 39.75 74.21875 46.484375 68.546875 \nQ 53.21875 62.890625 53.21875 53.421875 \nQ 53.21875 48.921875 51.53125 44.890625 \nQ 49.859375 40.875 45.40625 35.40625 \nQ 44.1875 33.984375 37.640625 27.21875 \nQ 31.109375 20.453125 19.1875 8.296875 \nz\n\" id=\"DejaVuSans-50\"/>\n       <path d=\"M 10.6875 12.40625 \nL 21 12.40625 \nL 21 0 \nL 10.6875 0 \nz\n\" id=\"DejaVuSans-46\"/>\n       <path d=\"M 10.796875 72.90625 \nL 49.515625 72.90625 \nL 49.515625 64.59375 \nL 19.828125 64.59375 \nL 19.828125 46.734375 \nQ 21.96875 47.46875 24.109375 47.828125 \nQ 26.265625 48.1875 28.421875 48.1875 \nQ 40.625 48.1875 47.75 41.5 \nQ 54.890625 34.8125 54.890625 23.390625 \nQ 54.890625 11.625 47.5625 5.09375 \nQ 40.234375 -1.421875 26.90625 -1.421875 \nQ 22.3125 -1.421875 17.546875 -0.640625 \nQ 12.796875 0.140625 7.71875 1.703125 \nL 7.71875 11.625 \nQ 12.109375 9.234375 16.796875 8.0625 \nQ 21.484375 6.890625 26.703125 6.890625 \nQ 35.15625 6.890625 40.078125 11.328125 \nQ 45.015625 15.765625 45.015625 23.390625 \nQ 45.015625 31 40.078125 35.4375 \nQ 35.15625 39.890625 26.703125 39.890625 \nQ 22.75 39.890625 18.8125 39.015625 \nQ 14.890625 38.140625 10.796875 36.28125 \nz\n\" id=\"DejaVuSans-53\"/>\n      </defs>\n      <g transform=\"translate(94.521374 456.678437)scale(0.1 -0.1)\">\n       <use xlink:href=\"#DejaVuSans-50\"/>\n       <use x=\"63.623047\" xlink:href=\"#DejaVuSans-46\"/>\n       <use x=\"95.410156\" xlink:href=\"#DejaVuSans-53\"/>\n      </g>\n     </g>\n    </g>\n    <g id=\"xtick_2\">\n     <g id=\"line2d_2\">\n      <g>\n       <use style=\"stroke:#000000;stroke-width:0.8;\" x=\"155.870066\" xlink:href=\"#m9086ab7f4e\" y=\"442.08\"/>\n      </g>\n     </g>\n     <g id=\"text_2\">\n      <!-- 5.0 -->\n      <defs>\n       <path d=\"M 31.78125 66.40625 \nQ 24.171875 66.40625 20.328125 58.90625 \nQ 16.5 51.421875 16.5 36.375 \nQ 16.5 21.390625 20.328125 13.890625 \nQ 24.171875 6.390625 31.78125 6.390625 \nQ 39.453125 6.390625 43.28125 13.890625 \nQ 47.125 21.390625 47.125 36.375 \nQ 47.125 51.421875 43.28125 58.90625 \nQ 39.453125 66.40625 31.78125 66.40625 \nz\nM 31.78125 74.21875 \nQ 44.046875 74.21875 50.515625 64.515625 \nQ 56.984375 54.828125 56.984375 36.375 \nQ 56.984375 17.96875 50.515625 8.265625 \nQ 44.046875 -1.421875 31.78125 -1.421875 \nQ 19.53125 -1.421875 13.0625 8.265625 \nQ 6.59375 17.96875 6.59375 36.375 \nQ 6.59375 54.828125 13.0625 64.515625 \nQ 19.53125 74.21875 31.78125 74.21875 \nz\n\" id=\"DejaVuSans-48\"/>\n      </defs>\n      <g transform=\"translate(147.918503 456.678437)scale(0.1 -0.1)\">\n       <use xlink:href=\"#DejaVuSans-53\"/>\n       <use x=\"63.623047\" xlink:href=\"#DejaVuSans-46\"/>\n       <use x=\"95.410156\" xlink:href=\"#DejaVuSans-48\"/>\n      </g>\n     </g>\n    </g>\n    <g id=\"xtick_3\">\n     <g id=\"line2d_3\">\n      <g>\n       <use style=\"stroke:#000000;stroke-width:0.8;\" x=\"209.267195\" xlink:href=\"#m9086ab7f4e\" y=\"442.08\"/>\n      </g>\n     </g>\n     <g id=\"text_3\">\n      <!-- 7.5 -->\n      <defs>\n       <path d=\"M 8.203125 72.90625 \nL 55.078125 72.90625 \nL 55.078125 68.703125 \nL 28.609375 0 \nL 18.3125 0 \nL 43.21875 64.59375 \nL 8.203125 64.59375 \nz\n\" id=\"DejaVuSans-55\"/>\n      </defs>\n      <g transform=\"translate(201.315632 456.678437)scale(0.1 -0.1)\">\n       <use xlink:href=\"#DejaVuSans-55\"/>\n       <use x=\"63.623047\" xlink:href=\"#DejaVuSans-46\"/>\n       <use x=\"95.410156\" xlink:href=\"#DejaVuSans-53\"/>\n      </g>\n     </g>\n    </g>\n    <g id=\"xtick_4\">\n     <g id=\"line2d_4\">\n      <g>\n       <use style=\"stroke:#000000;stroke-width:0.8;\" x=\"262.664324\" xlink:href=\"#m9086ab7f4e\" y=\"442.08\"/>\n      </g>\n     </g>\n     <g id=\"text_4\">\n      <!-- 10.0 -->\n      <defs>\n       <path d=\"M 12.40625 8.296875 \nL 28.515625 8.296875 \nL 28.515625 63.921875 \nL 10.984375 60.40625 \nL 10.984375 69.390625 \nL 28.421875 72.90625 \nL 38.28125 72.90625 \nL 38.28125 8.296875 \nL 54.390625 8.296875 \nL 54.390625 0 \nL 12.40625 0 \nz\n\" id=\"DejaVuSans-49\"/>\n      </defs>\n      <g transform=\"translate(251.531512 456.678437)scale(0.1 -0.1)\">\n       <use xlink:href=\"#DejaVuSans-49\"/>\n       <use x=\"63.623047\" xlink:href=\"#DejaVuSans-48\"/>\n       <use x=\"127.246094\" xlink:href=\"#DejaVuSans-46\"/>\n       <use x=\"159.033203\" xlink:href=\"#DejaVuSans-48\"/>\n      </g>\n     </g>\n    </g>\n    <g id=\"xtick_5\">\n     <g id=\"line2d_5\">\n      <g>\n       <use style=\"stroke:#000000;stroke-width:0.8;\" x=\"316.061453\" xlink:href=\"#m9086ab7f4e\" y=\"442.08\"/>\n      </g>\n     </g>\n     <g id=\"text_5\">\n      <!-- 12.5 -->\n      <g transform=\"translate(304.928641 456.678437)scale(0.1 -0.1)\">\n       <use xlink:href=\"#DejaVuSans-49\"/>\n       <use x=\"63.623047\" xlink:href=\"#DejaVuSans-50\"/>\n       <use x=\"127.246094\" xlink:href=\"#DejaVuSans-46\"/>\n       <use x=\"159.033203\" xlink:href=\"#DejaVuSans-53\"/>\n      </g>\n     </g>\n    </g>\n    <g id=\"xtick_6\">\n     <g id=\"line2d_6\">\n      <g>\n       <use style=\"stroke:#000000;stroke-width:0.8;\" x=\"369.458583\" xlink:href=\"#m9086ab7f4e\" y=\"442.08\"/>\n      </g>\n     </g>\n     <g id=\"text_6\">\n      <!-- 15.0 -->\n      <g transform=\"translate(358.32577 456.678437)scale(0.1 -0.1)\">\n       <use xlink:href=\"#DejaVuSans-49\"/>\n       <use x=\"63.623047\" xlink:href=\"#DejaVuSans-53\"/>\n       <use x=\"127.246094\" xlink:href=\"#DejaVuSans-46\"/>\n       <use x=\"159.033203\" xlink:href=\"#DejaVuSans-48\"/>\n      </g>\n     </g>\n    </g>\n    <g id=\"xtick_7\">\n     <g id=\"line2d_7\">\n      <g>\n       <use style=\"stroke:#000000;stroke-width:0.8;\" x=\"422.855712\" xlink:href=\"#m9086ab7f4e\" y=\"442.08\"/>\n      </g>\n     </g>\n     <g id=\"text_7\">\n      <!-- 17.5 -->\n      <g transform=\"translate(411.722899 456.678437)scale(0.1 -0.1)\">\n       <use xlink:href=\"#DejaVuSans-49\"/>\n       <use x=\"63.623047\" xlink:href=\"#DejaVuSans-55\"/>\n       <use x=\"127.246094\" xlink:href=\"#DejaVuSans-46\"/>\n       <use x=\"159.033203\" xlink:href=\"#DejaVuSans-53\"/>\n      </g>\n     </g>\n    </g>\n    <g id=\"xtick_8\">\n     <g id=\"line2d_8\">\n      <g>\n       <use style=\"stroke:#000000;stroke-width:0.8;\" x=\"476.252841\" xlink:href=\"#m9086ab7f4e\" y=\"442.08\"/>\n      </g>\n     </g>\n     <g id=\"text_8\">\n      <!-- 20.0 -->\n      <g transform=\"translate(465.120028 456.678437)scale(0.1 -0.1)\">\n       <use xlink:href=\"#DejaVuSans-50\"/>\n       <use x=\"63.623047\" xlink:href=\"#DejaVuSans-48\"/>\n       <use x=\"127.246094\" xlink:href=\"#DejaVuSans-46\"/>\n       <use x=\"159.033203\" xlink:href=\"#DejaVuSans-48\"/>\n      </g>\n     </g>\n    </g>\n    <g id=\"text_9\">\n     <!-- Epochs -->\n     <defs>\n      <path d=\"M 9.8125 72.90625 \nL 55.90625 72.90625 \nL 55.90625 64.59375 \nL 19.671875 64.59375 \nL 19.671875 43.015625 \nL 54.390625 43.015625 \nL 54.390625 34.71875 \nL 19.671875 34.71875 \nL 19.671875 8.296875 \nL 56.78125 8.296875 \nL 56.78125 0 \nL 9.8125 0 \nz\n\" id=\"DejaVuSans-69\"/>\n      <path d=\"M 18.109375 8.203125 \nL 18.109375 -20.796875 \nL 9.078125 -20.796875 \nL 9.078125 54.6875 \nL 18.109375 54.6875 \nL 18.109375 46.390625 \nQ 20.953125 51.265625 25.265625 53.625 \nQ 29.59375 56 35.59375 56 \nQ 45.5625 56 51.78125 48.09375 \nQ 58.015625 40.1875 58.015625 27.296875 \nQ 58.015625 14.40625 51.78125 6.484375 \nQ 45.5625 -1.421875 35.59375 -1.421875 \nQ 29.59375 -1.421875 25.265625 0.953125 \nQ 20.953125 3.328125 18.109375 8.203125 \nz\nM 48.6875 27.296875 \nQ 48.6875 37.203125 44.609375 42.84375 \nQ 40.53125 48.484375 33.40625 48.484375 \nQ 26.265625 48.484375 22.1875 42.84375 \nQ 18.109375 37.203125 18.109375 27.296875 \nQ 18.109375 17.390625 22.1875 11.75 \nQ 26.265625 6.109375 33.40625 6.109375 \nQ 40.53125 6.109375 44.609375 11.75 \nQ 48.6875 17.390625 48.6875 27.296875 \nz\n\" id=\"DejaVuSans-112\"/>\n      <path d=\"M 30.609375 48.390625 \nQ 23.390625 48.390625 19.1875 42.75 \nQ 14.984375 37.109375 14.984375 27.296875 \nQ 14.984375 17.484375 19.15625 11.84375 \nQ 23.34375 6.203125 30.609375 6.203125 \nQ 37.796875 6.203125 41.984375 11.859375 \nQ 46.1875 17.53125 46.1875 27.296875 \nQ 46.1875 37.015625 41.984375 42.703125 \nQ 37.796875 48.390625 30.609375 48.390625 \nz\nM 30.609375 56 \nQ 42.328125 56 49.015625 48.375 \nQ 55.71875 40.765625 55.71875 27.296875 \nQ 55.71875 13.875 49.015625 6.21875 \nQ 42.328125 -1.421875 30.609375 -1.421875 \nQ 18.84375 -1.421875 12.171875 6.21875 \nQ 5.515625 13.875 5.515625 27.296875 \nQ 5.515625 40.765625 12.171875 48.375 \nQ 18.84375 56 30.609375 56 \nz\n\" id=\"DejaVuSans-111\"/>\n      <path d=\"M 48.78125 52.59375 \nL 48.78125 44.1875 \nQ 44.96875 46.296875 41.140625 47.34375 \nQ 37.3125 48.390625 33.40625 48.390625 \nQ 24.65625 48.390625 19.8125 42.84375 \nQ 14.984375 37.3125 14.984375 27.296875 \nQ 14.984375 17.28125 19.8125 11.734375 \nQ 24.65625 6.203125 33.40625 6.203125 \nQ 37.3125 6.203125 41.140625 7.25 \nQ 44.96875 8.296875 48.78125 10.40625 \nL 48.78125 2.09375 \nQ 45.015625 0.34375 40.984375 -0.53125 \nQ 36.96875 -1.421875 32.421875 -1.421875 \nQ 20.0625 -1.421875 12.78125 6.34375 \nQ 5.515625 14.109375 5.515625 27.296875 \nQ 5.515625 40.671875 12.859375 48.328125 \nQ 20.21875 56 33.015625 56 \nQ 37.15625 56 41.109375 55.140625 \nQ 45.0625 54.296875 48.78125 52.59375 \nz\n\" id=\"DejaVuSans-99\"/>\n      <path d=\"M 54.890625 33.015625 \nL 54.890625 0 \nL 45.90625 0 \nL 45.90625 32.71875 \nQ 45.90625 40.484375 42.875 44.328125 \nQ 39.84375 48.1875 33.796875 48.1875 \nQ 26.515625 48.1875 22.3125 43.546875 \nQ 18.109375 38.921875 18.109375 30.90625 \nL 18.109375 0 \nL 9.078125 0 \nL 9.078125 75.984375 \nL 18.109375 75.984375 \nL 18.109375 46.1875 \nQ 21.34375 51.125 25.703125 53.5625 \nQ 30.078125 56 35.796875 56 \nQ 45.21875 56 50.046875 50.171875 \nQ 54.890625 44.34375 54.890625 33.015625 \nz\n\" id=\"DejaVuSans-104\"/>\n      <path d=\"M 44.28125 53.078125 \nL 44.28125 44.578125 \nQ 40.484375 46.53125 36.375 47.5 \nQ 32.28125 48.484375 27.875 48.484375 \nQ 21.1875 48.484375 17.84375 46.4375 \nQ 14.5 44.390625 14.5 40.28125 \nQ 14.5 37.15625 16.890625 35.375 \nQ 19.28125 33.59375 26.515625 31.984375 \nL 29.59375 31.296875 \nQ 39.15625 29.25 43.1875 25.515625 \nQ 47.21875 21.78125 47.21875 15.09375 \nQ 47.21875 7.46875 41.1875 3.015625 \nQ 35.15625 -1.421875 24.609375 -1.421875 \nQ 20.21875 -1.421875 15.453125 -0.5625 \nQ 10.6875 0.296875 5.421875 2 \nL 5.421875 11.28125 \nQ 10.40625 8.6875 15.234375 7.390625 \nQ 20.0625 6.109375 24.8125 6.109375 \nQ 31.15625 6.109375 34.5625 8.28125 \nQ 37.984375 10.453125 37.984375 14.40625 \nQ 37.984375 18.0625 35.515625 20.015625 \nQ 33.0625 21.96875 24.703125 23.78125 \nL 21.578125 24.515625 \nQ 13.234375 26.265625 9.515625 29.90625 \nQ 5.8125 33.546875 5.8125 39.890625 \nQ 5.8125 47.609375 11.28125 51.796875 \nQ 16.75 56 26.8125 56 \nQ 31.78125 56 36.171875 55.265625 \nQ 40.578125 54.546875 44.28125 53.078125 \nz\n\" id=\"DejaVuSans-115\"/>\n     </defs>\n     <g transform=\"translate(255.428125 470.356562)scale(0.1 -0.1)\">\n      <use xlink:href=\"#DejaVuSans-69\"/>\n      <use x=\"63.183594\" xlink:href=\"#DejaVuSans-112\"/>\n      <use x=\"126.660156\" xlink:href=\"#DejaVuSans-111\"/>\n      <use x=\"187.841797\" xlink:href=\"#DejaVuSans-99\"/>\n      <use x=\"242.822266\" xlink:href=\"#DejaVuSans-104\"/>\n      <use x=\"306.201172\" xlink:href=\"#DejaVuSans-115\"/>\n     </g>\n    </g>\n   </g>\n   <g id=\"matplotlib.axis_2\">\n    <g id=\"ytick_1\">\n     <g id=\"line2d_9\">\n      <defs>\n       <path d=\"M 0 0 \nL -3.5 0 \n\" id=\"m4f818275fc\" style=\"stroke:#000000;stroke-width:0.8;\"/>\n      </defs>\n      <g>\n       <use style=\"stroke:#000000;stroke-width:0.8;\" x=\"50.14375\" xlink:href=\"#m4f818275fc\" y=\"428.087887\"/>\n      </g>\n     </g>\n     <g id=\"text_10\">\n      <!-- 0.60 -->\n      <defs>\n       <path d=\"M 33.015625 40.375 \nQ 26.375 40.375 22.484375 35.828125 \nQ 18.609375 31.296875 18.609375 23.390625 \nQ 18.609375 15.53125 22.484375 10.953125 \nQ 26.375 6.390625 33.015625 6.390625 \nQ 39.65625 6.390625 43.53125 10.953125 \nQ 47.40625 15.53125 47.40625 23.390625 \nQ 47.40625 31.296875 43.53125 35.828125 \nQ 39.65625 40.375 33.015625 40.375 \nz\nM 52.59375 71.296875 \nL 52.59375 62.3125 \nQ 48.875 64.0625 45.09375 64.984375 \nQ 41.3125 65.921875 37.59375 65.921875 \nQ 27.828125 65.921875 22.671875 59.328125 \nQ 17.53125 52.734375 16.796875 39.40625 \nQ 19.671875 43.65625 24.015625 45.921875 \nQ 28.375 48.1875 33.59375 48.1875 \nQ 44.578125 48.1875 50.953125 41.515625 \nQ 57.328125 34.859375 57.328125 23.390625 \nQ 57.328125 12.15625 50.6875 5.359375 \nQ 44.046875 -1.421875 33.015625 -1.421875 \nQ 20.359375 -1.421875 13.671875 8.265625 \nQ 6.984375 17.96875 6.984375 36.375 \nQ 6.984375 53.65625 15.1875 63.9375 \nQ 23.390625 74.21875 37.203125 74.21875 \nQ 40.921875 74.21875 44.703125 73.484375 \nQ 48.484375 72.75 52.59375 71.296875 \nz\n\" id=\"DejaVuSans-54\"/>\n      </defs>\n      <g transform=\"translate(20.878125 431.887106)scale(0.1 -0.1)\">\n       <use xlink:href=\"#DejaVuSans-48\"/>\n       <use x=\"63.623047\" xlink:href=\"#DejaVuSans-46\"/>\n       <use x=\"95.410156\" xlink:href=\"#DejaVuSans-54\"/>\n       <use x=\"159.033203\" xlink:href=\"#DejaVuSans-48\"/>\n      </g>\n     </g>\n    </g>\n    <g id=\"ytick_2\">\n     <g id=\"line2d_10\">\n      <g>\n       <use style=\"stroke:#000000;stroke-width:0.8;\" x=\"50.14375\" xlink:href=\"#m4f818275fc\" y=\"374.778607\"/>\n      </g>\n     </g>\n     <g id=\"text_11\">\n      <!-- 0.65 -->\n      <g transform=\"translate(20.878125 378.577826)scale(0.1 -0.1)\">\n       <use xlink:href=\"#DejaVuSans-48\"/>\n       <use x=\"63.623047\" xlink:href=\"#DejaVuSans-46\"/>\n       <use x=\"95.410156\" xlink:href=\"#DejaVuSans-54\"/>\n       <use x=\"159.033203\" xlink:href=\"#DejaVuSans-53\"/>\n      </g>\n     </g>\n    </g>\n    <g id=\"ytick_3\">\n     <g id=\"line2d_11\">\n      <g>\n       <use style=\"stroke:#000000;stroke-width:0.8;\" x=\"50.14375\" xlink:href=\"#m4f818275fc\" y=\"321.469327\"/>\n      </g>\n     </g>\n     <g id=\"text_12\">\n      <!-- 0.70 -->\n      <g transform=\"translate(20.878125 325.268546)scale(0.1 -0.1)\">\n       <use xlink:href=\"#DejaVuSans-48\"/>\n       <use x=\"63.623047\" xlink:href=\"#DejaVuSans-46\"/>\n       <use x=\"95.410156\" xlink:href=\"#DejaVuSans-55\"/>\n       <use x=\"159.033203\" xlink:href=\"#DejaVuSans-48\"/>\n      </g>\n     </g>\n    </g>\n    <g id=\"ytick_4\">\n     <g id=\"line2d_12\">\n      <g>\n       <use style=\"stroke:#000000;stroke-width:0.8;\" x=\"50.14375\" xlink:href=\"#m4f818275fc\" y=\"268.160047\"/>\n      </g>\n     </g>\n     <g id=\"text_13\">\n      <!-- 0.75 -->\n      <g transform=\"translate(20.878125 271.959266)scale(0.1 -0.1)\">\n       <use xlink:href=\"#DejaVuSans-48\"/>\n       <use x=\"63.623047\" xlink:href=\"#DejaVuSans-46\"/>\n       <use x=\"95.410156\" xlink:href=\"#DejaVuSans-55\"/>\n       <use x=\"159.033203\" xlink:href=\"#DejaVuSans-53\"/>\n      </g>\n     </g>\n    </g>\n    <g id=\"ytick_5\">\n     <g id=\"line2d_13\">\n      <g>\n       <use style=\"stroke:#000000;stroke-width:0.8;\" x=\"50.14375\" xlink:href=\"#m4f818275fc\" y=\"214.850767\"/>\n      </g>\n     </g>\n     <g id=\"text_14\">\n      <!-- 0.80 -->\n      <defs>\n       <path d=\"M 31.78125 34.625 \nQ 24.75 34.625 20.71875 30.859375 \nQ 16.703125 27.09375 16.703125 20.515625 \nQ 16.703125 13.921875 20.71875 10.15625 \nQ 24.75 6.390625 31.78125 6.390625 \nQ 38.8125 6.390625 42.859375 10.171875 \nQ 46.921875 13.96875 46.921875 20.515625 \nQ 46.921875 27.09375 42.890625 30.859375 \nQ 38.875 34.625 31.78125 34.625 \nz\nM 21.921875 38.8125 \nQ 15.578125 40.375 12.03125 44.71875 \nQ 8.5 49.078125 8.5 55.328125 \nQ 8.5 64.0625 14.71875 69.140625 \nQ 20.953125 74.21875 31.78125 74.21875 \nQ 42.671875 74.21875 48.875 69.140625 \nQ 55.078125 64.0625 55.078125 55.328125 \nQ 55.078125 49.078125 51.53125 44.71875 \nQ 48 40.375 41.703125 38.8125 \nQ 48.828125 37.15625 52.796875 32.3125 \nQ 56.78125 27.484375 56.78125 20.515625 \nQ 56.78125 9.90625 50.3125 4.234375 \nQ 43.84375 -1.421875 31.78125 -1.421875 \nQ 19.734375 -1.421875 13.25 4.234375 \nQ 6.78125 9.90625 6.78125 20.515625 \nQ 6.78125 27.484375 10.78125 32.3125 \nQ 14.796875 37.15625 21.921875 38.8125 \nz\nM 18.3125 54.390625 \nQ 18.3125 48.734375 21.84375 45.5625 \nQ 25.390625 42.390625 31.78125 42.390625 \nQ 38.140625 42.390625 41.71875 45.5625 \nQ 45.3125 48.734375 45.3125 54.390625 \nQ 45.3125 60.0625 41.71875 63.234375 \nQ 38.140625 66.40625 31.78125 66.40625 \nQ 25.390625 66.40625 21.84375 63.234375 \nQ 18.3125 60.0625 18.3125 54.390625 \nz\n\" id=\"DejaVuSans-56\"/>\n      </defs>\n      <g transform=\"translate(20.878125 218.649985)scale(0.1 -0.1)\">\n       <use xlink:href=\"#DejaVuSans-48\"/>\n       <use x=\"63.623047\" xlink:href=\"#DejaVuSans-46\"/>\n       <use x=\"95.410156\" xlink:href=\"#DejaVuSans-56\"/>\n       <use x=\"159.033203\" xlink:href=\"#DejaVuSans-48\"/>\n      </g>\n     </g>\n    </g>\n    <g id=\"ytick_6\">\n     <g id=\"line2d_14\">\n      <g>\n       <use style=\"stroke:#000000;stroke-width:0.8;\" x=\"50.14375\" xlink:href=\"#m4f818275fc\" y=\"161.541486\"/>\n      </g>\n     </g>\n     <g id=\"text_15\">\n      <!-- 0.85 -->\n      <g transform=\"translate(20.878125 165.340705)scale(0.1 -0.1)\">\n       <use xlink:href=\"#DejaVuSans-48\"/>\n       <use x=\"63.623047\" xlink:href=\"#DejaVuSans-46\"/>\n       <use x=\"95.410156\" xlink:href=\"#DejaVuSans-56\"/>\n       <use x=\"159.033203\" xlink:href=\"#DejaVuSans-53\"/>\n      </g>\n     </g>\n    </g>\n    <g id=\"ytick_7\">\n     <g id=\"line2d_15\">\n      <g>\n       <use style=\"stroke:#000000;stroke-width:0.8;\" x=\"50.14375\" xlink:href=\"#m4f818275fc\" y=\"108.232206\"/>\n      </g>\n     </g>\n     <g id=\"text_16\">\n      <!-- 0.90 -->\n      <defs>\n       <path d=\"M 10.984375 1.515625 \nL 10.984375 10.5 \nQ 14.703125 8.734375 18.5 7.8125 \nQ 22.3125 6.890625 25.984375 6.890625 \nQ 35.75 6.890625 40.890625 13.453125 \nQ 46.046875 20.015625 46.78125 33.40625 \nQ 43.953125 29.203125 39.59375 26.953125 \nQ 35.25 24.703125 29.984375 24.703125 \nQ 19.046875 24.703125 12.671875 31.3125 \nQ 6.296875 37.9375 6.296875 49.421875 \nQ 6.296875 60.640625 12.9375 67.421875 \nQ 19.578125 74.21875 30.609375 74.21875 \nQ 43.265625 74.21875 49.921875 64.515625 \nQ 56.59375 54.828125 56.59375 36.375 \nQ 56.59375 19.140625 48.40625 8.859375 \nQ 40.234375 -1.421875 26.421875 -1.421875 \nQ 22.703125 -1.421875 18.890625 -0.6875 \nQ 15.09375 0.046875 10.984375 1.515625 \nz\nM 30.609375 32.421875 \nQ 37.25 32.421875 41.125 36.953125 \nQ 45.015625 41.5 45.015625 49.421875 \nQ 45.015625 57.28125 41.125 61.84375 \nQ 37.25 66.40625 30.609375 66.40625 \nQ 23.96875 66.40625 20.09375 61.84375 \nQ 16.21875 57.28125 16.21875 49.421875 \nQ 16.21875 41.5 20.09375 36.953125 \nQ 23.96875 32.421875 30.609375 32.421875 \nz\n\" id=\"DejaVuSans-57\"/>\n      </defs>\n      <g transform=\"translate(20.878125 112.031425)scale(0.1 -0.1)\">\n       <use xlink:href=\"#DejaVuSans-48\"/>\n       <use x=\"63.623047\" xlink:href=\"#DejaVuSans-46\"/>\n       <use x=\"95.410156\" xlink:href=\"#DejaVuSans-57\"/>\n       <use x=\"159.033203\" xlink:href=\"#DejaVuSans-48\"/>\n      </g>\n     </g>\n    </g>\n    <g id=\"ytick_8\">\n     <g id=\"line2d_16\">\n      <g>\n       <use style=\"stroke:#000000;stroke-width:0.8;\" x=\"50.14375\" xlink:href=\"#m4f818275fc\" y=\"54.922926\"/>\n      </g>\n     </g>\n     <g id=\"text_17\">\n      <!-- 0.95 -->\n      <g transform=\"translate(20.878125 58.722145)scale(0.1 -0.1)\">\n       <use xlink:href=\"#DejaVuSans-48\"/>\n       <use x=\"63.623047\" xlink:href=\"#DejaVuSans-46\"/>\n       <use x=\"95.410156\" xlink:href=\"#DejaVuSans-57\"/>\n       <use x=\"159.033203\" xlink:href=\"#DejaVuSans-53\"/>\n      </g>\n     </g>\n    </g>\n    <g id=\"text_18\">\n     <!-- Accuracy -->\n     <defs>\n      <path d=\"M 34.1875 63.1875 \nL 20.796875 26.90625 \nL 47.609375 26.90625 \nz\nM 28.609375 72.90625 \nL 39.796875 72.90625 \nL 67.578125 0 \nL 57.328125 0 \nL 50.6875 18.703125 \nL 17.828125 18.703125 \nL 11.1875 0 \nL 0.78125 0 \nz\n\" id=\"DejaVuSans-65\"/>\n      <path d=\"M 8.5 21.578125 \nL 8.5 54.6875 \nL 17.484375 54.6875 \nL 17.484375 21.921875 \nQ 17.484375 14.15625 20.5 10.265625 \nQ 23.53125 6.390625 29.59375 6.390625 \nQ 36.859375 6.390625 41.078125 11.03125 \nQ 45.3125 15.671875 45.3125 23.6875 \nL 45.3125 54.6875 \nL 54.296875 54.6875 \nL 54.296875 0 \nL 45.3125 0 \nL 45.3125 8.40625 \nQ 42.046875 3.421875 37.71875 1 \nQ 33.40625 -1.421875 27.6875 -1.421875 \nQ 18.265625 -1.421875 13.375 4.4375 \nQ 8.5 10.296875 8.5 21.578125 \nz\nM 31.109375 56 \nz\n\" id=\"DejaVuSans-117\"/>\n      <path d=\"M 41.109375 46.296875 \nQ 39.59375 47.171875 37.8125 47.578125 \nQ 36.03125 48 33.890625 48 \nQ 26.265625 48 22.1875 43.046875 \nQ 18.109375 38.09375 18.109375 28.8125 \nL 18.109375 0 \nL 9.078125 0 \nL 9.078125 54.6875 \nL 18.109375 54.6875 \nL 18.109375 46.1875 \nQ 20.953125 51.171875 25.484375 53.578125 \nQ 30.03125 56 36.53125 56 \nQ 37.453125 56 38.578125 55.875 \nQ 39.703125 55.765625 41.0625 55.515625 \nz\n\" id=\"DejaVuSans-114\"/>\n      <path d=\"M 34.28125 27.484375 \nQ 23.390625 27.484375 19.1875 25 \nQ 14.984375 22.515625 14.984375 16.5 \nQ 14.984375 11.71875 18.140625 8.90625 \nQ 21.296875 6.109375 26.703125 6.109375 \nQ 34.1875 6.109375 38.703125 11.40625 \nQ 43.21875 16.703125 43.21875 25.484375 \nL 43.21875 27.484375 \nz\nM 52.203125 31.203125 \nL 52.203125 0 \nL 43.21875 0 \nL 43.21875 8.296875 \nQ 40.140625 3.328125 35.546875 0.953125 \nQ 30.953125 -1.421875 24.3125 -1.421875 \nQ 15.921875 -1.421875 10.953125 3.296875 \nQ 6 8.015625 6 15.921875 \nQ 6 25.140625 12.171875 29.828125 \nQ 18.359375 34.515625 30.609375 34.515625 \nL 43.21875 34.515625 \nL 43.21875 35.40625 \nQ 43.21875 41.609375 39.140625 45 \nQ 35.0625 48.390625 27.6875 48.390625 \nQ 23 48.390625 18.546875 47.265625 \nQ 14.109375 46.140625 10.015625 43.890625 \nL 10.015625 52.203125 \nQ 14.9375 54.109375 19.578125 55.046875 \nQ 24.21875 56 28.609375 56 \nQ 40.484375 56 46.34375 49.84375 \nQ 52.203125 43.703125 52.203125 31.203125 \nz\n\" id=\"DejaVuSans-97\"/>\n      <path d=\"M 32.171875 -5.078125 \nQ 28.375 -14.84375 24.75 -17.8125 \nQ 21.140625 -20.796875 15.09375 -20.796875 \nL 7.90625 -20.796875 \nL 7.90625 -13.28125 \nL 13.1875 -13.28125 \nQ 16.890625 -13.28125 18.9375 -11.515625 \nQ 21 -9.765625 23.484375 -3.21875 \nL 25.09375 0.875 \nL 2.984375 54.6875 \nL 12.5 54.6875 \nL 29.59375 11.921875 \nL 46.6875 54.6875 \nL 56.203125 54.6875 \nz\n\" id=\"DejaVuSans-121\"/>\n     </defs>\n     <g transform=\"translate(14.798437 247.468125)rotate(-90)scale(0.1 -0.1)\">\n      <use xlink:href=\"#DejaVuSans-65\"/>\n      <use x=\"66.658203\" xlink:href=\"#DejaVuSans-99\"/>\n      <use x=\"121.638672\" xlink:href=\"#DejaVuSans-99\"/>\n      <use x=\"176.619141\" xlink:href=\"#DejaVuSans-117\"/>\n      <use x=\"239.998047\" xlink:href=\"#DejaVuSans-114\"/>\n      <use x=\"281.111328\" xlink:href=\"#DejaVuSans-97\"/>\n      <use x=\"342.390625\" xlink:href=\"#DejaVuSans-99\"/>\n      <use x=\"397.371094\" xlink:href=\"#DejaVuSans-121\"/>\n     </g>\n    </g>\n   </g>\n   <g id=\"line2d_17\">\n    <path clip-path=\"url(#pb99f6b4d49)\" d=\"M 70.434659 422.312727 \nL 91.793511 163.826197 \nL 113.152362 137.04461 \nL 134.511214 118.354605 \nL 155.870066 108.708155 \nL 177.228917 93.69907 \nL 198.587769 86.400778 \nL 219.946621 79.26117 \nL 241.305472 72.24847 \nL 262.664324 64.347219 \nL 284.023176 59.143269 \nL 305.382028 53.780571 \nL 326.740879 48.100633 \nL 348.099731 43.975501 \nL 369.458583 41.373462 \nL 390.817434 37.407013 \nL 412.176286 34.011747 \nL 433.535138 33.059774 \nL 454.893989 26.967273 \nL 476.252841 27.538457 \n\" style=\"fill:none;stroke:#1f77b4;stroke-dasharray:5.55,2.4;stroke-dashoffset:0;stroke-width:1.5;\"/>\n   </g>\n   <g id=\"line2d_18\">\n    <path clip-path=\"url(#pb99f6b4d49)\" d=\"M 70.434659 202.158053 \nL 91.793511 152.021983 \nL 113.152362 153.164287 \nL 134.511214 134.506057 \nL 155.870066 137.552308 \nL 177.228917 135.394544 \nL 198.587769 128.286647 \nL 219.946621 143.137111 \nL 241.305472 138.440795 \nL 262.664324 132.982963 \nL 284.023176 141.994744 \nL 305.382028 141.360137 \nL 326.740879 144.406388 \nL 348.099731 139.075401 \nL 369.458583 144.533296 \nL 390.817434 145.802573 \nL 412.176286 143.390929 \nL 433.535138 139.583163 \nL 454.893989 147.960336 \nL 476.252841 139.83698 \n\" style=\"fill:none;stroke:#ff7f0e;stroke-dasharray:5.55,2.4;stroke-dashoffset:0;stroke-width:1.5;\"/>\n   </g>\n   <g id=\"patch_3\">\n    <path d=\"M 50.14375 442.08 \nL 50.14375 7.2 \n\" style=\"fill:none;stroke:#000000;stroke-linecap:square;stroke-linejoin:miter;stroke-width:0.8;\"/>\n   </g>\n   <g id=\"patch_4\">\n    <path d=\"M 496.54375 442.08 \nL 496.54375 7.2 \n\" style=\"fill:none;stroke:#000000;stroke-linecap:square;stroke-linejoin:miter;stroke-width:0.8;\"/>\n   </g>\n   <g id=\"patch_5\">\n    <path d=\"M 50.14375 442.08 \nL 496.54375 442.08 \n\" style=\"fill:none;stroke:#000000;stroke-linecap:square;stroke-linejoin:miter;stroke-width:0.8;\"/>\n   </g>\n   <g id=\"patch_6\">\n    <path d=\"M 50.14375 7.2 \nL 496.54375 7.2 \n\" style=\"fill:none;stroke:#000000;stroke-linecap:square;stroke-linejoin:miter;stroke-width:0.8;\"/>\n   </g>\n   <g id=\"legend_1\">\n    <g id=\"patch_7\">\n     <path d=\"M 57.14375 44.834375 \nL 154.0875 44.834375 \nQ 156.0875 44.834375 156.0875 42.834375 \nL 156.0875 14.2 \nQ 156.0875 12.2 154.0875 12.2 \nL 57.14375 12.2 \nQ 55.14375 12.2 55.14375 14.2 \nL 55.14375 42.834375 \nQ 55.14375 44.834375 57.14375 44.834375 \nz\n\" style=\"fill:#ffffff;opacity:0.8;stroke:#cccccc;stroke-linejoin:miter;\"/>\n    </g>\n    <g id=\"line2d_19\">\n     <path d=\"M 59.14375 20.298437 \nL 79.14375 20.298437 \n\" style=\"fill:none;stroke:#1f77b4;stroke-dasharray:5.55,2.4;stroke-dashoffset:0;stroke-width:1.5;\"/>\n    </g>\n    <g id=\"line2d_20\"/>\n    <g id=\"text_19\">\n     <!-- accuracy -->\n     <g transform=\"translate(87.14375 23.798437)scale(0.1 -0.1)\">\n      <use xlink:href=\"#DejaVuSans-97\"/>\n      <use x=\"61.279297\" xlink:href=\"#DejaVuSans-99\"/>\n      <use x=\"116.259766\" xlink:href=\"#DejaVuSans-99\"/>\n      <use x=\"171.240234\" xlink:href=\"#DejaVuSans-117\"/>\n      <use x=\"234.619141\" xlink:href=\"#DejaVuSans-114\"/>\n      <use x=\"275.732422\" xlink:href=\"#DejaVuSans-97\"/>\n      <use x=\"337.011719\" xlink:href=\"#DejaVuSans-99\"/>\n      <use x=\"391.992188\" xlink:href=\"#DejaVuSans-121\"/>\n     </g>\n    </g>\n    <g id=\"line2d_21\">\n     <path d=\"M 59.14375 34.976562 \nL 79.14375 34.976562 \n\" style=\"fill:none;stroke:#ff7f0e;stroke-dasharray:5.55,2.4;stroke-dashoffset:0;stroke-width:1.5;\"/>\n    </g>\n    <g id=\"line2d_22\"/>\n    <g id=\"text_20\">\n     <!-- val_accuracy -->\n     <defs>\n      <path d=\"M 2.984375 54.6875 \nL 12.5 54.6875 \nL 29.59375 8.796875 \nL 46.6875 54.6875 \nL 56.203125 54.6875 \nL 35.6875 0 \nL 23.484375 0 \nz\n\" id=\"DejaVuSans-118\"/>\n      <path d=\"M 9.421875 75.984375 \nL 18.40625 75.984375 \nL 18.40625 0 \nL 9.421875 0 \nz\n\" id=\"DejaVuSans-108\"/>\n      <path d=\"M 50.984375 -16.609375 \nL 50.984375 -23.578125 \nL -0.984375 -23.578125 \nL -0.984375 -16.609375 \nz\n\" id=\"DejaVuSans-95\"/>\n     </defs>\n     <g transform=\"translate(87.14375 38.476562)scale(0.1 -0.1)\">\n      <use xlink:href=\"#DejaVuSans-118\"/>\n      <use x=\"59.179688\" xlink:href=\"#DejaVuSans-97\"/>\n      <use x=\"120.458984\" xlink:href=\"#DejaVuSans-108\"/>\n      <use x=\"148.242188\" xlink:href=\"#DejaVuSans-95\"/>\n      <use x=\"198.242188\" xlink:href=\"#DejaVuSans-97\"/>\n      <use x=\"259.521484\" xlink:href=\"#DejaVuSans-99\"/>\n      <use x=\"314.501953\" xlink:href=\"#DejaVuSans-99\"/>\n      <use x=\"369.482422\" xlink:href=\"#DejaVuSans-117\"/>\n      <use x=\"432.861328\" xlink:href=\"#DejaVuSans-114\"/>\n      <use x=\"473.974609\" xlink:href=\"#DejaVuSans-97\"/>\n      <use x=\"535.253906\" xlink:href=\"#DejaVuSans-99\"/>\n      <use x=\"590.234375\" xlink:href=\"#DejaVuSans-121\"/>\n     </g>\n    </g>\n   </g>\n  </g>\n </g>\n <defs>\n  <clipPath id=\"pb99f6b4d49\">\n   <rect height=\"434.88\" width=\"446.4\" x=\"50.14375\" y=\"7.2\"/>\n  </clipPath>\n </defs>\n</svg>\n"
          },
          "metadata": {
            "needs_background": "light"
          }
        }
      ],
      "source": [
        "# Plotting the accuracies\n",
        "\n",
        "dict_hist = history_model_1.history\n",
        "\n",
        "list_ep = [i for i in range(1, 21)]\n",
        "\n",
        "plt.figure(figsize = (8, 8))\n",
        "\n",
        "plt.plot(list_ep, dict_hist['accuracy'], ls = '--', label = 'accuracy')\n",
        "\n",
        "plt.plot(list_ep, dict_hist['val_accuracy'], ls = '--', label = 'val_accuracy')\n",
        "\n",
        "plt.ylabel('Accuracy')\n",
        "\n",
        "plt.xlabel('Epochs')\n",
        "\n",
        "plt.legend()\n",
        "\n",
        "plt.show()"
      ]
    },
    {
      "cell_type": "markdown",
      "metadata": {
        "id": "QcuIurwsKdg2"
      },
      "source": [
        "**Observations:**\n",
        "- The accuracy is improved significantly compared to the ANN model\n",
        "- Unfortunately the model is overfitting, so we should either employ early stopping as regularization or try another architecture with regularization techniques."
      ]
    },
    {
      "cell_type": "markdown",
      "metadata": {
        "id": "o6QpZjr1Kdg3"
      },
      "source": [
        "Let's build another model and see if we can get a better model with generalized performance.\n",
        "\n",
        "First, we need to clear the previous model's history from the Keras backend. Also, let's fix the seed again after clearing the backend."
      ]
    },
    {
      "cell_type": "code",
      "execution_count": null,
      "metadata": {
        "id": "-8P2frnlKdg3"
      },
      "outputs": [],
      "source": [
        "# Clearing backend\n",
        "\n",
        "from tensorflow.keras import backend\n",
        "\n",
        "backend.clear_session()"
      ]
    },
    {
      "cell_type": "code",
      "execution_count": null,
      "metadata": {
        "id": "Z3w4FxsqKdg3"
      },
      "outputs": [],
      "source": [
        "# Fixing the seed for random number generators\n",
        "\n",
        "np.random.seed(42)\n",
        "\n",
        "import random\n",
        "\n",
        "random.seed(42)\n",
        "\n",
        "tf.random.set_seed(42)"
      ]
    },
    {
      "cell_type": "code",
      "execution_count": null,
      "metadata": {
        "id": "jv6Tv5a5Kdg3"
      },
      "outputs": [],
      "source": [
        "# Defining the model\n",
        "\n",
        "def cnn_model_2():\n",
        "    \n",
        "    model = Sequential()\n",
        "    \n",
        "\n",
        "    model.add(Conv2D(filters=16, kernel_size=(3,3),padding='same',input_shape=(32,32,1)))\n",
        "\n",
        "    model.add(LeakyReLU(0.1))\n",
        "\n",
        "    model.add(Conv2D(filters=32,kernel_size=(3,3),padding='same'))\n",
        "\n",
        "    model.add(LeakyReLU(0.1))\n",
        "\n",
        "    model.add(MaxPool2D(pool_size=(2,2)))\n",
        "\n",
        "    model.add(BatchNormalization())\n",
        "\n",
        "    model.add(Conv2D(filters=32,kernel_size=(3,3),padding='same'))\n",
        "\n",
        "    model.add(LeakyReLU(0.1))\n",
        "\n",
        "    model.add(Conv2D(filters=64,kernel_size=(3,3),padding='same'))\n",
        "\n",
        "    model.add(LeakyReLU(0.1))\n",
        "\n",
        "    model.add(MaxPool2D(pool_size=(2,2)))\n",
        "\n",
        "    model.add(BatchNormalization())\n",
        "\n",
        "    model.add(Flatten())\n",
        "\n",
        "    model.add(Dense(32))\n",
        "\n",
        "    model.add(LeakyReLU(0.1))\n",
        "\n",
        "    model.add(Dropout(0.5))\n",
        "\n",
        "    model.add(Dense(10,activation='softmax'))\n",
        "\n",
        "    # Compiling the model\n",
        "\n",
        "    model.compile(loss='categorical_crossentropy',optimizer='adam',metrics=['accuracy'])\n",
        "    \n",
        "    return model"
      ]
    },
    {
      "cell_type": "code",
      "execution_count": null,
      "metadata": {
        "id": "9-tpOH-bKdg4"
      },
      "outputs": [],
      "source": [
        "model_2 = cnn_model_2()"
      ]
    },
    {
      "cell_type": "code",
      "execution_count": null,
      "metadata": {
        "colab": {
          "base_uri": "https://localhost:8080/"
        },
        "outputId": "71affb05-28a8-485c-cc18-00134a84c550",
        "id": "_D5QhDo1Kdg4"
      },
      "outputs": [
        {
          "output_type": "stream",
          "name": "stdout",
          "text": [
            "Model: \"sequential\"\n",
            "_________________________________________________________________\n",
            " Layer (type)                Output Shape              Param #   \n",
            "=================================================================\n",
            " conv2d (Conv2D)             (None, 32, 32, 16)        160       \n",
            "                                                                 \n",
            " leaky_re_lu (LeakyReLU)     (None, 32, 32, 16)        0         \n",
            "                                                                 \n",
            " conv2d_1 (Conv2D)           (None, 32, 32, 32)        4640      \n",
            "                                                                 \n",
            " leaky_re_lu_1 (LeakyReLU)   (None, 32, 32, 32)        0         \n",
            "                                                                 \n",
            " max_pooling2d (MaxPooling2D  (None, 16, 16, 32)       0         \n",
            " )                                                               \n",
            "                                                                 \n",
            " batch_normalization (BatchN  (None, 16, 16, 32)       128       \n",
            " ormalization)                                                   \n",
            "                                                                 \n",
            " conv2d_2 (Conv2D)           (None, 16, 16, 32)        9248      \n",
            "                                                                 \n",
            " leaky_re_lu_2 (LeakyReLU)   (None, 16, 16, 32)        0         \n",
            "                                                                 \n",
            " conv2d_3 (Conv2D)           (None, 16, 16, 64)        18496     \n",
            "                                                                 \n",
            " leaky_re_lu_3 (LeakyReLU)   (None, 16, 16, 64)        0         \n",
            "                                                                 \n",
            " max_pooling2d_1 (MaxPooling  (None, 8, 8, 64)         0         \n",
            " 2D)                                                             \n",
            "                                                                 \n",
            " batch_normalization_1 (Batc  (None, 8, 8, 64)         256       \n",
            " hNormalization)                                                 \n",
            "                                                                 \n",
            " flatten (Flatten)           (None, 4096)              0         \n",
            "                                                                 \n",
            " dense (Dense)               (None, 32)                131104    \n",
            "                                                                 \n",
            " leaky_re_lu_4 (LeakyReLU)   (None, 32)                0         \n",
            "                                                                 \n",
            " dropout (Dropout)           (None, 32)                0         \n",
            "                                                                 \n",
            " dense_1 (Dense)             (None, 10)                330       \n",
            "                                                                 \n",
            "=================================================================\n",
            "Total params: 164,362\n",
            "Trainable params: 164,170\n",
            "Non-trainable params: 192\n",
            "_________________________________________________________________\n"
          ]
        }
      ],
      "source": [
        "model_2.summary()"
      ]
    },
    {
      "cell_type": "code",
      "execution_count": null,
      "metadata": {
        "colab": {
          "base_uri": "https://localhost:8080/"
        },
        "outputId": "8fcdeeff-8ab8-4ce9-9ac0-81084b7fa95a",
        "id": "M7Vqwr9QKdg4"
      },
      "outputs": [
        {
          "output_type": "stream",
          "name": "stdout",
          "text": [
            "Epoch 1/30\n",
            "263/263 [==============================] - 4s 11ms/step - loss: 1.4744 - accuracy: 0.4974 - val_loss: 2.5106 - val_accuracy: 0.2676\n",
            "Epoch 2/30\n",
            "263/263 [==============================] - 2s 9ms/step - loss: 0.6931 - accuracy: 0.7856 - val_loss: 0.6855 - val_accuracy: 0.7930\n",
            "Epoch 3/30\n",
            "263/263 [==============================] - 2s 9ms/step - loss: 0.5577 - accuracy: 0.8293 - val_loss: 0.5618 - val_accuracy: 0.8452\n",
            "Epoch 4/30\n",
            "263/263 [==============================] - 2s 9ms/step - loss: 0.4994 - accuracy: 0.8469 - val_loss: 0.4165 - val_accuracy: 0.8775\n",
            "Epoch 5/30\n",
            "263/263 [==============================] - 2s 9ms/step - loss: 0.4509 - accuracy: 0.8641 - val_loss: 0.4307 - val_accuracy: 0.8850\n",
            "Epoch 6/30\n",
            "263/263 [==============================] - 2s 9ms/step - loss: 0.4117 - accuracy: 0.8738 - val_loss: 0.4016 - val_accuracy: 0.8855\n",
            "Epoch 7/30\n",
            "263/263 [==============================] - 2s 9ms/step - loss: 0.3820 - accuracy: 0.8841 - val_loss: 0.4401 - val_accuracy: 0.8742\n",
            "Epoch 8/30\n",
            "263/263 [==============================] - 2s 9ms/step - loss: 0.3618 - accuracy: 0.8879 - val_loss: 0.4046 - val_accuracy: 0.8837\n",
            "Epoch 9/30\n",
            "263/263 [==============================] - 2s 9ms/step - loss: 0.3341 - accuracy: 0.8968 - val_loss: 0.3452 - val_accuracy: 0.9067\n",
            "Epoch 10/30\n",
            "263/263 [==============================] - 2s 9ms/step - loss: 0.3127 - accuracy: 0.9015 - val_loss: 0.3715 - val_accuracy: 0.9021\n",
            "Epoch 11/30\n",
            "263/263 [==============================] - 2s 9ms/step - loss: 0.2992 - accuracy: 0.9042 - val_loss: 0.4004 - val_accuracy: 0.8929\n",
            "Epoch 12/30\n",
            "263/263 [==============================] - 2s 9ms/step - loss: 0.2824 - accuracy: 0.9107 - val_loss: 0.3842 - val_accuracy: 0.9065\n",
            "Epoch 13/30\n",
            "263/263 [==============================] - 2s 9ms/step - loss: 0.2756 - accuracy: 0.9135 - val_loss: 0.3878 - val_accuracy: 0.9036\n",
            "Epoch 14/30\n",
            "263/263 [==============================] - 2s 9ms/step - loss: 0.2629 - accuracy: 0.9168 - val_loss: 0.4544 - val_accuracy: 0.8868\n",
            "Epoch 15/30\n",
            "263/263 [==============================] - 3s 12ms/step - loss: 0.2468 - accuracy: 0.9212 - val_loss: 0.3614 - val_accuracy: 0.9081\n",
            "Epoch 16/30\n",
            "263/263 [==============================] - 3s 10ms/step - loss: 0.2372 - accuracy: 0.9243 - val_loss: 0.3921 - val_accuracy: 0.9030\n",
            "Epoch 17/30\n",
            "263/263 [==============================] - 2s 9ms/step - loss: 0.2293 - accuracy: 0.9261 - val_loss: 0.3876 - val_accuracy: 0.9038\n",
            "Epoch 18/30\n",
            "263/263 [==============================] - 2s 9ms/step - loss: 0.2186 - accuracy: 0.9293 - val_loss: 0.3984 - val_accuracy: 0.8985\n",
            "Epoch 19/30\n",
            "263/263 [==============================] - 2s 9ms/step - loss: 0.2124 - accuracy: 0.9300 - val_loss: 0.4600 - val_accuracy: 0.8839\n",
            "Epoch 20/30\n",
            "263/263 [==============================] - 2s 9ms/step - loss: 0.2031 - accuracy: 0.9351 - val_loss: 0.3687 - val_accuracy: 0.9124\n",
            "Epoch 21/30\n",
            "263/263 [==============================] - 2s 9ms/step - loss: 0.1939 - accuracy: 0.9372 - val_loss: 0.4234 - val_accuracy: 0.8981\n",
            "Epoch 22/30\n",
            "263/263 [==============================] - 3s 10ms/step - loss: 0.1860 - accuracy: 0.9386 - val_loss: 0.5281 - val_accuracy: 0.8839\n",
            "Epoch 23/30\n",
            "263/263 [==============================] - 2s 9ms/step - loss: 0.1883 - accuracy: 0.9396 - val_loss: 0.4061 - val_accuracy: 0.9168\n",
            "Epoch 24/30\n",
            "263/263 [==============================] - 2s 9ms/step - loss: 0.1796 - accuracy: 0.9406 - val_loss: 0.4799 - val_accuracy: 0.9036\n",
            "Epoch 25/30\n",
            "263/263 [==============================] - 2s 9ms/step - loss: 0.1710 - accuracy: 0.9446 - val_loss: 0.4241 - val_accuracy: 0.9096\n",
            "Epoch 26/30\n",
            "263/263 [==============================] - 2s 9ms/step - loss: 0.1646 - accuracy: 0.9451 - val_loss: 0.4376 - val_accuracy: 0.9093\n",
            "Epoch 27/30\n",
            "263/263 [==============================] - 3s 10ms/step - loss: 0.1610 - accuracy: 0.9462 - val_loss: 0.4352 - val_accuracy: 0.9126\n",
            "Epoch 28/30\n",
            "263/263 [==============================] - 3s 10ms/step - loss: 0.1569 - accuracy: 0.9481 - val_loss: 0.4531 - val_accuracy: 0.9063\n",
            "Epoch 29/30\n",
            "263/263 [==============================] - 2s 9ms/step - loss: 0.1557 - accuracy: 0.9474 - val_loss: 0.4401 - val_accuracy: 0.9131\n",
            "Epoch 30/30\n",
            "263/263 [==============================] - 2s 9ms/step - loss: 0.1522 - accuracy: 0.9493 - val_loss: 0.4259 - val_accuracy: 0.9143\n"
          ]
        }
      ],
      "source": [
        "# Training the model\n",
        "\n",
        "history_model_2 = model_2.fit(X_train,y_train,validation_split=0.2,batch_size=128,verbose=1,epochs=30)"
      ]
    },
    {
      "cell_type": "markdown",
      "metadata": {
        "id": "zKCdy59GKDN1"
      },
      "source": [
        "### **Model Evaluation**"
      ]
    },
    {
      "cell_type": "code",
      "execution_count": null,
      "metadata": {
        "colab": {
          "base_uri": "https://localhost:8080/",
          "height": 680
        },
        "outputId": "1ade365c-63a6-453c-9516-f70e365a13ab",
        "id": "-RUGnknjKdg4"
      },
      "outputs": [
        {
          "output_type": "display_data",
          "data": {
            "text/plain": [
              "<Figure size 576x576 with 1 Axes>"
            ],
            "image/svg+xml": "<?xml version=\"1.0\" encoding=\"utf-8\" standalone=\"no\"?>\n<!DOCTYPE svg PUBLIC \"-//W3C//DTD SVG 1.1//EN\"\n  \"http://www.w3.org/Graphics/SVG/1.1/DTD/svg11.dtd\">\n<!-- Created with matplotlib (https://matplotlib.org/) -->\n<svg height=\"479.63625pt\" version=\"1.1\" viewBox=\"0 0 497.38125 479.63625\" width=\"497.38125pt\" xmlns=\"http://www.w3.org/2000/svg\" xmlns:xlink=\"http://www.w3.org/1999/xlink\">\n <defs>\n  <style type=\"text/css\">\n*{stroke-linecap:butt;stroke-linejoin:round;}\n  </style>\n </defs>\n <g id=\"figure_1\">\n  <g id=\"patch_1\">\n   <path d=\"M 0 479.63625 \nL 497.38125 479.63625 \nL 497.38125 0 \nL 0 0 \nz\n\" style=\"fill:none;\"/>\n  </g>\n  <g id=\"axes_1\">\n   <g id=\"patch_2\">\n    <path d=\"M 43.78125 442.08 \nL 490.18125 442.08 \nL 490.18125 7.2 \nL 43.78125 7.2 \nz\n\" style=\"fill:#ffffff;\"/>\n   </g>\n   <g id=\"matplotlib.axis_1\">\n    <g id=\"xtick_1\">\n     <g id=\"line2d_1\">\n      <defs>\n       <path d=\"M 0 0 \nL 0 3.5 \n\" id=\"mb79f63c25b\" style=\"stroke:#000000;stroke-width:0.8;\"/>\n      </defs>\n      <g>\n       <use style=\"stroke:#000000;stroke-width:0.8;\" x=\"50.078429\" xlink:href=\"#mb79f63c25b\" y=\"442.08\"/>\n      </g>\n     </g>\n     <g id=\"text_1\">\n      <!-- 0 -->\n      <defs>\n       <path d=\"M 31.78125 66.40625 \nQ 24.171875 66.40625 20.328125 58.90625 \nQ 16.5 51.421875 16.5 36.375 \nQ 16.5 21.390625 20.328125 13.890625 \nQ 24.171875 6.390625 31.78125 6.390625 \nQ 39.453125 6.390625 43.28125 13.890625 \nQ 47.125 21.390625 47.125 36.375 \nQ 47.125 51.421875 43.28125 58.90625 \nQ 39.453125 66.40625 31.78125 66.40625 \nz\nM 31.78125 74.21875 \nQ 44.046875 74.21875 50.515625 64.515625 \nQ 56.984375 54.828125 56.984375 36.375 \nQ 56.984375 17.96875 50.515625 8.265625 \nQ 44.046875 -1.421875 31.78125 -1.421875 \nQ 19.53125 -1.421875 13.0625 8.265625 \nQ 6.59375 17.96875 6.59375 36.375 \nQ 6.59375 54.828125 13.0625 64.515625 \nQ 19.53125 74.21875 31.78125 74.21875 \nz\n\" id=\"DejaVuSans-48\"/>\n      </defs>\n      <g transform=\"translate(46.897179 456.678437)scale(0.1 -0.1)\">\n       <use xlink:href=\"#DejaVuSans-48\"/>\n      </g>\n     </g>\n    </g>\n    <g id=\"xtick_2\">\n     <g id=\"line2d_2\">\n      <g>\n       <use style=\"stroke:#000000;stroke-width:0.8;\" x=\"120.047081\" xlink:href=\"#mb79f63c25b\" y=\"442.08\"/>\n      </g>\n     </g>\n     <g id=\"text_2\">\n      <!-- 5 -->\n      <defs>\n       <path d=\"M 10.796875 72.90625 \nL 49.515625 72.90625 \nL 49.515625 64.59375 \nL 19.828125 64.59375 \nL 19.828125 46.734375 \nQ 21.96875 47.46875 24.109375 47.828125 \nQ 26.265625 48.1875 28.421875 48.1875 \nQ 40.625 48.1875 47.75 41.5 \nQ 54.890625 34.8125 54.890625 23.390625 \nQ 54.890625 11.625 47.5625 5.09375 \nQ 40.234375 -1.421875 26.90625 -1.421875 \nQ 22.3125 -1.421875 17.546875 -0.640625 \nQ 12.796875 0.140625 7.71875 1.703125 \nL 7.71875 11.625 \nQ 12.109375 9.234375 16.796875 8.0625 \nQ 21.484375 6.890625 26.703125 6.890625 \nQ 35.15625 6.890625 40.078125 11.328125 \nQ 45.015625 15.765625 45.015625 23.390625 \nQ 45.015625 31 40.078125 35.4375 \nQ 35.15625 39.890625 26.703125 39.890625 \nQ 22.75 39.890625 18.8125 39.015625 \nQ 14.890625 38.140625 10.796875 36.28125 \nz\n\" id=\"DejaVuSans-53\"/>\n      </defs>\n      <g transform=\"translate(116.865831 456.678437)scale(0.1 -0.1)\">\n       <use xlink:href=\"#DejaVuSans-53\"/>\n      </g>\n     </g>\n    </g>\n    <g id=\"xtick_3\">\n     <g id=\"line2d_3\">\n      <g>\n       <use style=\"stroke:#000000;stroke-width:0.8;\" x=\"190.015733\" xlink:href=\"#mb79f63c25b\" y=\"442.08\"/>\n      </g>\n     </g>\n     <g id=\"text_3\">\n      <!-- 10 -->\n      <defs>\n       <path d=\"M 12.40625 8.296875 \nL 28.515625 8.296875 \nL 28.515625 63.921875 \nL 10.984375 60.40625 \nL 10.984375 69.390625 \nL 28.421875 72.90625 \nL 38.28125 72.90625 \nL 38.28125 8.296875 \nL 54.390625 8.296875 \nL 54.390625 0 \nL 12.40625 0 \nz\n\" id=\"DejaVuSans-49\"/>\n      </defs>\n      <g transform=\"translate(183.653233 456.678437)scale(0.1 -0.1)\">\n       <use xlink:href=\"#DejaVuSans-49\"/>\n       <use x=\"63.623047\" xlink:href=\"#DejaVuSans-48\"/>\n      </g>\n     </g>\n    </g>\n    <g id=\"xtick_4\">\n     <g id=\"line2d_4\">\n      <g>\n       <use style=\"stroke:#000000;stroke-width:0.8;\" x=\"259.984385\" xlink:href=\"#mb79f63c25b\" y=\"442.08\"/>\n      </g>\n     </g>\n     <g id=\"text_4\">\n      <!-- 15 -->\n      <g transform=\"translate(253.621885 456.678437)scale(0.1 -0.1)\">\n       <use xlink:href=\"#DejaVuSans-49\"/>\n       <use x=\"63.623047\" xlink:href=\"#DejaVuSans-53\"/>\n      </g>\n     </g>\n    </g>\n    <g id=\"xtick_5\">\n     <g id=\"line2d_5\">\n      <g>\n       <use style=\"stroke:#000000;stroke-width:0.8;\" x=\"329.953037\" xlink:href=\"#mb79f63c25b\" y=\"442.08\"/>\n      </g>\n     </g>\n     <g id=\"text_5\">\n      <!-- 20 -->\n      <defs>\n       <path d=\"M 19.1875 8.296875 \nL 53.609375 8.296875 \nL 53.609375 0 \nL 7.328125 0 \nL 7.328125 8.296875 \nQ 12.9375 14.109375 22.625 23.890625 \nQ 32.328125 33.6875 34.8125 36.53125 \nQ 39.546875 41.84375 41.421875 45.53125 \nQ 43.3125 49.21875 43.3125 52.78125 \nQ 43.3125 58.59375 39.234375 62.25 \nQ 35.15625 65.921875 28.609375 65.921875 \nQ 23.96875 65.921875 18.8125 64.3125 \nQ 13.671875 62.703125 7.8125 59.421875 \nL 7.8125 69.390625 \nQ 13.765625 71.78125 18.9375 73 \nQ 24.125 74.21875 28.421875 74.21875 \nQ 39.75 74.21875 46.484375 68.546875 \nQ 53.21875 62.890625 53.21875 53.421875 \nQ 53.21875 48.921875 51.53125 44.890625 \nQ 49.859375 40.875 45.40625 35.40625 \nQ 44.1875 33.984375 37.640625 27.21875 \nQ 31.109375 20.453125 19.1875 8.296875 \nz\n\" id=\"DejaVuSans-50\"/>\n      </defs>\n      <g transform=\"translate(323.590537 456.678437)scale(0.1 -0.1)\">\n       <use xlink:href=\"#DejaVuSans-50\"/>\n       <use x=\"63.623047\" xlink:href=\"#DejaVuSans-48\"/>\n      </g>\n     </g>\n    </g>\n    <g id=\"xtick_6\">\n     <g id=\"line2d_6\">\n      <g>\n       <use style=\"stroke:#000000;stroke-width:0.8;\" x=\"399.921689\" xlink:href=\"#mb79f63c25b\" y=\"442.08\"/>\n      </g>\n     </g>\n     <g id=\"text_6\">\n      <!-- 25 -->\n      <g transform=\"translate(393.559189 456.678437)scale(0.1 -0.1)\">\n       <use xlink:href=\"#DejaVuSans-50\"/>\n       <use x=\"63.623047\" xlink:href=\"#DejaVuSans-53\"/>\n      </g>\n     </g>\n    </g>\n    <g id=\"xtick_7\">\n     <g id=\"line2d_7\">\n      <g>\n       <use style=\"stroke:#000000;stroke-width:0.8;\" x=\"469.890341\" xlink:href=\"#mb79f63c25b\" y=\"442.08\"/>\n      </g>\n     </g>\n     <g id=\"text_7\">\n      <!-- 30 -->\n      <defs>\n       <path d=\"M 40.578125 39.3125 \nQ 47.65625 37.796875 51.625 33 \nQ 55.609375 28.21875 55.609375 21.1875 \nQ 55.609375 10.40625 48.1875 4.484375 \nQ 40.765625 -1.421875 27.09375 -1.421875 \nQ 22.515625 -1.421875 17.65625 -0.515625 \nQ 12.796875 0.390625 7.625 2.203125 \nL 7.625 11.71875 \nQ 11.71875 9.328125 16.59375 8.109375 \nQ 21.484375 6.890625 26.8125 6.890625 \nQ 36.078125 6.890625 40.9375 10.546875 \nQ 45.796875 14.203125 45.796875 21.1875 \nQ 45.796875 27.640625 41.28125 31.265625 \nQ 36.765625 34.90625 28.71875 34.90625 \nL 20.21875 34.90625 \nL 20.21875 43.015625 \nL 29.109375 43.015625 \nQ 36.375 43.015625 40.234375 45.921875 \nQ 44.09375 48.828125 44.09375 54.296875 \nQ 44.09375 59.90625 40.109375 62.90625 \nQ 36.140625 65.921875 28.71875 65.921875 \nQ 24.65625 65.921875 20.015625 65.03125 \nQ 15.375 64.15625 9.8125 62.3125 \nL 9.8125 71.09375 \nQ 15.4375 72.65625 20.34375 73.4375 \nQ 25.25 74.21875 29.59375 74.21875 \nQ 40.828125 74.21875 47.359375 69.109375 \nQ 53.90625 64.015625 53.90625 55.328125 \nQ 53.90625 49.265625 50.4375 45.09375 \nQ 46.96875 40.921875 40.578125 39.3125 \nz\n\" id=\"DejaVuSans-51\"/>\n      </defs>\n      <g transform=\"translate(463.527841 456.678437)scale(0.1 -0.1)\">\n       <use xlink:href=\"#DejaVuSans-51\"/>\n       <use x=\"63.623047\" xlink:href=\"#DejaVuSans-48\"/>\n      </g>\n     </g>\n    </g>\n    <g id=\"text_8\">\n     <!-- Epochs -->\n     <defs>\n      <path d=\"M 9.8125 72.90625 \nL 55.90625 72.90625 \nL 55.90625 64.59375 \nL 19.671875 64.59375 \nL 19.671875 43.015625 \nL 54.390625 43.015625 \nL 54.390625 34.71875 \nL 19.671875 34.71875 \nL 19.671875 8.296875 \nL 56.78125 8.296875 \nL 56.78125 0 \nL 9.8125 0 \nz\n\" id=\"DejaVuSans-69\"/>\n      <path d=\"M 18.109375 8.203125 \nL 18.109375 -20.796875 \nL 9.078125 -20.796875 \nL 9.078125 54.6875 \nL 18.109375 54.6875 \nL 18.109375 46.390625 \nQ 20.953125 51.265625 25.265625 53.625 \nQ 29.59375 56 35.59375 56 \nQ 45.5625 56 51.78125 48.09375 \nQ 58.015625 40.1875 58.015625 27.296875 \nQ 58.015625 14.40625 51.78125 6.484375 \nQ 45.5625 -1.421875 35.59375 -1.421875 \nQ 29.59375 -1.421875 25.265625 0.953125 \nQ 20.953125 3.328125 18.109375 8.203125 \nz\nM 48.6875 27.296875 \nQ 48.6875 37.203125 44.609375 42.84375 \nQ 40.53125 48.484375 33.40625 48.484375 \nQ 26.265625 48.484375 22.1875 42.84375 \nQ 18.109375 37.203125 18.109375 27.296875 \nQ 18.109375 17.390625 22.1875 11.75 \nQ 26.265625 6.109375 33.40625 6.109375 \nQ 40.53125 6.109375 44.609375 11.75 \nQ 48.6875 17.390625 48.6875 27.296875 \nz\n\" id=\"DejaVuSans-112\"/>\n      <path d=\"M 30.609375 48.390625 \nQ 23.390625 48.390625 19.1875 42.75 \nQ 14.984375 37.109375 14.984375 27.296875 \nQ 14.984375 17.484375 19.15625 11.84375 \nQ 23.34375 6.203125 30.609375 6.203125 \nQ 37.796875 6.203125 41.984375 11.859375 \nQ 46.1875 17.53125 46.1875 27.296875 \nQ 46.1875 37.015625 41.984375 42.703125 \nQ 37.796875 48.390625 30.609375 48.390625 \nz\nM 30.609375 56 \nQ 42.328125 56 49.015625 48.375 \nQ 55.71875 40.765625 55.71875 27.296875 \nQ 55.71875 13.875 49.015625 6.21875 \nQ 42.328125 -1.421875 30.609375 -1.421875 \nQ 18.84375 -1.421875 12.171875 6.21875 \nQ 5.515625 13.875 5.515625 27.296875 \nQ 5.515625 40.765625 12.171875 48.375 \nQ 18.84375 56 30.609375 56 \nz\n\" id=\"DejaVuSans-111\"/>\n      <path d=\"M 48.78125 52.59375 \nL 48.78125 44.1875 \nQ 44.96875 46.296875 41.140625 47.34375 \nQ 37.3125 48.390625 33.40625 48.390625 \nQ 24.65625 48.390625 19.8125 42.84375 \nQ 14.984375 37.3125 14.984375 27.296875 \nQ 14.984375 17.28125 19.8125 11.734375 \nQ 24.65625 6.203125 33.40625 6.203125 \nQ 37.3125 6.203125 41.140625 7.25 \nQ 44.96875 8.296875 48.78125 10.40625 \nL 48.78125 2.09375 \nQ 45.015625 0.34375 40.984375 -0.53125 \nQ 36.96875 -1.421875 32.421875 -1.421875 \nQ 20.0625 -1.421875 12.78125 6.34375 \nQ 5.515625 14.109375 5.515625 27.296875 \nQ 5.515625 40.671875 12.859375 48.328125 \nQ 20.21875 56 33.015625 56 \nQ 37.15625 56 41.109375 55.140625 \nQ 45.0625 54.296875 48.78125 52.59375 \nz\n\" id=\"DejaVuSans-99\"/>\n      <path d=\"M 54.890625 33.015625 \nL 54.890625 0 \nL 45.90625 0 \nL 45.90625 32.71875 \nQ 45.90625 40.484375 42.875 44.328125 \nQ 39.84375 48.1875 33.796875 48.1875 \nQ 26.515625 48.1875 22.3125 43.546875 \nQ 18.109375 38.921875 18.109375 30.90625 \nL 18.109375 0 \nL 9.078125 0 \nL 9.078125 75.984375 \nL 18.109375 75.984375 \nL 18.109375 46.1875 \nQ 21.34375 51.125 25.703125 53.5625 \nQ 30.078125 56 35.796875 56 \nQ 45.21875 56 50.046875 50.171875 \nQ 54.890625 44.34375 54.890625 33.015625 \nz\n\" id=\"DejaVuSans-104\"/>\n      <path d=\"M 44.28125 53.078125 \nL 44.28125 44.578125 \nQ 40.484375 46.53125 36.375 47.5 \nQ 32.28125 48.484375 27.875 48.484375 \nQ 21.1875 48.484375 17.84375 46.4375 \nQ 14.5 44.390625 14.5 40.28125 \nQ 14.5 37.15625 16.890625 35.375 \nQ 19.28125 33.59375 26.515625 31.984375 \nL 29.59375 31.296875 \nQ 39.15625 29.25 43.1875 25.515625 \nQ 47.21875 21.78125 47.21875 15.09375 \nQ 47.21875 7.46875 41.1875 3.015625 \nQ 35.15625 -1.421875 24.609375 -1.421875 \nQ 20.21875 -1.421875 15.453125 -0.5625 \nQ 10.6875 0.296875 5.421875 2 \nL 5.421875 11.28125 \nQ 10.40625 8.6875 15.234375 7.390625 \nQ 20.0625 6.109375 24.8125 6.109375 \nQ 31.15625 6.109375 34.5625 8.28125 \nQ 37.984375 10.453125 37.984375 14.40625 \nQ 37.984375 18.0625 35.515625 20.015625 \nQ 33.0625 21.96875 24.703125 23.78125 \nL 21.578125 24.515625 \nQ 13.234375 26.265625 9.515625 29.90625 \nQ 5.8125 33.546875 5.8125 39.890625 \nQ 5.8125 47.609375 11.28125 51.796875 \nQ 16.75 56 26.8125 56 \nQ 31.78125 56 36.171875 55.265625 \nQ 40.578125 54.546875 44.28125 53.078125 \nz\n\" id=\"DejaVuSans-115\"/>\n     </defs>\n     <g transform=\"translate(249.065625 470.356562)scale(0.1 -0.1)\">\n      <use xlink:href=\"#DejaVuSans-69\"/>\n      <use x=\"63.183594\" xlink:href=\"#DejaVuSans-112\"/>\n      <use x=\"126.660156\" xlink:href=\"#DejaVuSans-111\"/>\n      <use x=\"187.841797\" xlink:href=\"#DejaVuSans-99\"/>\n      <use x=\"242.822266\" xlink:href=\"#DejaVuSans-104\"/>\n      <use x=\"306.201172\" xlink:href=\"#DejaVuSans-115\"/>\n     </g>\n    </g>\n   </g>\n   <g id=\"matplotlib.axis_2\">\n    <g id=\"ytick_1\">\n     <g id=\"line2d_8\">\n      <defs>\n       <path d=\"M 0 0 \nL -3.5 0 \n\" id=\"m1a62445f39\" style=\"stroke:#000000;stroke-width:0.8;\"/>\n      </defs>\n      <g>\n       <use style=\"stroke:#000000;stroke-width:0.8;\" x=\"43.78125\" xlink:href=\"#m1a62445f39\" y=\"403.533601\"/>\n      </g>\n     </g>\n     <g id=\"text_9\">\n      <!-- 0.3 -->\n      <defs>\n       <path d=\"M 10.6875 12.40625 \nL 21 12.40625 \nL 21 0 \nL 10.6875 0 \nz\n\" id=\"DejaVuSans-46\"/>\n      </defs>\n      <g transform=\"translate(20.878125 407.332819)scale(0.1 -0.1)\">\n       <use xlink:href=\"#DejaVuSans-48\"/>\n       <use x=\"63.623047\" xlink:href=\"#DejaVuSans-46\"/>\n       <use x=\"95.410156\" xlink:href=\"#DejaVuSans-51\"/>\n      </g>\n     </g>\n    </g>\n    <g id=\"ytick_2\">\n     <g id=\"line2d_9\">\n      <g>\n       <use style=\"stroke:#000000;stroke-width:0.8;\" x=\"43.78125\" xlink:href=\"#m1a62445f39\" y=\"345.539246\"/>\n      </g>\n     </g>\n     <g id=\"text_10\">\n      <!-- 0.4 -->\n      <defs>\n       <path d=\"M 37.796875 64.3125 \nL 12.890625 25.390625 \nL 37.796875 25.390625 \nz\nM 35.203125 72.90625 \nL 47.609375 72.90625 \nL 47.609375 25.390625 \nL 58.015625 25.390625 \nL 58.015625 17.1875 \nL 47.609375 17.1875 \nL 47.609375 0 \nL 37.796875 0 \nL 37.796875 17.1875 \nL 4.890625 17.1875 \nL 4.890625 26.703125 \nz\n\" id=\"DejaVuSans-52\"/>\n      </defs>\n      <g transform=\"translate(20.878125 349.338465)scale(0.1 -0.1)\">\n       <use xlink:href=\"#DejaVuSans-48\"/>\n       <use x=\"63.623047\" xlink:href=\"#DejaVuSans-46\"/>\n       <use x=\"95.410156\" xlink:href=\"#DejaVuSans-52\"/>\n      </g>\n     </g>\n    </g>\n    <g id=\"ytick_3\">\n     <g id=\"line2d_10\">\n      <g>\n       <use style=\"stroke:#000000;stroke-width:0.8;\" x=\"43.78125\" xlink:href=\"#m1a62445f39\" y=\"287.544891\"/>\n      </g>\n     </g>\n     <g id=\"text_11\">\n      <!-- 0.5 -->\n      <g transform=\"translate(20.878125 291.34411)scale(0.1 -0.1)\">\n       <use xlink:href=\"#DejaVuSans-48\"/>\n       <use x=\"63.623047\" xlink:href=\"#DejaVuSans-46\"/>\n       <use x=\"95.410156\" xlink:href=\"#DejaVuSans-53\"/>\n      </g>\n     </g>\n    </g>\n    <g id=\"ytick_4\">\n     <g id=\"line2d_11\">\n      <g>\n       <use style=\"stroke:#000000;stroke-width:0.8;\" x=\"43.78125\" xlink:href=\"#m1a62445f39\" y=\"229.550536\"/>\n      </g>\n     </g>\n     <g id=\"text_12\">\n      <!-- 0.6 -->\n      <defs>\n       <path d=\"M 33.015625 40.375 \nQ 26.375 40.375 22.484375 35.828125 \nQ 18.609375 31.296875 18.609375 23.390625 \nQ 18.609375 15.53125 22.484375 10.953125 \nQ 26.375 6.390625 33.015625 6.390625 \nQ 39.65625 6.390625 43.53125 10.953125 \nQ 47.40625 15.53125 47.40625 23.390625 \nQ 47.40625 31.296875 43.53125 35.828125 \nQ 39.65625 40.375 33.015625 40.375 \nz\nM 52.59375 71.296875 \nL 52.59375 62.3125 \nQ 48.875 64.0625 45.09375 64.984375 \nQ 41.3125 65.921875 37.59375 65.921875 \nQ 27.828125 65.921875 22.671875 59.328125 \nQ 17.53125 52.734375 16.796875 39.40625 \nQ 19.671875 43.65625 24.015625 45.921875 \nQ 28.375 48.1875 33.59375 48.1875 \nQ 44.578125 48.1875 50.953125 41.515625 \nQ 57.328125 34.859375 57.328125 23.390625 \nQ 57.328125 12.15625 50.6875 5.359375 \nQ 44.046875 -1.421875 33.015625 -1.421875 \nQ 20.359375 -1.421875 13.671875 8.265625 \nQ 6.984375 17.96875 6.984375 36.375 \nQ 6.984375 53.65625 15.1875 63.9375 \nQ 23.390625 74.21875 37.203125 74.21875 \nQ 40.921875 74.21875 44.703125 73.484375 \nQ 48.484375 72.75 52.59375 71.296875 \nz\n\" id=\"DejaVuSans-54\"/>\n      </defs>\n      <g transform=\"translate(20.878125 233.349755)scale(0.1 -0.1)\">\n       <use xlink:href=\"#DejaVuSans-48\"/>\n       <use x=\"63.623047\" xlink:href=\"#DejaVuSans-46\"/>\n       <use x=\"95.410156\" xlink:href=\"#DejaVuSans-54\"/>\n      </g>\n     </g>\n    </g>\n    <g id=\"ytick_5\">\n     <g id=\"line2d_12\">\n      <g>\n       <use style=\"stroke:#000000;stroke-width:0.8;\" x=\"43.78125\" xlink:href=\"#m1a62445f39\" y=\"171.556182\"/>\n      </g>\n     </g>\n     <g id=\"text_13\">\n      <!-- 0.7 -->\n      <defs>\n       <path d=\"M 8.203125 72.90625 \nL 55.078125 72.90625 \nL 55.078125 68.703125 \nL 28.609375 0 \nL 18.3125 0 \nL 43.21875 64.59375 \nL 8.203125 64.59375 \nz\n\" id=\"DejaVuSans-55\"/>\n      </defs>\n      <g transform=\"translate(20.878125 175.3554)scale(0.1 -0.1)\">\n       <use xlink:href=\"#DejaVuSans-48\"/>\n       <use x=\"63.623047\" xlink:href=\"#DejaVuSans-46\"/>\n       <use x=\"95.410156\" xlink:href=\"#DejaVuSans-55\"/>\n      </g>\n     </g>\n    </g>\n    <g id=\"ytick_6\">\n     <g id=\"line2d_13\">\n      <g>\n       <use style=\"stroke:#000000;stroke-width:0.8;\" x=\"43.78125\" xlink:href=\"#m1a62445f39\" y=\"113.561827\"/>\n      </g>\n     </g>\n     <g id=\"text_14\">\n      <!-- 0.8 -->\n      <defs>\n       <path d=\"M 31.78125 34.625 \nQ 24.75 34.625 20.71875 30.859375 \nQ 16.703125 27.09375 16.703125 20.515625 \nQ 16.703125 13.921875 20.71875 10.15625 \nQ 24.75 6.390625 31.78125 6.390625 \nQ 38.8125 6.390625 42.859375 10.171875 \nQ 46.921875 13.96875 46.921875 20.515625 \nQ 46.921875 27.09375 42.890625 30.859375 \nQ 38.875 34.625 31.78125 34.625 \nz\nM 21.921875 38.8125 \nQ 15.578125 40.375 12.03125 44.71875 \nQ 8.5 49.078125 8.5 55.328125 \nQ 8.5 64.0625 14.71875 69.140625 \nQ 20.953125 74.21875 31.78125 74.21875 \nQ 42.671875 74.21875 48.875 69.140625 \nQ 55.078125 64.0625 55.078125 55.328125 \nQ 55.078125 49.078125 51.53125 44.71875 \nQ 48 40.375 41.703125 38.8125 \nQ 48.828125 37.15625 52.796875 32.3125 \nQ 56.78125 27.484375 56.78125 20.515625 \nQ 56.78125 9.90625 50.3125 4.234375 \nQ 43.84375 -1.421875 31.78125 -1.421875 \nQ 19.734375 -1.421875 13.25 4.234375 \nQ 6.78125 9.90625 6.78125 20.515625 \nQ 6.78125 27.484375 10.78125 32.3125 \nQ 14.796875 37.15625 21.921875 38.8125 \nz\nM 18.3125 54.390625 \nQ 18.3125 48.734375 21.84375 45.5625 \nQ 25.390625 42.390625 31.78125 42.390625 \nQ 38.140625 42.390625 41.71875 45.5625 \nQ 45.3125 48.734375 45.3125 54.390625 \nQ 45.3125 60.0625 41.71875 63.234375 \nQ 38.140625 66.40625 31.78125 66.40625 \nQ 25.390625 66.40625 21.84375 63.234375 \nQ 18.3125 60.0625 18.3125 54.390625 \nz\n\" id=\"DejaVuSans-56\"/>\n      </defs>\n      <g transform=\"translate(20.878125 117.361045)scale(0.1 -0.1)\">\n       <use xlink:href=\"#DejaVuSans-48\"/>\n       <use x=\"63.623047\" xlink:href=\"#DejaVuSans-46\"/>\n       <use x=\"95.410156\" xlink:href=\"#DejaVuSans-56\"/>\n      </g>\n     </g>\n    </g>\n    <g id=\"ytick_7\">\n     <g id=\"line2d_14\">\n      <g>\n       <use style=\"stroke:#000000;stroke-width:0.8;\" x=\"43.78125\" xlink:href=\"#m1a62445f39\" y=\"55.567472\"/>\n      </g>\n     </g>\n     <g id=\"text_15\">\n      <!-- 0.9 -->\n      <defs>\n       <path d=\"M 10.984375 1.515625 \nL 10.984375 10.5 \nQ 14.703125 8.734375 18.5 7.8125 \nQ 22.3125 6.890625 25.984375 6.890625 \nQ 35.75 6.890625 40.890625 13.453125 \nQ 46.046875 20.015625 46.78125 33.40625 \nQ 43.953125 29.203125 39.59375 26.953125 \nQ 35.25 24.703125 29.984375 24.703125 \nQ 19.046875 24.703125 12.671875 31.3125 \nQ 6.296875 37.9375 6.296875 49.421875 \nQ 6.296875 60.640625 12.9375 67.421875 \nQ 19.578125 74.21875 30.609375 74.21875 \nQ 43.265625 74.21875 49.921875 64.515625 \nQ 56.59375 54.828125 56.59375 36.375 \nQ 56.59375 19.140625 48.40625 8.859375 \nQ 40.234375 -1.421875 26.421875 -1.421875 \nQ 22.703125 -1.421875 18.890625 -0.6875 \nQ 15.09375 0.046875 10.984375 1.515625 \nz\nM 30.609375 32.421875 \nQ 37.25 32.421875 41.125 36.953125 \nQ 45.015625 41.5 45.015625 49.421875 \nQ 45.015625 57.28125 41.125 61.84375 \nQ 37.25 66.40625 30.609375 66.40625 \nQ 23.96875 66.40625 20.09375 61.84375 \nQ 16.21875 57.28125 16.21875 49.421875 \nQ 16.21875 41.5 20.09375 36.953125 \nQ 23.96875 32.421875 30.609375 32.421875 \nz\n\" id=\"DejaVuSans-57\"/>\n      </defs>\n      <g transform=\"translate(20.878125 59.366691)scale(0.1 -0.1)\">\n       <use xlink:href=\"#DejaVuSans-48\"/>\n       <use x=\"63.623047\" xlink:href=\"#DejaVuSans-46\"/>\n       <use x=\"95.410156\" xlink:href=\"#DejaVuSans-57\"/>\n      </g>\n     </g>\n    </g>\n    <g id=\"text_16\">\n     <!-- Accuracy -->\n     <defs>\n      <path d=\"M 34.1875 63.1875 \nL 20.796875 26.90625 \nL 47.609375 26.90625 \nz\nM 28.609375 72.90625 \nL 39.796875 72.90625 \nL 67.578125 0 \nL 57.328125 0 \nL 50.6875 18.703125 \nL 17.828125 18.703125 \nL 11.1875 0 \nL 0.78125 0 \nz\n\" id=\"DejaVuSans-65\"/>\n      <path d=\"M 8.5 21.578125 \nL 8.5 54.6875 \nL 17.484375 54.6875 \nL 17.484375 21.921875 \nQ 17.484375 14.15625 20.5 10.265625 \nQ 23.53125 6.390625 29.59375 6.390625 \nQ 36.859375 6.390625 41.078125 11.03125 \nQ 45.3125 15.671875 45.3125 23.6875 \nL 45.3125 54.6875 \nL 54.296875 54.6875 \nL 54.296875 0 \nL 45.3125 0 \nL 45.3125 8.40625 \nQ 42.046875 3.421875 37.71875 1 \nQ 33.40625 -1.421875 27.6875 -1.421875 \nQ 18.265625 -1.421875 13.375 4.4375 \nQ 8.5 10.296875 8.5 21.578125 \nz\nM 31.109375 56 \nz\n\" id=\"DejaVuSans-117\"/>\n      <path d=\"M 41.109375 46.296875 \nQ 39.59375 47.171875 37.8125 47.578125 \nQ 36.03125 48 33.890625 48 \nQ 26.265625 48 22.1875 43.046875 \nQ 18.109375 38.09375 18.109375 28.8125 \nL 18.109375 0 \nL 9.078125 0 \nL 9.078125 54.6875 \nL 18.109375 54.6875 \nL 18.109375 46.1875 \nQ 20.953125 51.171875 25.484375 53.578125 \nQ 30.03125 56 36.53125 56 \nQ 37.453125 56 38.578125 55.875 \nQ 39.703125 55.765625 41.0625 55.515625 \nz\n\" id=\"DejaVuSans-114\"/>\n      <path d=\"M 34.28125 27.484375 \nQ 23.390625 27.484375 19.1875 25 \nQ 14.984375 22.515625 14.984375 16.5 \nQ 14.984375 11.71875 18.140625 8.90625 \nQ 21.296875 6.109375 26.703125 6.109375 \nQ 34.1875 6.109375 38.703125 11.40625 \nQ 43.21875 16.703125 43.21875 25.484375 \nL 43.21875 27.484375 \nz\nM 52.203125 31.203125 \nL 52.203125 0 \nL 43.21875 0 \nL 43.21875 8.296875 \nQ 40.140625 3.328125 35.546875 0.953125 \nQ 30.953125 -1.421875 24.3125 -1.421875 \nQ 15.921875 -1.421875 10.953125 3.296875 \nQ 6 8.015625 6 15.921875 \nQ 6 25.140625 12.171875 29.828125 \nQ 18.359375 34.515625 30.609375 34.515625 \nL 43.21875 34.515625 \nL 43.21875 35.40625 \nQ 43.21875 41.609375 39.140625 45 \nQ 35.0625 48.390625 27.6875 48.390625 \nQ 23 48.390625 18.546875 47.265625 \nQ 14.109375 46.140625 10.015625 43.890625 \nL 10.015625 52.203125 \nQ 14.9375 54.109375 19.578125 55.046875 \nQ 24.21875 56 28.609375 56 \nQ 40.484375 56 46.34375 49.84375 \nQ 52.203125 43.703125 52.203125 31.203125 \nz\n\" id=\"DejaVuSans-97\"/>\n      <path d=\"M 32.171875 -5.078125 \nQ 28.375 -14.84375 24.75 -17.8125 \nQ 21.140625 -20.796875 15.09375 -20.796875 \nL 7.90625 -20.796875 \nL 7.90625 -13.28125 \nL 13.1875 -13.28125 \nQ 16.890625 -13.28125 18.9375 -11.515625 \nQ 21 -9.765625 23.484375 -3.21875 \nL 25.09375 0.875 \nL 2.984375 54.6875 \nL 12.5 54.6875 \nL 29.59375 11.921875 \nL 46.6875 54.6875 \nL 56.203125 54.6875 \nz\n\" id=\"DejaVuSans-121\"/>\n     </defs>\n     <g transform=\"translate(14.798438 247.468125)rotate(-90)scale(0.1 -0.1)\">\n      <use xlink:href=\"#DejaVuSans-65\"/>\n      <use x=\"66.658203\" xlink:href=\"#DejaVuSans-99\"/>\n      <use x=\"121.638672\" xlink:href=\"#DejaVuSans-99\"/>\n      <use x=\"176.619141\" xlink:href=\"#DejaVuSans-117\"/>\n      <use x=\"239.998047\" xlink:href=\"#DejaVuSans-114\"/>\n      <use x=\"281.111328\" xlink:href=\"#DejaVuSans-97\"/>\n      <use x=\"342.390625\" xlink:href=\"#DejaVuSans-99\"/>\n      <use x=\"397.371094\" xlink:href=\"#DejaVuSans-121\"/>\n     </g>\n    </g>\n   </g>\n   <g id=\"line2d_15\">\n    <path clip-path=\"url(#pcaf4cb2672)\" d=\"M 64.072159 289.081046 \nL 78.065889 121.898526 \nL 92.05962 96.595034 \nL 106.05335 86.342468 \nL 120.047081 76.366026 \nL 134.040811 70.773723 \nL 148.034542 64.784415 \nL 162.028272 62.557864 \nL 176.022002 57.414315 \nL 190.015733 54.721727 \nL 204.009463 53.151057 \nL 218.003194 49.336517 \nL 231.996924 47.731314 \nL 245.990654 45.849953 \nL 259.984385 43.295462 \nL 273.978115 41.50038 \nL 287.971846 40.412996 \nL 301.965576 38.548884 \nL 315.959306 38.151912 \nL 329.953037 35.217665 \nL 343.946767 34.009467 \nL 357.940498 33.180958 \nL 371.934228 32.628641 \nL 385.927958 32.007258 \nL 399.921689 29.711642 \nL 413.915419 29.400986 \nL 427.90915 28.779603 \nL 441.90288 27.692219 \nL 455.896611 28.106439 \nL 469.890341 26.967273 \n\" style=\"fill:none;stroke:#1f77b4;stroke-dasharray:5.55,2.4;stroke-dashoffset:0;stroke-width:1.5;\"/>\n   </g>\n   <g id=\"line2d_16\">\n    <path clip-path=\"url(#pcaf4cb2672)\" d=\"M 64.072159 422.312727 \nL 78.065889 117.635234 \nL 92.05962 87.326289 \nL 106.05335 68.616203 \nL 120.047081 64.266631 \nL 134.040811 63.990472 \nL 148.034542 70.549347 \nL 162.028272 65.026075 \nL 176.022002 51.701165 \nL 190.015733 54.324721 \nL 204.009463 59.709931 \nL 218.003194 51.77023 \nL 231.996924 53.496246 \nL 245.990654 63.231028 \nL 259.984385 50.872689 \nL 273.978115 53.841435 \nL 287.971846 53.35815 \nL 301.965576 56.464992 \nL 315.959306 64.887978 \nL 329.953037 48.387229 \nL 343.946767 56.672119 \nL 357.940498 64.887978 \nL 371.934228 45.832704 \nL 385.927958 53.496246 \nL 399.921689 49.975149 \nL 413.915419 50.182276 \nL 427.90915 48.249133 \nL 441.90288 51.908292 \nL 455.896611 47.972974 \nL 469.890341 47.282561 \n\" style=\"fill:none;stroke:#ff7f0e;stroke-dasharray:5.55,2.4;stroke-dashoffset:0;stroke-width:1.5;\"/>\n   </g>\n   <g id=\"patch_3\">\n    <path d=\"M 43.78125 442.08 \nL 43.78125 7.2 \n\" style=\"fill:none;stroke:#000000;stroke-linecap:square;stroke-linejoin:miter;stroke-width:0.8;\"/>\n   </g>\n   <g id=\"patch_4\">\n    <path d=\"M 490.18125 442.08 \nL 490.18125 7.2 \n\" style=\"fill:none;stroke:#000000;stroke-linecap:square;stroke-linejoin:miter;stroke-width:0.8;\"/>\n   </g>\n   <g id=\"patch_5\">\n    <path d=\"M 43.78125 442.08 \nL 490.18125 442.08 \n\" style=\"fill:none;stroke:#000000;stroke-linecap:square;stroke-linejoin:miter;stroke-width:0.8;\"/>\n   </g>\n   <g id=\"patch_6\">\n    <path d=\"M 43.78125 7.2 \nL 490.18125 7.2 \n\" style=\"fill:none;stroke:#000000;stroke-linecap:square;stroke-linejoin:miter;stroke-width:0.8;\"/>\n   </g>\n   <g id=\"legend_1\">\n    <g id=\"patch_7\">\n     <path d=\"M 50.78125 44.834375 \nL 147.725 44.834375 \nQ 149.725 44.834375 149.725 42.834375 \nL 149.725 14.2 \nQ 149.725 12.2 147.725 12.2 \nL 50.78125 12.2 \nQ 48.78125 12.2 48.78125 14.2 \nL 48.78125 42.834375 \nQ 48.78125 44.834375 50.78125 44.834375 \nz\n\" style=\"fill:#ffffff;opacity:0.8;stroke:#cccccc;stroke-linejoin:miter;\"/>\n    </g>\n    <g id=\"line2d_17\">\n     <path d=\"M 52.78125 20.298437 \nL 72.78125 20.298437 \n\" style=\"fill:none;stroke:#1f77b4;stroke-dasharray:5.55,2.4;stroke-dashoffset:0;stroke-width:1.5;\"/>\n    </g>\n    <g id=\"line2d_18\"/>\n    <g id=\"text_17\">\n     <!-- accuracy -->\n     <g transform=\"translate(80.78125 23.798437)scale(0.1 -0.1)\">\n      <use xlink:href=\"#DejaVuSans-97\"/>\n      <use x=\"61.279297\" xlink:href=\"#DejaVuSans-99\"/>\n      <use x=\"116.259766\" xlink:href=\"#DejaVuSans-99\"/>\n      <use x=\"171.240234\" xlink:href=\"#DejaVuSans-117\"/>\n      <use x=\"234.619141\" xlink:href=\"#DejaVuSans-114\"/>\n      <use x=\"275.732422\" xlink:href=\"#DejaVuSans-97\"/>\n      <use x=\"337.011719\" xlink:href=\"#DejaVuSans-99\"/>\n      <use x=\"391.992188\" xlink:href=\"#DejaVuSans-121\"/>\n     </g>\n    </g>\n    <g id=\"line2d_19\">\n     <path d=\"M 52.78125 34.976562 \nL 72.78125 34.976562 \n\" style=\"fill:none;stroke:#ff7f0e;stroke-dasharray:5.55,2.4;stroke-dashoffset:0;stroke-width:1.5;\"/>\n    </g>\n    <g id=\"line2d_20\"/>\n    <g id=\"text_18\">\n     <!-- val_accuracy -->\n     <defs>\n      <path d=\"M 2.984375 54.6875 \nL 12.5 54.6875 \nL 29.59375 8.796875 \nL 46.6875 54.6875 \nL 56.203125 54.6875 \nL 35.6875 0 \nL 23.484375 0 \nz\n\" id=\"DejaVuSans-118\"/>\n      <path d=\"M 9.421875 75.984375 \nL 18.40625 75.984375 \nL 18.40625 0 \nL 9.421875 0 \nz\n\" id=\"DejaVuSans-108\"/>\n      <path d=\"M 50.984375 -16.609375 \nL 50.984375 -23.578125 \nL -0.984375 -23.578125 \nL -0.984375 -16.609375 \nz\n\" id=\"DejaVuSans-95\"/>\n     </defs>\n     <g transform=\"translate(80.78125 38.476562)scale(0.1 -0.1)\">\n      <use xlink:href=\"#DejaVuSans-118\"/>\n      <use x=\"59.179688\" xlink:href=\"#DejaVuSans-97\"/>\n      <use x=\"120.458984\" xlink:href=\"#DejaVuSans-108\"/>\n      <use x=\"148.242188\" xlink:href=\"#DejaVuSans-95\"/>\n      <use x=\"198.242188\" xlink:href=\"#DejaVuSans-97\"/>\n      <use x=\"259.521484\" xlink:href=\"#DejaVuSans-99\"/>\n      <use x=\"314.501953\" xlink:href=\"#DejaVuSans-99\"/>\n      <use x=\"369.482422\" xlink:href=\"#DejaVuSans-117\"/>\n      <use x=\"432.861328\" xlink:href=\"#DejaVuSans-114\"/>\n      <use x=\"473.974609\" xlink:href=\"#DejaVuSans-97\"/>\n      <use x=\"535.253906\" xlink:href=\"#DejaVuSans-99\"/>\n      <use x=\"590.234375\" xlink:href=\"#DejaVuSans-121\"/>\n     </g>\n    </g>\n   </g>\n  </g>\n </g>\n <defs>\n  <clipPath id=\"pcaf4cb2672\">\n   <rect height=\"434.88\" width=\"446.4\" x=\"43.78125\" y=\"7.2\"/>\n  </clipPath>\n </defs>\n</svg>\n"
          },
          "metadata": {
            "needs_background": "light"
          }
        }
      ],
      "source": [
        "# Plotting the accuracies\n",
        "\n",
        "dict_hist = history_model_2.history\n",
        "\n",
        "list_ep = [i for i in range(1, 31)]\n",
        "\n",
        "plt.figure(figsize = (8, 8))\n",
        "\n",
        "plt.plot(list_ep, dict_hist['accuracy'], ls = '--', label = 'accuracy')\n",
        "\n",
        "plt.plot(list_ep, dict_hist['val_accuracy'], ls = '--', label = 'val_accuracy')\n",
        "\n",
        "plt.ylabel('Accuracy')\n",
        "\n",
        "plt.xlabel('Epochs')\n",
        "\n",
        "plt.legend()\n",
        "\n",
        "plt.show()"
      ]
    },
    {
      "cell_type": "markdown",
      "metadata": {
        "id": "1DZMrciIKdg5"
      },
      "source": [
        "**Observations:**\n",
        "- With more complex model and regularization techniques we achieved drastic raise in perfomance of the model (~ 91% of validated accuracy vs ~ 87% of validated accuracy)\n",
        "- Model is still slightly overfitting but this is within normal limits. "
      ]
    },
    {
      "cell_type": "markdown",
      "metadata": {
        "id": "8qwMt4jkKdg5"
      },
      "source": [
        "## **Predictions on the test data**"
      ]
    },
    {
      "cell_type": "code",
      "execution_count": null,
      "metadata": {
        "id": "vKMdo1nhKdg5"
      },
      "outputs": [],
      "source": [
        "# Let's make predictions on the test data using model_2 \n",
        "\n",
        "test_pred = model_2.predict(X_test)\n",
        "\n",
        "test_pred = np.argmax(test_pred, axis = -1)"
      ]
    },
    {
      "cell_type": "code",
      "execution_count": null,
      "metadata": {
        "id": "yDWf05vKKdg5"
      },
      "outputs": [],
      "source": [
        "# Converting each entry to single label from one-hot encoded vector\n",
        "\n",
        "y_test = np.argmax(y_test, axis = -1)"
      ]
    },
    {
      "cell_type": "markdown",
      "source": [
        "## **Let's build classsification report and confusion matrix for the Final model**"
      ],
      "metadata": {
        "id": "x6ZRJWLNQNQz"
      }
    },
    {
      "cell_type": "code",
      "execution_count": null,
      "metadata": {
        "colab": {
          "base_uri": "https://localhost:8080/",
          "height": 763
        },
        "outputId": "3f49e5f5-cc5a-4743-e4cf-e93691b5e446",
        "id": "aitmMIq_Kdg6"
      },
      "outputs": [
        {
          "output_type": "stream",
          "name": "stdout",
          "text": [
            "              precision    recall  f1-score   support\n",
            "\n",
            "           0       0.90      0.95      0.93      1814\n",
            "           1       0.90      0.93      0.91      1828\n",
            "           2       0.94      0.91      0.92      1803\n",
            "           3       0.92      0.87      0.90      1719\n",
            "           4       0.93      0.93      0.93      1812\n",
            "           5       0.91      0.91      0.91      1768\n",
            "           6       0.89      0.90      0.90      1832\n",
            "           7       0.92      0.94      0.93      1808\n",
            "           8       0.91      0.88      0.90      1812\n",
            "           9       0.89      0.91      0.90      1804\n",
            "\n",
            "    accuracy                           0.91     18000\n",
            "   macro avg       0.91      0.91      0.91     18000\n",
            "weighted avg       0.91      0.91      0.91     18000\n",
            "\n"
          ]
        },
        {
          "output_type": "display_data",
          "data": {
            "text/plain": [
              "<Figure size 576x360 with 2 Axes>"
            ],
            "image/svg+xml": "<?xml version=\"1.0\" encoding=\"utf-8\" standalone=\"no\"?>\n<!DOCTYPE svg PUBLIC \"-//W3C//DTD SVG 1.1//EN\"\n  \"http://www.w3.org/Graphics/SVG/1.1/DTD/svg11.dtd\">\n<!-- Created with matplotlib (https://matplotlib.org/) -->\n<svg height=\"316.55625pt\" version=\"1.1\" viewBox=\"0 0 470.23625 316.55625\" width=\"470.23625pt\" xmlns=\"http://www.w3.org/2000/svg\" xmlns:xlink=\"http://www.w3.org/1999/xlink\">\n <defs>\n  <style type=\"text/css\">\n*{stroke-linecap:butt;stroke-linejoin:round;}\n  </style>\n </defs>\n <g id=\"figure_1\">\n  <g id=\"patch_1\">\n   <path d=\"M 0 316.55625 \nL 470.23625 316.55625 \nL 470.23625 0 \nL 0 0 \nz\n\" style=\"fill:none;\"/>\n  </g>\n  <g id=\"axes_1\">\n   <g id=\"patch_2\">\n    <path d=\"M 37.55625 279 \nL 394.67625 279 \nL 394.67625 7.2 \nL 37.55625 7.2 \nz\n\" style=\"fill:#ffffff;\"/>\n   </g>\n   <g id=\"QuadMesh_1\">\n    <path clip-path=\"url(#pb4b053f009)\" d=\"M 37.55625 7.2 \nL 73.26825 7.2 \nL 73.26825 34.38 \nL 37.55625 34.38 \nL 37.55625 7.2 \n\" style=\"fill:#faebdd;\"/>\n    <path clip-path=\"url(#pb4b053f009)\" d=\"M 73.26825 7.2 \nL 108.98025 7.2 \nL 108.98025 34.38 \nL 73.26825 34.38 \nL 73.26825 7.2 \n\" style=\"fill:#06071c;\"/>\n    <path clip-path=\"url(#pb4b053f009)\" d=\"M 108.98025 7.2 \nL 144.69225 7.2 \nL 144.69225 34.38 \nL 108.98025 34.38 \nL 108.98025 7.2 \n\" style=\"fill:#04051a;\"/>\n    <path clip-path=\"url(#pb4b053f009)\" d=\"M 144.69225 7.2 \nL 180.40425 7.2 \nL 180.40425 34.38 \nL 144.69225 34.38 \nL 144.69225 7.2 \n\" style=\"fill:#03051a;\"/>\n    <path clip-path=\"url(#pb4b053f009)\" d=\"M 180.40425 7.2 \nL 216.11625 7.2 \nL 216.11625 34.38 \nL 180.40425 34.38 \nL 180.40425 7.2 \n\" style=\"fill:#03051a;\"/>\n    <path clip-path=\"url(#pb4b053f009)\" d=\"M 216.11625 7.2 \nL 251.82825 7.2 \nL 251.82825 34.38 \nL 216.11625 34.38 \nL 216.11625 7.2 \n\" style=\"fill:#03051a;\"/>\n    <path clip-path=\"url(#pb4b053f009)\" d=\"M 251.82825 7.2 \nL 287.54025 7.2 \nL 287.54025 34.38 \nL 251.82825 34.38 \nL 251.82825 7.2 \n\" style=\"fill:#06071c;\"/>\n    <path clip-path=\"url(#pb4b053f009)\" d=\"M 287.54025 7.2 \nL 323.25225 7.2 \nL 323.25225 34.38 \nL 287.54025 34.38 \nL 287.54025 7.2 \n\" style=\"fill:#03051a;\"/>\n    <path clip-path=\"url(#pb4b053f009)\" d=\"M 323.25225 7.2 \nL 358.96425 7.2 \nL 358.96425 34.38 \nL 323.25225 34.38 \nL 323.25225 7.2 \n\" style=\"fill:#03051a;\"/>\n    <path clip-path=\"url(#pb4b053f009)\" d=\"M 358.96425 7.2 \nL 394.67625 7.2 \nL 394.67625 34.38 \nL 358.96425 34.38 \nL 358.96425 7.2 \n\" style=\"fill:#06071c;\"/>\n    <path clip-path=\"url(#pb4b053f009)\" d=\"M 37.55625 34.38 \nL 73.26825 34.38 \nL 73.26825 61.56 \nL 37.55625 61.56 \nL 37.55625 34.38 \n\" style=\"fill:#05061b;\"/>\n    <path clip-path=\"url(#pb4b053f009)\" d=\"M 73.26825 34.38 \nL 108.98025 34.38 \nL 108.98025 61.56 \nL 73.26825 61.56 \nL 73.26825 34.38 \n\" style=\"fill:#fae8d8;\"/>\n    <path clip-path=\"url(#pb4b053f009)\" d=\"M 108.98025 34.38 \nL 144.69225 34.38 \nL 144.69225 61.56 \nL 108.98025 61.56 \nL 108.98025 34.38 \n\" style=\"fill:#04051a;\"/>\n    <path clip-path=\"url(#pb4b053f009)\" d=\"M 144.69225 34.38 \nL 180.40425 34.38 \nL 180.40425 61.56 \nL 144.69225 61.56 \nL 144.69225 34.38 \n\" style=\"fill:#04051a;\"/>\n    <path clip-path=\"url(#pb4b053f009)\" d=\"M 180.40425 34.38 \nL 216.11625 34.38 \nL 216.11625 61.56 \nL 180.40425 61.56 \nL 180.40425 34.38 \n\" style=\"fill:#07071d;\"/>\n    <path clip-path=\"url(#pb4b053f009)\" d=\"M 216.11625 34.38 \nL 251.82825 34.38 \nL 251.82825 61.56 \nL 216.11625 61.56 \nL 216.11625 34.38 \n\" style=\"fill:#03051a;\"/>\n    <path clip-path=\"url(#pb4b053f009)\" d=\"M 251.82825 34.38 \nL 287.54025 34.38 \nL 287.54025 61.56 \nL 251.82825 61.56 \nL 251.82825 34.38 \n\" style=\"fill:#03051a;\"/>\n    <path clip-path=\"url(#pb4b053f009)\" d=\"M 287.54025 34.38 \nL 323.25225 34.38 \nL 323.25225 61.56 \nL 287.54025 61.56 \nL 287.54025 34.38 \n\" style=\"fill:#07071d;\"/>\n    <path clip-path=\"url(#pb4b053f009)\" d=\"M 323.25225 34.38 \nL 358.96425 34.38 \nL 358.96425 61.56 \nL 323.25225 61.56 \nL 323.25225 34.38 \n\" style=\"fill:#04051a;\"/>\n    <path clip-path=\"url(#pb4b053f009)\" d=\"M 358.96425 34.38 \nL 394.67625 34.38 \nL 394.67625 61.56 \nL 358.96425 61.56 \nL 358.96425 34.38 \n\" style=\"fill:#03051a;\"/>\n    <path clip-path=\"url(#pb4b053f009)\" d=\"M 37.55625 61.56 \nL 73.26825 61.56 \nL 73.26825 88.74 \nL 37.55625 88.74 \nL 37.55625 61.56 \n\" style=\"fill:#04051a;\"/>\n    <path clip-path=\"url(#pb4b053f009)\" d=\"M 73.26825 61.56 \nL 108.98025 61.56 \nL 108.98025 88.74 \nL 73.26825 88.74 \nL 73.26825 61.56 \n\" style=\"fill:#05061b;\"/>\n    <path clip-path=\"url(#pb4b053f009)\" d=\"M 108.98025 61.56 \nL 144.69225 61.56 \nL 144.69225 88.74 \nL 108.98025 88.74 \nL 108.98025 61.56 \n\" style=\"fill:#f8d9c3;\"/>\n    <path clip-path=\"url(#pb4b053f009)\" d=\"M 144.69225 61.56 \nL 180.40425 61.56 \nL 180.40425 88.74 \nL 144.69225 88.74 \nL 144.69225 61.56 \n\" style=\"fill:#05061b;\"/>\n    <path clip-path=\"url(#pb4b053f009)\" d=\"M 180.40425 61.56 \nL 216.11625 61.56 \nL 216.11625 88.74 \nL 180.40425 88.74 \nL 180.40425 61.56 \n\" style=\"fill:#05061b;\"/>\n    <path clip-path=\"url(#pb4b053f009)\" d=\"M 216.11625 61.56 \nL 251.82825 61.56 \nL 251.82825 88.74 \nL 216.11625 88.74 \nL 216.11625 61.56 \n\" style=\"fill:#03051a;\"/>\n    <path clip-path=\"url(#pb4b053f009)\" d=\"M 251.82825 61.56 \nL 287.54025 61.56 \nL 287.54025 88.74 \nL 251.82825 88.74 \nL 251.82825 61.56 \n\" style=\"fill:#03051a;\"/>\n    <path clip-path=\"url(#pb4b053f009)\" d=\"M 287.54025 61.56 \nL 323.25225 61.56 \nL 323.25225 88.74 \nL 287.54025 88.74 \nL 287.54025 61.56 \n\" style=\"fill:#0b0920;\"/>\n    <path clip-path=\"url(#pb4b053f009)\" d=\"M 323.25225 61.56 \nL 358.96425 61.56 \nL 358.96425 88.74 \nL 323.25225 88.74 \nL 323.25225 61.56 \n\" style=\"fill:#05061b;\"/>\n    <path clip-path=\"url(#pb4b053f009)\" d=\"M 358.96425 61.56 \nL 394.67625 61.56 \nL 394.67625 88.74 \nL 358.96425 88.74 \nL 358.96425 61.56 \n\" style=\"fill:#06071c;\"/>\n    <path clip-path=\"url(#pb4b053f009)\" d=\"M 37.55625 88.74 \nL 73.26825 88.74 \nL 73.26825 115.92 \nL 37.55625 115.92 \nL 37.55625 88.74 \n\" style=\"fill:#04051a;\"/>\n    <path clip-path=\"url(#pb4b053f009)\" d=\"M 73.26825 88.74 \nL 108.98025 88.74 \nL 108.98025 115.92 \nL 73.26825 115.92 \nL 73.26825 88.74 \n\" style=\"fill:#06071c;\"/>\n    <path clip-path=\"url(#pb4b053f009)\" d=\"M 108.98025 88.74 \nL 144.69225 88.74 \nL 144.69225 115.92 \nL 108.98025 115.92 \nL 108.98025 88.74 \n\" style=\"fill:#05061b;\"/>\n    <path clip-path=\"url(#pb4b053f009)\" d=\"M 144.69225 88.74 \nL 180.40425 88.74 \nL 180.40425 115.92 \nL 144.69225 115.92 \nL 144.69225 88.74 \n\" style=\"fill:#f6bb97;\"/>\n    <path clip-path=\"url(#pb4b053f009)\" d=\"M 180.40425 88.74 \nL 216.11625 88.74 \nL 216.11625 115.92 \nL 180.40425 115.92 \nL 180.40425 88.74 \n\" style=\"fill:#04051a;\"/>\n    <path clip-path=\"url(#pb4b053f009)\" d=\"M 216.11625 88.74 \nL 251.82825 88.74 \nL 251.82825 115.92 \nL 216.11625 115.92 \nL 216.11625 88.74 \n\" style=\"fill:#0d0a21;\"/>\n    <path clip-path=\"url(#pb4b053f009)\" d=\"M 251.82825 88.74 \nL 287.54025 88.74 \nL 287.54025 115.92 \nL 251.82825 115.92 \nL 251.82825 88.74 \n\" style=\"fill:#04051a;\"/>\n    <path clip-path=\"url(#pb4b053f009)\" d=\"M 287.54025 88.74 \nL 323.25225 88.74 \nL 323.25225 115.92 \nL 287.54025 115.92 \nL 287.54025 88.74 \n\" style=\"fill:#06071c;\"/>\n    <path clip-path=\"url(#pb4b053f009)\" d=\"M 323.25225 88.74 \nL 358.96425 88.74 \nL 358.96425 115.92 \nL 323.25225 115.92 \nL 323.25225 88.74 \n\" style=\"fill:#07071d;\"/>\n    <path clip-path=\"url(#pb4b053f009)\" d=\"M 358.96425 88.74 \nL 394.67625 88.74 \nL 394.67625 115.92 \nL 358.96425 115.92 \nL 358.96425 88.74 \n\" style=\"fill:#06071c;\"/>\n    <path clip-path=\"url(#pb4b053f009)\" d=\"M 37.55625 115.92 \nL 73.26825 115.92 \nL 73.26825 143.1 \nL 37.55625 143.1 \nL 37.55625 115.92 \n\" style=\"fill:#04051a;\"/>\n    <path clip-path=\"url(#pb4b053f009)\" d=\"M 73.26825 115.92 \nL 108.98025 115.92 \nL 108.98025 143.1 \nL 73.26825 143.1 \nL 73.26825 115.92 \n\" style=\"fill:#08081e;\"/>\n    <path clip-path=\"url(#pb4b053f009)\" d=\"M 108.98025 115.92 \nL 144.69225 115.92 \nL 144.69225 143.1 \nL 108.98025 143.1 \nL 108.98025 115.92 \n\" style=\"fill:#04051a;\"/>\n    <path clip-path=\"url(#pb4b053f009)\" d=\"M 144.69225 115.92 \nL 180.40425 115.92 \nL 180.40425 143.1 \nL 144.69225 143.1 \nL 144.69225 115.92 \n\" style=\"fill:#04051a;\"/>\n    <path clip-path=\"url(#pb4b053f009)\" d=\"M 180.40425 115.92 \nL 216.11625 115.92 \nL 216.11625 143.1 \nL 180.40425 143.1 \nL 180.40425 115.92 \n\" style=\"fill:#f9e5d4;\"/>\n    <path clip-path=\"url(#pb4b053f009)\" d=\"M 216.11625 115.92 \nL 251.82825 115.92 \nL 251.82825 143.1 \nL 216.11625 143.1 \nL 216.11625 115.92 \n\" style=\"fill:#03051a;\"/>\n    <path clip-path=\"url(#pb4b053f009)\" d=\"M 251.82825 115.92 \nL 287.54025 115.92 \nL 287.54025 143.1 \nL 251.82825 143.1 \nL 251.82825 115.92 \n\" style=\"fill:#05061b;\"/>\n    <path clip-path=\"url(#pb4b053f009)\" d=\"M 287.54025 115.92 \nL 323.25225 115.92 \nL 323.25225 143.1 \nL 287.54025 143.1 \nL 287.54025 115.92 \n\" style=\"fill:#04051a;\"/>\n    <path clip-path=\"url(#pb4b053f009)\" d=\"M 323.25225 115.92 \nL 358.96425 115.92 \nL 358.96425 143.1 \nL 323.25225 143.1 \nL 323.25225 115.92 \n\" style=\"fill:#03051a;\"/>\n    <path clip-path=\"url(#pb4b053f009)\" d=\"M 358.96425 115.92 \nL 394.67625 115.92 \nL 394.67625 143.1 \nL 358.96425 143.1 \nL 358.96425 115.92 \n\" style=\"fill:#05061b;\"/>\n    <path clip-path=\"url(#pb4b053f009)\" d=\"M 37.55625 143.1 \nL 73.26825 143.1 \nL 73.26825 170.28 \nL 37.55625 170.28 \nL 37.55625 143.1 \n\" style=\"fill:#03051a;\"/>\n    <path clip-path=\"url(#pb4b053f009)\" d=\"M 73.26825 143.1 \nL 108.98025 143.1 \nL 108.98025 170.28 \nL 73.26825 170.28 \nL 73.26825 143.1 \n\" style=\"fill:#04051a;\"/>\n    <path clip-path=\"url(#pb4b053f009)\" d=\"M 108.98025 143.1 \nL 144.69225 143.1 \nL 144.69225 170.28 \nL 108.98025 170.28 \nL 108.98025 143.1 \n\" style=\"fill:#04051a;\"/>\n    <path clip-path=\"url(#pb4b053f009)\" d=\"M 144.69225 143.1 \nL 180.40425 143.1 \nL 180.40425 170.28 \nL 144.69225 170.28 \nL 144.69225 143.1 \n\" style=\"fill:#07071d;\"/>\n    <path clip-path=\"url(#pb4b053f009)\" d=\"M 180.40425 143.1 \nL 216.11625 143.1 \nL 216.11625 170.28 \nL 180.40425 170.28 \nL 180.40425 143.1 \n\" style=\"fill:#03051a;\"/>\n    <path clip-path=\"url(#pb4b053f009)\" d=\"M 216.11625 143.1 \nL 251.82825 143.1 \nL 251.82825 170.28 \nL 216.11625 170.28 \nL 216.11625 143.1 \n\" style=\"fill:#f8d3ba;\"/>\n    <path clip-path=\"url(#pb4b053f009)\" d=\"M 251.82825 143.1 \nL 287.54025 143.1 \nL 287.54025 170.28 \nL 251.82825 170.28 \nL 251.82825 143.1 \n\" style=\"fill:#0a091f;\"/>\n    <path clip-path=\"url(#pb4b053f009)\" d=\"M 287.54025 143.1 \nL 323.25225 143.1 \nL 323.25225 170.28 \nL 287.54025 170.28 \nL 287.54025 143.1 \n\" style=\"fill:#03051a;\"/>\n    <path clip-path=\"url(#pb4b053f009)\" d=\"M 323.25225 143.1 \nL 358.96425 143.1 \nL 358.96425 170.28 \nL 323.25225 170.28 \nL 323.25225 143.1 \n\" style=\"fill:#04051a;\"/>\n    <path clip-path=\"url(#pb4b053f009)\" d=\"M 358.96425 143.1 \nL 394.67625 143.1 \nL 394.67625 170.28 \nL 358.96425 170.28 \nL 358.96425 143.1 \n\" style=\"fill:#07071d;\"/>\n    <path clip-path=\"url(#pb4b053f009)\" d=\"M 37.55625 170.28 \nL 73.26825 170.28 \nL 73.26825 197.46 \nL 37.55625 197.46 \nL 37.55625 170.28 \n\" style=\"fill:#08081e;\"/>\n    <path clip-path=\"url(#pb4b053f009)\" d=\"M 73.26825 170.28 \nL 108.98025 170.28 \nL 108.98025 197.46 \nL 73.26825 197.46 \nL 73.26825 170.28 \n\" style=\"fill:#04051a;\"/>\n    <path clip-path=\"url(#pb4b053f009)\" d=\"M 108.98025 170.28 \nL 144.69225 170.28 \nL 144.69225 197.46 \nL 108.98025 197.46 \nL 108.98025 170.28 \n\" style=\"fill:#04051a;\"/>\n    <path clip-path=\"url(#pb4b053f009)\" d=\"M 144.69225 170.28 \nL 180.40425 170.28 \nL 180.40425 197.46 \nL 144.69225 197.46 \nL 144.69225 170.28 \n\" style=\"fill:#04051a;\"/>\n    <path clip-path=\"url(#pb4b053f009)\" d=\"M 180.40425 170.28 \nL 216.11625 170.28 \nL 216.11625 197.46 \nL 180.40425 197.46 \nL 180.40425 170.28 \n\" style=\"fill:#05061b;\"/>\n    <path clip-path=\"url(#pb4b053f009)\" d=\"M 216.11625 170.28 \nL 251.82825 170.28 \nL 251.82825 197.46 \nL 216.11625 197.46 \nL 216.11625 170.28 \n\" style=\"fill:#08081e;\"/>\n    <path clip-path=\"url(#pb4b053f009)\" d=\"M 251.82825 170.28 \nL 287.54025 170.28 \nL 287.54025 197.46 \nL 251.82825 197.46 \nL 251.82825 170.28 \n\" style=\"fill:#f9ddc9;\"/>\n    <path clip-path=\"url(#pb4b053f009)\" d=\"M 287.54025 170.28 \nL 323.25225 170.28 \nL 323.25225 197.46 \nL 287.54025 197.46 \nL 287.54025 170.28 \n\" style=\"fill:#03051a;\"/>\n    <path clip-path=\"url(#pb4b053f009)\" d=\"M 323.25225 170.28 \nL 358.96425 170.28 \nL 358.96425 197.46 \nL 323.25225 197.46 \nL 323.25225 170.28 \n\" style=\"fill:#0a091f;\"/>\n    <path clip-path=\"url(#pb4b053f009)\" d=\"M 358.96425 170.28 \nL 394.67625 170.28 \nL 394.67625 197.46 \nL 358.96425 197.46 \nL 358.96425 170.28 \n\" style=\"fill:#04051a;\"/>\n    <path clip-path=\"url(#pb4b053f009)\" d=\"M 37.55625 197.46 \nL 73.26825 197.46 \nL 73.26825 224.64 \nL 37.55625 224.64 \nL 37.55625 197.46 \n\" style=\"fill:#04051a;\"/>\n    <path clip-path=\"url(#pb4b053f009)\" d=\"M 73.26825 197.46 \nL 108.98025 197.46 \nL 108.98025 224.64 \nL 73.26825 224.64 \nL 73.26825 197.46 \n\" style=\"fill:#08081e;\"/>\n    <path clip-path=\"url(#pb4b053f009)\" d=\"M 108.98025 197.46 \nL 144.69225 197.46 \nL 144.69225 224.64 \nL 108.98025 224.64 \nL 108.98025 197.46 \n\" style=\"fill:#04051a;\"/>\n    <path clip-path=\"url(#pb4b053f009)\" d=\"M 144.69225 197.46 \nL 180.40425 197.46 \nL 180.40425 224.64 \nL 144.69225 224.64 \nL 144.69225 197.46 \n\" style=\"fill:#04051a;\"/>\n    <path clip-path=\"url(#pb4b053f009)\" d=\"M 180.40425 197.46 \nL 216.11625 197.46 \nL 216.11625 224.64 \nL 180.40425 224.64 \nL 180.40425 197.46 \n\" style=\"fill:#05061b;\"/>\n    <path clip-path=\"url(#pb4b053f009)\" d=\"M 216.11625 197.46 \nL 251.82825 197.46 \nL 251.82825 224.64 \nL 216.11625 224.64 \nL 216.11625 197.46 \n\" style=\"fill:#03051a;\"/>\n    <path clip-path=\"url(#pb4b053f009)\" d=\"M 251.82825 197.46 \nL 287.54025 197.46 \nL 287.54025 224.64 \nL 251.82825 224.64 \nL 251.82825 197.46 \n\" style=\"fill:#03051a;\"/>\n    <path clip-path=\"url(#pb4b053f009)\" d=\"M 287.54025 197.46 \nL 323.25225 197.46 \nL 323.25225 224.64 \nL 287.54025 224.64 \nL 287.54025 197.46 \n\" style=\"fill:#fae6d6;\"/>\n    <path clip-path=\"url(#pb4b053f009)\" d=\"M 323.25225 197.46 \nL 358.96425 197.46 \nL 358.96425 224.64 \nL 323.25225 224.64 \nL 323.25225 197.46 \n\" style=\"fill:#03051a;\"/>\n    <path clip-path=\"url(#pb4b053f009)\" d=\"M 358.96425 197.46 \nL 394.67625 197.46 \nL 394.67625 224.64 \nL 358.96425 224.64 \nL 358.96425 197.46 \n\" style=\"fill:#04051a;\"/>\n    <path clip-path=\"url(#pb4b053f009)\" d=\"M 37.55625 224.64 \nL 73.26825 224.64 \nL 73.26825 251.82 \nL 37.55625 251.82 \nL 37.55625 224.64 \n\" style=\"fill:#07071d;\"/>\n    <path clip-path=\"url(#pb4b053f009)\" d=\"M 73.26825 224.64 \nL 108.98025 224.64 \nL 108.98025 251.82 \nL 73.26825 251.82 \nL 73.26825 224.64 \n\" style=\"fill:#05061b;\"/>\n    <path clip-path=\"url(#pb4b053f009)\" d=\"M 108.98025 224.64 \nL 144.69225 224.64 \nL 144.69225 251.82 \nL 108.98025 251.82 \nL 108.98025 224.64 \n\" style=\"fill:#04051a;\"/>\n    <path clip-path=\"url(#pb4b053f009)\" d=\"M 144.69225 224.64 \nL 180.40425 224.64 \nL 180.40425 251.82 \nL 144.69225 251.82 \nL 144.69225 224.64 \n\" style=\"fill:#06071c;\"/>\n    <path clip-path=\"url(#pb4b053f009)\" d=\"M 180.40425 224.64 \nL 216.11625 224.64 \nL 216.11625 251.82 \nL 180.40425 251.82 \nL 180.40425 224.64 \n\" style=\"fill:#04051a;\"/>\n    <path clip-path=\"url(#pb4b053f009)\" d=\"M 216.11625 224.64 \nL 251.82825 224.64 \nL 251.82825 251.82 \nL 216.11625 251.82 \nL 216.11625 224.64 \n\" style=\"fill:#04051a;\"/>\n    <path clip-path=\"url(#pb4b053f009)\" d=\"M 251.82825 224.64 \nL 287.54025 224.64 \nL 287.54025 251.82 \nL 251.82825 251.82 \nL 251.82825 224.64 \n\" style=\"fill:#0e0b22;\"/>\n    <path clip-path=\"url(#pb4b053f009)\" d=\"M 287.54025 224.64 \nL 323.25225 224.64 \nL 323.25225 251.82 \nL 287.54025 251.82 \nL 287.54025 224.64 \n\" style=\"fill:#03051a;\"/>\n    <path clip-path=\"url(#pb4b053f009)\" d=\"M 323.25225 224.64 \nL 358.96425 224.64 \nL 358.96425 251.82 \nL 323.25225 251.82 \nL 323.25225 224.64 \n\" style=\"fill:#f7d0b5;\"/>\n    <path clip-path=\"url(#pb4b053f009)\" d=\"M 358.96425 224.64 \nL 394.67625 224.64 \nL 394.67625 251.82 \nL 358.96425 251.82 \nL 358.96425 224.64 \n\" style=\"fill:#0a091f;\"/>\n    <path clip-path=\"url(#pb4b053f009)\" d=\"M 37.55625 251.82 \nL 73.26825 251.82 \nL 73.26825 279 \nL 37.55625 279 \nL 37.55625 251.82 \n\" style=\"fill:#0a091f;\"/>\n    <path clip-path=\"url(#pb4b053f009)\" d=\"M 73.26825 251.82 \nL 108.98025 251.82 \nL 108.98025 279 \nL 73.26825 279 \nL 73.26825 251.82 \n\" style=\"fill:#05061b;\"/>\n    <path clip-path=\"url(#pb4b053f009)\" d=\"M 108.98025 251.82 \nL 144.69225 251.82 \nL 144.69225 279 \nL 108.98025 279 \nL 108.98025 251.82 \n\" style=\"fill:#05061b;\"/>\n    <path clip-path=\"url(#pb4b053f009)\" d=\"M 144.69225 251.82 \nL 180.40425 251.82 \nL 180.40425 279 \nL 144.69225 279 \nL 144.69225 251.82 \n\" style=\"fill:#03051a;\"/>\n    <path clip-path=\"url(#pb4b053f009)\" d=\"M 180.40425 251.82 \nL 216.11625 251.82 \nL 216.11625 279 \nL 180.40425 279 \nL 180.40425 251.82 \n\" style=\"fill:#04051a;\"/>\n    <path clip-path=\"url(#pb4b053f009)\" d=\"M 216.11625 251.82 \nL 251.82825 251.82 \nL 251.82825 279 \nL 216.11625 279 \nL 216.11625 251.82 \n\" style=\"fill:#06071c;\"/>\n    <path clip-path=\"url(#pb4b053f009)\" d=\"M 251.82825 251.82 \nL 287.54025 251.82 \nL 287.54025 279 \nL 251.82825 279 \nL 251.82825 251.82 \n\" style=\"fill:#04051a;\"/>\n    <path clip-path=\"url(#pb4b053f009)\" d=\"M 287.54025 251.82 \nL 323.25225 251.82 \nL 323.25225 279 \nL 287.54025 279 \nL 287.54025 251.82 \n\" style=\"fill:#04051a;\"/>\n    <path clip-path=\"url(#pb4b053f009)\" d=\"M 323.25225 251.82 \nL 358.96425 251.82 \nL 358.96425 279 \nL 323.25225 279 \nL 323.25225 251.82 \n\" style=\"fill:#05061b;\"/>\n    <path clip-path=\"url(#pb4b053f009)\" d=\"M 358.96425 251.82 \nL 394.67625 251.82 \nL 394.67625 279 \nL 358.96425 279 \nL 358.96425 251.82 \n\" style=\"fill:#f8dac5;\"/>\n   </g>\n   <g id=\"matplotlib.axis_1\">\n    <g id=\"xtick_1\">\n     <g id=\"line2d_1\">\n      <defs>\n       <path d=\"M 0 0 \nL 0 3.5 \n\" id=\"m965421f4c4\" style=\"stroke:#000000;stroke-width:0.8;\"/>\n      </defs>\n      <g>\n       <use style=\"stroke:#000000;stroke-width:0.8;\" x=\"55.41225\" xlink:href=\"#m965421f4c4\" y=\"279\"/>\n      </g>\n     </g>\n     <g id=\"text_1\">\n      <!-- 0 -->\n      <defs>\n       <path d=\"M 31.78125 66.40625 \nQ 24.171875 66.40625 20.328125 58.90625 \nQ 16.5 51.421875 16.5 36.375 \nQ 16.5 21.390625 20.328125 13.890625 \nQ 24.171875 6.390625 31.78125 6.390625 \nQ 39.453125 6.390625 43.28125 13.890625 \nQ 47.125 21.390625 47.125 36.375 \nQ 47.125 51.421875 43.28125 58.90625 \nQ 39.453125 66.40625 31.78125 66.40625 \nz\nM 31.78125 74.21875 \nQ 44.046875 74.21875 50.515625 64.515625 \nQ 56.984375 54.828125 56.984375 36.375 \nQ 56.984375 17.96875 50.515625 8.265625 \nQ 44.046875 -1.421875 31.78125 -1.421875 \nQ 19.53125 -1.421875 13.0625 8.265625 \nQ 6.59375 17.96875 6.59375 36.375 \nQ 6.59375 54.828125 13.0625 64.515625 \nQ 19.53125 74.21875 31.78125 74.21875 \nz\n\" id=\"DejaVuSans-48\"/>\n      </defs>\n      <g transform=\"translate(52.231 293.598437)scale(0.1 -0.1)\">\n       <use xlink:href=\"#DejaVuSans-48\"/>\n      </g>\n     </g>\n    </g>\n    <g id=\"xtick_2\">\n     <g id=\"line2d_2\">\n      <g>\n       <use style=\"stroke:#000000;stroke-width:0.8;\" x=\"91.12425\" xlink:href=\"#m965421f4c4\" y=\"279\"/>\n      </g>\n     </g>\n     <g id=\"text_2\">\n      <!-- 1 -->\n      <defs>\n       <path d=\"M 12.40625 8.296875 \nL 28.515625 8.296875 \nL 28.515625 63.921875 \nL 10.984375 60.40625 \nL 10.984375 69.390625 \nL 28.421875 72.90625 \nL 38.28125 72.90625 \nL 38.28125 8.296875 \nL 54.390625 8.296875 \nL 54.390625 0 \nL 12.40625 0 \nz\n\" id=\"DejaVuSans-49\"/>\n      </defs>\n      <g transform=\"translate(87.943 293.598437)scale(0.1 -0.1)\">\n       <use xlink:href=\"#DejaVuSans-49\"/>\n      </g>\n     </g>\n    </g>\n    <g id=\"xtick_3\">\n     <g id=\"line2d_3\">\n      <g>\n       <use style=\"stroke:#000000;stroke-width:0.8;\" x=\"126.83625\" xlink:href=\"#m965421f4c4\" y=\"279\"/>\n      </g>\n     </g>\n     <g id=\"text_3\">\n      <!-- 2 -->\n      <defs>\n       <path d=\"M 19.1875 8.296875 \nL 53.609375 8.296875 \nL 53.609375 0 \nL 7.328125 0 \nL 7.328125 8.296875 \nQ 12.9375 14.109375 22.625 23.890625 \nQ 32.328125 33.6875 34.8125 36.53125 \nQ 39.546875 41.84375 41.421875 45.53125 \nQ 43.3125 49.21875 43.3125 52.78125 \nQ 43.3125 58.59375 39.234375 62.25 \nQ 35.15625 65.921875 28.609375 65.921875 \nQ 23.96875 65.921875 18.8125 64.3125 \nQ 13.671875 62.703125 7.8125 59.421875 \nL 7.8125 69.390625 \nQ 13.765625 71.78125 18.9375 73 \nQ 24.125 74.21875 28.421875 74.21875 \nQ 39.75 74.21875 46.484375 68.546875 \nQ 53.21875 62.890625 53.21875 53.421875 \nQ 53.21875 48.921875 51.53125 44.890625 \nQ 49.859375 40.875 45.40625 35.40625 \nQ 44.1875 33.984375 37.640625 27.21875 \nQ 31.109375 20.453125 19.1875 8.296875 \nz\n\" id=\"DejaVuSans-50\"/>\n      </defs>\n      <g transform=\"translate(123.655 293.598437)scale(0.1 -0.1)\">\n       <use xlink:href=\"#DejaVuSans-50\"/>\n      </g>\n     </g>\n    </g>\n    <g id=\"xtick_4\">\n     <g id=\"line2d_4\">\n      <g>\n       <use style=\"stroke:#000000;stroke-width:0.8;\" x=\"162.54825\" xlink:href=\"#m965421f4c4\" y=\"279\"/>\n      </g>\n     </g>\n     <g id=\"text_4\">\n      <!-- 3 -->\n      <defs>\n       <path d=\"M 40.578125 39.3125 \nQ 47.65625 37.796875 51.625 33 \nQ 55.609375 28.21875 55.609375 21.1875 \nQ 55.609375 10.40625 48.1875 4.484375 \nQ 40.765625 -1.421875 27.09375 -1.421875 \nQ 22.515625 -1.421875 17.65625 -0.515625 \nQ 12.796875 0.390625 7.625 2.203125 \nL 7.625 11.71875 \nQ 11.71875 9.328125 16.59375 8.109375 \nQ 21.484375 6.890625 26.8125 6.890625 \nQ 36.078125 6.890625 40.9375 10.546875 \nQ 45.796875 14.203125 45.796875 21.1875 \nQ 45.796875 27.640625 41.28125 31.265625 \nQ 36.765625 34.90625 28.71875 34.90625 \nL 20.21875 34.90625 \nL 20.21875 43.015625 \nL 29.109375 43.015625 \nQ 36.375 43.015625 40.234375 45.921875 \nQ 44.09375 48.828125 44.09375 54.296875 \nQ 44.09375 59.90625 40.109375 62.90625 \nQ 36.140625 65.921875 28.71875 65.921875 \nQ 24.65625 65.921875 20.015625 65.03125 \nQ 15.375 64.15625 9.8125 62.3125 \nL 9.8125 71.09375 \nQ 15.4375 72.65625 20.34375 73.4375 \nQ 25.25 74.21875 29.59375 74.21875 \nQ 40.828125 74.21875 47.359375 69.109375 \nQ 53.90625 64.015625 53.90625 55.328125 \nQ 53.90625 49.265625 50.4375 45.09375 \nQ 46.96875 40.921875 40.578125 39.3125 \nz\n\" id=\"DejaVuSans-51\"/>\n      </defs>\n      <g transform=\"translate(159.367 293.598437)scale(0.1 -0.1)\">\n       <use xlink:href=\"#DejaVuSans-51\"/>\n      </g>\n     </g>\n    </g>\n    <g id=\"xtick_5\">\n     <g id=\"line2d_5\">\n      <g>\n       <use style=\"stroke:#000000;stroke-width:0.8;\" x=\"198.26025\" xlink:href=\"#m965421f4c4\" y=\"279\"/>\n      </g>\n     </g>\n     <g id=\"text_5\">\n      <!-- 4 -->\n      <defs>\n       <path d=\"M 37.796875 64.3125 \nL 12.890625 25.390625 \nL 37.796875 25.390625 \nz\nM 35.203125 72.90625 \nL 47.609375 72.90625 \nL 47.609375 25.390625 \nL 58.015625 25.390625 \nL 58.015625 17.1875 \nL 47.609375 17.1875 \nL 47.609375 0 \nL 37.796875 0 \nL 37.796875 17.1875 \nL 4.890625 17.1875 \nL 4.890625 26.703125 \nz\n\" id=\"DejaVuSans-52\"/>\n      </defs>\n      <g transform=\"translate(195.079 293.598437)scale(0.1 -0.1)\">\n       <use xlink:href=\"#DejaVuSans-52\"/>\n      </g>\n     </g>\n    </g>\n    <g id=\"xtick_6\">\n     <g id=\"line2d_6\">\n      <g>\n       <use style=\"stroke:#000000;stroke-width:0.8;\" x=\"233.97225\" xlink:href=\"#m965421f4c4\" y=\"279\"/>\n      </g>\n     </g>\n     <g id=\"text_6\">\n      <!-- 5 -->\n      <defs>\n       <path d=\"M 10.796875 72.90625 \nL 49.515625 72.90625 \nL 49.515625 64.59375 \nL 19.828125 64.59375 \nL 19.828125 46.734375 \nQ 21.96875 47.46875 24.109375 47.828125 \nQ 26.265625 48.1875 28.421875 48.1875 \nQ 40.625 48.1875 47.75 41.5 \nQ 54.890625 34.8125 54.890625 23.390625 \nQ 54.890625 11.625 47.5625 5.09375 \nQ 40.234375 -1.421875 26.90625 -1.421875 \nQ 22.3125 -1.421875 17.546875 -0.640625 \nQ 12.796875 0.140625 7.71875 1.703125 \nL 7.71875 11.625 \nQ 12.109375 9.234375 16.796875 8.0625 \nQ 21.484375 6.890625 26.703125 6.890625 \nQ 35.15625 6.890625 40.078125 11.328125 \nQ 45.015625 15.765625 45.015625 23.390625 \nQ 45.015625 31 40.078125 35.4375 \nQ 35.15625 39.890625 26.703125 39.890625 \nQ 22.75 39.890625 18.8125 39.015625 \nQ 14.890625 38.140625 10.796875 36.28125 \nz\n\" id=\"DejaVuSans-53\"/>\n      </defs>\n      <g transform=\"translate(230.791 293.598437)scale(0.1 -0.1)\">\n       <use xlink:href=\"#DejaVuSans-53\"/>\n      </g>\n     </g>\n    </g>\n    <g id=\"xtick_7\">\n     <g id=\"line2d_7\">\n      <g>\n       <use style=\"stroke:#000000;stroke-width:0.8;\" x=\"269.68425\" xlink:href=\"#m965421f4c4\" y=\"279\"/>\n      </g>\n     </g>\n     <g id=\"text_7\">\n      <!-- 6 -->\n      <defs>\n       <path d=\"M 33.015625 40.375 \nQ 26.375 40.375 22.484375 35.828125 \nQ 18.609375 31.296875 18.609375 23.390625 \nQ 18.609375 15.53125 22.484375 10.953125 \nQ 26.375 6.390625 33.015625 6.390625 \nQ 39.65625 6.390625 43.53125 10.953125 \nQ 47.40625 15.53125 47.40625 23.390625 \nQ 47.40625 31.296875 43.53125 35.828125 \nQ 39.65625 40.375 33.015625 40.375 \nz\nM 52.59375 71.296875 \nL 52.59375 62.3125 \nQ 48.875 64.0625 45.09375 64.984375 \nQ 41.3125 65.921875 37.59375 65.921875 \nQ 27.828125 65.921875 22.671875 59.328125 \nQ 17.53125 52.734375 16.796875 39.40625 \nQ 19.671875 43.65625 24.015625 45.921875 \nQ 28.375 48.1875 33.59375 48.1875 \nQ 44.578125 48.1875 50.953125 41.515625 \nQ 57.328125 34.859375 57.328125 23.390625 \nQ 57.328125 12.15625 50.6875 5.359375 \nQ 44.046875 -1.421875 33.015625 -1.421875 \nQ 20.359375 -1.421875 13.671875 8.265625 \nQ 6.984375 17.96875 6.984375 36.375 \nQ 6.984375 53.65625 15.1875 63.9375 \nQ 23.390625 74.21875 37.203125 74.21875 \nQ 40.921875 74.21875 44.703125 73.484375 \nQ 48.484375 72.75 52.59375 71.296875 \nz\n\" id=\"DejaVuSans-54\"/>\n      </defs>\n      <g transform=\"translate(266.503 293.598437)scale(0.1 -0.1)\">\n       <use xlink:href=\"#DejaVuSans-54\"/>\n      </g>\n     </g>\n    </g>\n    <g id=\"xtick_8\">\n     <g id=\"line2d_8\">\n      <g>\n       <use style=\"stroke:#000000;stroke-width:0.8;\" x=\"305.39625\" xlink:href=\"#m965421f4c4\" y=\"279\"/>\n      </g>\n     </g>\n     <g id=\"text_8\">\n      <!-- 7 -->\n      <defs>\n       <path d=\"M 8.203125 72.90625 \nL 55.078125 72.90625 \nL 55.078125 68.703125 \nL 28.609375 0 \nL 18.3125 0 \nL 43.21875 64.59375 \nL 8.203125 64.59375 \nz\n\" id=\"DejaVuSans-55\"/>\n      </defs>\n      <g transform=\"translate(302.215 293.598437)scale(0.1 -0.1)\">\n       <use xlink:href=\"#DejaVuSans-55\"/>\n      </g>\n     </g>\n    </g>\n    <g id=\"xtick_9\">\n     <g id=\"line2d_9\">\n      <g>\n       <use style=\"stroke:#000000;stroke-width:0.8;\" x=\"341.10825\" xlink:href=\"#m965421f4c4\" y=\"279\"/>\n      </g>\n     </g>\n     <g id=\"text_9\">\n      <!-- 8 -->\n      <defs>\n       <path d=\"M 31.78125 34.625 \nQ 24.75 34.625 20.71875 30.859375 \nQ 16.703125 27.09375 16.703125 20.515625 \nQ 16.703125 13.921875 20.71875 10.15625 \nQ 24.75 6.390625 31.78125 6.390625 \nQ 38.8125 6.390625 42.859375 10.171875 \nQ 46.921875 13.96875 46.921875 20.515625 \nQ 46.921875 27.09375 42.890625 30.859375 \nQ 38.875 34.625 31.78125 34.625 \nz\nM 21.921875 38.8125 \nQ 15.578125 40.375 12.03125 44.71875 \nQ 8.5 49.078125 8.5 55.328125 \nQ 8.5 64.0625 14.71875 69.140625 \nQ 20.953125 74.21875 31.78125 74.21875 \nQ 42.671875 74.21875 48.875 69.140625 \nQ 55.078125 64.0625 55.078125 55.328125 \nQ 55.078125 49.078125 51.53125 44.71875 \nQ 48 40.375 41.703125 38.8125 \nQ 48.828125 37.15625 52.796875 32.3125 \nQ 56.78125 27.484375 56.78125 20.515625 \nQ 56.78125 9.90625 50.3125 4.234375 \nQ 43.84375 -1.421875 31.78125 -1.421875 \nQ 19.734375 -1.421875 13.25 4.234375 \nQ 6.78125 9.90625 6.78125 20.515625 \nQ 6.78125 27.484375 10.78125 32.3125 \nQ 14.796875 37.15625 21.921875 38.8125 \nz\nM 18.3125 54.390625 \nQ 18.3125 48.734375 21.84375 45.5625 \nQ 25.390625 42.390625 31.78125 42.390625 \nQ 38.140625 42.390625 41.71875 45.5625 \nQ 45.3125 48.734375 45.3125 54.390625 \nQ 45.3125 60.0625 41.71875 63.234375 \nQ 38.140625 66.40625 31.78125 66.40625 \nQ 25.390625 66.40625 21.84375 63.234375 \nQ 18.3125 60.0625 18.3125 54.390625 \nz\n\" id=\"DejaVuSans-56\"/>\n      </defs>\n      <g transform=\"translate(337.927 293.598437)scale(0.1 -0.1)\">\n       <use xlink:href=\"#DejaVuSans-56\"/>\n      </g>\n     </g>\n    </g>\n    <g id=\"xtick_10\">\n     <g id=\"line2d_10\">\n      <g>\n       <use style=\"stroke:#000000;stroke-width:0.8;\" x=\"376.82025\" xlink:href=\"#m965421f4c4\" y=\"279\"/>\n      </g>\n     </g>\n     <g id=\"text_10\">\n      <!-- 9 -->\n      <defs>\n       <path d=\"M 10.984375 1.515625 \nL 10.984375 10.5 \nQ 14.703125 8.734375 18.5 7.8125 \nQ 22.3125 6.890625 25.984375 6.890625 \nQ 35.75 6.890625 40.890625 13.453125 \nQ 46.046875 20.015625 46.78125 33.40625 \nQ 43.953125 29.203125 39.59375 26.953125 \nQ 35.25 24.703125 29.984375 24.703125 \nQ 19.046875 24.703125 12.671875 31.3125 \nQ 6.296875 37.9375 6.296875 49.421875 \nQ 6.296875 60.640625 12.9375 67.421875 \nQ 19.578125 74.21875 30.609375 74.21875 \nQ 43.265625 74.21875 49.921875 64.515625 \nQ 56.59375 54.828125 56.59375 36.375 \nQ 56.59375 19.140625 48.40625 8.859375 \nQ 40.234375 -1.421875 26.421875 -1.421875 \nQ 22.703125 -1.421875 18.890625 -0.6875 \nQ 15.09375 0.046875 10.984375 1.515625 \nz\nM 30.609375 32.421875 \nQ 37.25 32.421875 41.125 36.953125 \nQ 45.015625 41.5 45.015625 49.421875 \nQ 45.015625 57.28125 41.125 61.84375 \nQ 37.25 66.40625 30.609375 66.40625 \nQ 23.96875 66.40625 20.09375 61.84375 \nQ 16.21875 57.28125 16.21875 49.421875 \nQ 16.21875 41.5 20.09375 36.953125 \nQ 23.96875 32.421875 30.609375 32.421875 \nz\n\" id=\"DejaVuSans-57\"/>\n      </defs>\n      <g transform=\"translate(373.639 293.598437)scale(0.1 -0.1)\">\n       <use xlink:href=\"#DejaVuSans-57\"/>\n      </g>\n     </g>\n    </g>\n    <g id=\"text_11\">\n     <!-- Predicted -->\n     <defs>\n      <path d=\"M 19.671875 64.796875 \nL 19.671875 37.40625 \nL 32.078125 37.40625 \nQ 38.96875 37.40625 42.71875 40.96875 \nQ 46.484375 44.53125 46.484375 51.125 \nQ 46.484375 57.671875 42.71875 61.234375 \nQ 38.96875 64.796875 32.078125 64.796875 \nz\nM 9.8125 72.90625 \nL 32.078125 72.90625 \nQ 44.34375 72.90625 50.609375 67.359375 \nQ 56.890625 61.8125 56.890625 51.125 \nQ 56.890625 40.328125 50.609375 34.8125 \nQ 44.34375 29.296875 32.078125 29.296875 \nL 19.671875 29.296875 \nL 19.671875 0 \nL 9.8125 0 \nz\n\" id=\"DejaVuSans-80\"/>\n      <path d=\"M 41.109375 46.296875 \nQ 39.59375 47.171875 37.8125 47.578125 \nQ 36.03125 48 33.890625 48 \nQ 26.265625 48 22.1875 43.046875 \nQ 18.109375 38.09375 18.109375 28.8125 \nL 18.109375 0 \nL 9.078125 0 \nL 9.078125 54.6875 \nL 18.109375 54.6875 \nL 18.109375 46.1875 \nQ 20.953125 51.171875 25.484375 53.578125 \nQ 30.03125 56 36.53125 56 \nQ 37.453125 56 38.578125 55.875 \nQ 39.703125 55.765625 41.0625 55.515625 \nz\n\" id=\"DejaVuSans-114\"/>\n      <path d=\"M 56.203125 29.59375 \nL 56.203125 25.203125 \nL 14.890625 25.203125 \nQ 15.484375 15.921875 20.484375 11.0625 \nQ 25.484375 6.203125 34.421875 6.203125 \nQ 39.59375 6.203125 44.453125 7.46875 \nQ 49.3125 8.734375 54.109375 11.28125 \nL 54.109375 2.78125 \nQ 49.265625 0.734375 44.1875 -0.34375 \nQ 39.109375 -1.421875 33.890625 -1.421875 \nQ 20.796875 -1.421875 13.15625 6.1875 \nQ 5.515625 13.8125 5.515625 26.8125 \nQ 5.515625 40.234375 12.765625 48.109375 \nQ 20.015625 56 32.328125 56 \nQ 43.359375 56 49.78125 48.890625 \nQ 56.203125 41.796875 56.203125 29.59375 \nz\nM 47.21875 32.234375 \nQ 47.125 39.59375 43.09375 43.984375 \nQ 39.0625 48.390625 32.421875 48.390625 \nQ 24.90625 48.390625 20.390625 44.140625 \nQ 15.875 39.890625 15.1875 32.171875 \nz\n\" id=\"DejaVuSans-101\"/>\n      <path d=\"M 45.40625 46.390625 \nL 45.40625 75.984375 \nL 54.390625 75.984375 \nL 54.390625 0 \nL 45.40625 0 \nL 45.40625 8.203125 \nQ 42.578125 3.328125 38.25 0.953125 \nQ 33.9375 -1.421875 27.875 -1.421875 \nQ 17.96875 -1.421875 11.734375 6.484375 \nQ 5.515625 14.40625 5.515625 27.296875 \nQ 5.515625 40.1875 11.734375 48.09375 \nQ 17.96875 56 27.875 56 \nQ 33.9375 56 38.25 53.625 \nQ 42.578125 51.265625 45.40625 46.390625 \nz\nM 14.796875 27.296875 \nQ 14.796875 17.390625 18.875 11.75 \nQ 22.953125 6.109375 30.078125 6.109375 \nQ 37.203125 6.109375 41.296875 11.75 \nQ 45.40625 17.390625 45.40625 27.296875 \nQ 45.40625 37.203125 41.296875 42.84375 \nQ 37.203125 48.484375 30.078125 48.484375 \nQ 22.953125 48.484375 18.875 42.84375 \nQ 14.796875 37.203125 14.796875 27.296875 \nz\n\" id=\"DejaVuSans-100\"/>\n      <path d=\"M 9.421875 54.6875 \nL 18.40625 54.6875 \nL 18.40625 0 \nL 9.421875 0 \nz\nM 9.421875 75.984375 \nL 18.40625 75.984375 \nL 18.40625 64.59375 \nL 9.421875 64.59375 \nz\n\" id=\"DejaVuSans-105\"/>\n      <path d=\"M 48.78125 52.59375 \nL 48.78125 44.1875 \nQ 44.96875 46.296875 41.140625 47.34375 \nQ 37.3125 48.390625 33.40625 48.390625 \nQ 24.65625 48.390625 19.8125 42.84375 \nQ 14.984375 37.3125 14.984375 27.296875 \nQ 14.984375 17.28125 19.8125 11.734375 \nQ 24.65625 6.203125 33.40625 6.203125 \nQ 37.3125 6.203125 41.140625 7.25 \nQ 44.96875 8.296875 48.78125 10.40625 \nL 48.78125 2.09375 \nQ 45.015625 0.34375 40.984375 -0.53125 \nQ 36.96875 -1.421875 32.421875 -1.421875 \nQ 20.0625 -1.421875 12.78125 6.34375 \nQ 5.515625 14.109375 5.515625 27.296875 \nQ 5.515625 40.671875 12.859375 48.328125 \nQ 20.21875 56 33.015625 56 \nQ 37.15625 56 41.109375 55.140625 \nQ 45.0625 54.296875 48.78125 52.59375 \nz\n\" id=\"DejaVuSans-99\"/>\n      <path d=\"M 18.3125 70.21875 \nL 18.3125 54.6875 \nL 36.8125 54.6875 \nL 36.8125 47.703125 \nL 18.3125 47.703125 \nL 18.3125 18.015625 \nQ 18.3125 11.328125 20.140625 9.421875 \nQ 21.96875 7.515625 27.59375 7.515625 \nL 36.8125 7.515625 \nL 36.8125 0 \nL 27.59375 0 \nQ 17.1875 0 13.234375 3.875 \nQ 9.28125 7.765625 9.28125 18.015625 \nL 9.28125 47.703125 \nL 2.6875 47.703125 \nL 2.6875 54.6875 \nL 9.28125 54.6875 \nL 9.28125 70.21875 \nz\n\" id=\"DejaVuSans-116\"/>\n     </defs>\n     <g transform=\"translate(192.645938 307.276562)scale(0.1 -0.1)\">\n      <use xlink:href=\"#DejaVuSans-80\"/>\n      <use x=\"58.552734\" xlink:href=\"#DejaVuSans-114\"/>\n      <use x=\"97.416016\" xlink:href=\"#DejaVuSans-101\"/>\n      <use x=\"158.939453\" xlink:href=\"#DejaVuSans-100\"/>\n      <use x=\"222.416016\" xlink:href=\"#DejaVuSans-105\"/>\n      <use x=\"250.199219\" xlink:href=\"#DejaVuSans-99\"/>\n      <use x=\"305.179688\" xlink:href=\"#DejaVuSans-116\"/>\n      <use x=\"344.388672\" xlink:href=\"#DejaVuSans-101\"/>\n      <use x=\"405.912109\" xlink:href=\"#DejaVuSans-100\"/>\n     </g>\n    </g>\n   </g>\n   <g id=\"matplotlib.axis_2\">\n    <g id=\"ytick_1\">\n     <g id=\"line2d_11\">\n      <defs>\n       <path d=\"M 0 0 \nL -3.5 0 \n\" id=\"m2e64817a6e\" style=\"stroke:#000000;stroke-width:0.8;\"/>\n      </defs>\n      <g>\n       <use style=\"stroke:#000000;stroke-width:0.8;\" x=\"37.55625\" xlink:href=\"#m2e64817a6e\" y=\"20.79\"/>\n      </g>\n     </g>\n     <g id=\"text_12\">\n      <!-- 0 -->\n      <g transform=\"translate(28.476563 23.97125)rotate(-90)scale(0.1 -0.1)\">\n       <use xlink:href=\"#DejaVuSans-48\"/>\n      </g>\n     </g>\n    </g>\n    <g id=\"ytick_2\">\n     <g id=\"line2d_12\">\n      <g>\n       <use style=\"stroke:#000000;stroke-width:0.8;\" x=\"37.55625\" xlink:href=\"#m2e64817a6e\" y=\"47.97\"/>\n      </g>\n     </g>\n     <g id=\"text_13\">\n      <!-- 1 -->\n      <g transform=\"translate(28.476563 51.15125)rotate(-90)scale(0.1 -0.1)\">\n       <use xlink:href=\"#DejaVuSans-49\"/>\n      </g>\n     </g>\n    </g>\n    <g id=\"ytick_3\">\n     <g id=\"line2d_13\">\n      <g>\n       <use style=\"stroke:#000000;stroke-width:0.8;\" x=\"37.55625\" xlink:href=\"#m2e64817a6e\" y=\"75.15\"/>\n      </g>\n     </g>\n     <g id=\"text_14\">\n      <!-- 2 -->\n      <g transform=\"translate(28.476563 78.33125)rotate(-90)scale(0.1 -0.1)\">\n       <use xlink:href=\"#DejaVuSans-50\"/>\n      </g>\n     </g>\n    </g>\n    <g id=\"ytick_4\">\n     <g id=\"line2d_14\">\n      <g>\n       <use style=\"stroke:#000000;stroke-width:0.8;\" x=\"37.55625\" xlink:href=\"#m2e64817a6e\" y=\"102.33\"/>\n      </g>\n     </g>\n     <g id=\"text_15\">\n      <!-- 3 -->\n      <g transform=\"translate(28.476563 105.51125)rotate(-90)scale(0.1 -0.1)\">\n       <use xlink:href=\"#DejaVuSans-51\"/>\n      </g>\n     </g>\n    </g>\n    <g id=\"ytick_5\">\n     <g id=\"line2d_15\">\n      <g>\n       <use style=\"stroke:#000000;stroke-width:0.8;\" x=\"37.55625\" xlink:href=\"#m2e64817a6e\" y=\"129.51\"/>\n      </g>\n     </g>\n     <g id=\"text_16\">\n      <!-- 4 -->\n      <g transform=\"translate(28.476563 132.69125)rotate(-90)scale(0.1 -0.1)\">\n       <use xlink:href=\"#DejaVuSans-52\"/>\n      </g>\n     </g>\n    </g>\n    <g id=\"ytick_6\">\n     <g id=\"line2d_16\">\n      <g>\n       <use style=\"stroke:#000000;stroke-width:0.8;\" x=\"37.55625\" xlink:href=\"#m2e64817a6e\" y=\"156.69\"/>\n      </g>\n     </g>\n     <g id=\"text_17\">\n      <!-- 5 -->\n      <g transform=\"translate(28.476563 159.87125)rotate(-90)scale(0.1 -0.1)\">\n       <use xlink:href=\"#DejaVuSans-53\"/>\n      </g>\n     </g>\n    </g>\n    <g id=\"ytick_7\">\n     <g id=\"line2d_17\">\n      <g>\n       <use style=\"stroke:#000000;stroke-width:0.8;\" x=\"37.55625\" xlink:href=\"#m2e64817a6e\" y=\"183.87\"/>\n      </g>\n     </g>\n     <g id=\"text_18\">\n      <!-- 6 -->\n      <g transform=\"translate(28.476563 187.05125)rotate(-90)scale(0.1 -0.1)\">\n       <use xlink:href=\"#DejaVuSans-54\"/>\n      </g>\n     </g>\n    </g>\n    <g id=\"ytick_8\">\n     <g id=\"line2d_18\">\n      <g>\n       <use style=\"stroke:#000000;stroke-width:0.8;\" x=\"37.55625\" xlink:href=\"#m2e64817a6e\" y=\"211.05\"/>\n      </g>\n     </g>\n     <g id=\"text_19\">\n      <!-- 7 -->\n      <g transform=\"translate(28.476563 214.23125)rotate(-90)scale(0.1 -0.1)\">\n       <use xlink:href=\"#DejaVuSans-55\"/>\n      </g>\n     </g>\n    </g>\n    <g id=\"ytick_9\">\n     <g id=\"line2d_19\">\n      <g>\n       <use style=\"stroke:#000000;stroke-width:0.8;\" x=\"37.55625\" xlink:href=\"#m2e64817a6e\" y=\"238.23\"/>\n      </g>\n     </g>\n     <g id=\"text_20\">\n      <!-- 8 -->\n      <g transform=\"translate(28.476563 241.41125)rotate(-90)scale(0.1 -0.1)\">\n       <use xlink:href=\"#DejaVuSans-56\"/>\n      </g>\n     </g>\n    </g>\n    <g id=\"ytick_10\">\n     <g id=\"line2d_20\">\n      <g>\n       <use style=\"stroke:#000000;stroke-width:0.8;\" x=\"37.55625\" xlink:href=\"#m2e64817a6e\" y=\"265.41\"/>\n      </g>\n     </g>\n     <g id=\"text_21\">\n      <!-- 9 -->\n      <g transform=\"translate(28.476563 268.59125)rotate(-90)scale(0.1 -0.1)\">\n       <use xlink:href=\"#DejaVuSans-57\"/>\n      </g>\n     </g>\n    </g>\n    <g id=\"text_22\">\n     <!-- Actual -->\n     <defs>\n      <path d=\"M 34.1875 63.1875 \nL 20.796875 26.90625 \nL 47.609375 26.90625 \nz\nM 28.609375 72.90625 \nL 39.796875 72.90625 \nL 67.578125 0 \nL 57.328125 0 \nL 50.6875 18.703125 \nL 17.828125 18.703125 \nL 11.1875 0 \nL 0.78125 0 \nz\n\" id=\"DejaVuSans-65\"/>\n      <path d=\"M 8.5 21.578125 \nL 8.5 54.6875 \nL 17.484375 54.6875 \nL 17.484375 21.921875 \nQ 17.484375 14.15625 20.5 10.265625 \nQ 23.53125 6.390625 29.59375 6.390625 \nQ 36.859375 6.390625 41.078125 11.03125 \nQ 45.3125 15.671875 45.3125 23.6875 \nL 45.3125 54.6875 \nL 54.296875 54.6875 \nL 54.296875 0 \nL 45.3125 0 \nL 45.3125 8.40625 \nQ 42.046875 3.421875 37.71875 1 \nQ 33.40625 -1.421875 27.6875 -1.421875 \nQ 18.265625 -1.421875 13.375 4.4375 \nQ 8.5 10.296875 8.5 21.578125 \nz\nM 31.109375 56 \nz\n\" id=\"DejaVuSans-117\"/>\n      <path d=\"M 34.28125 27.484375 \nQ 23.390625 27.484375 19.1875 25 \nQ 14.984375 22.515625 14.984375 16.5 \nQ 14.984375 11.71875 18.140625 8.90625 \nQ 21.296875 6.109375 26.703125 6.109375 \nQ 34.1875 6.109375 38.703125 11.40625 \nQ 43.21875 16.703125 43.21875 25.484375 \nL 43.21875 27.484375 \nz\nM 52.203125 31.203125 \nL 52.203125 0 \nL 43.21875 0 \nL 43.21875 8.296875 \nQ 40.140625 3.328125 35.546875 0.953125 \nQ 30.953125 -1.421875 24.3125 -1.421875 \nQ 15.921875 -1.421875 10.953125 3.296875 \nQ 6 8.015625 6 15.921875 \nQ 6 25.140625 12.171875 29.828125 \nQ 18.359375 34.515625 30.609375 34.515625 \nL 43.21875 34.515625 \nL 43.21875 35.40625 \nQ 43.21875 41.609375 39.140625 45 \nQ 35.0625 48.390625 27.6875 48.390625 \nQ 23 48.390625 18.546875 47.265625 \nQ 14.109375 46.140625 10.015625 43.890625 \nL 10.015625 52.203125 \nQ 14.9375 54.109375 19.578125 55.046875 \nQ 24.21875 56 28.609375 56 \nQ 40.484375 56 46.34375 49.84375 \nQ 52.203125 43.703125 52.203125 31.203125 \nz\n\" id=\"DejaVuSans-97\"/>\n      <path d=\"M 9.421875 75.984375 \nL 18.40625 75.984375 \nL 18.40625 0 \nL 9.421875 0 \nz\n\" id=\"DejaVuSans-108\"/>\n     </defs>\n     <g transform=\"translate(14.798438 158.764062)rotate(-90)scale(0.1 -0.1)\">\n      <use xlink:href=\"#DejaVuSans-65\"/>\n      <use x=\"66.658203\" xlink:href=\"#DejaVuSans-99\"/>\n      <use x=\"121.638672\" xlink:href=\"#DejaVuSans-116\"/>\n      <use x=\"160.847656\" xlink:href=\"#DejaVuSans-117\"/>\n      <use x=\"224.226562\" xlink:href=\"#DejaVuSans-97\"/>\n      <use x=\"285.505859\" xlink:href=\"#DejaVuSans-108\"/>\n     </g>\n    </g>\n   </g>\n   <g id=\"text_23\">\n    <!-- 1718 -->\n    <g style=\"fill:#262626;\" transform=\"translate(42.68725 23.549375)scale(0.1 -0.1)\">\n     <use xlink:href=\"#DejaVuSans-49\"/>\n     <use x=\"63.623047\" xlink:href=\"#DejaVuSans-55\"/>\n     <use x=\"127.246094\" xlink:href=\"#DejaVuSans-49\"/>\n     <use x=\"190.869141\" xlink:href=\"#DejaVuSans-56\"/>\n    </g>\n   </g>\n   <g id=\"text_24\">\n    <!-- 22 -->\n    <g style=\"fill:#ffffff;\" transform=\"translate(84.76175 23.549375)scale(0.1 -0.1)\">\n     <use xlink:href=\"#DejaVuSans-50\"/>\n     <use x=\"63.623047\" xlink:href=\"#DejaVuSans-50\"/>\n    </g>\n   </g>\n   <g id=\"text_25\">\n    <!-- 8 -->\n    <g style=\"fill:#ffffff;\" transform=\"translate(123.655 23.549375)scale(0.1 -0.1)\">\n     <use xlink:href=\"#DejaVuSans-56\"/>\n    </g>\n   </g>\n   <g id=\"text_26\">\n    <!-- 3 -->\n    <g style=\"fill:#ffffff;\" transform=\"translate(159.367 23.549375)scale(0.1 -0.1)\">\n     <use xlink:href=\"#DejaVuSans-51\"/>\n    </g>\n   </g>\n   <g id=\"text_27\">\n    <!-- 5 -->\n    <g style=\"fill:#ffffff;\" transform=\"translate(195.079 23.549375)scale(0.1 -0.1)\">\n     <use xlink:href=\"#DejaVuSans-53\"/>\n    </g>\n   </g>\n   <g id=\"text_28\">\n    <!-- 1 -->\n    <g style=\"fill:#ffffff;\" transform=\"translate(230.791 23.549375)scale(0.1 -0.1)\">\n     <use xlink:href=\"#DejaVuSans-49\"/>\n    </g>\n   </g>\n   <g id=\"text_29\">\n    <!-- 22 -->\n    <g style=\"fill:#ffffff;\" transform=\"translate(263.32175 23.549375)scale(0.1 -0.1)\">\n     <use xlink:href=\"#DejaVuSans-50\"/>\n     <use x=\"63.623047\" xlink:href=\"#DejaVuSans-50\"/>\n    </g>\n   </g>\n   <g id=\"text_30\">\n    <!-- 5 -->\n    <g style=\"fill:#ffffff;\" transform=\"translate(302.215 23.549375)scale(0.1 -0.1)\">\n     <use xlink:href=\"#DejaVuSans-53\"/>\n    </g>\n   </g>\n   <g id=\"text_31\">\n    <!-- 3 -->\n    <g style=\"fill:#ffffff;\" transform=\"translate(337.927 23.549375)scale(0.1 -0.1)\">\n     <use xlink:href=\"#DejaVuSans-51\"/>\n    </g>\n   </g>\n   <g id=\"text_32\">\n    <!-- 27 -->\n    <g style=\"fill:#ffffff;\" transform=\"translate(370.45775 23.549375)scale(0.1 -0.1)\">\n     <use xlink:href=\"#DejaVuSans-50\"/>\n     <use x=\"63.623047\" xlink:href=\"#DejaVuSans-55\"/>\n    </g>\n   </g>\n   <g id=\"text_33\">\n    <!-- 20 -->\n    <g style=\"fill:#ffffff;\" transform=\"translate(49.04975 50.729375)scale(0.1 -0.1)\">\n     <use xlink:href=\"#DejaVuSans-50\"/>\n     <use x=\"63.623047\" xlink:href=\"#DejaVuSans-48\"/>\n    </g>\n   </g>\n   <g id=\"text_34\">\n    <!-- 1700 -->\n    <g style=\"fill:#262626;\" transform=\"translate(78.39925 50.729375)scale(0.1 -0.1)\">\n     <use xlink:href=\"#DejaVuSans-49\"/>\n     <use x=\"63.623047\" xlink:href=\"#DejaVuSans-55\"/>\n     <use x=\"127.246094\" xlink:href=\"#DejaVuSans-48\"/>\n     <use x=\"190.869141\" xlink:href=\"#DejaVuSans-48\"/>\n    </g>\n   </g>\n   <g id=\"text_35\">\n    <!-- 10 -->\n    <g style=\"fill:#ffffff;\" transform=\"translate(120.47375 50.729375)scale(0.1 -0.1)\">\n     <use xlink:href=\"#DejaVuSans-49\"/>\n     <use x=\"63.623047\" xlink:href=\"#DejaVuSans-48\"/>\n    </g>\n   </g>\n   <g id=\"text_36\">\n    <!-- 11 -->\n    <g style=\"fill:#ffffff;\" transform=\"translate(156.18575 50.729375)scale(0.1 -0.1)\">\n     <use xlink:href=\"#DejaVuSans-49\"/>\n     <use x=\"63.623047\" xlink:href=\"#DejaVuSans-49\"/>\n    </g>\n   </g>\n   <g id=\"text_37\">\n    <!-- 31 -->\n    <g style=\"fill:#ffffff;\" transform=\"translate(191.89775 50.729375)scale(0.1 -0.1)\">\n     <use xlink:href=\"#DejaVuSans-51\"/>\n     <use x=\"63.623047\" xlink:href=\"#DejaVuSans-49\"/>\n    </g>\n   </g>\n   <g id=\"text_38\">\n    <!-- 6 -->\n    <g style=\"fill:#ffffff;\" transform=\"translate(230.791 50.729375)scale(0.1 -0.1)\">\n     <use xlink:href=\"#DejaVuSans-54\"/>\n    </g>\n   </g>\n   <g id=\"text_39\">\n    <!-- 7 -->\n    <g style=\"fill:#ffffff;\" transform=\"translate(266.503 50.729375)scale(0.1 -0.1)\">\n     <use xlink:href=\"#DejaVuSans-55\"/>\n    </g>\n   </g>\n   <g id=\"text_40\">\n    <!-- 28 -->\n    <g style=\"fill:#ffffff;\" transform=\"translate(299.03375 50.729375)scale(0.1 -0.1)\">\n     <use xlink:href=\"#DejaVuSans-50\"/>\n     <use x=\"63.623047\" xlink:href=\"#DejaVuSans-56\"/>\n    </g>\n   </g>\n   <g id=\"text_41\">\n    <!-- 8 -->\n    <g style=\"fill:#ffffff;\" transform=\"translate(337.927 50.729375)scale(0.1 -0.1)\">\n     <use xlink:href=\"#DejaVuSans-56\"/>\n    </g>\n   </g>\n   <g id=\"text_42\">\n    <!-- 7 -->\n    <g style=\"fill:#ffffff;\" transform=\"translate(373.639 50.729375)scale(0.1 -0.1)\">\n     <use xlink:href=\"#DejaVuSans-55\"/>\n    </g>\n   </g>\n   <g id=\"text_43\">\n    <!-- 11 -->\n    <g style=\"fill:#ffffff;\" transform=\"translate(49.04975 77.909375)scale(0.1 -0.1)\">\n     <use xlink:href=\"#DejaVuSans-49\"/>\n     <use x=\"63.623047\" xlink:href=\"#DejaVuSans-49\"/>\n    </g>\n   </g>\n   <g id=\"text_44\">\n    <!-- 21 -->\n    <g style=\"fill:#ffffff;\" transform=\"translate(84.76175 77.909375)scale(0.1 -0.1)\">\n     <use xlink:href=\"#DejaVuSans-50\"/>\n     <use x=\"63.623047\" xlink:href=\"#DejaVuSans-49\"/>\n    </g>\n   </g>\n   <g id=\"text_45\">\n    <!-- 1634 -->\n    <g style=\"fill:#262626;\" transform=\"translate(114.11125 77.909375)scale(0.1 -0.1)\">\n     <use xlink:href=\"#DejaVuSans-49\"/>\n     <use x=\"63.623047\" xlink:href=\"#DejaVuSans-54\"/>\n     <use x=\"127.246094\" xlink:href=\"#DejaVuSans-51\"/>\n     <use x=\"190.869141\" xlink:href=\"#DejaVuSans-52\"/>\n    </g>\n   </g>\n   <g id=\"text_46\">\n    <!-- 18 -->\n    <g style=\"fill:#ffffff;\" transform=\"translate(156.18575 77.909375)scale(0.1 -0.1)\">\n     <use xlink:href=\"#DejaVuSans-49\"/>\n     <use x=\"63.623047\" xlink:href=\"#DejaVuSans-56\"/>\n    </g>\n   </g>\n   <g id=\"text_47\">\n    <!-- 17 -->\n    <g style=\"fill:#ffffff;\" transform=\"translate(191.89775 77.909375)scale(0.1 -0.1)\">\n     <use xlink:href=\"#DejaVuSans-49\"/>\n     <use x=\"63.623047\" xlink:href=\"#DejaVuSans-55\"/>\n    </g>\n   </g>\n   <g id=\"text_48\">\n    <!-- 3 -->\n    <g style=\"fill:#ffffff;\" transform=\"translate(230.791 77.909375)scale(0.1 -0.1)\">\n     <use xlink:href=\"#DejaVuSans-51\"/>\n    </g>\n   </g>\n   <g id=\"text_49\">\n    <!-- 6 -->\n    <g style=\"fill:#ffffff;\" transform=\"translate(266.503 77.909375)scale(0.1 -0.1)\">\n     <use xlink:href=\"#DejaVuSans-54\"/>\n    </g>\n   </g>\n   <g id=\"text_50\">\n    <!-- 50 -->\n    <g style=\"fill:#ffffff;\" transform=\"translate(299.03375 77.909375)scale(0.1 -0.1)\">\n     <use xlink:href=\"#DejaVuSans-53\"/>\n     <use x=\"63.623047\" xlink:href=\"#DejaVuSans-48\"/>\n    </g>\n   </g>\n   <g id=\"text_51\">\n    <!-- 19 -->\n    <g style=\"fill:#ffffff;\" transform=\"translate(334.74575 77.909375)scale(0.1 -0.1)\">\n     <use xlink:href=\"#DejaVuSans-49\"/>\n     <use x=\"63.623047\" xlink:href=\"#DejaVuSans-57\"/>\n    </g>\n   </g>\n   <g id=\"text_52\">\n    <!-- 24 -->\n    <g style=\"fill:#ffffff;\" transform=\"translate(370.45775 77.909375)scale(0.1 -0.1)\">\n     <use xlink:href=\"#DejaVuSans-50\"/>\n     <use x=\"63.623047\" xlink:href=\"#DejaVuSans-52\"/>\n    </g>\n   </g>\n   <g id=\"text_53\">\n    <!-- 9 -->\n    <g style=\"fill:#ffffff;\" transform=\"translate(52.231 105.089375)scale(0.1 -0.1)\">\n     <use xlink:href=\"#DejaVuSans-57\"/>\n    </g>\n   </g>\n   <g id=\"text_54\">\n    <!-- 23 -->\n    <g style=\"fill:#ffffff;\" transform=\"translate(84.76175 105.089375)scale(0.1 -0.1)\">\n     <use xlink:href=\"#DejaVuSans-50\"/>\n     <use x=\"63.623047\" xlink:href=\"#DejaVuSans-51\"/>\n    </g>\n   </g>\n   <g id=\"text_55\">\n    <!-- 20 -->\n    <g style=\"fill:#ffffff;\" transform=\"translate(120.47375 105.089375)scale(0.1 -0.1)\">\n     <use xlink:href=\"#DejaVuSans-50\"/>\n     <use x=\"63.623047\" xlink:href=\"#DejaVuSans-48\"/>\n    </g>\n   </g>\n   <g id=\"text_56\">\n    <!-- 1501 -->\n    <g style=\"fill:#262626;\" transform=\"translate(149.82325 105.089375)scale(0.1 -0.1)\">\n     <use xlink:href=\"#DejaVuSans-49\"/>\n     <use x=\"63.623047\" xlink:href=\"#DejaVuSans-53\"/>\n     <use x=\"127.246094\" xlink:href=\"#DejaVuSans-48\"/>\n     <use x=\"190.869141\" xlink:href=\"#DejaVuSans-49\"/>\n    </g>\n   </g>\n   <g id=\"text_57\">\n    <!-- 14 -->\n    <g style=\"fill:#ffffff;\" transform=\"translate(191.89775 105.089375)scale(0.1 -0.1)\">\n     <use xlink:href=\"#DejaVuSans-49\"/>\n     <use x=\"63.623047\" xlink:href=\"#DejaVuSans-52\"/>\n    </g>\n   </g>\n   <g id=\"text_58\">\n    <!-- 59 -->\n    <g style=\"fill:#ffffff;\" transform=\"translate(227.60975 105.089375)scale(0.1 -0.1)\">\n     <use xlink:href=\"#DejaVuSans-53\"/>\n     <use x=\"63.623047\" xlink:href=\"#DejaVuSans-57\"/>\n    </g>\n   </g>\n   <g id=\"text_59\">\n    <!-- 14 -->\n    <g style=\"fill:#ffffff;\" transform=\"translate(263.32175 105.089375)scale(0.1 -0.1)\">\n     <use xlink:href=\"#DejaVuSans-49\"/>\n     <use x=\"63.623047\" xlink:href=\"#DejaVuSans-52\"/>\n    </g>\n   </g>\n   <g id=\"text_60\">\n    <!-- 23 -->\n    <g style=\"fill:#ffffff;\" transform=\"translate(299.03375 105.089375)scale(0.1 -0.1)\">\n     <use xlink:href=\"#DejaVuSans-50\"/>\n     <use x=\"63.623047\" xlink:href=\"#DejaVuSans-51\"/>\n    </g>\n   </g>\n   <g id=\"text_61\">\n    <!-- 34 -->\n    <g style=\"fill:#ffffff;\" transform=\"translate(334.74575 105.089375)scale(0.1 -0.1)\">\n     <use xlink:href=\"#DejaVuSans-51\"/>\n     <use x=\"63.623047\" xlink:href=\"#DejaVuSans-52\"/>\n    </g>\n   </g>\n   <g id=\"text_62\">\n    <!-- 22 -->\n    <g style=\"fill:#ffffff;\" transform=\"translate(370.45775 105.089375)scale(0.1 -0.1)\">\n     <use xlink:href=\"#DejaVuSans-50\"/>\n     <use x=\"63.623047\" xlink:href=\"#DejaVuSans-50\"/>\n    </g>\n   </g>\n   <g id=\"text_63\">\n    <!-- 11 -->\n    <g style=\"fill:#ffffff;\" transform=\"translate(49.04975 132.269375)scale(0.1 -0.1)\">\n     <use xlink:href=\"#DejaVuSans-49\"/>\n     <use x=\"63.623047\" xlink:href=\"#DejaVuSans-49\"/>\n    </g>\n   </g>\n   <g id=\"text_64\">\n    <!-- 36 -->\n    <g style=\"fill:#ffffff;\" transform=\"translate(84.76175 132.269375)scale(0.1 -0.1)\">\n     <use xlink:href=\"#DejaVuSans-51\"/>\n     <use x=\"63.623047\" xlink:href=\"#DejaVuSans-54\"/>\n    </g>\n   </g>\n   <g id=\"text_65\">\n    <!-- 13 -->\n    <g style=\"fill:#ffffff;\" transform=\"translate(120.47375 132.269375)scale(0.1 -0.1)\">\n     <use xlink:href=\"#DejaVuSans-49\"/>\n     <use x=\"63.623047\" xlink:href=\"#DejaVuSans-51\"/>\n    </g>\n   </g>\n   <g id=\"text_66\">\n    <!-- 9 -->\n    <g style=\"fill:#ffffff;\" transform=\"translate(159.367 132.269375)scale(0.1 -0.1)\">\n     <use xlink:href=\"#DejaVuSans-57\"/>\n    </g>\n   </g>\n   <g id=\"text_67\">\n    <!-- 1685 -->\n    <g style=\"fill:#262626;\" transform=\"translate(185.53525 132.269375)scale(0.1 -0.1)\">\n     <use xlink:href=\"#DejaVuSans-49\"/>\n     <use x=\"63.623047\" xlink:href=\"#DejaVuSans-54\"/>\n     <use x=\"127.246094\" xlink:href=\"#DejaVuSans-56\"/>\n     <use x=\"190.869141\" xlink:href=\"#DejaVuSans-53\"/>\n    </g>\n   </g>\n   <g id=\"text_68\">\n    <!-- 5 -->\n    <g style=\"fill:#ffffff;\" transform=\"translate(230.791 132.269375)scale(0.1 -0.1)\">\n     <use xlink:href=\"#DejaVuSans-53\"/>\n    </g>\n   </g>\n   <g id=\"text_69\">\n    <!-- 17 -->\n    <g style=\"fill:#ffffff;\" transform=\"translate(263.32175 132.269375)scale(0.1 -0.1)\">\n     <use xlink:href=\"#DejaVuSans-49\"/>\n     <use x=\"63.623047\" xlink:href=\"#DejaVuSans-55\"/>\n    </g>\n   </g>\n   <g id=\"text_70\">\n    <!-- 9 -->\n    <g style=\"fill:#ffffff;\" transform=\"translate(302.215 132.269375)scale(0.1 -0.1)\">\n     <use xlink:href=\"#DejaVuSans-57\"/>\n    </g>\n   </g>\n   <g id=\"text_71\">\n    <!-- 7 -->\n    <g style=\"fill:#ffffff;\" transform=\"translate(337.927 132.269375)scale(0.1 -0.1)\">\n     <use xlink:href=\"#DejaVuSans-55\"/>\n    </g>\n   </g>\n   <g id=\"text_72\">\n    <!-- 20 -->\n    <g style=\"fill:#ffffff;\" transform=\"translate(370.45775 132.269375)scale(0.1 -0.1)\">\n     <use xlink:href=\"#DejaVuSans-50\"/>\n     <use x=\"63.623047\" xlink:href=\"#DejaVuSans-48\"/>\n    </g>\n   </g>\n   <g id=\"text_73\">\n    <!-- 6 -->\n    <g style=\"fill:#ffffff;\" transform=\"translate(52.231 159.449375)scale(0.1 -0.1)\">\n     <use xlink:href=\"#DejaVuSans-54\"/>\n    </g>\n   </g>\n   <g id=\"text_74\">\n    <!-- 10 -->\n    <g style=\"fill:#ffffff;\" transform=\"translate(84.76175 159.449375)scale(0.1 -0.1)\">\n     <use xlink:href=\"#DejaVuSans-49\"/>\n     <use x=\"63.623047\" xlink:href=\"#DejaVuSans-48\"/>\n    </g>\n   </g>\n   <g id=\"text_75\">\n    <!-- 8 -->\n    <g style=\"fill:#ffffff;\" transform=\"translate(123.655 159.449375)scale(0.1 -0.1)\">\n     <use xlink:href=\"#DejaVuSans-56\"/>\n    </g>\n   </g>\n   <g id=\"text_76\">\n    <!-- 34 -->\n    <g style=\"fill:#ffffff;\" transform=\"translate(156.18575 159.449375)scale(0.1 -0.1)\">\n     <use xlink:href=\"#DejaVuSans-51\"/>\n     <use x=\"63.623047\" xlink:href=\"#DejaVuSans-52\"/>\n    </g>\n   </g>\n   <g id=\"text_77\">\n    <!-- 7 -->\n    <g style=\"fill:#ffffff;\" transform=\"translate(195.079 159.449375)scale(0.1 -0.1)\">\n     <use xlink:href=\"#DejaVuSans-55\"/>\n    </g>\n   </g>\n   <g id=\"text_78\">\n    <!-- 1610 -->\n    <g style=\"fill:#262626;\" transform=\"translate(221.24725 159.449375)scale(0.1 -0.1)\">\n     <use xlink:href=\"#DejaVuSans-49\"/>\n     <use x=\"63.623047\" xlink:href=\"#DejaVuSans-54\"/>\n     <use x=\"127.246094\" xlink:href=\"#DejaVuSans-49\"/>\n     <use x=\"190.869141\" xlink:href=\"#DejaVuSans-48\"/>\n    </g>\n   </g>\n   <g id=\"text_79\">\n    <!-- 45 -->\n    <g style=\"fill:#ffffff;\" transform=\"translate(263.32175 159.449375)scale(0.1 -0.1)\">\n     <use xlink:href=\"#DejaVuSans-52\"/>\n     <use x=\"63.623047\" xlink:href=\"#DejaVuSans-53\"/>\n    </g>\n   </g>\n   <g id=\"text_80\">\n    <!-- 4 -->\n    <g style=\"fill:#ffffff;\" transform=\"translate(302.215 159.449375)scale(0.1 -0.1)\">\n     <use xlink:href=\"#DejaVuSans-52\"/>\n    </g>\n   </g>\n   <g id=\"text_81\">\n    <!-- 13 -->\n    <g style=\"fill:#ffffff;\" transform=\"translate(334.74575 159.449375)scale(0.1 -0.1)\">\n     <use xlink:href=\"#DejaVuSans-49\"/>\n     <use x=\"63.623047\" xlink:href=\"#DejaVuSans-51\"/>\n    </g>\n   </g>\n   <g id=\"text_82\">\n    <!-- 31 -->\n    <g style=\"fill:#ffffff;\" transform=\"translate(370.45775 159.449375)scale(0.1 -0.1)\">\n     <use xlink:href=\"#DejaVuSans-51\"/>\n     <use x=\"63.623047\" xlink:href=\"#DejaVuSans-49\"/>\n    </g>\n   </g>\n   <g id=\"text_83\">\n    <!-- 39 -->\n    <g style=\"fill:#ffffff;\" transform=\"translate(49.04975 186.629375)scale(0.1 -0.1)\">\n     <use xlink:href=\"#DejaVuSans-51\"/>\n     <use x=\"63.623047\" xlink:href=\"#DejaVuSans-57\"/>\n    </g>\n   </g>\n   <g id=\"text_84\">\n    <!-- 11 -->\n    <g style=\"fill:#ffffff;\" transform=\"translate(84.76175 186.629375)scale(0.1 -0.1)\">\n     <use xlink:href=\"#DejaVuSans-49\"/>\n     <use x=\"63.623047\" xlink:href=\"#DejaVuSans-49\"/>\n    </g>\n   </g>\n   <g id=\"text_85\">\n    <!-- 8 -->\n    <g style=\"fill:#ffffff;\" transform=\"translate(123.655 186.629375)scale(0.1 -0.1)\">\n     <use xlink:href=\"#DejaVuSans-56\"/>\n    </g>\n   </g>\n   <g id=\"text_86\">\n    <!-- 12 -->\n    <g style=\"fill:#ffffff;\" transform=\"translate(156.18575 186.629375)scale(0.1 -0.1)\">\n     <use xlink:href=\"#DejaVuSans-49\"/>\n     <use x=\"63.623047\" xlink:href=\"#DejaVuSans-50\"/>\n    </g>\n   </g>\n   <g id=\"text_87\">\n    <!-- 16 -->\n    <g style=\"fill:#ffffff;\" transform=\"translate(191.89775 186.629375)scale(0.1 -0.1)\">\n     <use xlink:href=\"#DejaVuSans-49\"/>\n     <use x=\"63.623047\" xlink:href=\"#DejaVuSans-54\"/>\n    </g>\n   </g>\n   <g id=\"text_88\">\n    <!-- 36 -->\n    <g style=\"fill:#ffffff;\" transform=\"translate(227.60975 186.629375)scale(0.1 -0.1)\">\n     <use xlink:href=\"#DejaVuSans-51\"/>\n     <use x=\"63.623047\" xlink:href=\"#DejaVuSans-54\"/>\n    </g>\n   </g>\n   <g id=\"text_89\">\n    <!-- 1652 -->\n    <g style=\"fill:#262626;\" transform=\"translate(256.95925 186.629375)scale(0.1 -0.1)\">\n     <use xlink:href=\"#DejaVuSans-49\"/>\n     <use x=\"63.623047\" xlink:href=\"#DejaVuSans-54\"/>\n     <use x=\"127.246094\" xlink:href=\"#DejaVuSans-53\"/>\n     <use x=\"190.869141\" xlink:href=\"#DejaVuSans-50\"/>\n    </g>\n   </g>\n   <g id=\"text_90\">\n    <!-- 3 -->\n    <g style=\"fill:#ffffff;\" transform=\"translate(302.215 186.629375)scale(0.1 -0.1)\">\n     <use xlink:href=\"#DejaVuSans-51\"/>\n    </g>\n   </g>\n   <g id=\"text_91\">\n    <!-- 45 -->\n    <g style=\"fill:#ffffff;\" transform=\"translate(334.74575 186.629375)scale(0.1 -0.1)\">\n     <use xlink:href=\"#DejaVuSans-52\"/>\n     <use x=\"63.623047\" xlink:href=\"#DejaVuSans-53\"/>\n    </g>\n   </g>\n   <g id=\"text_92\">\n    <!-- 10 -->\n    <g style=\"fill:#ffffff;\" transform=\"translate(370.45775 186.629375)scale(0.1 -0.1)\">\n     <use xlink:href=\"#DejaVuSans-49\"/>\n     <use x=\"63.623047\" xlink:href=\"#DejaVuSans-48\"/>\n    </g>\n   </g>\n   <g id=\"text_93\">\n    <!-- 11 -->\n    <g style=\"fill:#ffffff;\" transform=\"translate(49.04975 213.809375)scale(0.1 -0.1)\">\n     <use xlink:href=\"#DejaVuSans-49\"/>\n     <use x=\"63.623047\" xlink:href=\"#DejaVuSans-49\"/>\n    </g>\n   </g>\n   <g id=\"text_94\">\n    <!-- 35 -->\n    <g style=\"fill:#ffffff;\" transform=\"translate(84.76175 213.809375)scale(0.1 -0.1)\">\n     <use xlink:href=\"#DejaVuSans-51\"/>\n     <use x=\"63.623047\" xlink:href=\"#DejaVuSans-53\"/>\n    </g>\n   </g>\n   <g id=\"text_95\">\n    <!-- 11 -->\n    <g style=\"fill:#ffffff;\" transform=\"translate(120.47375 213.809375)scale(0.1 -0.1)\">\n     <use xlink:href=\"#DejaVuSans-49\"/>\n     <use x=\"63.623047\" xlink:href=\"#DejaVuSans-49\"/>\n    </g>\n   </g>\n   <g id=\"text_96\">\n    <!-- 13 -->\n    <g style=\"fill:#ffffff;\" transform=\"translate(156.18575 213.809375)scale(0.1 -0.1)\">\n     <use xlink:href=\"#DejaVuSans-49\"/>\n     <use x=\"63.623047\" xlink:href=\"#DejaVuSans-51\"/>\n    </g>\n   </g>\n   <g id=\"text_97\">\n    <!-- 15 -->\n    <g style=\"fill:#ffffff;\" transform=\"translate(191.89775 213.809375)scale(0.1 -0.1)\">\n     <use xlink:href=\"#DejaVuSans-49\"/>\n     <use x=\"63.623047\" xlink:href=\"#DejaVuSans-53\"/>\n    </g>\n   </g>\n   <g id=\"text_98\">\n    <!-- 3 -->\n    <g style=\"fill:#ffffff;\" transform=\"translate(230.791 213.809375)scale(0.1 -0.1)\">\n     <use xlink:href=\"#DejaVuSans-51\"/>\n    </g>\n   </g>\n   <g id=\"text_99\">\n    <!-- 7 -->\n    <g style=\"fill:#ffffff;\" transform=\"translate(266.503 213.809375)scale(0.1 -0.1)\">\n     <use xlink:href=\"#DejaVuSans-55\"/>\n    </g>\n   </g>\n   <g id=\"text_100\">\n    <!-- 1697 -->\n    <g style=\"fill:#262626;\" transform=\"translate(292.67125 213.809375)scale(0.1 -0.1)\">\n     <use xlink:href=\"#DejaVuSans-49\"/>\n     <use x=\"63.623047\" xlink:href=\"#DejaVuSans-54\"/>\n     <use x=\"127.246094\" xlink:href=\"#DejaVuSans-57\"/>\n     <use x=\"190.869141\" xlink:href=\"#DejaVuSans-55\"/>\n    </g>\n   </g>\n   <g id=\"text_101\">\n    <!-- 7 -->\n    <g style=\"fill:#ffffff;\" transform=\"translate(337.927 213.809375)scale(0.1 -0.1)\">\n     <use xlink:href=\"#DejaVuSans-55\"/>\n    </g>\n   </g>\n   <g id=\"text_102\">\n    <!-- 9 -->\n    <g style=\"fill:#ffffff;\" transform=\"translate(373.639 213.809375)scale(0.1 -0.1)\">\n     <use xlink:href=\"#DejaVuSans-57\"/>\n    </g>\n   </g>\n   <g id=\"text_103\">\n    <!-- 28 -->\n    <g style=\"fill:#ffffff;\" transform=\"translate(49.04975 240.989375)scale(0.1 -0.1)\">\n     <use xlink:href=\"#DejaVuSans-50\"/>\n     <use x=\"63.623047\" xlink:href=\"#DejaVuSans-56\"/>\n    </g>\n   </g>\n   <g id=\"text_104\">\n    <!-- 19 -->\n    <g style=\"fill:#ffffff;\" transform=\"translate(84.76175 240.989375)scale(0.1 -0.1)\">\n     <use xlink:href=\"#DejaVuSans-49\"/>\n     <use x=\"63.623047\" xlink:href=\"#DejaVuSans-57\"/>\n    </g>\n   </g>\n   <g id=\"text_105\">\n    <!-- 9 -->\n    <g style=\"fill:#ffffff;\" transform=\"translate(123.655 240.989375)scale(0.1 -0.1)\">\n     <use xlink:href=\"#DejaVuSans-57\"/>\n    </g>\n   </g>\n   <g id=\"text_106\">\n    <!-- 23 -->\n    <g style=\"fill:#ffffff;\" transform=\"translate(156.18575 240.989375)scale(0.1 -0.1)\">\n     <use xlink:href=\"#DejaVuSans-50\"/>\n     <use x=\"63.623047\" xlink:href=\"#DejaVuSans-51\"/>\n    </g>\n   </g>\n   <g id=\"text_107\">\n    <!-- 8 -->\n    <g style=\"fill:#ffffff;\" transform=\"translate(195.079 240.989375)scale(0.1 -0.1)\">\n     <use xlink:href=\"#DejaVuSans-56\"/>\n    </g>\n   </g>\n   <g id=\"text_108\">\n    <!-- 11 -->\n    <g style=\"fill:#ffffff;\" transform=\"translate(227.60975 240.989375)scale(0.1 -0.1)\">\n     <use xlink:href=\"#DejaVuSans-49\"/>\n     <use x=\"63.623047\" xlink:href=\"#DejaVuSans-49\"/>\n    </g>\n   </g>\n   <g id=\"text_109\">\n    <!-- 68 -->\n    <g style=\"fill:#ffffff;\" transform=\"translate(263.32175 240.989375)scale(0.1 -0.1)\">\n     <use xlink:href=\"#DejaVuSans-54\"/>\n     <use x=\"63.623047\" xlink:href=\"#DejaVuSans-56\"/>\n    </g>\n   </g>\n   <g id=\"text_110\">\n    <!-- 5 -->\n    <g style=\"fill:#ffffff;\" transform=\"translate(302.215 240.989375)scale(0.1 -0.1)\">\n     <use xlink:href=\"#DejaVuSans-53\"/>\n    </g>\n   </g>\n   <g id=\"text_111\">\n    <!-- 1594 -->\n    <g style=\"fill:#262626;\" transform=\"translate(328.38325 240.989375)scale(0.1 -0.1)\">\n     <use xlink:href=\"#DejaVuSans-49\"/>\n     <use x=\"63.623047\" xlink:href=\"#DejaVuSans-53\"/>\n     <use x=\"127.246094\" xlink:href=\"#DejaVuSans-57\"/>\n     <use x=\"190.869141\" xlink:href=\"#DejaVuSans-52\"/>\n    </g>\n   </g>\n   <g id=\"text_112\">\n    <!-- 47 -->\n    <g style=\"fill:#ffffff;\" transform=\"translate(370.45775 240.989375)scale(0.1 -0.1)\">\n     <use xlink:href=\"#DejaVuSans-52\"/>\n     <use x=\"63.623047\" xlink:href=\"#DejaVuSans-55\"/>\n    </g>\n   </g>\n   <g id=\"text_113\">\n    <!-- 46 -->\n    <g style=\"fill:#ffffff;\" transform=\"translate(49.04975 268.169375)scale(0.1 -0.1)\">\n     <use xlink:href=\"#DejaVuSans-52\"/>\n     <use x=\"63.623047\" xlink:href=\"#DejaVuSans-54\"/>\n    </g>\n   </g>\n   <g id=\"text_114\">\n    <!-- 20 -->\n    <g style=\"fill:#ffffff;\" transform=\"translate(84.76175 268.169375)scale(0.1 -0.1)\">\n     <use xlink:href=\"#DejaVuSans-50\"/>\n     <use x=\"63.623047\" xlink:href=\"#DejaVuSans-48\"/>\n    </g>\n   </g>\n   <g id=\"text_115\">\n    <!-- 15 -->\n    <g style=\"fill:#ffffff;\" transform=\"translate(120.47375 268.169375)scale(0.1 -0.1)\">\n     <use xlink:href=\"#DejaVuSans-49\"/>\n     <use x=\"63.623047\" xlink:href=\"#DejaVuSans-53\"/>\n    </g>\n   </g>\n   <g id=\"text_116\">\n    <!-- 7 -->\n    <g style=\"fill:#ffffff;\" transform=\"translate(159.367 268.169375)scale(0.1 -0.1)\">\n     <use xlink:href=\"#DejaVuSans-55\"/>\n    </g>\n   </g>\n   <g id=\"text_117\">\n    <!-- 13 -->\n    <g style=\"fill:#ffffff;\" transform=\"translate(191.89775 268.169375)scale(0.1 -0.1)\">\n     <use xlink:href=\"#DejaVuSans-49\"/>\n     <use x=\"63.623047\" xlink:href=\"#DejaVuSans-51\"/>\n    </g>\n   </g>\n   <g id=\"text_118\">\n    <!-- 27 -->\n    <g style=\"fill:#ffffff;\" transform=\"translate(227.60975 268.169375)scale(0.1 -0.1)\">\n     <use xlink:href=\"#DejaVuSans-50\"/>\n     <use x=\"63.623047\" xlink:href=\"#DejaVuSans-55\"/>\n    </g>\n   </g>\n   <g id=\"text_119\">\n    <!-- 9 -->\n    <g style=\"fill:#ffffff;\" transform=\"translate(266.503 268.169375)scale(0.1 -0.1)\">\n     <use xlink:href=\"#DejaVuSans-57\"/>\n    </g>\n   </g>\n   <g id=\"text_120\">\n    <!-- 12 -->\n    <g style=\"fill:#ffffff;\" transform=\"translate(299.03375 268.169375)scale(0.1 -0.1)\">\n     <use xlink:href=\"#DejaVuSans-49\"/>\n     <use x=\"63.623047\" xlink:href=\"#DejaVuSans-50\"/>\n    </g>\n   </g>\n   <g id=\"text_121\">\n    <!-- 16 -->\n    <g style=\"fill:#ffffff;\" transform=\"translate(334.74575 268.169375)scale(0.1 -0.1)\">\n     <use xlink:href=\"#DejaVuSans-49\"/>\n     <use x=\"63.623047\" xlink:href=\"#DejaVuSans-54\"/>\n    </g>\n   </g>\n   <g id=\"text_122\">\n    <!-- 1639 -->\n    <g style=\"fill:#262626;\" transform=\"translate(364.09525 268.169375)scale(0.1 -0.1)\">\n     <use xlink:href=\"#DejaVuSans-49\"/>\n     <use x=\"63.623047\" xlink:href=\"#DejaVuSans-54\"/>\n     <use x=\"127.246094\" xlink:href=\"#DejaVuSans-51\"/>\n     <use x=\"190.869141\" xlink:href=\"#DejaVuSans-57\"/>\n    </g>\n   </g>\n  </g>\n  <g id=\"axes_2\">\n   <g id=\"patch_3\">\n    <path clip-path=\"url(#pe8fc2ba83d)\" d=\"M 416.99625 279 \nL 416.99625 277.938281 \nL 416.99625 8.261719 \nL 416.99625 7.2 \nL 430.58625 7.2 \nL 430.58625 8.261719 \nL 430.58625 277.938281 \nL 430.58625 279 \nz\n\" style=\"fill:#ffffff;stroke:#ffffff;stroke-linejoin:miter;stroke-width:0.01;\"/>\n   </g>\n   <image height=\"271\" id=\"image422f97f3de\" transform=\"scale(1 -1)translate(0 -271)\" width=\"14\" x=\"417\" xlink:href=\"data:image/png;base64,\niVBORw0KGgoAAAANSUhEUgAAAA4AAAEPCAYAAAByY/XAAAAABHNCSVQICAgIfAhkiAAAAXFJREFUaIHtm1sWwjAQQpNaN+H+91lXYD8uCgeT/HOYAWb6sM7z+boGOOeck+AU4HAzHu5SD4QaUqlYnCI7enrEIV9BHIGRTVbVIPuTsxlvGJumY4vz6QiDjHvEjNvHG0beIztL9JgIADt8kP3TwSPnH2QEU5ZVQpwaxoCP7h4jg4wZITCxOiBwiVLRO7JQjxjoXx3sCPfk1MeEHRS4QI/TPo9L2OEuVXm4ZrVWbfKL9kgZhci57ZiYkRFKqvp9xIwMqLzuhsCAqvCqcx4UKDxcU0Z/jzgAu9QbRrhYhYdrLA4sNaIqwgmlCuIgnMLYVCpl9CfHP8i01BEQxw2kui7CCN8gFTEOymgvlW+ARI9uIP790V/qOODHS00+0g+0Aslx2yEMckBVO6O9R3sAqnzkexX32GKHckWm368GImcH+iO3xfkF0K9qzyBXRW4zfp9xzoeZsUicxCBTO2rESUSuR5yiAOB/Py2gauKe/P/teAMhLS3bEAwh+gAAAABJRU5ErkJggg==\" y=\"-7\"/>\n   <g id=\"matplotlib.axis_3\"/>\n   <g id=\"matplotlib.axis_4\">\n    <g id=\"ytick_11\">\n     <g id=\"line2d_21\">\n      <defs>\n       <path d=\"M 0 0 \nL 3.5 0 \n\" id=\"m4cbf482311\" style=\"stroke:#000000;stroke-width:0.8;\"/>\n      </defs>\n      <g>\n       <use style=\"stroke:#000000;stroke-width:0.8;\" x=\"430.58625\" xlink:href=\"#m4cbf482311\" y=\"247.498427\"/>\n      </g>\n     </g>\n     <g id=\"text_123\">\n      <!-- 200 -->\n      <g transform=\"translate(437.58625 251.297646)scale(0.1 -0.1)\">\n       <use xlink:href=\"#DejaVuSans-50\"/>\n       <use x=\"63.623047\" xlink:href=\"#DejaVuSans-48\"/>\n       <use x=\"127.246094\" xlink:href=\"#DejaVuSans-48\"/>\n      </g>\n     </g>\n    </g>\n    <g id=\"ytick_12\">\n     <g id=\"line2d_22\">\n      <g>\n       <use style=\"stroke:#000000;stroke-width:0.8;\" x=\"430.58625\" xlink:href=\"#m4cbf482311\" y=\"215.838556\"/>\n      </g>\n     </g>\n     <g id=\"text_124\">\n      <!-- 400 -->\n      <g transform=\"translate(437.58625 219.637774)scale(0.1 -0.1)\">\n       <use xlink:href=\"#DejaVuSans-52\"/>\n       <use x=\"63.623047\" xlink:href=\"#DejaVuSans-48\"/>\n       <use x=\"127.246094\" xlink:href=\"#DejaVuSans-48\"/>\n      </g>\n     </g>\n    </g>\n    <g id=\"ytick_13\">\n     <g id=\"line2d_23\">\n      <g>\n       <use style=\"stroke:#000000;stroke-width:0.8;\" x=\"430.58625\" xlink:href=\"#m4cbf482311\" y=\"184.178684\"/>\n      </g>\n     </g>\n     <g id=\"text_125\">\n      <!-- 600 -->\n      <g transform=\"translate(437.58625 187.977903)scale(0.1 -0.1)\">\n       <use xlink:href=\"#DejaVuSans-54\"/>\n       <use x=\"63.623047\" xlink:href=\"#DejaVuSans-48\"/>\n       <use x=\"127.246094\" xlink:href=\"#DejaVuSans-48\"/>\n      </g>\n     </g>\n    </g>\n    <g id=\"ytick_14\">\n     <g id=\"line2d_24\">\n      <g>\n       <use style=\"stroke:#000000;stroke-width:0.8;\" x=\"430.58625\" xlink:href=\"#m4cbf482311\" y=\"152.518812\"/>\n      </g>\n     </g>\n     <g id=\"text_126\">\n      <!-- 800 -->\n      <g transform=\"translate(437.58625 156.318031)scale(0.1 -0.1)\">\n       <use xlink:href=\"#DejaVuSans-56\"/>\n       <use x=\"63.623047\" xlink:href=\"#DejaVuSans-48\"/>\n       <use x=\"127.246094\" xlink:href=\"#DejaVuSans-48\"/>\n      </g>\n     </g>\n    </g>\n    <g id=\"ytick_15\">\n     <g id=\"line2d_25\">\n      <g>\n       <use style=\"stroke:#000000;stroke-width:0.8;\" x=\"430.58625\" xlink:href=\"#m4cbf482311\" y=\"120.85894\"/>\n      </g>\n     </g>\n     <g id=\"text_127\">\n      <!-- 1000 -->\n      <g transform=\"translate(437.58625 124.658159)scale(0.1 -0.1)\">\n       <use xlink:href=\"#DejaVuSans-49\"/>\n       <use x=\"63.623047\" xlink:href=\"#DejaVuSans-48\"/>\n       <use x=\"127.246094\" xlink:href=\"#DejaVuSans-48\"/>\n       <use x=\"190.869141\" xlink:href=\"#DejaVuSans-48\"/>\n      </g>\n     </g>\n    </g>\n    <g id=\"ytick_16\">\n     <g id=\"line2d_26\">\n      <g>\n       <use style=\"stroke:#000000;stroke-width:0.8;\" x=\"430.58625\" xlink:href=\"#m4cbf482311\" y=\"89.199068\"/>\n      </g>\n     </g>\n     <g id=\"text_128\">\n      <!-- 1200 -->\n      <g transform=\"translate(437.58625 92.998287)scale(0.1 -0.1)\">\n       <use xlink:href=\"#DejaVuSans-49\"/>\n       <use x=\"63.623047\" xlink:href=\"#DejaVuSans-50\"/>\n       <use x=\"127.246094\" xlink:href=\"#DejaVuSans-48\"/>\n       <use x=\"190.869141\" xlink:href=\"#DejaVuSans-48\"/>\n      </g>\n     </g>\n    </g>\n    <g id=\"ytick_17\">\n     <g id=\"line2d_27\">\n      <g>\n       <use style=\"stroke:#000000;stroke-width:0.8;\" x=\"430.58625\" xlink:href=\"#m4cbf482311\" y=\"57.539196\"/>\n      </g>\n     </g>\n     <g id=\"text_129\">\n      <!-- 1400 -->\n      <g transform=\"translate(437.58625 61.338415)scale(0.1 -0.1)\">\n       <use xlink:href=\"#DejaVuSans-49\"/>\n       <use x=\"63.623047\" xlink:href=\"#DejaVuSans-52\"/>\n       <use x=\"127.246094\" xlink:href=\"#DejaVuSans-48\"/>\n       <use x=\"190.869141\" xlink:href=\"#DejaVuSans-48\"/>\n      </g>\n     </g>\n    </g>\n    <g id=\"ytick_18\">\n     <g id=\"line2d_28\">\n      <g>\n       <use style=\"stroke:#000000;stroke-width:0.8;\" x=\"430.58625\" xlink:href=\"#m4cbf482311\" y=\"25.879324\"/>\n      </g>\n     </g>\n     <g id=\"text_130\">\n      <!-- 1600 -->\n      <g transform=\"translate(437.58625 29.678543)scale(0.1 -0.1)\">\n       <use xlink:href=\"#DejaVuSans-49\"/>\n       <use x=\"63.623047\" xlink:href=\"#DejaVuSans-54\"/>\n       <use x=\"127.246094\" xlink:href=\"#DejaVuSans-48\"/>\n       <use x=\"190.869141\" xlink:href=\"#DejaVuSans-48\"/>\n      </g>\n     </g>\n    </g>\n   </g>\n   <g id=\"patch_4\">\n    <path d=\"M 416.99625 279 \nL 416.99625 277.938281 \nL 416.99625 8.261719 \nL 416.99625 7.2 \nL 430.58625 7.2 \nL 430.58625 8.261719 \nL 430.58625 277.938281 \nL 430.58625 279 \nz\n\" style=\"fill:none;\"/>\n   </g>\n  </g>\n </g>\n <defs>\n  <clipPath id=\"pb4b053f009\">\n   <rect height=\"271.8\" width=\"357.12\" x=\"37.55625\" y=\"7.2\"/>\n  </clipPath>\n  <clipPath id=\"pe8fc2ba83d\">\n   <rect height=\"271.8\" width=\"13.59\" x=\"416.99625\" y=\"7.2\"/>\n  </clipPath>\n </defs>\n</svg>\n"
          },
          "metadata": {
            "needs_background": "light"
          }
        }
      ],
      "source": [
        "# Importing required functions\n",
        "\n",
        "from sklearn.metrics import classification_report\n",
        "\n",
        "from sklearn.metrics import confusion_matrix\n",
        "\n",
        "# Printing the classification report\n",
        "\n",
        "print(classification_report(y_test, test_pred))\n",
        "\n",
        "# Plotting the heatmap using confusion matrix\n",
        "\n",
        "cm = confusion_matrix(y_test, test_pred)\n",
        "\n",
        "plt.figure(figsize = (8, 5))\n",
        "\n",
        "sns.heatmap(cm, annot = True,  fmt = '.0f')\n",
        "\n",
        "plt.ylabel('Actual')\n",
        "\n",
        "plt.xlabel('Predicted')\n",
        "\n",
        "plt.show()"
      ]
    },
    {
      "cell_type": "markdown",
      "metadata": {
        "id": "xb9ue0hMKdg6"
      },
      "source": [
        "**Final Observations:**\n",
        "\n",
        "- We achieved drastic improvement in perfomance of the model compared to ANN with weighted precision, recall and F1 score of 91% vs 74% for ANN. That means that CNN architecture is preferable for our problem. \n",
        "- Performance of the model is quite close to the reference perfomance on the model of 97.84% achieved by Ian J. Goodfellow, Yaroslav Bulatov, Julian Ibarz, Sacha Arnoud and Vinay Shet. This is quite impressive taking into account that we have used only a subset of the SVHN dataset, so we could expect even better results by training on the full dataset. \n",
        "- The model still have more difficulties in identifying some numbers. For example number 3. "
      ]
    }
  ],
  "metadata": {
    "accelerator": "TPU",
    "colab": {
      "collapsed_sections": [],
      "provenance": []
    },
    "kernelspec": {
      "display_name": "Python 3",
      "language": "python",
      "name": "python3"
    },
    "language_info": {
      "codemirror_mode": {
        "name": "ipython",
        "version": 3
      },
      "file_extension": ".py",
      "mimetype": "text/x-python",
      "name": "python",
      "nbconvert_exporter": "python",
      "pygments_lexer": "ipython3",
      "version": "3.8.5"
    }
  },
  "nbformat": 4,
  "nbformat_minor": 0
}